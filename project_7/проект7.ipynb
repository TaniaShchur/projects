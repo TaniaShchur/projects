{
 "cells": [
  {
   "cell_type": "markdown",
   "metadata": {},
   "source": [
    "Описание проекта\n",
    "\n",
    "Нам надо изучить базу даных крупного сервиса для чтения книг по подписке. В ней — информация о книгах, издательствах, авторах, а также пользовательские обзоры книг. Эти данные помогут сформулировать ценностное предложение для нового продукта.\n",
    "\n",
    "Цель исследования - найти полезную информацию для нового продукта."
   ]
  },
  {
   "cell_type": "code",
   "execution_count": 1,
   "metadata": {},
   "outputs": [],
   "source": [
    "# импортируем библиотеки\n",
    "import pandas as pd\n",
    "from sqlalchemy import create_engine"
   ]
  },
  {
   "cell_type": "code",
   "execution_count": 2,
   "metadata": {},
   "outputs": [],
   "source": [
    "# устанавливаем параметры\n",
    "db_config = {'user': '', # имя пользователя\n",
    "'pwd': '', # пароль\n",
    "'host': '',\n",
    "'port': , # порт подключения\n",
    "'db': ''} # название базы данных\n",
    "connection_string = 'postgresql://{}:{}@{}:{}/{}'.format(db_config['user'],\n",
    " db_config['pwd'],\n",
    " db_config['host'],\n",
    " db_config['port'],\n",
    " db_config['db'])"
   ]
  },
  {
   "cell_type": "code",
   "execution_count": 3,
   "metadata": {},
   "outputs": [],
   "source": [
    "# сохраняем коннектор\n",
    "engine = create_engine(connection_string, connect_args={'sslmode':'require'})"
   ]
  },
  {
   "cell_type": "code",
   "execution_count": 4,
   "metadata": {},
   "outputs": [],
   "source": [
    "#pd.io.sql.read_sql(query, con = engine) "
   ]
  },
  {
   "cell_type": "code",
   "execution_count": 5,
   "metadata": {},
   "outputs": [
    {
     "data": {
      "text/html": [
       "<div>\n",
       "<style scoped>\n",
       "    .dataframe tbody tr th:only-of-type {\n",
       "        vertical-align: middle;\n",
       "    }\n",
       "\n",
       "    .dataframe tbody tr th {\n",
       "        vertical-align: top;\n",
       "    }\n",
       "\n",
       "    .dataframe thead th {\n",
       "        text-align: right;\n",
       "    }\n",
       "</style>\n",
       "<table border=\"1\" class=\"dataframe\">\n",
       "  <thead>\n",
       "    <tr style=\"text-align: right;\">\n",
       "      <th></th>\n",
       "      <th>book_id</th>\n",
       "      <th>author_id</th>\n",
       "      <th>title</th>\n",
       "      <th>num_pages</th>\n",
       "      <th>publication_date</th>\n",
       "      <th>publisher_id</th>\n",
       "    </tr>\n",
       "  </thead>\n",
       "  <tbody>\n",
       "    <tr>\n",
       "      <th>0</th>\n",
       "      <td>1</td>\n",
       "      <td>546</td>\n",
       "      <td>'Salem's Lot</td>\n",
       "      <td>594</td>\n",
       "      <td>2005-11-01</td>\n",
       "      <td>93</td>\n",
       "    </tr>\n",
       "    <tr>\n",
       "      <th>1</th>\n",
       "      <td>2</td>\n",
       "      <td>465</td>\n",
       "      <td>1 000 Places to See Before You Die</td>\n",
       "      <td>992</td>\n",
       "      <td>2003-05-22</td>\n",
       "      <td>336</td>\n",
       "    </tr>\n",
       "    <tr>\n",
       "      <th>2</th>\n",
       "      <td>3</td>\n",
       "      <td>407</td>\n",
       "      <td>13 Little Blue Envelopes (Little Blue Envelope...</td>\n",
       "      <td>322</td>\n",
       "      <td>2010-12-21</td>\n",
       "      <td>135</td>\n",
       "    </tr>\n",
       "    <tr>\n",
       "      <th>3</th>\n",
       "      <td>4</td>\n",
       "      <td>82</td>\n",
       "      <td>1491: New Revelations of the Americas Before C...</td>\n",
       "      <td>541</td>\n",
       "      <td>2006-10-10</td>\n",
       "      <td>309</td>\n",
       "    </tr>\n",
       "    <tr>\n",
       "      <th>4</th>\n",
       "      <td>5</td>\n",
       "      <td>125</td>\n",
       "      <td>1776</td>\n",
       "      <td>386</td>\n",
       "      <td>2006-07-04</td>\n",
       "      <td>268</td>\n",
       "    </tr>\n",
       "  </tbody>\n",
       "</table>\n",
       "</div>"
      ],
      "text/plain": [
       "   book_id  author_id                                              title  \\\n",
       "0        1        546                                       'Salem's Lot   \n",
       "1        2        465                 1 000 Places to See Before You Die   \n",
       "2        3        407  13 Little Blue Envelopes (Little Blue Envelope...   \n",
       "3        4         82  1491: New Revelations of the Americas Before C...   \n",
       "4        5        125                                               1776   \n",
       "\n",
       "   num_pages publication_date  publisher_id  \n",
       "0        594       2005-11-01            93  \n",
       "1        992       2003-05-22           336  \n",
       "2        322       2010-12-21           135  \n",
       "3        541       2006-10-10           309  \n",
       "4        386       2006-07-04           268  "
      ]
     },
     "metadata": {},
     "output_type": "display_data"
    },
    {
     "data": {
      "text/html": [
       "<div>\n",
       "<style scoped>\n",
       "    .dataframe tbody tr th:only-of-type {\n",
       "        vertical-align: middle;\n",
       "    }\n",
       "\n",
       "    .dataframe tbody tr th {\n",
       "        vertical-align: top;\n",
       "    }\n",
       "\n",
       "    .dataframe thead th {\n",
       "        text-align: right;\n",
       "    }\n",
       "</style>\n",
       "<table border=\"1\" class=\"dataframe\">\n",
       "  <thead>\n",
       "    <tr style=\"text-align: right;\">\n",
       "      <th></th>\n",
       "      <th>author_id</th>\n",
       "      <th>author</th>\n",
       "    </tr>\n",
       "  </thead>\n",
       "  <tbody>\n",
       "    <tr>\n",
       "      <th>0</th>\n",
       "      <td>1</td>\n",
       "      <td>A.S. Byatt</td>\n",
       "    </tr>\n",
       "    <tr>\n",
       "      <th>1</th>\n",
       "      <td>2</td>\n",
       "      <td>Aesop/Laura Harris/Laura Gibbs</td>\n",
       "    </tr>\n",
       "    <tr>\n",
       "      <th>2</th>\n",
       "      <td>3</td>\n",
       "      <td>Agatha Christie</td>\n",
       "    </tr>\n",
       "    <tr>\n",
       "      <th>3</th>\n",
       "      <td>4</td>\n",
       "      <td>Alan Brennert</td>\n",
       "    </tr>\n",
       "    <tr>\n",
       "      <th>4</th>\n",
       "      <td>5</td>\n",
       "      <td>Alan Moore/David   Lloyd</td>\n",
       "    </tr>\n",
       "  </tbody>\n",
       "</table>\n",
       "</div>"
      ],
      "text/plain": [
       "   author_id                          author\n",
       "0          1                      A.S. Byatt\n",
       "1          2  Aesop/Laura Harris/Laura Gibbs\n",
       "2          3                 Agatha Christie\n",
       "3          4                   Alan Brennert\n",
       "4          5        Alan Moore/David   Lloyd"
      ]
     },
     "metadata": {},
     "output_type": "display_data"
    },
    {
     "data": {
      "text/html": [
       "<div>\n",
       "<style scoped>\n",
       "    .dataframe tbody tr th:only-of-type {\n",
       "        vertical-align: middle;\n",
       "    }\n",
       "\n",
       "    .dataframe tbody tr th {\n",
       "        vertical-align: top;\n",
       "    }\n",
       "\n",
       "    .dataframe thead th {\n",
       "        text-align: right;\n",
       "    }\n",
       "</style>\n",
       "<table border=\"1\" class=\"dataframe\">\n",
       "  <thead>\n",
       "    <tr style=\"text-align: right;\">\n",
       "      <th></th>\n",
       "      <th>publisher_id</th>\n",
       "      <th>publisher</th>\n",
       "    </tr>\n",
       "  </thead>\n",
       "  <tbody>\n",
       "    <tr>\n",
       "      <th>0</th>\n",
       "      <td>1</td>\n",
       "      <td>Ace</td>\n",
       "    </tr>\n",
       "    <tr>\n",
       "      <th>1</th>\n",
       "      <td>2</td>\n",
       "      <td>Ace Book</td>\n",
       "    </tr>\n",
       "    <tr>\n",
       "      <th>2</th>\n",
       "      <td>3</td>\n",
       "      <td>Ace Books</td>\n",
       "    </tr>\n",
       "    <tr>\n",
       "      <th>3</th>\n",
       "      <td>4</td>\n",
       "      <td>Ace Hardcover</td>\n",
       "    </tr>\n",
       "    <tr>\n",
       "      <th>4</th>\n",
       "      <td>5</td>\n",
       "      <td>Addison Wesley Publishing Company</td>\n",
       "    </tr>\n",
       "  </tbody>\n",
       "</table>\n",
       "</div>"
      ],
      "text/plain": [
       "   publisher_id                          publisher\n",
       "0             1                                Ace\n",
       "1             2                           Ace Book\n",
       "2             3                          Ace Books\n",
       "3             4                      Ace Hardcover\n",
       "4             5  Addison Wesley Publishing Company"
      ]
     },
     "metadata": {},
     "output_type": "display_data"
    },
    {
     "data": {
      "text/html": [
       "<div>\n",
       "<style scoped>\n",
       "    .dataframe tbody tr th:only-of-type {\n",
       "        vertical-align: middle;\n",
       "    }\n",
       "\n",
       "    .dataframe tbody tr th {\n",
       "        vertical-align: top;\n",
       "    }\n",
       "\n",
       "    .dataframe thead th {\n",
       "        text-align: right;\n",
       "    }\n",
       "</style>\n",
       "<table border=\"1\" class=\"dataframe\">\n",
       "  <thead>\n",
       "    <tr style=\"text-align: right;\">\n",
       "      <th></th>\n",
       "      <th>rating_id</th>\n",
       "      <th>book_id</th>\n",
       "      <th>username</th>\n",
       "      <th>rating</th>\n",
       "    </tr>\n",
       "  </thead>\n",
       "  <tbody>\n",
       "    <tr>\n",
       "      <th>0</th>\n",
       "      <td>1</td>\n",
       "      <td>1</td>\n",
       "      <td>ryanfranco</td>\n",
       "      <td>4</td>\n",
       "    </tr>\n",
       "    <tr>\n",
       "      <th>1</th>\n",
       "      <td>2</td>\n",
       "      <td>1</td>\n",
       "      <td>grantpatricia</td>\n",
       "      <td>2</td>\n",
       "    </tr>\n",
       "    <tr>\n",
       "      <th>2</th>\n",
       "      <td>3</td>\n",
       "      <td>1</td>\n",
       "      <td>brandtandrea</td>\n",
       "      <td>5</td>\n",
       "    </tr>\n",
       "    <tr>\n",
       "      <th>3</th>\n",
       "      <td>4</td>\n",
       "      <td>2</td>\n",
       "      <td>lorichen</td>\n",
       "      <td>3</td>\n",
       "    </tr>\n",
       "    <tr>\n",
       "      <th>4</th>\n",
       "      <td>5</td>\n",
       "      <td>2</td>\n",
       "      <td>mariokeller</td>\n",
       "      <td>2</td>\n",
       "    </tr>\n",
       "  </tbody>\n",
       "</table>\n",
       "</div>"
      ],
      "text/plain": [
       "   rating_id  book_id       username  rating\n",
       "0          1        1     ryanfranco       4\n",
       "1          2        1  grantpatricia       2\n",
       "2          3        1   brandtandrea       5\n",
       "3          4        2       lorichen       3\n",
       "4          5        2    mariokeller       2"
      ]
     },
     "metadata": {},
     "output_type": "display_data"
    },
    {
     "data": {
      "text/html": [
       "<div>\n",
       "<style scoped>\n",
       "    .dataframe tbody tr th:only-of-type {\n",
       "        vertical-align: middle;\n",
       "    }\n",
       "\n",
       "    .dataframe tbody tr th {\n",
       "        vertical-align: top;\n",
       "    }\n",
       "\n",
       "    .dataframe thead th {\n",
       "        text-align: right;\n",
       "    }\n",
       "</style>\n",
       "<table border=\"1\" class=\"dataframe\">\n",
       "  <thead>\n",
       "    <tr style=\"text-align: right;\">\n",
       "      <th></th>\n",
       "      <th>review_id</th>\n",
       "      <th>book_id</th>\n",
       "      <th>username</th>\n",
       "      <th>text</th>\n",
       "    </tr>\n",
       "  </thead>\n",
       "  <tbody>\n",
       "    <tr>\n",
       "      <th>0</th>\n",
       "      <td>1</td>\n",
       "      <td>1</td>\n",
       "      <td>brandtandrea</td>\n",
       "      <td>Mention society tell send professor analysis. ...</td>\n",
       "    </tr>\n",
       "    <tr>\n",
       "      <th>1</th>\n",
       "      <td>2</td>\n",
       "      <td>1</td>\n",
       "      <td>ryanfranco</td>\n",
       "      <td>Foot glass pretty audience hit themselves. Amo...</td>\n",
       "    </tr>\n",
       "    <tr>\n",
       "      <th>2</th>\n",
       "      <td>3</td>\n",
       "      <td>2</td>\n",
       "      <td>lorichen</td>\n",
       "      <td>Listen treat keep worry. Miss husband tax but ...</td>\n",
       "    </tr>\n",
       "    <tr>\n",
       "      <th>3</th>\n",
       "      <td>4</td>\n",
       "      <td>3</td>\n",
       "      <td>johnsonamanda</td>\n",
       "      <td>Finally month interesting blue could nature cu...</td>\n",
       "    </tr>\n",
       "    <tr>\n",
       "      <th>4</th>\n",
       "      <td>5</td>\n",
       "      <td>3</td>\n",
       "      <td>scotttamara</td>\n",
       "      <td>Nation purpose heavy give wait song will. List...</td>\n",
       "    </tr>\n",
       "  </tbody>\n",
       "</table>\n",
       "</div>"
      ],
      "text/plain": [
       "   review_id  book_id       username  \\\n",
       "0          1        1   brandtandrea   \n",
       "1          2        1     ryanfranco   \n",
       "2          3        2       lorichen   \n",
       "3          4        3  johnsonamanda   \n",
       "4          5        3    scotttamara   \n",
       "\n",
       "                                                text  \n",
       "0  Mention society tell send professor analysis. ...  \n",
       "1  Foot glass pretty audience hit themselves. Amo...  \n",
       "2  Listen treat keep worry. Miss husband tax but ...  \n",
       "3  Finally month interesting blue could nature cu...  \n",
       "4  Nation purpose heavy give wait song will. List...  "
      ]
     },
     "metadata": {},
     "output_type": "display_data"
    }
   ],
   "source": [
    "#Исследуйте таблицы — выведите первые строки\n",
    "for table in ['books', 'authors', 'publishers', 'ratings', 'reviews']:\n",
    "    query = ''' SELECT* \n",
    "                FROM {}\n",
    "            '''.format(table) \n",
    "    request = pd.io.sql.read_sql(query, con = engine) \n",
    "    display(request.head())"
   ]
  },
  {
   "cell_type": "markdown",
   "metadata": {},
   "source": [
    "Задача 1.\n",
    "\n",
    "Посчитайте, сколько книг вышло после 1 января 2000 года"
   ]
  },
  {
   "cell_type": "code",
   "execution_count": 6,
   "metadata": {},
   "outputs": [
    {
     "data": {
      "text/html": [
       "<div>\n",
       "<style scoped>\n",
       "    .dataframe tbody tr th:only-of-type {\n",
       "        vertical-align: middle;\n",
       "    }\n",
       "\n",
       "    .dataframe tbody tr th {\n",
       "        vertical-align: top;\n",
       "    }\n",
       "\n",
       "    .dataframe thead th {\n",
       "        text-align: right;\n",
       "    }\n",
       "</style>\n",
       "<table border=\"1\" class=\"dataframe\">\n",
       "  <thead>\n",
       "    <tr style=\"text-align: right;\">\n",
       "      <th></th>\n",
       "      <th>count</th>\n",
       "    </tr>\n",
       "  </thead>\n",
       "  <tbody>\n",
       "    <tr>\n",
       "      <th>0</th>\n",
       "      <td>819</td>\n",
       "    </tr>\n",
       "  </tbody>\n",
       "</table>\n",
       "</div>"
      ],
      "text/plain": [
       "   count\n",
       "0    819"
      ]
     },
     "metadata": {},
     "output_type": "display_data"
    }
   ],
   "source": [
    "for table in ['books']:\n",
    "    query = ''' SELECT COUNT (DISTINCT book_id) \n",
    "                FROM books\n",
    "                WHERE publication_date > '2000-01-01';\n",
    "            '''.format(table) \n",
    "    request = pd.io.sql.read_sql(query, con = engine) \n",
    "    display(request)"
   ]
  },
  {
   "cell_type": "markdown",
   "metadata": {},
   "source": [
    "Вывод: После 1 января 2000 года было издано 819 уникальных наименований книг."
   ]
  },
  {
   "cell_type": "markdown",
   "metadata": {},
   "source": [
    "Задача 2.\n",
    "\n",
    "Для каждой книги посчитайте количество обзоров и среднюю оценку"
   ]
  },
  {
   "cell_type": "code",
   "execution_count": 7,
   "metadata": {},
   "outputs": [
    {
     "data": {
      "text/html": [
       "<div>\n",
       "<style scoped>\n",
       "    .dataframe tbody tr th:only-of-type {\n",
       "        vertical-align: middle;\n",
       "    }\n",
       "\n",
       "    .dataframe tbody tr th {\n",
       "        vertical-align: top;\n",
       "    }\n",
       "\n",
       "    .dataframe thead th {\n",
       "        text-align: right;\n",
       "    }\n",
       "</style>\n",
       "<table border=\"1\" class=\"dataframe\">\n",
       "  <thead>\n",
       "    <tr style=\"text-align: right;\">\n",
       "      <th></th>\n",
       "      <th>book_id</th>\n",
       "      <th>title</th>\n",
       "      <th>reviews_number</th>\n",
       "      <th>avg_rating</th>\n",
       "    </tr>\n",
       "  </thead>\n",
       "  <tbody>\n",
       "    <tr>\n",
       "      <th>0</th>\n",
       "      <td>17</td>\n",
       "      <td>A Dirty Job (Grim Reaper  #1)</td>\n",
       "      <td>4.0</td>\n",
       "      <td>5.00</td>\n",
       "    </tr>\n",
       "    <tr>\n",
       "      <th>1</th>\n",
       "      <td>20</td>\n",
       "      <td>A Fistful of Charms (The Hollows  #4)</td>\n",
       "      <td>2.0</td>\n",
       "      <td>5.00</td>\n",
       "    </tr>\n",
       "    <tr>\n",
       "      <th>2</th>\n",
       "      <td>55</td>\n",
       "      <td>A Woman of Substance (Emma Harte Saga #1)</td>\n",
       "      <td>2.0</td>\n",
       "      <td>5.00</td>\n",
       "    </tr>\n",
       "    <tr>\n",
       "      <th>3</th>\n",
       "      <td>57</td>\n",
       "      <td>Act of Treason (Mitch Rapp  #9)</td>\n",
       "      <td>2.0</td>\n",
       "      <td>5.00</td>\n",
       "    </tr>\n",
       "    <tr>\n",
       "      <th>4</th>\n",
       "      <td>62</td>\n",
       "      <td>Alas  Babylon</td>\n",
       "      <td>2.0</td>\n",
       "      <td>5.00</td>\n",
       "    </tr>\n",
       "    <tr>\n",
       "      <th>...</th>\n",
       "      <td>...</td>\n",
       "      <td>...</td>\n",
       "      <td>...</td>\n",
       "      <td>...</td>\n",
       "    </tr>\n",
       "    <tr>\n",
       "      <th>995</th>\n",
       "      <td>915</td>\n",
       "      <td>The World Is Flat: A Brief History of the Twen...</td>\n",
       "      <td>3.0</td>\n",
       "      <td>2.25</td>\n",
       "    </tr>\n",
       "    <tr>\n",
       "      <th>996</th>\n",
       "      <td>202</td>\n",
       "      <td>Drowning Ruth</td>\n",
       "      <td>3.0</td>\n",
       "      <td>2.00</td>\n",
       "    </tr>\n",
       "    <tr>\n",
       "      <th>997</th>\n",
       "      <td>316</td>\n",
       "      <td>His Excellency: George Washington</td>\n",
       "      <td>2.0</td>\n",
       "      <td>2.00</td>\n",
       "    </tr>\n",
       "    <tr>\n",
       "      <th>998</th>\n",
       "      <td>371</td>\n",
       "      <td>Junky</td>\n",
       "      <td>2.0</td>\n",
       "      <td>2.00</td>\n",
       "    </tr>\n",
       "    <tr>\n",
       "      <th>999</th>\n",
       "      <td>303</td>\n",
       "      <td>Harvesting the Heart</td>\n",
       "      <td>2.0</td>\n",
       "      <td>1.50</td>\n",
       "    </tr>\n",
       "  </tbody>\n",
       "</table>\n",
       "<p>1000 rows × 4 columns</p>\n",
       "</div>"
      ],
      "text/plain": [
       "     book_id                                              title  \\\n",
       "0         17                      A Dirty Job (Grim Reaper  #1)   \n",
       "1         20              A Fistful of Charms (The Hollows  #4)   \n",
       "2         55          A Woman of Substance (Emma Harte Saga #1)   \n",
       "3         57                    Act of Treason (Mitch Rapp  #9)   \n",
       "4         62                                      Alas  Babylon   \n",
       "..       ...                                                ...   \n",
       "995      915  The World Is Flat: A Brief History of the Twen...   \n",
       "996      202                                      Drowning Ruth   \n",
       "997      316                  His Excellency: George Washington   \n",
       "998      371                                              Junky   \n",
       "999      303                               Harvesting the Heart   \n",
       "\n",
       "     reviews_number  avg_rating  \n",
       "0               4.0        5.00  \n",
       "1               2.0        5.00  \n",
       "2               2.0        5.00  \n",
       "3               2.0        5.00  \n",
       "4               2.0        5.00  \n",
       "..              ...         ...  \n",
       "995             3.0        2.25  \n",
       "996             3.0        2.00  \n",
       "997             2.0        2.00  \n",
       "998             2.0        2.00  \n",
       "999             2.0        1.50  \n",
       "\n",
       "[1000 rows x 4 columns]"
      ]
     },
     "metadata": {},
     "output_type": "display_data"
    }
   ],
   "source": [
    "for table in ['books']:\n",
    "    query = ''' WITH\n",
    "                a AS (SELECT book_id, \n",
    "                             COUNT(review_id) OVER (PARTITION BY book_id) AS reviews_number\n",
    "                      FROM reviews),\n",
    "                \n",
    "                b AS (SELECT book_id, \n",
    "                             AVG(rating) OVER (PARTITION BY book_id) AS avg_rating\n",
    "                      FROM ratings)\n",
    "                      \n",
    "                SELECT DISTINCT books.book_id,\n",
    "                       books.title,\n",
    "                       reviews_number,\n",
    "                       ROUND (avg_rating, 2) AS avg_rating\n",
    "                FROM books\n",
    "                FULL JOIN a ON books.book_id=a.book_id\n",
    "                FULL JOIN b ON books.book_id=b.book_id\n",
    "                ORDER BY avg_rating DESC;\n",
    "            '''.format(table) \n",
    "    request = pd.io.sql.read_sql(query, con = engine) \n",
    "    display(request)"
   ]
  },
  {
   "cell_type": "markdown",
   "metadata": {},
   "source": [
    "Вывод: В списке достаточно много книг с отличными рейтингами и несколькими отзывами."
   ]
  },
  {
   "cell_type": "markdown",
   "metadata": {},
   "source": [
    "Задача 3.\n",
    "\n",
    "Определите издательство, которое выпустило наибольшее число книг толще 50 страниц — так вы исключите из анализа брошюры"
   ]
  },
  {
   "cell_type": "code",
   "execution_count": 8,
   "metadata": {
    "scrolled": false
   },
   "outputs": [
    {
     "data": {
      "text/html": [
       "<div>\n",
       "<style scoped>\n",
       "    .dataframe tbody tr th:only-of-type {\n",
       "        vertical-align: middle;\n",
       "    }\n",
       "\n",
       "    .dataframe tbody tr th {\n",
       "        vertical-align: top;\n",
       "    }\n",
       "\n",
       "    .dataframe thead th {\n",
       "        text-align: right;\n",
       "    }\n",
       "</style>\n",
       "<table border=\"1\" class=\"dataframe\">\n",
       "  <thead>\n",
       "    <tr style=\"text-align: right;\">\n",
       "      <th></th>\n",
       "      <th>publisher</th>\n",
       "      <th>books</th>\n",
       "    </tr>\n",
       "  </thead>\n",
       "  <tbody>\n",
       "    <tr>\n",
       "      <th>0</th>\n",
       "      <td>Penguin Books</td>\n",
       "      <td>42</td>\n",
       "    </tr>\n",
       "  </tbody>\n",
       "</table>\n",
       "</div>"
      ],
      "text/plain": [
       "       publisher  books\n",
       "0  Penguin Books     42"
      ]
     },
     "metadata": {},
     "output_type": "display_data"
    }
   ],
   "source": [
    "for table in ['books']:\n",
    "    query = ''' WITH \n",
    "                a AS (SELECT publisher_id, COUNT(book_id) OVER (PARTITION BY publisher_id) AS books\n",
    "                           FROM books\n",
    "                           WHERE num_pages > 50)\n",
    "                \n",
    "                \n",
    "                \n",
    "                SELECT DISTINCT publisher,\n",
    "                       a.books\n",
    "                FROM publishers\n",
    "                RIGHT JOIN a ON publishers.publisher_id=a.publisher_id\n",
    "                WHERE books = ( SELECT MAX(books) FROM a);\n",
    "            '''.format(table) \n",
    "    request = pd.io.sql.read_sql(query, con = engine) \n",
    "    display(request.head(10))"
   ]
  },
  {
   "cell_type": "markdown",
   "metadata": {},
   "source": [
    "Вывод:\n",
    "\n",
    "Penguin Books - это издательство, которое выпустило наибольшее число книг толще 50 страниц "
   ]
  },
  {
   "cell_type": "markdown",
   "metadata": {},
   "source": [
    "Задача 4.\n",
    "\n",
    "Определите автора с самой высокой средней оценкой книг — учитывайте только книги с 50 и более оценками"
   ]
  },
  {
   "cell_type": "code",
   "execution_count": 9,
   "metadata": {},
   "outputs": [
    {
     "data": {
      "text/html": [
       "<div>\n",
       "<style scoped>\n",
       "    .dataframe tbody tr th:only-of-type {\n",
       "        vertical-align: middle;\n",
       "    }\n",
       "\n",
       "    .dataframe tbody tr th {\n",
       "        vertical-align: top;\n",
       "    }\n",
       "\n",
       "    .dataframe thead th {\n",
       "        text-align: right;\n",
       "    }\n",
       "</style>\n",
       "<table border=\"1\" class=\"dataframe\">\n",
       "  <thead>\n",
       "    <tr style=\"text-align: right;\">\n",
       "      <th></th>\n",
       "      <th>author</th>\n",
       "      <th>avg_rating</th>\n",
       "    </tr>\n",
       "  </thead>\n",
       "  <tbody>\n",
       "    <tr>\n",
       "      <th>0</th>\n",
       "      <td>J.K. Rowling/Mary GrandPré</td>\n",
       "      <td>4.415</td>\n",
       "    </tr>\n",
       "  </tbody>\n",
       "</table>\n",
       "</div>"
      ],
      "text/plain": [
       "                       author  avg_rating\n",
       "0  J.K. Rowling/Mary GrandPré       4.415"
      ]
     },
     "metadata": {},
     "output_type": "display_data"
    }
   ],
   "source": [
    "for table in ['books']:\n",
    "    query = ''' WITH\n",
    "                a AS (SELECT DISTINCT book_id, \n",
    "                             AVG(rating) AS avg_rating\n",
    "                      FROM ratings\n",
    "                      WHERE book_id IN (SELECT DISTINCT book_id \n",
    "                                        FROM ratings GROUP BY book_id HAVING COUNT(rating_id) >50)\n",
    "                      GROUP BY book_id)\n",
    "                      \n",
    "                SELECT DISTINCT author,\n",
    "                       ROUND (a.avg_rating, 3) AS avg_rating\n",
    "                FROM authors\n",
    "                JOIN books ON authors.author_id = books.author_id\n",
    "                RIGHT JOIN a ON books.book_id=a.book_id\n",
    "                WHERE avg_rating = (SELECT MAX(avg_rating) FROM a)\n",
    "            '''.format(table) \n",
    "    request = pd.io.sql.read_sql(query, con = engine) \n",
    "    display(request)   "
   ]
  },
  {
   "cell_type": "markdown",
   "metadata": {},
   "source": [
    "Вывод:\n",
    "\n",
    "\n",
    "J.K. Rowling/Mary GrandPré - автор с самой высокой средней оценкой книгучитывая книги с 50 и более оценками"
   ]
  },
  {
   "cell_type": "markdown",
   "metadata": {},
   "source": [
    "Задача 5.\n",
    "\n",
    "Посчитайте среднее количество обзоров от пользователей, которые поставили больше 50 оценок."
   ]
  },
  {
   "cell_type": "code",
   "execution_count": 10,
   "metadata": {},
   "outputs": [
    {
     "data": {
      "text/html": [
       "<div>\n",
       "<style scoped>\n",
       "    .dataframe tbody tr th:only-of-type {\n",
       "        vertical-align: middle;\n",
       "    }\n",
       "\n",
       "    .dataframe tbody tr th {\n",
       "        vertical-align: top;\n",
       "    }\n",
       "\n",
       "    .dataframe thead th {\n",
       "        text-align: right;\n",
       "    }\n",
       "</style>\n",
       "<table border=\"1\" class=\"dataframe\">\n",
       "  <thead>\n",
       "    <tr style=\"text-align: right;\">\n",
       "      <th></th>\n",
       "      <th>avg</th>\n",
       "    </tr>\n",
       "  </thead>\n",
       "  <tbody>\n",
       "    <tr>\n",
       "      <th>0</th>\n",
       "      <td>24.333333</td>\n",
       "    </tr>\n",
       "  </tbody>\n",
       "</table>\n",
       "</div>"
      ],
      "text/plain": [
       "         avg\n",
       "0  24.333333"
      ]
     },
     "metadata": {},
     "output_type": "display_data"
    }
   ],
   "source": [
    "for table in ['reviews']:\n",
    "    query = ''' SELECT AVG(a.reviews_number)\n",
    "                FROM (SELECT DISTINCT username, \n",
    "                      COUNT(review_id) AS reviews_number\n",
    "                      FROM reviews\n",
    "                      GROUP BY username) AS a\n",
    "                WHERE username IN (SELECT DISTINCT username \n",
    "                                   FROM ratings GROUP BY username HAVING COUNT(rating) >50);\n",
    "            '''.format(table) \n",
    "    request = pd.io.sql.read_sql(query, con = engine) \n",
    "    display(request) "
   ]
  },
  {
   "cell_type": "markdown",
   "metadata": {},
   "source": [
    "Вывод:\n",
    "\n",
    "Самые активные пользователей, которые оставили больше 50 оценок имеют в среднем 24 обзора."
   ]
  },
  {
   "cell_type": "code",
   "execution_count": null,
   "metadata": {},
   "outputs": [],
   "source": []
  }
 ],
 "metadata": {
  "ExecuteTimeLog": [
   {
    "duration": 860,
    "start_time": "2022-05-31T08:17:56.522Z"
   },
   {
    "duration": 115,
    "start_time": "2022-05-31T08:18:26.126Z"
   },
   {
    "duration": 5,
    "start_time": "2022-05-31T08:18:32.859Z"
   },
   {
    "duration": 4,
    "start_time": "2022-05-31T08:24:10.164Z"
   },
   {
    "duration": 984,
    "start_time": "2022-05-31T08:38:27.124Z"
   },
   {
    "duration": 347,
    "start_time": "2022-05-31T08:43:47.268Z"
   },
   {
    "duration": 351,
    "start_time": "2022-05-31T08:44:01.173Z"
   },
   {
    "duration": 394,
    "start_time": "2022-05-31T08:44:08.018Z"
   },
   {
    "duration": 87,
    "start_time": "2022-05-31T08:44:21.279Z"
   },
   {
    "duration": 528,
    "start_time": "2022-05-31T08:44:44.229Z"
   },
   {
    "duration": 67,
    "start_time": "2022-05-31T08:44:47.646Z"
   },
   {
    "duration": 126,
    "start_time": "2022-05-31T08:53:42.641Z"
   },
   {
    "duration": 122,
    "start_time": "2022-05-31T09:00:49.125Z"
   },
   {
    "duration": 113,
    "start_time": "2022-05-31T09:01:39.403Z"
   },
   {
    "duration": 120,
    "start_time": "2022-05-31T09:01:48.803Z"
   },
   {
    "duration": 1572,
    "start_time": "2022-05-31T09:02:02.879Z"
   },
   {
    "duration": 1093,
    "start_time": "2022-05-31T09:03:20.826Z"
   },
   {
    "duration": 1162,
    "start_time": "2022-05-31T09:03:55.167Z"
   },
   {
    "duration": 1225,
    "start_time": "2022-05-31T09:04:22.238Z"
   },
   {
    "duration": 1222,
    "start_time": "2022-05-31T09:04:39.813Z"
   },
   {
    "duration": 1190,
    "start_time": "2022-05-31T09:04:53.150Z"
   },
   {
    "duration": 271,
    "start_time": "2022-05-31T09:05:45.421Z"
   },
   {
    "duration": 265,
    "start_time": "2022-05-31T09:05:54.698Z"
   },
   {
    "duration": 239,
    "start_time": "2022-05-31T09:06:31.651Z"
   },
   {
    "duration": 132,
    "start_time": "2022-05-31T09:07:03.247Z"
   },
   {
    "duration": 125,
    "start_time": "2022-05-31T09:15:15.266Z"
   },
   {
    "duration": 119,
    "start_time": "2022-05-31T09:15:43.890Z"
   },
   {
    "duration": 156,
    "start_time": "2022-05-31T09:16:45.427Z"
   },
   {
    "duration": 113,
    "start_time": "2022-05-31T09:16:50.629Z"
   },
   {
    "duration": 120,
    "start_time": "2022-05-31T09:18:10.156Z"
   },
   {
    "duration": 166,
    "start_time": "2022-05-31T09:19:23.247Z"
   },
   {
    "duration": 124,
    "start_time": "2022-05-31T09:21:40.254Z"
   },
   {
    "duration": 112,
    "start_time": "2022-05-31T09:22:20.812Z"
   },
   {
    "duration": 168,
    "start_time": "2022-05-31T09:27:44.943Z"
   },
   {
    "duration": 119,
    "start_time": "2022-05-31T09:28:14.590Z"
   },
   {
    "duration": 118,
    "start_time": "2022-05-31T09:29:56.726Z"
   },
   {
    "duration": 100,
    "start_time": "2022-05-31T09:30:13.115Z"
   },
   {
    "duration": 106,
    "start_time": "2022-05-31T09:30:23.374Z"
   },
   {
    "duration": 231,
    "start_time": "2022-05-31T09:32:12.368Z"
   },
   {
    "duration": 133,
    "start_time": "2022-05-31T09:32:24.614Z"
   },
   {
    "duration": 117,
    "start_time": "2022-05-31T09:33:13.473Z"
   },
   {
    "duration": 109,
    "start_time": "2022-05-31T09:34:43.537Z"
   },
   {
    "duration": 131,
    "start_time": "2022-05-31T09:37:51.573Z"
   },
   {
    "duration": 69,
    "start_time": "2022-05-31T09:38:04.126Z"
   },
   {
    "duration": 72,
    "start_time": "2022-05-31T09:38:28.490Z"
   },
   {
    "duration": 70,
    "start_time": "2022-05-31T09:38:39.451Z"
   },
   {
    "duration": 134,
    "start_time": "2022-05-31T10:17:37.309Z"
   },
   {
    "duration": 137,
    "start_time": "2022-05-31T10:20:25.462Z"
   },
   {
    "duration": 138,
    "start_time": "2022-05-31T10:21:42.294Z"
   },
   {
    "duration": 110,
    "start_time": "2022-05-31T10:21:53.179Z"
   },
   {
    "duration": 128,
    "start_time": "2022-05-31T10:22:33.312Z"
   },
   {
    "duration": 121,
    "start_time": "2022-05-31T10:23:04.117Z"
   },
   {
    "duration": 114,
    "start_time": "2022-05-31T10:23:18.276Z"
   },
   {
    "duration": 72,
    "start_time": "2022-05-31T10:23:55.243Z"
   },
   {
    "duration": 39,
    "start_time": "2022-05-31T11:17:30.944Z"
   },
   {
    "duration": 144,
    "start_time": "2022-05-31T11:17:37.042Z"
   },
   {
    "duration": 101,
    "start_time": "2022-05-31T11:18:04.444Z"
   },
   {
    "duration": 99,
    "start_time": "2022-05-31T11:18:36.896Z"
   },
   {
    "duration": 97,
    "start_time": "2022-05-31T11:18:49.277Z"
   },
   {
    "duration": 109,
    "start_time": "2022-05-31T11:22:36.603Z"
   },
   {
    "duration": 103,
    "start_time": "2022-05-31T11:23:06.580Z"
   },
   {
    "duration": 97,
    "start_time": "2022-05-31T11:23:40.426Z"
   },
   {
    "duration": 72,
    "start_time": "2022-05-31T11:24:18.940Z"
   },
   {
    "duration": 73,
    "start_time": "2022-05-31T11:24:49.599Z"
   },
   {
    "duration": 72,
    "start_time": "2022-05-31T11:25:05.000Z"
   },
   {
    "duration": 562,
    "start_time": "2022-05-31T11:38:40.692Z"
   },
   {
    "duration": 2,
    "start_time": "2022-05-31T11:38:41.257Z"
   },
   {
    "duration": 580,
    "start_time": "2022-05-31T11:38:41.261Z"
   },
   {
    "duration": 72,
    "start_time": "2022-05-31T11:38:41.843Z"
   },
   {
    "duration": 95,
    "start_time": "2022-05-31T11:38:41.918Z"
   },
   {
    "duration": 75,
    "start_time": "2022-05-31T11:38:42.015Z"
   },
   {
    "duration": 74,
    "start_time": "2022-05-31T11:38:42.091Z"
   },
   {
    "duration": 73,
    "start_time": "2022-05-31T11:38:42.167Z"
   },
   {
    "duration": 124,
    "start_time": "2022-05-31T11:41:05.956Z"
   },
   {
    "duration": 122,
    "start_time": "2022-05-31T11:41:11.972Z"
   },
   {
    "duration": 251,
    "start_time": "2022-05-31T12:11:18.815Z"
   },
   {
    "duration": 156,
    "start_time": "2022-05-31T12:12:22.143Z"
   },
   {
    "duration": 197,
    "start_time": "2022-05-31T12:12:54.407Z"
   },
   {
    "duration": 103,
    "start_time": "2022-05-31T12:13:59.545Z"
   },
   {
    "duration": 137,
    "start_time": "2022-05-31T12:16:53.939Z"
   },
   {
    "duration": 508,
    "start_time": "2022-06-01T06:12:38.488Z"
   },
   {
    "duration": 4,
    "start_time": "2022-06-01T06:12:38.997Z"
   },
   {
    "duration": 612,
    "start_time": "2022-06-01T06:12:39.002Z"
   },
   {
    "duration": 81,
    "start_time": "2022-06-01T06:12:39.616Z"
   },
   {
    "duration": 112,
    "start_time": "2022-06-01T06:12:39.699Z"
   },
   {
    "duration": 80,
    "start_time": "2022-06-01T06:12:39.813Z"
   },
   {
    "duration": 80,
    "start_time": "2022-06-01T06:12:39.895Z"
   },
   {
    "duration": 90,
    "start_time": "2022-06-01T06:12:39.976Z"
   },
   {
    "duration": 149,
    "start_time": "2022-06-01T06:12:40.068Z"
   },
   {
    "duration": 127,
    "start_time": "2022-06-01T06:14:31.075Z"
   },
   {
    "duration": 71,
    "start_time": "2022-06-01T06:15:29.115Z"
   },
   {
    "duration": 72,
    "start_time": "2022-06-01T06:15:40.842Z"
   },
   {
    "duration": 72,
    "start_time": "2022-06-01T06:15:54.811Z"
   },
   {
    "duration": 198,
    "start_time": "2022-06-01T06:18:46.646Z"
   },
   {
    "duration": 116,
    "start_time": "2022-06-01T06:19:05.560Z"
   },
   {
    "duration": 125,
    "start_time": "2022-06-01T06:19:17.736Z"
   },
   {
    "duration": 113,
    "start_time": "2022-06-01T06:19:25.551Z"
   },
   {
    "duration": 72,
    "start_time": "2022-06-01T06:19:38.049Z"
   },
   {
    "duration": 107,
    "start_time": "2022-06-01T06:19:44.069Z"
   },
   {
    "duration": 632,
    "start_time": "2022-06-01T10:35:25.092Z"
   },
   {
    "duration": 4,
    "start_time": "2022-06-01T10:35:27.184Z"
   },
   {
    "duration": 40,
    "start_time": "2022-06-01T10:35:28.725Z"
   },
   {
    "duration": 3,
    "start_time": "2022-06-01T10:38:07.720Z"
   },
   {
    "duration": 9,
    "start_time": "2022-06-01T10:38:07.724Z"
   },
   {
    "duration": 5,
    "start_time": "2022-06-01T10:38:07.734Z"
   },
   {
    "duration": 4,
    "start_time": "2022-06-01T10:38:07.741Z"
   },
   {
    "duration": 559,
    "start_time": "2022-06-01T10:38:07.746Z"
   },
   {
    "duration": 66,
    "start_time": "2022-06-01T10:38:08.308Z"
   },
   {
    "duration": 105,
    "start_time": "2022-06-01T10:38:08.375Z"
   },
   {
    "duration": 65,
    "start_time": "2022-06-01T10:38:08.482Z"
   },
   {
    "duration": 67,
    "start_time": "2022-06-01T10:38:08.549Z"
   },
   {
    "duration": 68,
    "start_time": "2022-06-01T10:38:08.617Z"
   },
   {
    "duration": 66,
    "start_time": "2022-06-01T10:39:54.894Z"
   },
   {
    "duration": 130,
    "start_time": "2022-06-01T10:42:39.390Z"
   },
   {
    "duration": 128,
    "start_time": "2022-06-01T10:42:58.940Z"
   },
   {
    "duration": 74,
    "start_time": "2022-06-01T10:45:47.827Z"
   },
   {
    "duration": 75,
    "start_time": "2022-06-01T10:46:07.709Z"
   },
   {
    "duration": 82,
    "start_time": "2022-06-01T10:47:49.585Z"
   },
   {
    "duration": 77,
    "start_time": "2022-06-01T10:47:58.689Z"
   },
   {
    "duration": 73,
    "start_time": "2022-06-01T10:48:03.100Z"
   },
   {
    "duration": 68,
    "start_time": "2022-06-01T10:48:20.151Z"
   },
   {
    "duration": 68,
    "start_time": "2022-06-01T10:49:11.385Z"
   },
   {
    "duration": 70,
    "start_time": "2022-06-01T10:53:54.504Z"
   },
   {
    "duration": 162,
    "start_time": "2022-06-01T10:54:58.291Z"
   },
   {
    "duration": 68,
    "start_time": "2022-06-01T10:56:06.115Z"
   },
   {
    "duration": 3,
    "start_time": "2022-06-01T10:58:11.627Z"
   },
   {
    "duration": 9,
    "start_time": "2022-06-01T10:58:11.632Z"
   },
   {
    "duration": 9,
    "start_time": "2022-06-01T10:58:11.643Z"
   },
   {
    "duration": 17,
    "start_time": "2022-06-01T10:58:11.654Z"
   },
   {
    "duration": 630,
    "start_time": "2022-06-01T10:58:11.674Z"
   },
   {
    "duration": 71,
    "start_time": "2022-06-01T10:58:12.306Z"
   },
   {
    "duration": 111,
    "start_time": "2022-06-01T10:58:12.379Z"
   },
   {
    "duration": 71,
    "start_time": "2022-06-01T10:58:12.491Z"
   },
   {
    "duration": 72,
    "start_time": "2022-06-01T10:58:12.564Z"
   },
   {
    "duration": 72,
    "start_time": "2022-06-01T10:58:12.638Z"
   },
   {
    "duration": 516,
    "start_time": "2022-06-02T07:19:33.311Z"
   },
   {
    "duration": 5,
    "start_time": "2022-06-02T07:19:33.832Z"
   },
   {
    "duration": 45,
    "start_time": "2022-06-02T07:19:33.839Z"
   },
   {
    "duration": 2,
    "start_time": "2022-06-02T07:19:33.886Z"
   },
   {
    "duration": 635,
    "start_time": "2022-06-02T07:19:33.890Z"
   },
   {
    "duration": 86,
    "start_time": "2022-06-02T07:19:34.527Z"
   },
   {
    "duration": 118,
    "start_time": "2022-06-02T07:19:34.614Z"
   },
   {
    "duration": 79,
    "start_time": "2022-06-02T07:19:34.734Z"
   },
   {
    "duration": 79,
    "start_time": "2022-06-02T07:19:34.815Z"
   },
   {
    "duration": 84,
    "start_time": "2022-06-02T07:19:34.897Z"
   },
   {
    "duration": 553,
    "start_time": "2022-06-02T11:58:58.872Z"
   },
   {
    "duration": 4,
    "start_time": "2022-06-02T11:58:59.426Z"
   },
   {
    "duration": 3766,
    "start_time": "2022-06-02T11:58:59.431Z"
   },
   {
    "duration": 2,
    "start_time": "2022-06-02T11:59:03.199Z"
   },
   {
    "duration": 607,
    "start_time": "2022-06-02T11:59:03.203Z"
   },
   {
    "duration": 72,
    "start_time": "2022-06-02T11:59:03.812Z"
   },
   {
    "duration": 116,
    "start_time": "2022-06-02T11:59:03.886Z"
   },
   {
    "duration": 74,
    "start_time": "2022-06-02T11:59:04.004Z"
   },
   {
    "duration": 76,
    "start_time": "2022-06-02T11:59:04.080Z"
   },
   {
    "duration": 74,
    "start_time": "2022-06-02T11:59:04.158Z"
   }
  ],
  "kernelspec": {
   "display_name": "Python 3 (ipykernel)",
   "language": "python",
   "name": "python3"
  },
  "language_info": {
   "codemirror_mode": {
    "name": "ipython",
    "version": 3
   },
   "file_extension": ".py",
   "mimetype": "text/x-python",
   "name": "python",
   "nbconvert_exporter": "python",
   "pygments_lexer": "ipython3",
   "version": "3.9.7"
  },
  "toc": {
   "base_numbering": 1,
   "nav_menu": {},
   "number_sections": true,
   "sideBar": true,
   "skip_h1_title": true,
   "title_cell": "Table of Contents",
   "title_sidebar": "Contents",
   "toc_cell": false,
   "toc_position": {},
   "toc_section_display": true,
   "toc_window_display": false
  }
 },
 "nbformat": 4,
 "nbformat_minor": 2
}
