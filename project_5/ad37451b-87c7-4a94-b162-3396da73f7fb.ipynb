{
 "cells": [
  {
   "cell_type": "markdown",
   "metadata": {},
   "source": [
    "## <span style=\"color:black\">Описание проекта<span>"
   ]
  },
  {
   "cell_type": "markdown",
   "metadata": {},
   "source": [
    "Анализ поведения пользователей в мобильном приложении \"Ненужные вещи\". В нем пользователи продают свои ненужные вещи, размещая их на доске объявлений.\n",
    "\n",
    "Цель состоит в том, чтобы пользователи дольше пользовались приложением, а также легче находили то, что им надо. \n",
    "\n",
    "Целевое событие - просмотр контактов.\n",
    "\n",
    "Задачи: \n",
    "1. Анализ связей целевого события — просмотра контактов — и других действий пользователей. \n",
    "2. Какие действия чаще совершают те пользователи, которые просматривают контакты."
   ]
  },
  {
   "cell_type": "markdown",
   "metadata": {},
   "source": [
    "## <span style=\"color:black\">Предобработка данных<span>"
   ]
  },
  {
   "cell_type": "markdown",
   "metadata": {},
   "source": [
    "Замена названия столбцов на удобные, проверка пропусков, дубликатов и типов данных, редакция формата столбца с датами."
   ]
  },
  {
   "cell_type": "code",
   "execution_count": 1,
   "metadata": {},
   "outputs": [],
   "source": [
    "import pandas as pd\n",
    "import seaborn as sns\n",
    "import matplotlib.pyplot as plt\n",
    "import numpy as np\n",
    "import plotly.express as px\n",
    "from datetime import datetime, timedelta\n",
    "import math as mth\n",
    "from scipy import stats as st\n",
    "from IPython.display import display\n",
    "\n",
    "import warnings\n",
    "warnings.filterwarnings('ignore')"
   ]
  },
  {
   "cell_type": "code",
   "execution_count": 2,
   "metadata": {},
   "outputs": [
    {
     "name": "stdout",
     "output_type": "stream",
     "text": [
      "(4293, 2)\n",
      "(74197, 3)\n"
     ]
    },
    {
     "data": {
      "text/html": [
       "<div>\n",
       "<style scoped>\n",
       "    .dataframe tbody tr th:only-of-type {\n",
       "        vertical-align: middle;\n",
       "    }\n",
       "\n",
       "    .dataframe tbody tr th {\n",
       "        vertical-align: top;\n",
       "    }\n",
       "\n",
       "    .dataframe thead th {\n",
       "        text-align: right;\n",
       "    }\n",
       "</style>\n",
       "<table border=\"1\" class=\"dataframe\">\n",
       "  <thead>\n",
       "    <tr style=\"text-align: right;\">\n",
       "      <th></th>\n",
       "      <th>userId</th>\n",
       "      <th>source</th>\n",
       "    </tr>\n",
       "  </thead>\n",
       "  <tbody>\n",
       "    <tr>\n",
       "      <th>0</th>\n",
       "      <td>020292ab-89bc-4156-9acf-68bc2783f894</td>\n",
       "      <td>other</td>\n",
       "    </tr>\n",
       "    <tr>\n",
       "      <th>1</th>\n",
       "      <td>cf7eda61-9349-469f-ac27-e5b6f5ec475c</td>\n",
       "      <td>yandex</td>\n",
       "    </tr>\n",
       "    <tr>\n",
       "      <th>2</th>\n",
       "      <td>8c356c42-3ba9-4cb6-80b8-3f868d0192c3</td>\n",
       "      <td>yandex</td>\n",
       "    </tr>\n",
       "    <tr>\n",
       "      <th>3</th>\n",
       "      <td>d9b06b47-0f36-419b-bbb0-3533e582a6cb</td>\n",
       "      <td>other</td>\n",
       "    </tr>\n",
       "    <tr>\n",
       "      <th>4</th>\n",
       "      <td>f32e1e2a-3027-4693-b793-b7b3ff274439</td>\n",
       "      <td>google</td>\n",
       "    </tr>\n",
       "  </tbody>\n",
       "</table>\n",
       "</div>"
      ],
      "text/plain": [
       "                                 userId  source\n",
       "0  020292ab-89bc-4156-9acf-68bc2783f894   other\n",
       "1  cf7eda61-9349-469f-ac27-e5b6f5ec475c  yandex\n",
       "2  8c356c42-3ba9-4cb6-80b8-3f868d0192c3  yandex\n",
       "3  d9b06b47-0f36-419b-bbb0-3533e582a6cb   other\n",
       "4  f32e1e2a-3027-4693-b793-b7b3ff274439  google"
      ]
     },
     "metadata": {},
     "output_type": "display_data"
    },
    {
     "data": {
      "text/html": [
       "<div>\n",
       "<style scoped>\n",
       "    .dataframe tbody tr th:only-of-type {\n",
       "        vertical-align: middle;\n",
       "    }\n",
       "\n",
       "    .dataframe tbody tr th {\n",
       "        vertical-align: top;\n",
       "    }\n",
       "\n",
       "    .dataframe thead th {\n",
       "        text-align: right;\n",
       "    }\n",
       "</style>\n",
       "<table border=\"1\" class=\"dataframe\">\n",
       "  <thead>\n",
       "    <tr style=\"text-align: right;\">\n",
       "      <th></th>\n",
       "      <th>event.time</th>\n",
       "      <th>event.name</th>\n",
       "      <th>user.id</th>\n",
       "    </tr>\n",
       "  </thead>\n",
       "  <tbody>\n",
       "    <tr>\n",
       "      <th>0</th>\n",
       "      <td>2019-10-07 00:00:00.431357</td>\n",
       "      <td>advert_open</td>\n",
       "      <td>020292ab-89bc-4156-9acf-68bc2783f894</td>\n",
       "    </tr>\n",
       "    <tr>\n",
       "      <th>1</th>\n",
       "      <td>2019-10-07 00:00:01.236320</td>\n",
       "      <td>tips_show</td>\n",
       "      <td>020292ab-89bc-4156-9acf-68bc2783f894</td>\n",
       "    </tr>\n",
       "    <tr>\n",
       "      <th>2</th>\n",
       "      <td>2019-10-07 00:00:02.245341</td>\n",
       "      <td>tips_show</td>\n",
       "      <td>cf7eda61-9349-469f-ac27-e5b6f5ec475c</td>\n",
       "    </tr>\n",
       "    <tr>\n",
       "      <th>3</th>\n",
       "      <td>2019-10-07 00:00:07.039334</td>\n",
       "      <td>tips_show</td>\n",
       "      <td>020292ab-89bc-4156-9acf-68bc2783f894</td>\n",
       "    </tr>\n",
       "    <tr>\n",
       "      <th>4</th>\n",
       "      <td>2019-10-07 00:00:56.319813</td>\n",
       "      <td>advert_open</td>\n",
       "      <td>cf7eda61-9349-469f-ac27-e5b6f5ec475c</td>\n",
       "    </tr>\n",
       "  </tbody>\n",
       "</table>\n",
       "</div>"
      ],
      "text/plain": [
       "                   event.time   event.name  \\\n",
       "0  2019-10-07 00:00:00.431357  advert_open   \n",
       "1  2019-10-07 00:00:01.236320    tips_show   \n",
       "2  2019-10-07 00:00:02.245341    tips_show   \n",
       "3  2019-10-07 00:00:07.039334    tips_show   \n",
       "4  2019-10-07 00:00:56.319813  advert_open   \n",
       "\n",
       "                                user.id  \n",
       "0  020292ab-89bc-4156-9acf-68bc2783f894  \n",
       "1  020292ab-89bc-4156-9acf-68bc2783f894  \n",
       "2  cf7eda61-9349-469f-ac27-e5b6f5ec475c  \n",
       "3  020292ab-89bc-4156-9acf-68bc2783f894  \n",
       "4  cf7eda61-9349-469f-ac27-e5b6f5ec475c  "
      ]
     },
     "metadata": {},
     "output_type": "display_data"
    }
   ],
   "source": [
    "#прочитаем из csv-файла данные о клиентах\n",
    "mobile_sources = pd.read_csv('/datasets/mobile_soures.csv')\n",
    "mobile_dataset = pd.read_csv('/datasets/mobile_dataset.csv')\n",
    "\n",
    "#распечатаем их размер и первые 5 строк\n",
    "for data in [mobile_sources, mobile_dataset]: print(data.shape)\n",
    "for data in [mobile_sources, mobile_dataset]: display(data.head(5))"
   ]
  },
  {
   "cell_type": "code",
   "execution_count": 3,
   "metadata": {},
   "outputs": [
    {
     "data": {
      "text/plain": [
       "4293"
      ]
     },
     "execution_count": 3,
     "metadata": {},
     "output_type": "execute_result"
    }
   ],
   "source": [
    "#какое количество пользователей в файле mobile_dataset:\n",
    "mobile_dataset['user.id'].nunique()"
   ]
  },
  {
   "cell_type": "markdown",
   "metadata": {},
   "source": [
    "Количество пользователей совпадает в обоих файлах"
   ]
  },
  {
   "cell_type": "code",
   "execution_count": 4,
   "metadata": {},
   "outputs": [
    {
     "name": "stdout",
     "output_type": "stream",
     "text": [
      "<class 'pandas.core.frame.DataFrame'>\n",
      "RangeIndex: 4293 entries, 0 to 4292\n",
      "Data columns (total 2 columns):\n",
      " #   Column  Non-Null Count  Dtype \n",
      "---  ------  --------------  ----- \n",
      " 0   userId  4293 non-null   object\n",
      " 1   source  4293 non-null   object\n",
      "dtypes: object(2)\n",
      "memory usage: 67.2+ KB\n"
     ]
    },
    {
     "data": {
      "text/plain": [
       "None"
      ]
     },
     "metadata": {},
     "output_type": "display_data"
    },
    {
     "name": "stdout",
     "output_type": "stream",
     "text": [
      "пропусков: userId    0\n",
      "source    0\n",
      "dtype: int64\n",
      "дубликатов: 0\n",
      "<class 'pandas.core.frame.DataFrame'>\n",
      "RangeIndex: 74197 entries, 0 to 74196\n",
      "Data columns (total 3 columns):\n",
      " #   Column      Non-Null Count  Dtype \n",
      "---  ------      --------------  ----- \n",
      " 0   event.time  74197 non-null  object\n",
      " 1   event.name  74197 non-null  object\n",
      " 2   user.id     74197 non-null  object\n",
      "dtypes: object(3)\n",
      "memory usage: 1.7+ MB\n"
     ]
    },
    {
     "data": {
      "text/plain": [
       "None"
      ]
     },
     "metadata": {},
     "output_type": "display_data"
    },
    {
     "name": "stdout",
     "output_type": "stream",
     "text": [
      "пропусков: event.time    0\n",
      "event.name    0\n",
      "user.id       0\n",
      "dtype: int64\n",
      "дубликатов: 0\n"
     ]
    }
   ],
   "source": [
    "# проверка пропусков, дубликатов и типов данных\n",
    "for data in [mobile_sources, mobile_dataset]: \n",
    "    display (data.info())\n",
    "    print('пропусков:', data.isna().sum())\n",
    "    print('дубликатов:', data.duplicated().sum())  "
   ]
  },
  {
   "cell_type": "markdown",
   "metadata": {},
   "source": [
    "Пропусков и дубликатов нет, тип данных столбца с датой надо привести к формату timedate64."
   ]
  },
  {
   "cell_type": "code",
   "execution_count": 5,
   "metadata": {},
   "outputs": [
    {
     "data": {
      "text/plain": [
       "array(['advert_open', 'tips_show', 'map', 'contacts_show', 'search_4',\n",
       "       'search_5', 'tips_click', 'photos_show', 'search_1', 'search_2',\n",
       "       'search_3', 'favorites_add', 'contacts_call', 'search_6',\n",
       "       'search_7', 'show_contacts'], dtype=object)"
      ]
     },
     "metadata": {},
     "output_type": "display_data"
    },
    {
     "data": {
      "text/plain": [
       "array(['other', 'yandex', 'google'], dtype=object)"
      ]
     },
     "metadata": {},
     "output_type": "display_data"
    }
   ],
   "source": [
    "#посмотрим названия событий и источников:\n",
    "display (mobile_dataset['event.name'].unique())\n",
    "display (mobile_sources['source'].unique())"
   ]
  },
  {
   "cell_type": "markdown",
   "metadata": {},
   "source": [
    "Есть 'show_contacts'и'contacts_show', два названия для целевого события. Вероятно, файл составляли из двух источников. Отредактируем этот момент, чтобы не запутаться дальше. Целевое событие будет только 'contacts_show'.\n",
    "\n",
    "Так же есть семь событий поиска, но мы не имеем информации об их различиях. Поэтому, объединим все поиски в 'search'."
   ]
  },
  {
   "cell_type": "code",
   "execution_count": 6,
   "metadata": {},
   "outputs": [],
   "source": [
    "# заменим 'show_contacts' на 'contacts_show':\n",
    "mobile_dataset.loc[mobile_dataset['event.name'] == 'show_contacts', 'event.name'] = 'contacts_show'\n",
    "\n",
    "#объединим все поисковые запрос в один search\n",
    "duplicates = ['search_4', 'search_5', 'search_1', 'search_2', 'search_3', 'search_6', 'search_7'] \n",
    "name = 'search' \n",
    "\n",
    "def replace_wrong_values(wrong_values, correct_value): # на вход функции подаются список неправильных значений и строка с правильным значением\n",
    "    for wrong_value in wrong_values: \n",
    "        mobile_dataset['event.name'] = mobile_dataset['event.name'].replace(wrong_value, correct_value)  # и для каждого неправильного имени вызываем метод replace()\n",
    "replace_wrong_values(duplicates, name) "
   ]
  },
  {
   "cell_type": "code",
   "execution_count": 7,
   "metadata": {},
   "outputs": [],
   "source": [
    "#редакция формата столбца с датами, соратим до секунд/ изменим тип данных в столбце, перевод времени в формат timedate64\n",
    "mobile_dataset['event.time'] = pd.to_datetime (mobile_dataset['event.time'], format = '%Y-%m-%d %H:%M:%S.%f')\n",
    "mobile_dataset['event.time'] = mobile_dataset['event.time'].dt.round ('1S')"
   ]
  },
  {
   "cell_type": "code",
   "execution_count": 8,
   "metadata": {},
   "outputs": [
    {
     "name": "stdout",
     "output_type": "stream",
     "text": [
      "Обнаружено 0 пересекающихся пользователя в группах other и yandex\n",
      "Обнаружено 0 пересекающихся пользователя в группах other, yandex и google\n"
     ]
    }
   ],
   "source": [
    "# проверим пересечение по источникам\n",
    "users_other = mobile_sources.loc[mobile_sources.loc[:,'source'] == 'other']['userId']\n",
    "users_yandex = mobile_sources.loc[mobile_sources.loc[:,'source'] == 'yandex']['userId']\n",
    "cross_users = mobile_sources.query('source == \"yandex\" and userId in @users_other') ['userId'].drop_duplicates()\n",
    "cross_users_google = mobile_sources.query('source == \"google\" and userId in @users_other') ['userId'].drop_duplicates()\n",
    "cross_users_google = mobile_sources.query('source == \"google\" and userId in @users_yandex') ['userId'].drop_duplicates()\n",
    "print ('Обнаружено', len (cross_users), 'пересекающихся пользователя в группах other и yandex')\n",
    "print ('Обнаружено', len (cross_users_google), 'пересекающихся пользователя в группах other, yandex и google')"
   ]
  },
  {
   "cell_type": "code",
   "execution_count": 9,
   "metadata": {},
   "outputs": [
    {
     "name": "stdout",
     "output_type": "stream",
     "text": [
      "Обнаружено 4293 пересекающихся пользователя в файлах mobile_sources и mobile_dataset\n"
     ]
    }
   ],
   "source": [
    "# проверим пересечение по пользователям в обоих файлах:\n",
    "users_sources = mobile_sources ['userId']\n",
    "cross_users = mobile_dataset['user.id'].drop_duplicates()\n",
    "print ('Обнаружено', len(cross_users), 'пересекающихся пользователя в файлах mobile_sources и mobile_dataset')"
   ]
  },
  {
   "cell_type": "markdown",
   "metadata": {},
   "source": [
    "Мы имеем информацию об одинаковых пользователях в обоих файлах. ПОэтому файлы можно будет объединить для удобства работы.\n",
    "\n",
    "По источникам мы видим, что каждый клиент приходит только из одного источника. "
   ]
  },
  {
   "cell_type": "code",
   "execution_count": 10,
   "metadata": {},
   "outputs": [],
   "source": [
    "#изменим названия столбцов\n",
    "mobile_sources.columns = ['user_id', 'source'] \n",
    "mobile_dataset.columns = ['event_time', 'event_name', 'user_id'] "
   ]
  },
  {
   "cell_type": "code",
   "execution_count": 11,
   "metadata": {},
   "outputs": [],
   "source": [
    "#объединим файлы\n",
    "mobile_dataset = pd.merge(mobile_dataset,mobile_sources, on='user_id')"
   ]
  },
  {
   "cell_type": "markdown",
   "metadata": {},
   "source": [
    "Вывод: \n",
    "\n",
    "есть данные о действиях 4293 пользователей в мобильном приложении и источники их перехода. Заменили названия столбцов для удобства работы. Пропусков, дубликатов нет. Тип данных заменили только в столбце с временем, также соратили дату до секунд. Проверили на пересекающихся пользователей по источникам, все хорошо, пересечений нет. Также проверили, что пользователи в двух файлах одинаковые. Тут тоже все хорошо. Уифицировали название целевого события и поисков."
   ]
  },
  {
   "cell_type": "markdown",
   "metadata": {},
   "source": [
    "## <span style=\"color:black\">Исследовательский анализ данных<span>"
   ]
  },
  {
   "cell_type": "code",
   "execution_count": 12,
   "metadata": {},
   "outputs": [
    {
     "data": {
      "image/png": "[encoded data removed]",
      "text/plain": [
       "<Figure size 720x360 with 1 Axes>"
      ]
     },
     "metadata": {
      "needs_background": "light"
     },
     "output_type": "display_data"
    }
   ],
   "source": [
    "#Какие события есть в логах, как часто они встречаются? \n",
    "#диаграмма распределения количества событий по типу события\n",
    "mobile_dataset.groupby('event_name').agg({'user_id':'count'}).sort_values(by = 'user_id', ascending=False).plot(kind='bar', grid = True, figsize = (10,5))\n",
    "plt.xlabel('Cобытия')\n",
    "plt.ylabel('Количество событий')\n",
    "plt.title('Частота событий')\n",
    "plt.show()"
   ]
  },
  {
   "cell_type": "markdown",
   "metadata": {},
   "source": [
    "Самое распространенное событие  - это 'tips_show', но появление этого события не зависит от пользователя. Это реклама разных объявлений.\n",
    "Человек может нажать на него и тогда мы получим событие tips_click. Поэтому для анализа поведения пользователя мы уберем из выборки это событие.\n",
    "\n",
    "В первой тройке популярных событий: 'photos_show' 'search', 'advert_open'. Возможно корректней будет поставить поиск на первое место, потому что у объявлений обычно несколько фотографий. Скорее всего логика действий будет: поиск - открытие объявления - просмотр фотографий. Дальше может быть другой поиск, открытие контактов, просмотр карты, добавление в понравившиеся и так далее."
   ]
  },
  {
   "cell_type": "code",
   "execution_count": 13,
   "metadata": {},
   "outputs": [
    {
     "data": {
      "image/png": "[encoded data removed]",
      "text/plain": [
       "<Figure size 1080x576 with 1 Axes>"
      ]
     },
     "metadata": {
      "needs_background": "light"
     },
     "output_type": "display_data"
    },
    {
     "name": "stdout",
     "output_type": "stream",
     "text": [
      "Доля пользователей, которые хоть раз совершали событие 1.51 %\n"
     ]
    }
   ],
   "source": [
    "#Сколько пользователей совершали каждое из этих событий. Отсортируем события по числу пользователей. \n",
    "mobile_dataset.groupby('event_name').agg({'user_id':'nunique'}).sort_values(by = 'user_id', ascending=False).plot(kind='bar', grid = True, figsize = (15,8))\n",
    "plt.xlabel('Cобытия')\n",
    "plt.ylabel('Количество событий')\n",
    "plt.title('Количество пользователей, которые совершали каждое событие')\n",
    "plt.show()\n",
    "\n",
    "#Посчитаем долю пользователей, которые хоть раз совершали событие.\n",
    "a = mobile_dataset.groupby('user_id').agg({'event_name':'count'})\n",
    "a = len (a.query('event_name == 1'))/mobile_dataset['user_id'].nunique()*100\n",
    "print ('Доля пользователей, которые хоть раз совершали событие', round(a, 2),'%')"
   ]
  },
  {
   "cell_type": "code",
   "execution_count": 14,
   "metadata": {},
   "outputs": [
    {
     "data": {
      "image/png": "[encoded data removed]",
      "text/plain": [
       "<Figure size 1080x576 with 1 Axes>"
      ]
     },
     "metadata": {
      "needs_background": "light"
     },
     "output_type": "display_data"
    }
   ],
   "source": [
    "#Какие события часто совершают пользователи с целевым действием? Выделить основные сценарии использования приложения.\n",
    "#определим пользователей, которые сделали целевое действие\n",
    "users_contacts = mobile_dataset.loc[mobile_dataset.loc[:,'event_name'] == 'contacts_show']['user_id']\n",
    "users_contacts_events = mobile_dataset.query('event_name != \"contacts_show\" and user_id in @users_contacts') ['event_name']\n",
    "users_contacts_events.hist(grid = True, figsize = (15,8))\n",
    "plt.xlabel('Cобытия')\n",
    "plt.ylabel('Количество событий')\n",
    "plt.title('Cобытия, которые сделали пользователи, открывшие контакты')\n",
    "plt.show()"
   ]
  },
  {
   "cell_type": "markdown",
   "metadata": {},
   "source": [
    "tips_show - это показ рекламного объявления и не требует от пользователя действий. Поэтому для анализа поведения мы сделаем отдельный файл без этого события.\n",
    "\n",
    "Пользователи, которые открыли контакты, также смотрели фотографии, искали, открывали объявление и карту.\n",
    "\n",
    "Наименее популярно - добавление в понравившиеся объявления и звонки. Возможно это связано со спецификой продукта. Ненужные вещи предлагают не постоянные товары, а скорее одноразовые предложения, поэтому откладывать на потом решение о покупке не имеет смысла.\n",
    "Про звонки - возможно пользователю будет удобно посмотреть объявления на работу или в дороге, а позвонить сможет в удобное время."
   ]
  },
  {
   "cell_type": "code",
   "execution_count": 15,
   "metadata": {},
   "outputs": [],
   "source": [
    "# делаем выборку без tips_show\n",
    "mobile_dataset_notips = mobile_dataset.query('event_name != \"tips_show\"')"
   ]
  },
  {
   "cell_type": "code",
   "execution_count": 16,
   "metadata": {},
   "outputs": [
    {
     "name": "stdout",
     "output_type": "stream",
     "text": [
      "На пользователя в среднем 10.0 событий\n",
      "На пользователя медианна событий - 5.0\n"
     ]
    }
   ],
   "source": [
    "#Сколько в среднем событий приходится на пользователя? \n",
    "\n",
    "c = mobile_dataset_notips.groupby('user_id').agg({'event_name':'count'}).mean().round()\n",
    "c\n",
    "print ('На пользователя в среднем', c[0], 'событий')\n",
    "d = mobile_dataset_notips.groupby('user_id').agg({'event_name':'count'}).median().round()\n",
    "print ('На пользователя медианна событий -', d[0])"
   ]
  },
  {
   "cell_type": "code",
   "execution_count": 17,
   "metadata": {},
   "outputs": [
    {
     "name": "stdout",
     "output_type": "stream",
     "text": [
      "В файле данные за период с 2019-10-07 00:00:00 по 2019-11-03 23:56:57\n"
     ]
    },
    {
     "data": {
      "text/plain": [
       "<Figure size 1080x288 with 0 Axes>"
      ]
     },
     "metadata": {},
     "output_type": "display_data"
    },
    {
     "data": {
      "image/png": "[encoded data removed]",
      "text/plain": [
       "<Figure size 1080x576 with 1 Axes>"
      ]
     },
     "metadata": {
      "needs_background": "light"
     },
     "output_type": "display_data"
    },
    {
     "data": {
      "text/plain": [
       "<Figure size 1080x288 with 0 Axes>"
      ]
     },
     "metadata": {},
     "output_type": "display_data"
    },
    {
     "data": {
      "image/png": "[encoded data removed]",
      "text/plain": [
       "<Figure size 1080x576 with 1 Axes>"
      ]
     },
     "metadata": {
      "needs_background": "light"
     },
     "output_type": "display_data"
    },
    {
     "data": {
      "text/plain": [
       "<Figure size 1080x288 with 0 Axes>"
      ]
     },
     "metadata": {},
     "output_type": "display_data"
    },
    {
     "data": {
      "image/png": "[encoded data removed]",
      "text/plain": [
       "<Figure size 1080x576 with 1 Axes>"
      ]
     },
     "metadata": {
      "needs_background": "light"
     },
     "output_type": "display_data"
    },
    {
     "data": {
      "text/plain": [
       "<Figure size 1080x288 with 0 Axes>"
      ]
     },
     "metadata": {},
     "output_type": "display_data"
    },
    {
     "data": {
      "image/png": "[encoded data removed]",
      "text/plain": [
       "<Figure size 1080x576 with 1 Axes>"
      ]
     },
     "metadata": {
      "needs_background": "light"
     },
     "output_type": "display_data"
    }
   ],
   "source": [
    "#Данными за какой период вы располагаете? Найдите максимальную и минимальную дату. Постройте гистограмму по дате и времени. Можно ли быть уверенным, что у вас одинаково полные данные за весь период? Технически в логи новых дней по некоторым пользователям могут «доезжать» события из прошлого — это может «перекашивать данные». Определите, с какого момента данные полные и отбросьте более старые. \n",
    "#Данными за какой период времени вы располагаете на самом деле?\n",
    "print ('В файле данные за период с', mobile_dataset_notips['event_time'].min(),'по', mobile_dataset_notips['event_time'].max())\n",
    "\n",
    "lim = (\n",
    "    ['2019-10-07','2019-11-03'],\n",
    "    ['2019-10-08','2019-10-09'],\n",
    "    ['2019-10-08 12:00:00', '2019-10-08 15:00:00'],\n",
    "    ['2019-10-08 12:00:00', '2019-10-08 12:40:00']\n",
    ")\n",
    "\n",
    "for period in lim:\n",
    "    dt10m_per = mobile_dataset_notips[(mobile_dataset_notips['event_time'] >= period[0]) & (mobile_dataset_notips['event_time'] <= period[1])]\n",
    "    plt.figure(figsize=(15,4))\n",
    "    #sns.lineplot(data = dt10m_per,  x='event_time', y='event_name')\n",
    "    dt10m_per.plot(x='event_time', y='event_name', kind='scatter' ,figsize = (15,8)) \n",
    "    plt.xlabel('ВРЕМЯ')\n",
    "    plt.grid()\n",
    "    plt.ylabel('Кол-во событий')\n",
    "    plt.title('Распределение событий по времени');\n",
    "    plt.show();"
   ]
  },
  {
   "cell_type": "markdown",
   "metadata": {},
   "source": [
    "Вывод:\n",
    "\n",
    "Пользователь имеет в среднем 10 событий или 5 событий по медиане. У нас есть некоторые выбросы (очень активные пользователи). \n",
    "\n",
    "Приложением чаще пользуются в период с 9 утра до 12 ночи и пик приходится на день (где-то с 12.00 до 18.00)."
   ]
  },
  {
   "cell_type": "markdown",
   "metadata": {},
   "source": [
    "### <span style=\"color:black\">Сессии<span>"
   ]
  },
  {
   "cell_type": "code",
   "execution_count": 18,
   "metadata": {},
   "outputs": [
    {
     "data": {
      "text/html": [
       "<div>\n",
       "<style scoped>\n",
       "    .dataframe tbody tr th:only-of-type {\n",
       "        vertical-align: middle;\n",
       "    }\n",
       "\n",
       "    .dataframe tbody tr th {\n",
       "        vertical-align: top;\n",
       "    }\n",
       "\n",
       "    .dataframe thead th {\n",
       "        text-align: right;\n",
       "    }\n",
       "</style>\n",
       "<table border=\"1\" class=\"dataframe\">\n",
       "  <thead>\n",
       "    <tr style=\"text-align: right;\">\n",
       "      <th></th>\n",
       "      <th>event_time</th>\n",
       "      <th>event_name</th>\n",
       "      <th>user_id</th>\n",
       "      <th>source</th>\n",
       "    </tr>\n",
       "  </thead>\n",
       "  <tbody>\n",
       "    <tr>\n",
       "      <th>2180</th>\n",
       "      <td>2019-10-09 18:33:56</td>\n",
       "      <td>map</td>\n",
       "      <td>0001b1d5-b74a-4cbf-aeb0-7df5947bf349</td>\n",
       "      <td>other</td>\n",
       "    </tr>\n",
       "    <tr>\n",
       "      <th>2181</th>\n",
       "      <td>2019-10-09 18:35:28</td>\n",
       "      <td>map</td>\n",
       "      <td>0001b1d5-b74a-4cbf-aeb0-7df5947bf349</td>\n",
       "      <td>other</td>\n",
       "    </tr>\n",
       "    <tr>\n",
       "      <th>2186</th>\n",
       "      <td>2019-10-21 19:53:39</td>\n",
       "      <td>map</td>\n",
       "      <td>0001b1d5-b74a-4cbf-aeb0-7df5947bf349</td>\n",
       "      <td>other</td>\n",
       "    </tr>\n",
       "    <tr>\n",
       "      <th>2189</th>\n",
       "      <td>2019-10-21 19:56:49</td>\n",
       "      <td>map</td>\n",
       "      <td>0001b1d5-b74a-4cbf-aeb0-7df5947bf349</td>\n",
       "      <td>other</td>\n",
       "    </tr>\n",
       "    <tr>\n",
       "      <th>2198</th>\n",
       "      <td>2019-10-22 11:18:15</td>\n",
       "      <td>map</td>\n",
       "      <td>0001b1d5-b74a-4cbf-aeb0-7df5947bf349</td>\n",
       "      <td>other</td>\n",
       "    </tr>\n",
       "  </tbody>\n",
       "</table>\n",
       "</div>"
      ],
      "text/plain": [
       "              event_time event_name                               user_id  \\\n",
       "2180 2019-10-09 18:33:56        map  0001b1d5-b74a-4cbf-aeb0-7df5947bf349   \n",
       "2181 2019-10-09 18:35:28        map  0001b1d5-b74a-4cbf-aeb0-7df5947bf349   \n",
       "2186 2019-10-21 19:53:39        map  0001b1d5-b74a-4cbf-aeb0-7df5947bf349   \n",
       "2189 2019-10-21 19:56:49        map  0001b1d5-b74a-4cbf-aeb0-7df5947bf349   \n",
       "2198 2019-10-22 11:18:15        map  0001b1d5-b74a-4cbf-aeb0-7df5947bf349   \n",
       "\n",
       "     source  \n",
       "2180  other  \n",
       "2181  other  \n",
       "2186  other  \n",
       "2189  other  \n",
       "2198  other  "
      ]
     },
     "metadata": {},
     "output_type": "display_data"
    }
   ],
   "source": [
    "#отсортируем события по пользователям\n",
    "mobile_dataset_notips = mobile_dataset_notips.sort_values(['user_id', 'event_time'])\n",
    "        \n",
    "display(mobile_dataset_notips.head(5))"
   ]
  },
  {
   "cell_type": "code",
   "execution_count": 19,
   "metadata": {},
   "outputs": [
    {
     "data": {
      "text/html": [
       "<div>\n",
       "<style scoped>\n",
       "    .dataframe tbody tr th:only-of-type {\n",
       "        vertical-align: middle;\n",
       "    }\n",
       "\n",
       "    .dataframe tbody tr th {\n",
       "        vertical-align: top;\n",
       "    }\n",
       "\n",
       "    .dataframe thead th {\n",
       "        text-align: right;\n",
       "    }\n",
       "</style>\n",
       "<table border=\"1\" class=\"dataframe\">\n",
       "  <thead>\n",
       "    <tr style=\"text-align: right;\">\n",
       "      <th></th>\n",
       "      <th>event_time</th>\n",
       "      <th>event_name</th>\n",
       "      <th>user_id</th>\n",
       "      <th>source</th>\n",
       "      <th>id</th>\n",
       "    </tr>\n",
       "  </thead>\n",
       "  <tbody>\n",
       "    <tr>\n",
       "      <th>2180</th>\n",
       "      <td>2019-10-09 18:33:56</td>\n",
       "      <td>map</td>\n",
       "      <td>0001b1d5-b74a-4cbf-aeb0-7df5947bf349</td>\n",
       "      <td>other</td>\n",
       "      <td>34142</td>\n",
       "    </tr>\n",
       "    <tr>\n",
       "      <th>2181</th>\n",
       "      <td>2019-10-09 18:35:28</td>\n",
       "      <td>map</td>\n",
       "      <td>0001b1d5-b74a-4cbf-aeb0-7df5947bf349</td>\n",
       "      <td>other</td>\n",
       "      <td>34141</td>\n",
       "    </tr>\n",
       "    <tr>\n",
       "      <th>2186</th>\n",
       "      <td>2019-10-21 19:53:39</td>\n",
       "      <td>map</td>\n",
       "      <td>0001b1d5-b74a-4cbf-aeb0-7df5947bf349</td>\n",
       "      <td>other</td>\n",
       "      <td>34140</td>\n",
       "    </tr>\n",
       "    <tr>\n",
       "      <th>2189</th>\n",
       "      <td>2019-10-21 19:56:49</td>\n",
       "      <td>map</td>\n",
       "      <td>0001b1d5-b74a-4cbf-aeb0-7df5947bf349</td>\n",
       "      <td>other</td>\n",
       "      <td>34139</td>\n",
       "    </tr>\n",
       "    <tr>\n",
       "      <th>2198</th>\n",
       "      <td>2019-10-22 11:18:15</td>\n",
       "      <td>map</td>\n",
       "      <td>0001b1d5-b74a-4cbf-aeb0-7df5947bf349</td>\n",
       "      <td>other</td>\n",
       "      <td>34138</td>\n",
       "    </tr>\n",
       "    <tr>\n",
       "      <th>2202</th>\n",
       "      <td>2019-10-22 11:25:34</td>\n",
       "      <td>map</td>\n",
       "      <td>0001b1d5-b74a-4cbf-aeb0-7df5947bf349</td>\n",
       "      <td>other</td>\n",
       "      <td>34137</td>\n",
       "    </tr>\n",
       "    <tr>\n",
       "      <th>42960</th>\n",
       "      <td>2019-10-19 21:34:34</td>\n",
       "      <td>search</td>\n",
       "      <td>00157779-810c-4498-9e05-a1e9e3cedf93</td>\n",
       "      <td>yandex</td>\n",
       "      <td>34136</td>\n",
       "    </tr>\n",
       "    <tr>\n",
       "      <th>42961</th>\n",
       "      <td>2019-10-19 21:35:19</td>\n",
       "      <td>search</td>\n",
       "      <td>00157779-810c-4498-9e05-a1e9e3cedf93</td>\n",
       "      <td>yandex</td>\n",
       "      <td>34135</td>\n",
       "    </tr>\n",
       "    <tr>\n",
       "      <th>42962</th>\n",
       "      <td>2019-10-19 21:36:44</td>\n",
       "      <td>search</td>\n",
       "      <td>00157779-810c-4498-9e05-a1e9e3cedf93</td>\n",
       "      <td>yandex</td>\n",
       "      <td>34134</td>\n",
       "    </tr>\n",
       "    <tr>\n",
       "      <th>42963</th>\n",
       "      <td>2019-10-19 21:40:39</td>\n",
       "      <td>photos_show</td>\n",
       "      <td>00157779-810c-4498-9e05-a1e9e3cedf93</td>\n",
       "      <td>yandex</td>\n",
       "      <td>34133</td>\n",
       "    </tr>\n",
       "  </tbody>\n",
       "</table>\n",
       "</div>"
      ],
      "text/plain": [
       "               event_time   event_name                               user_id  \\\n",
       "2180  2019-10-09 18:33:56          map  0001b1d5-b74a-4cbf-aeb0-7df5947bf349   \n",
       "2181  2019-10-09 18:35:28          map  0001b1d5-b74a-4cbf-aeb0-7df5947bf349   \n",
       "2186  2019-10-21 19:53:39          map  0001b1d5-b74a-4cbf-aeb0-7df5947bf349   \n",
       "2189  2019-10-21 19:56:49          map  0001b1d5-b74a-4cbf-aeb0-7df5947bf349   \n",
       "2198  2019-10-22 11:18:15          map  0001b1d5-b74a-4cbf-aeb0-7df5947bf349   \n",
       "2202  2019-10-22 11:25:34          map  0001b1d5-b74a-4cbf-aeb0-7df5947bf349   \n",
       "42960 2019-10-19 21:34:34       search  00157779-810c-4498-9e05-a1e9e3cedf93   \n",
       "42961 2019-10-19 21:35:19       search  00157779-810c-4498-9e05-a1e9e3cedf93   \n",
       "42962 2019-10-19 21:36:44       search  00157779-810c-4498-9e05-a1e9e3cedf93   \n",
       "42963 2019-10-19 21:40:39  photos_show  00157779-810c-4498-9e05-a1e9e3cedf93   \n",
       "\n",
       "       source     id  \n",
       "2180    other  34142  \n",
       "2181    other  34141  \n",
       "2186    other  34140  \n",
       "2189    other  34139  \n",
       "2198    other  34138  \n",
       "2202    other  34137  \n",
       "42960  yandex  34136  \n",
       "42961  yandex  34135  \n",
       "42962  yandex  34134  \n",
       "42963  yandex  34133  "
      ]
     },
     "execution_count": 19,
     "metadata": {},
     "output_type": "execute_result"
    }
   ],
   "source": [
    "#пронумеруем строки:\n",
    "mobile_dataset_notips['id']= np.arange(len(mobile_dataset_notips))[::-1]+1\n",
    "mobile_dataset_notips.head(10)"
   ]
  },
  {
   "cell_type": "code",
   "execution_count": 20,
   "metadata": {},
   "outputs": [
    {
     "data": {
      "text/html": [
       "<div>\n",
       "<style scoped>\n",
       "    .dataframe tbody tr th:only-of-type {\n",
       "        vertical-align: middle;\n",
       "    }\n",
       "\n",
       "    .dataframe tbody tr th {\n",
       "        vertical-align: top;\n",
       "    }\n",
       "\n",
       "    .dataframe thead th {\n",
       "        text-align: right;\n",
       "    }\n",
       "</style>\n",
       "<table border=\"1\" class=\"dataframe\">\n",
       "  <thead>\n",
       "    <tr style=\"text-align: right;\">\n",
       "      <th></th>\n",
       "      <th>event_time</th>\n",
       "      <th>event_name</th>\n",
       "      <th>user_id</th>\n",
       "      <th>source</th>\n",
       "      <th>id</th>\n",
       "      <th>diff</th>\n",
       "    </tr>\n",
       "  </thead>\n",
       "  <tbody>\n",
       "    <tr>\n",
       "      <th>2180</th>\n",
       "      <td>2019-10-09 18:33:56</td>\n",
       "      <td>map</td>\n",
       "      <td>0001b1d5-b74a-4cbf-aeb0-7df5947bf349</td>\n",
       "      <td>other</td>\n",
       "      <td>34142</td>\n",
       "      <td>NaT</td>\n",
       "    </tr>\n",
       "    <tr>\n",
       "      <th>2181</th>\n",
       "      <td>2019-10-09 18:35:28</td>\n",
       "      <td>map</td>\n",
       "      <td>0001b1d5-b74a-4cbf-aeb0-7df5947bf349</td>\n",
       "      <td>other</td>\n",
       "      <td>34141</td>\n",
       "      <td>0 days 00:01:32</td>\n",
       "    </tr>\n",
       "    <tr>\n",
       "      <th>2186</th>\n",
       "      <td>2019-10-21 19:53:39</td>\n",
       "      <td>map</td>\n",
       "      <td>0001b1d5-b74a-4cbf-aeb0-7df5947bf349</td>\n",
       "      <td>other</td>\n",
       "      <td>34140</td>\n",
       "      <td>12 days 01:18:11</td>\n",
       "    </tr>\n",
       "    <tr>\n",
       "      <th>2189</th>\n",
       "      <td>2019-10-21 19:56:49</td>\n",
       "      <td>map</td>\n",
       "      <td>0001b1d5-b74a-4cbf-aeb0-7df5947bf349</td>\n",
       "      <td>other</td>\n",
       "      <td>34139</td>\n",
       "      <td>0 days 00:03:10</td>\n",
       "    </tr>\n",
       "    <tr>\n",
       "      <th>2198</th>\n",
       "      <td>2019-10-22 11:18:15</td>\n",
       "      <td>map</td>\n",
       "      <td>0001b1d5-b74a-4cbf-aeb0-7df5947bf349</td>\n",
       "      <td>other</td>\n",
       "      <td>34138</td>\n",
       "      <td>0 days 15:21:26</td>\n",
       "    </tr>\n",
       "    <tr>\n",
       "      <th>...</th>\n",
       "      <td>...</td>\n",
       "      <td>...</td>\n",
       "      <td>...</td>\n",
       "      <td>...</td>\n",
       "      <td>...</td>\n",
       "      <td>...</td>\n",
       "    </tr>\n",
       "    <tr>\n",
       "      <th>19029</th>\n",
       "      <td>2019-11-03 14:38:51</td>\n",
       "      <td>contacts_show</td>\n",
       "      <td>fffb9e79-b927-4dbb-9b48-7fd09b23a62b</td>\n",
       "      <td>google</td>\n",
       "      <td>5</td>\n",
       "      <td>0 days 00:02:09</td>\n",
       "    </tr>\n",
       "    <tr>\n",
       "      <th>19031</th>\n",
       "      <td>2019-11-03 14:41:25</td>\n",
       "      <td>contacts_show</td>\n",
       "      <td>fffb9e79-b927-4dbb-9b48-7fd09b23a62b</td>\n",
       "      <td>google</td>\n",
       "      <td>4</td>\n",
       "      <td>0 days 00:02:34</td>\n",
       "    </tr>\n",
       "    <tr>\n",
       "      <th>19033</th>\n",
       "      <td>2019-11-03 14:42:26</td>\n",
       "      <td>contacts_show</td>\n",
       "      <td>fffb9e79-b927-4dbb-9b48-7fd09b23a62b</td>\n",
       "      <td>google</td>\n",
       "      <td>3</td>\n",
       "      <td>0 days 00:01:01</td>\n",
       "    </tr>\n",
       "    <tr>\n",
       "      <th>19044</th>\n",
       "      <td>2019-11-03 15:48:05</td>\n",
       "      <td>contacts_show</td>\n",
       "      <td>fffb9e79-b927-4dbb-9b48-7fd09b23a62b</td>\n",
       "      <td>google</td>\n",
       "      <td>2</td>\n",
       "      <td>0 days 01:05:39</td>\n",
       "    </tr>\n",
       "    <tr>\n",
       "      <th>19049</th>\n",
       "      <td>2019-11-03 15:51:58</td>\n",
       "      <td>contacts_show</td>\n",
       "      <td>fffb9e79-b927-4dbb-9b48-7fd09b23a62b</td>\n",
       "      <td>google</td>\n",
       "      <td>1</td>\n",
       "      <td>0 days 00:03:53</td>\n",
       "    </tr>\n",
       "  </tbody>\n",
       "</table>\n",
       "<p>34142 rows × 6 columns</p>\n",
       "</div>"
      ],
      "text/plain": [
       "               event_time     event_name  \\\n",
       "2180  2019-10-09 18:33:56            map   \n",
       "2181  2019-10-09 18:35:28            map   \n",
       "2186  2019-10-21 19:53:39            map   \n",
       "2189  2019-10-21 19:56:49            map   \n",
       "2198  2019-10-22 11:18:15            map   \n",
       "...                   ...            ...   \n",
       "19029 2019-11-03 14:38:51  contacts_show   \n",
       "19031 2019-11-03 14:41:25  contacts_show   \n",
       "19033 2019-11-03 14:42:26  contacts_show   \n",
       "19044 2019-11-03 15:48:05  contacts_show   \n",
       "19049 2019-11-03 15:51:58  contacts_show   \n",
       "\n",
       "                                    user_id  source     id             diff  \n",
       "2180   0001b1d5-b74a-4cbf-aeb0-7df5947bf349   other  34142              NaT  \n",
       "2181   0001b1d5-b74a-4cbf-aeb0-7df5947bf349   other  34141  0 days 00:01:32  \n",
       "2186   0001b1d5-b74a-4cbf-aeb0-7df5947bf349   other  34140 12 days 01:18:11  \n",
       "2189   0001b1d5-b74a-4cbf-aeb0-7df5947bf349   other  34139  0 days 00:03:10  \n",
       "2198   0001b1d5-b74a-4cbf-aeb0-7df5947bf349   other  34138  0 days 15:21:26  \n",
       "...                                     ...     ...    ...              ...  \n",
       "19029  fffb9e79-b927-4dbb-9b48-7fd09b23a62b  google      5  0 days 00:02:09  \n",
       "19031  fffb9e79-b927-4dbb-9b48-7fd09b23a62b  google      4  0 days 00:02:34  \n",
       "19033  fffb9e79-b927-4dbb-9b48-7fd09b23a62b  google      3  0 days 00:01:01  \n",
       "19044  fffb9e79-b927-4dbb-9b48-7fd09b23a62b  google      2  0 days 01:05:39  \n",
       "19049  fffb9e79-b927-4dbb-9b48-7fd09b23a62b  google      1  0 days 00:03:53  \n",
       "\n",
       "[34142 rows x 6 columns]"
      ]
     },
     "metadata": {},
     "output_type": "display_data"
    }
   ],
   "source": [
    "#В колонке 'diff' для каждого события отдельного пользователя посчитаем разницу между временем посещения страницы и времененем посещения предыдущей страницы. Если страница была первой для пользователя, то значение в колонке 'diff' будет NaT, т.к. нет предыдущего значения\n",
    "mobile_dataset_notips['diff'] = mobile_dataset_notips.groupby('user_id')['event_time'].diff(1)\n",
    "display (mobile_dataset_notips)"
   ]
  },
  {
   "cell_type": "code",
   "execution_count": 21,
   "metadata": {},
   "outputs": [
    {
     "data": {
      "text/html": [
       "<div>\n",
       "<style scoped>\n",
       "    .dataframe tbody tr th:only-of-type {\n",
       "        vertical-align: middle;\n",
       "    }\n",
       "\n",
       "    .dataframe tbody tr th {\n",
       "        vertical-align: top;\n",
       "    }\n",
       "\n",
       "    .dataframe thead th {\n",
       "        text-align: right;\n",
       "    }\n",
       "</style>\n",
       "<table border=\"1\" class=\"dataframe\">\n",
       "  <thead>\n",
       "    <tr style=\"text-align: right;\">\n",
       "      <th></th>\n",
       "      <th>event_time</th>\n",
       "      <th>event_name</th>\n",
       "      <th>user_id</th>\n",
       "      <th>source</th>\n",
       "      <th>id</th>\n",
       "      <th>diff</th>\n",
       "    </tr>\n",
       "  </thead>\n",
       "  <tbody>\n",
       "    <tr>\n",
       "      <th>19029</th>\n",
       "      <td>2019-11-03 14:38:51</td>\n",
       "      <td>contacts_show</td>\n",
       "      <td>fffb9e79-b927-4dbb-9b48-7fd09b23a62b</td>\n",
       "      <td>google</td>\n",
       "      <td>5</td>\n",
       "      <td>NaT</td>\n",
       "    </tr>\n",
       "    <tr>\n",
       "      <th>19031</th>\n",
       "      <td>2019-11-03 14:41:25</td>\n",
       "      <td>contacts_show</td>\n",
       "      <td>fffb9e79-b927-4dbb-9b48-7fd09b23a62b</td>\n",
       "      <td>google</td>\n",
       "      <td>4</td>\n",
       "      <td>NaT</td>\n",
       "    </tr>\n",
       "    <tr>\n",
       "      <th>19033</th>\n",
       "      <td>2019-11-03 14:42:26</td>\n",
       "      <td>contacts_show</td>\n",
       "      <td>fffb9e79-b927-4dbb-9b48-7fd09b23a62b</td>\n",
       "      <td>google</td>\n",
       "      <td>3</td>\n",
       "      <td>NaT</td>\n",
       "    </tr>\n",
       "    <tr>\n",
       "      <th>19044</th>\n",
       "      <td>2019-11-03 15:48:05</td>\n",
       "      <td>contacts_show</td>\n",
       "      <td>fffb9e79-b927-4dbb-9b48-7fd09b23a62b</td>\n",
       "      <td>google</td>\n",
       "      <td>2</td>\n",
       "      <td>NaT</td>\n",
       "    </tr>\n",
       "    <tr>\n",
       "      <th>19049</th>\n",
       "      <td>2019-11-03 15:51:58</td>\n",
       "      <td>contacts_show</td>\n",
       "      <td>fffb9e79-b927-4dbb-9b48-7fd09b23a62b</td>\n",
       "      <td>google</td>\n",
       "      <td>1</td>\n",
       "      <td>NaT</td>\n",
       "    </tr>\n",
       "  </tbody>\n",
       "</table>\n",
       "</div>"
      ],
      "text/plain": [
       "               event_time     event_name  \\\n",
       "19029 2019-11-03 14:38:51  contacts_show   \n",
       "19031 2019-11-03 14:41:25  contacts_show   \n",
       "19033 2019-11-03 14:42:26  contacts_show   \n",
       "19044 2019-11-03 15:48:05  contacts_show   \n",
       "19049 2019-11-03 15:51:58  contacts_show   \n",
       "\n",
       "                                    user_id  source  id diff  \n",
       "19029  fffb9e79-b927-4dbb-9b48-7fd09b23a62b  google   5  NaT  \n",
       "19031  fffb9e79-b927-4dbb-9b48-7fd09b23a62b  google   4  NaT  \n",
       "19033  fffb9e79-b927-4dbb-9b48-7fd09b23a62b  google   3  NaT  \n",
       "19044  fffb9e79-b927-4dbb-9b48-7fd09b23a62b  google   2  NaT  \n",
       "19049  fffb9e79-b927-4dbb-9b48-7fd09b23a62b  google   1  NaT  "
      ]
     },
     "execution_count": 21,
     "metadata": {},
     "output_type": "execute_result"
    }
   ],
   "source": [
    "#разделим сессии по достижению целевого действия:\n",
    "mobile_dataset_notips.loc[mobile_dataset_notips['event_name'].shift(1) == 'contacts_show', \"diff\"] = 'NaT'\n",
    "mobile_dataset_notips.fillna ('NaT')\n",
    "mobile_dataset_notips.tail(5)"
   ]
  },
  {
   "cell_type": "code",
   "execution_count": 22,
   "metadata": {},
   "outputs": [],
   "source": [
    "#вернем формат timedelta колонке diff\n",
    "mobile_dataset_notips ['diff'] = pd.to_timedelta(mobile_dataset_notips ['diff'])"
   ]
  },
  {
   "cell_type": "code",
   "execution_count": 23,
   "metadata": {},
   "outputs": [
    {
     "name": "stdout",
     "output_type": "stream",
     "text": [
      "<class 'pandas.core.frame.DataFrame'>\n",
      "Int64Index: 34142 entries, 2180 to 19049\n",
      "Data columns (total 6 columns):\n",
      " #   Column      Non-Null Count  Dtype          \n",
      "---  ------      --------------  -----          \n",
      " 0   event_time  34142 non-null  datetime64[ns] \n",
      " 1   event_name  34142 non-null  object         \n",
      " 2   user_id     34142 non-null  object         \n",
      " 3   source      34142 non-null  object         \n",
      " 4   id          34142 non-null  int64          \n",
      " 5   diff        26511 non-null  timedelta64[ns]\n",
      "dtypes: datetime64[ns](1), int64(1), object(3), timedelta64[ns](1)\n",
      "memory usage: 1.8+ MB\n"
     ]
    }
   ],
   "source": [
    "mobile_dataset_notips.info()"
   ]
  },
  {
   "cell_type": "code",
   "execution_count": 24,
   "metadata": {},
   "outputs": [
    {
     "data": {
      "text/html": [
       "<div>\n",
       "<style scoped>\n",
       "    .dataframe tbody tr th:only-of-type {\n",
       "        vertical-align: middle;\n",
       "    }\n",
       "\n",
       "    .dataframe tbody tr th {\n",
       "        vertical-align: top;\n",
       "    }\n",
       "\n",
       "    .dataframe thead th {\n",
       "        text-align: right;\n",
       "    }\n",
       "</style>\n",
       "<table border=\"1\" class=\"dataframe\">\n",
       "  <thead>\n",
       "    <tr style=\"text-align: right;\">\n",
       "      <th></th>\n",
       "      <th>event_time</th>\n",
       "      <th>event_name</th>\n",
       "      <th>user_id</th>\n",
       "      <th>source</th>\n",
       "      <th>id</th>\n",
       "      <th>diff</th>\n",
       "      <th>next_event</th>\n",
       "    </tr>\n",
       "  </thead>\n",
       "  <tbody>\n",
       "    <tr>\n",
       "      <th>2180</th>\n",
       "      <td>2019-10-09 18:33:56</td>\n",
       "      <td>map</td>\n",
       "      <td>0001b1d5-b74a-4cbf-aeb0-7df5947bf349</td>\n",
       "      <td>other</td>\n",
       "      <td>34142</td>\n",
       "      <td>NaT</td>\n",
       "      <td>map</td>\n",
       "    </tr>\n",
       "    <tr>\n",
       "      <th>2181</th>\n",
       "      <td>2019-10-09 18:35:28</td>\n",
       "      <td>map</td>\n",
       "      <td>0001b1d5-b74a-4cbf-aeb0-7df5947bf349</td>\n",
       "      <td>other</td>\n",
       "      <td>34141</td>\n",
       "      <td>0 days 00:01:32</td>\n",
       "      <td>map</td>\n",
       "    </tr>\n",
       "    <tr>\n",
       "      <th>2186</th>\n",
       "      <td>2019-10-21 19:53:39</td>\n",
       "      <td>map</td>\n",
       "      <td>0001b1d5-b74a-4cbf-aeb0-7df5947bf349</td>\n",
       "      <td>other</td>\n",
       "      <td>34140</td>\n",
       "      <td>12 days 01:18:11</td>\n",
       "      <td>map</td>\n",
       "    </tr>\n",
       "    <tr>\n",
       "      <th>2189</th>\n",
       "      <td>2019-10-21 19:56:49</td>\n",
       "      <td>map</td>\n",
       "      <td>0001b1d5-b74a-4cbf-aeb0-7df5947bf349</td>\n",
       "      <td>other</td>\n",
       "      <td>34139</td>\n",
       "      <td>0 days 00:03:10</td>\n",
       "      <td>map</td>\n",
       "    </tr>\n",
       "    <tr>\n",
       "      <th>2198</th>\n",
       "      <td>2019-10-22 11:18:15</td>\n",
       "      <td>map</td>\n",
       "      <td>0001b1d5-b74a-4cbf-aeb0-7df5947bf349</td>\n",
       "      <td>other</td>\n",
       "      <td>34138</td>\n",
       "      <td>0 days 15:21:26</td>\n",
       "      <td>map</td>\n",
       "    </tr>\n",
       "    <tr>\n",
       "      <th>2202</th>\n",
       "      <td>2019-10-22 11:25:34</td>\n",
       "      <td>map</td>\n",
       "      <td>0001b1d5-b74a-4cbf-aeb0-7df5947bf349</td>\n",
       "      <td>other</td>\n",
       "      <td>34137</td>\n",
       "      <td>0 days 00:07:19</td>\n",
       "      <td>NaN</td>\n",
       "    </tr>\n",
       "    <tr>\n",
       "      <th>42960</th>\n",
       "      <td>2019-10-19 21:34:34</td>\n",
       "      <td>search</td>\n",
       "      <td>00157779-810c-4498-9e05-a1e9e3cedf93</td>\n",
       "      <td>yandex</td>\n",
       "      <td>34136</td>\n",
       "      <td>NaT</td>\n",
       "      <td>search</td>\n",
       "    </tr>\n",
       "    <tr>\n",
       "      <th>42961</th>\n",
       "      <td>2019-10-19 21:35:19</td>\n",
       "      <td>search</td>\n",
       "      <td>00157779-810c-4498-9e05-a1e9e3cedf93</td>\n",
       "      <td>yandex</td>\n",
       "      <td>34135</td>\n",
       "      <td>0 days 00:00:45</td>\n",
       "      <td>search</td>\n",
       "    </tr>\n",
       "    <tr>\n",
       "      <th>42962</th>\n",
       "      <td>2019-10-19 21:36:44</td>\n",
       "      <td>search</td>\n",
       "      <td>00157779-810c-4498-9e05-a1e9e3cedf93</td>\n",
       "      <td>yandex</td>\n",
       "      <td>34134</td>\n",
       "      <td>0 days 00:01:25</td>\n",
       "      <td>photos_show</td>\n",
       "    </tr>\n",
       "    <tr>\n",
       "      <th>42963</th>\n",
       "      <td>2019-10-19 21:40:39</td>\n",
       "      <td>photos_show</td>\n",
       "      <td>00157779-810c-4498-9e05-a1e9e3cedf93</td>\n",
       "      <td>yandex</td>\n",
       "      <td>34133</td>\n",
       "      <td>0 days 00:03:55</td>\n",
       "      <td>photos_show</td>\n",
       "    </tr>\n",
       "    <tr>\n",
       "      <th>42964</th>\n",
       "      <td>2019-10-19 21:42:14</td>\n",
       "      <td>photos_show</td>\n",
       "      <td>00157779-810c-4498-9e05-a1e9e3cedf93</td>\n",
       "      <td>yandex</td>\n",
       "      <td>34132</td>\n",
       "      <td>0 days 00:01:35</td>\n",
       "      <td>photos_show</td>\n",
       "    </tr>\n",
       "    <tr>\n",
       "      <th>42965</th>\n",
       "      <td>2019-10-19 21:44:56</td>\n",
       "      <td>photos_show</td>\n",
       "      <td>00157779-810c-4498-9e05-a1e9e3cedf93</td>\n",
       "      <td>yandex</td>\n",
       "      <td>34131</td>\n",
       "      <td>0 days 00:02:42</td>\n",
       "      <td>photos_show</td>\n",
       "    </tr>\n",
       "    <tr>\n",
       "      <th>42966</th>\n",
       "      <td>2019-10-19 21:46:53</td>\n",
       "      <td>photos_show</td>\n",
       "      <td>00157779-810c-4498-9e05-a1e9e3cedf93</td>\n",
       "      <td>yandex</td>\n",
       "      <td>34130</td>\n",
       "      <td>0 days 00:01:57</td>\n",
       "      <td>search</td>\n",
       "    </tr>\n",
       "    <tr>\n",
       "      <th>42967</th>\n",
       "      <td>2019-10-19 21:58:00</td>\n",
       "      <td>search</td>\n",
       "      <td>00157779-810c-4498-9e05-a1e9e3cedf93</td>\n",
       "      <td>yandex</td>\n",
       "      <td>34129</td>\n",
       "      <td>0 days 00:11:07</td>\n",
       "      <td>photos_show</td>\n",
       "    </tr>\n",
       "    <tr>\n",
       "      <th>42968</th>\n",
       "      <td>2019-10-19 21:59:55</td>\n",
       "      <td>photos_show</td>\n",
       "      <td>00157779-810c-4498-9e05-a1e9e3cedf93</td>\n",
       "      <td>yandex</td>\n",
       "      <td>34128</td>\n",
       "      <td>0 days 00:01:55</td>\n",
       "      <td>search</td>\n",
       "    </tr>\n",
       "    <tr>\n",
       "      <th>42969</th>\n",
       "      <td>2019-10-20 18:49:24</td>\n",
       "      <td>search</td>\n",
       "      <td>00157779-810c-4498-9e05-a1e9e3cedf93</td>\n",
       "      <td>yandex</td>\n",
       "      <td>34127</td>\n",
       "      <td>0 days 20:49:29</td>\n",
       "      <td>photos_show</td>\n",
       "    </tr>\n",
       "    <tr>\n",
       "      <th>42970</th>\n",
       "      <td>2019-10-20 18:59:23</td>\n",
       "      <td>photos_show</td>\n",
       "      <td>00157779-810c-4498-9e05-a1e9e3cedf93</td>\n",
       "      <td>yandex</td>\n",
       "      <td>34126</td>\n",
       "      <td>0 days 00:09:59</td>\n",
       "      <td>favorites_add</td>\n",
       "    </tr>\n",
       "    <tr>\n",
       "      <th>42971</th>\n",
       "      <td>2019-10-20 19:03:02</td>\n",
       "      <td>favorites_add</td>\n",
       "      <td>00157779-810c-4498-9e05-a1e9e3cedf93</td>\n",
       "      <td>yandex</td>\n",
       "      <td>34125</td>\n",
       "      <td>0 days 00:03:39</td>\n",
       "      <td>search</td>\n",
       "    </tr>\n",
       "    <tr>\n",
       "      <th>42972</th>\n",
       "      <td>2019-10-20 19:04:16</td>\n",
       "      <td>search</td>\n",
       "      <td>00157779-810c-4498-9e05-a1e9e3cedf93</td>\n",
       "      <td>yandex</td>\n",
       "      <td>34124</td>\n",
       "      <td>0 days 00:01:14</td>\n",
       "      <td>search</td>\n",
       "    </tr>\n",
       "    <tr>\n",
       "      <th>42973</th>\n",
       "      <td>2019-10-20 19:09:56</td>\n",
       "      <td>search</td>\n",
       "      <td>00157779-810c-4498-9e05-a1e9e3cedf93</td>\n",
       "      <td>yandex</td>\n",
       "      <td>34123</td>\n",
       "      <td>0 days 00:05:40</td>\n",
       "      <td>search</td>\n",
       "    </tr>\n",
       "  </tbody>\n",
       "</table>\n",
       "</div>"
      ],
      "text/plain": [
       "               event_time     event_name  \\\n",
       "2180  2019-10-09 18:33:56            map   \n",
       "2181  2019-10-09 18:35:28            map   \n",
       "2186  2019-10-21 19:53:39            map   \n",
       "2189  2019-10-21 19:56:49            map   \n",
       "2198  2019-10-22 11:18:15            map   \n",
       "2202  2019-10-22 11:25:34            map   \n",
       "42960 2019-10-19 21:34:34         search   \n",
       "42961 2019-10-19 21:35:19         search   \n",
       "42962 2019-10-19 21:36:44         search   \n",
       "42963 2019-10-19 21:40:39    photos_show   \n",
       "42964 2019-10-19 21:42:14    photos_show   \n",
       "42965 2019-10-19 21:44:56    photos_show   \n",
       "42966 2019-10-19 21:46:53    photos_show   \n",
       "42967 2019-10-19 21:58:00         search   \n",
       "42968 2019-10-19 21:59:55    photos_show   \n",
       "42969 2019-10-20 18:49:24         search   \n",
       "42970 2019-10-20 18:59:23    photos_show   \n",
       "42971 2019-10-20 19:03:02  favorites_add   \n",
       "42972 2019-10-20 19:04:16         search   \n",
       "42973 2019-10-20 19:09:56         search   \n",
       "\n",
       "                                    user_id  source     id             diff  \\\n",
       "2180   0001b1d5-b74a-4cbf-aeb0-7df5947bf349   other  34142              NaT   \n",
       "2181   0001b1d5-b74a-4cbf-aeb0-7df5947bf349   other  34141  0 days 00:01:32   \n",
       "2186   0001b1d5-b74a-4cbf-aeb0-7df5947bf349   other  34140 12 days 01:18:11   \n",
       "2189   0001b1d5-b74a-4cbf-aeb0-7df5947bf349   other  34139  0 days 00:03:10   \n",
       "2198   0001b1d5-b74a-4cbf-aeb0-7df5947bf349   other  34138  0 days 15:21:26   \n",
       "2202   0001b1d5-b74a-4cbf-aeb0-7df5947bf349   other  34137  0 days 00:07:19   \n",
       "42960  00157779-810c-4498-9e05-a1e9e3cedf93  yandex  34136              NaT   \n",
       "42961  00157779-810c-4498-9e05-a1e9e3cedf93  yandex  34135  0 days 00:00:45   \n",
       "42962  00157779-810c-4498-9e05-a1e9e3cedf93  yandex  34134  0 days 00:01:25   \n",
       "42963  00157779-810c-4498-9e05-a1e9e3cedf93  yandex  34133  0 days 00:03:55   \n",
       "42964  00157779-810c-4498-9e05-a1e9e3cedf93  yandex  34132  0 days 00:01:35   \n",
       "42965  00157779-810c-4498-9e05-a1e9e3cedf93  yandex  34131  0 days 00:02:42   \n",
       "42966  00157779-810c-4498-9e05-a1e9e3cedf93  yandex  34130  0 days 00:01:57   \n",
       "42967  00157779-810c-4498-9e05-a1e9e3cedf93  yandex  34129  0 days 00:11:07   \n",
       "42968  00157779-810c-4498-9e05-a1e9e3cedf93  yandex  34128  0 days 00:01:55   \n",
       "42969  00157779-810c-4498-9e05-a1e9e3cedf93  yandex  34127  0 days 20:49:29   \n",
       "42970  00157779-810c-4498-9e05-a1e9e3cedf93  yandex  34126  0 days 00:09:59   \n",
       "42971  00157779-810c-4498-9e05-a1e9e3cedf93  yandex  34125  0 days 00:03:39   \n",
       "42972  00157779-810c-4498-9e05-a1e9e3cedf93  yandex  34124  0 days 00:01:14   \n",
       "42973  00157779-810c-4498-9e05-a1e9e3cedf93  yandex  34123  0 days 00:05:40   \n",
       "\n",
       "          next_event  \n",
       "2180             map  \n",
       "2181             map  \n",
       "2186             map  \n",
       "2189             map  \n",
       "2198             map  \n",
       "2202             NaN  \n",
       "42960         search  \n",
       "42961         search  \n",
       "42962    photos_show  \n",
       "42963    photos_show  \n",
       "42964    photos_show  \n",
       "42965    photos_show  \n",
       "42966         search  \n",
       "42967    photos_show  \n",
       "42968         search  \n",
       "42969    photos_show  \n",
       "42970  favorites_add  \n",
       "42971         search  \n",
       "42972         search  \n",
       "42973         search  "
      ]
     },
     "metadata": {},
     "output_type": "display_data"
    }
   ],
   "source": [
    "#выделим следующее действие в отдельный столбец\n",
    "mobile_dataset_notips['next_event'] = mobile_dataset_notips.groupby('user_id')['event_name'].shift(-1)\n",
    "display(mobile_dataset_notips.head(20))"
   ]
  },
  {
   "cell_type": "code",
   "execution_count": 25,
   "metadata": {},
   "outputs": [
    {
     "name": "stdout",
     "output_type": "stream",
     "text": [
      "Нулевых значений времени между событиями: 893\n"
     ]
    },
    {
     "data": {
      "text/html": [
       "<div>\n",
       "<style scoped>\n",
       "    .dataframe tbody tr th:only-of-type {\n",
       "        vertical-align: middle;\n",
       "    }\n",
       "\n",
       "    .dataframe tbody tr th {\n",
       "        vertical-align: top;\n",
       "    }\n",
       "\n",
       "    .dataframe thead th {\n",
       "        text-align: right;\n",
       "    }\n",
       "</style>\n",
       "<table border=\"1\" class=\"dataframe\">\n",
       "  <thead>\n",
       "    <tr style=\"text-align: right;\">\n",
       "      <th></th>\n",
       "      <th>event_time</th>\n",
       "      <th>event_name</th>\n",
       "      <th>user_id</th>\n",
       "      <th>source</th>\n",
       "      <th>id</th>\n",
       "      <th>diff</th>\n",
       "      <th>next_event</th>\n",
       "    </tr>\n",
       "  </thead>\n",
       "  <tbody>\n",
       "    <tr>\n",
       "      <th>44232</th>\n",
       "      <td>2019-10-22 20:49:43</td>\n",
       "      <td>photos_show</td>\n",
       "      <td>00753c79-ea81-4456-acd0-a47a23ca2fb9</td>\n",
       "      <td>yandex</td>\n",
       "      <td>33984</td>\n",
       "      <td>0 days</td>\n",
       "      <td>search</td>\n",
       "    </tr>\n",
       "    <tr>\n",
       "      <th>49035</th>\n",
       "      <td>2019-10-22 13:02:27</td>\n",
       "      <td>map</td>\n",
       "      <td>007d031d-5018-4e02-b7ee-72a30609173f</td>\n",
       "      <td>yandex</td>\n",
       "      <td>33979</td>\n",
       "      <td>0 days</td>\n",
       "      <td>contacts_show</td>\n",
       "    </tr>\n",
       "    <tr>\n",
       "      <th>62901</th>\n",
       "      <td>2019-10-27 22:48:59</td>\n",
       "      <td>map</td>\n",
       "      <td>01a64bec-69b9-437b-9897-d47b47f3db78</td>\n",
       "      <td>other</td>\n",
       "      <td>33900</td>\n",
       "      <td>0 days</td>\n",
       "      <td>map</td>\n",
       "    </tr>\n",
       "    <tr>\n",
       "      <th>62902</th>\n",
       "      <td>2019-10-27 22:48:59</td>\n",
       "      <td>map</td>\n",
       "      <td>01a64bec-69b9-437b-9897-d47b47f3db78</td>\n",
       "      <td>other</td>\n",
       "      <td>33899</td>\n",
       "      <td>0 days</td>\n",
       "      <td>NaN</td>\n",
       "    </tr>\n",
       "    <tr>\n",
       "      <th>38260</th>\n",
       "      <td>2019-10-18 10:00:47</td>\n",
       "      <td>photos_show</td>\n",
       "      <td>01d283e1-cb1c-407a-a4e0-9f72f3deecca</td>\n",
       "      <td>google</td>\n",
       "      <td>33890</td>\n",
       "      <td>0 days</td>\n",
       "      <td>contacts_show</td>\n",
       "    </tr>\n",
       "  </tbody>\n",
       "</table>\n",
       "</div>"
      ],
      "text/plain": [
       "               event_time   event_name                               user_id  \\\n",
       "44232 2019-10-22 20:49:43  photos_show  00753c79-ea81-4456-acd0-a47a23ca2fb9   \n",
       "49035 2019-10-22 13:02:27          map  007d031d-5018-4e02-b7ee-72a30609173f   \n",
       "62901 2019-10-27 22:48:59          map  01a64bec-69b9-437b-9897-d47b47f3db78   \n",
       "62902 2019-10-27 22:48:59          map  01a64bec-69b9-437b-9897-d47b47f3db78   \n",
       "38260 2019-10-18 10:00:47  photos_show  01d283e1-cb1c-407a-a4e0-9f72f3deecca   \n",
       "\n",
       "       source     id   diff     next_event  \n",
       "44232  yandex  33984 0 days         search  \n",
       "49035  yandex  33979 0 days  contacts_show  \n",
       "62901   other  33900 0 days            map  \n",
       "62902   other  33899 0 days            NaN  \n",
       "38260  google  33890 0 days  contacts_show  "
      ]
     },
     "metadata": {},
     "output_type": "display_data"
    },
    {
     "data": {
      "text/html": [
       "<div>\n",
       "<style scoped>\n",
       "    .dataframe tbody tr th:only-of-type {\n",
       "        vertical-align: middle;\n",
       "    }\n",
       "\n",
       "    .dataframe tbody tr th {\n",
       "        vertical-align: top;\n",
       "    }\n",
       "\n",
       "    .dataframe thead th {\n",
       "        text-align: right;\n",
       "    }\n",
       "</style>\n",
       "<table border=\"1\" class=\"dataframe\">\n",
       "  <thead>\n",
       "    <tr style=\"text-align: right;\">\n",
       "      <th></th>\n",
       "      <th>event_time</th>\n",
       "      <th>event_name</th>\n",
       "      <th>user_id</th>\n",
       "      <th>source</th>\n",
       "      <th>id</th>\n",
       "      <th>diff</th>\n",
       "      <th>next_event</th>\n",
       "    </tr>\n",
       "  </thead>\n",
       "  <tbody>\n",
       "    <tr>\n",
       "      <th>2186</th>\n",
       "      <td>2019-10-21 19:53:39</td>\n",
       "      <td>map</td>\n",
       "      <td>0001b1d5-b74a-4cbf-aeb0-7df5947bf349</td>\n",
       "      <td>other</td>\n",
       "      <td>34140</td>\n",
       "      <td>12 days 01:18:11</td>\n",
       "      <td>map</td>\n",
       "    </tr>\n",
       "    <tr>\n",
       "      <th>8858</th>\n",
       "      <td>2019-10-18 23:13:32</td>\n",
       "      <td>map</td>\n",
       "      <td>02e7c193-842b-4995-b67a-8c87ac0f29bb</td>\n",
       "      <td>google</td>\n",
       "      <td>33839</td>\n",
       "      <td>10 days 02:10:31</td>\n",
       "      <td>map</td>\n",
       "    </tr>\n",
       "    <tr>\n",
       "      <th>7144</th>\n",
       "      <td>2019-10-28 10:09:12</td>\n",
       "      <td>search</td>\n",
       "      <td>04a1f108-5d99-4c71-a575-1f3290a507b9</td>\n",
       "      <td>google</td>\n",
       "      <td>33678</td>\n",
       "      <td>17 days 00:03:55</td>\n",
       "      <td>search</td>\n",
       "    </tr>\n",
       "    <tr>\n",
       "      <th>12266</th>\n",
       "      <td>2019-10-31 19:21:43</td>\n",
       "      <td>photos_show</td>\n",
       "      <td>06322fa8-a60f-486f-862c-df21ce5bbb83</td>\n",
       "      <td>yandex</td>\n",
       "      <td>33256</td>\n",
       "      <td>21 days 13:32:25</td>\n",
       "      <td>NaN</td>\n",
       "    </tr>\n",
       "    <tr>\n",
       "      <th>4637</th>\n",
       "      <td>2019-10-27 14:32:23</td>\n",
       "      <td>photos_show</td>\n",
       "      <td>063c0b06-6d9d-4580-8d03-f1c8f19ebfa1</td>\n",
       "      <td>other</td>\n",
       "      <td>33246</td>\n",
       "      <td>14 days 15:06:46</td>\n",
       "      <td>photos_show</td>\n",
       "    </tr>\n",
       "    <tr>\n",
       "      <th>...</th>\n",
       "      <td>...</td>\n",
       "      <td>...</td>\n",
       "      <td>...</td>\n",
       "      <td>...</td>\n",
       "      <td>...</td>\n",
       "      <td>...</td>\n",
       "      <td>...</td>\n",
       "    </tr>\n",
       "    <tr>\n",
       "      <th>14224</th>\n",
       "      <td>2019-10-20 16:33:39</td>\n",
       "      <td>search</td>\n",
       "      <td>fc2f68a1-765e-4f8b-8caf-2c49d68fea19</td>\n",
       "      <td>other</td>\n",
       "      <td>453</td>\n",
       "      <td>10 days 00:57:02</td>\n",
       "      <td>map</td>\n",
       "    </tr>\n",
       "    <tr>\n",
       "      <th>18046</th>\n",
       "      <td>2019-10-21 01:18:11</td>\n",
       "      <td>advert_open</td>\n",
       "      <td>fd33e787-85c8-4c53-99bd-3439f676fb40</td>\n",
       "      <td>other</td>\n",
       "      <td>271</td>\n",
       "      <td>9 days 05:42:41</td>\n",
       "      <td>advert_open</td>\n",
       "    </tr>\n",
       "    <tr>\n",
       "      <th>3374</th>\n",
       "      <td>2019-10-20 01:52:58</td>\n",
       "      <td>search</td>\n",
       "      <td>fd990f8f-cd18-4e67-bed4-517b1f6f2764</td>\n",
       "      <td>yandex</td>\n",
       "      <td>235</td>\n",
       "      <td>12 days 10:01:54</td>\n",
       "      <td>search</td>\n",
       "    </tr>\n",
       "    <tr>\n",
       "      <th>31524</th>\n",
       "      <td>2019-10-27 21:13:28</td>\n",
       "      <td>search</td>\n",
       "      <td>ff82c7c7-16d6-44b1-833b-a217747b0b02</td>\n",
       "      <td>yandex</td>\n",
       "      <td>106</td>\n",
       "      <td>11 days 21:00:04</td>\n",
       "      <td>search</td>\n",
       "    </tr>\n",
       "    <tr>\n",
       "      <th>23423</th>\n",
       "      <td>2019-10-26 19:33:50</td>\n",
       "      <td>map</td>\n",
       "      <td>ffab8d8a-30bb-424a-a3ab-0b63ebbf7b07</td>\n",
       "      <td>yandex</td>\n",
       "      <td>92</td>\n",
       "      <td>13 days 03:22:23</td>\n",
       "      <td>NaN</td>\n",
       "    </tr>\n",
       "  </tbody>\n",
       "</table>\n",
       "<p>258 rows × 7 columns</p>\n",
       "</div>"
      ],
      "text/plain": [
       "               event_time   event_name                               user_id  \\\n",
       "2186  2019-10-21 19:53:39          map  0001b1d5-b74a-4cbf-aeb0-7df5947bf349   \n",
       "8858  2019-10-18 23:13:32          map  02e7c193-842b-4995-b67a-8c87ac0f29bb   \n",
       "7144  2019-10-28 10:09:12       search  04a1f108-5d99-4c71-a575-1f3290a507b9   \n",
       "12266 2019-10-31 19:21:43  photos_show  06322fa8-a60f-486f-862c-df21ce5bbb83   \n",
       "4637  2019-10-27 14:32:23  photos_show  063c0b06-6d9d-4580-8d03-f1c8f19ebfa1   \n",
       "...                   ...          ...                                   ...   \n",
       "14224 2019-10-20 16:33:39       search  fc2f68a1-765e-4f8b-8caf-2c49d68fea19   \n",
       "18046 2019-10-21 01:18:11  advert_open  fd33e787-85c8-4c53-99bd-3439f676fb40   \n",
       "3374  2019-10-20 01:52:58       search  fd990f8f-cd18-4e67-bed4-517b1f6f2764   \n",
       "31524 2019-10-27 21:13:28       search  ff82c7c7-16d6-44b1-833b-a217747b0b02   \n",
       "23423 2019-10-26 19:33:50          map  ffab8d8a-30bb-424a-a3ab-0b63ebbf7b07   \n",
       "\n",
       "       source     id             diff   next_event  \n",
       "2186    other  34140 12 days 01:18:11          map  \n",
       "8858   google  33839 10 days 02:10:31          map  \n",
       "7144   google  33678 17 days 00:03:55       search  \n",
       "12266  yandex  33256 21 days 13:32:25          NaN  \n",
       "4637    other  33246 14 days 15:06:46  photos_show  \n",
       "...       ...    ...              ...          ...  \n",
       "14224   other    453 10 days 00:57:02          map  \n",
       "18046   other    271  9 days 05:42:41  advert_open  \n",
       "3374   yandex    235 12 days 10:01:54       search  \n",
       "31524  yandex    106 11 days 21:00:04       search  \n",
       "23423  yandex     92 13 days 03:22:23          NaN  \n",
       "\n",
       "[258 rows x 7 columns]"
      ]
     },
     "metadata": {},
     "output_type": "display_data"
    },
    {
     "name": "stdout",
     "output_type": "stream",
     "text": [
      "Время между событиями\n"
     ]
    },
    {
     "data": {
      "text/plain": [
       "count                        25360\n",
       "mean     0 days 04:01:34.931427444\n",
       "std      0 days 17:26:12.261148966\n",
       "min                0 days 00:00:01\n",
       "25%                0 days 00:00:28\n",
       "50%                0 days 00:01:23\n",
       "75%                0 days 00:04:40\n",
       "max                6 days 23:56:28\n",
       "Name: diff, dtype: object"
      ]
     },
     "execution_count": 25,
     "metadata": {},
     "output_type": "execute_result"
    }
   ],
   "source": [
    "#посчитаем количество нулевых значений:\n",
    "print ('Нулевых значений времени между событиями:', mobile_dataset_notips[mobile_dataset_notips.loc[:, 'diff'] == '0 days 00:00:00']['diff'].count())\n",
    "display (mobile_dataset_notips[mobile_dataset_notips.loc[:, 'diff'] == '0 days 00:00:00'].head(5))\n",
    "mobile_dataset_notips = mobile_dataset_notips[mobile_dataset_notips.loc[:, 'diff'] != '0 days 00:00:00']\n",
    "\n",
    "#посмотрим на события длиной 26 дней.\n",
    "display (mobile_dataset_notips[mobile_dataset_notips.loc[:, 'diff'] > '7 days 00:00:00'])\n",
    "#удалим длинные события.\n",
    "mobile_dataset_notips = mobile_dataset_notips[mobile_dataset_notips.loc[:, 'diff'] < '7 days 00:00:00']\n",
    "\n",
    "#медиана разницы между событиями\n",
    "print ('Время между событиями')\n",
    "mobile_dataset_notips[mobile_dataset_notips.loc[:, 'diff'] != '0 days 00:00:00']['diff'].describe()"
   ]
  },
  {
   "cell_type": "code",
   "execution_count": 26,
   "metadata": {},
   "outputs": [
    {
     "name": "stdout",
     "output_type": "stream",
     "text": [
      "Время перед целевым событием\n"
     ]
    },
    {
     "data": {
      "text/plain": [
       "count                         1514\n",
       "mean     0 days 04:32:20.212681638\n",
       "std      0 days 17:27:01.093562520\n",
       "min                0 days 00:00:01\n",
       "25%                0 days 00:00:54\n",
       "50%                0 days 00:02:47\n",
       "75%         0 days 00:13:46.500000\n",
       "max                6 days 23:15:14\n",
       "Name: diff, dtype: object"
      ]
     },
     "execution_count": 26,
     "metadata": {},
     "output_type": "execute_result"
    }
   ],
   "source": [
    "#За какое время до совершения целевого события совершаются вспомогательные события?\n",
    "print ('Время перед целевым событием')\n",
    "mobile_dataset_notips.loc[(mobile_dataset_notips.loc[:, 'event_name'] == 'contacts_show') & \n",
    "                          (mobile_dataset_notips.loc[:, 'diff'] != '0 days 00:00:00')]['diff'].describe()"
   ]
  },
  {
   "cell_type": "markdown",
   "metadata": {},
   "source": [
    "Время между событиями в среднем составляет чуть больше минуты, а перед целевым событием почти 3 минуты. Получается почтти 2 минуты дополнительно идет на принятие решения о товаре.\n",
    "\n",
    "Если мы рассмотрим сессию как набор медианы количества событий на пользователя и умножим на медиану времени между событиями, 10 событий * 2 - 3 минуты, то получится примерно 30 минут. "
   ]
  },
  {
   "cell_type": "code",
   "execution_count": 27,
   "metadata": {},
   "outputs": [
    {
     "data": {
      "text/html": [
       "<div>\n",
       "<style scoped>\n",
       "    .dataframe tbody tr th:only-of-type {\n",
       "        vertical-align: middle;\n",
       "    }\n",
       "\n",
       "    .dataframe tbody tr th {\n",
       "        vertical-align: top;\n",
       "    }\n",
       "\n",
       "    .dataframe thead th {\n",
       "        text-align: right;\n",
       "    }\n",
       "</style>\n",
       "<table border=\"1\" class=\"dataframe\">\n",
       "  <thead>\n",
       "    <tr style=\"text-align: right;\">\n",
       "      <th></th>\n",
       "      <th>event_time</th>\n",
       "      <th>event_name</th>\n",
       "      <th>user_id</th>\n",
       "      <th>source</th>\n",
       "      <th>id</th>\n",
       "      <th>diff</th>\n",
       "      <th>next_event</th>\n",
       "    </tr>\n",
       "  </thead>\n",
       "  <tbody>\n",
       "    <tr>\n",
       "      <th>2198</th>\n",
       "      <td>2019-10-22 11:18:15</td>\n",
       "      <td>map</td>\n",
       "      <td>0001b1d5-b74a-4cbf-aeb0-7df5947bf349</td>\n",
       "      <td>other</td>\n",
       "      <td>34138</td>\n",
       "      <td>0 days 15:21:26</td>\n",
       "      <td>map</td>\n",
       "    </tr>\n",
       "    <tr>\n",
       "      <th>42969</th>\n",
       "      <td>2019-10-20 18:49:24</td>\n",
       "      <td>search</td>\n",
       "      <td>00157779-810c-4498-9e05-a1e9e3cedf93</td>\n",
       "      <td>yandex</td>\n",
       "      <td>34127</td>\n",
       "      <td>0 days 20:49:29</td>\n",
       "      <td>photos_show</td>\n",
       "    </tr>\n",
       "    <tr>\n",
       "      <th>42987</th>\n",
       "      <td>2019-10-24 10:50:40</td>\n",
       "      <td>photos_show</td>\n",
       "      <td>00157779-810c-4498-9e05-a1e9e3cedf93</td>\n",
       "      <td>yandex</td>\n",
       "      <td>34109</td>\n",
       "      <td>3 days 14:45:04</td>\n",
       "      <td>photos_show</td>\n",
       "    </tr>\n",
       "    <tr>\n",
       "      <th>42996</th>\n",
       "      <td>2019-10-29 21:18:25</td>\n",
       "      <td>search</td>\n",
       "      <td>00157779-810c-4498-9e05-a1e9e3cedf93</td>\n",
       "      <td>yandex</td>\n",
       "      <td>34100</td>\n",
       "      <td>5 days 10:21:12</td>\n",
       "      <td>photos_show</td>\n",
       "    </tr>\n",
       "    <tr>\n",
       "      <th>43016</th>\n",
       "      <td>2019-10-30 07:50:46</td>\n",
       "      <td>search</td>\n",
       "      <td>00157779-810c-4498-9e05-a1e9e3cedf93</td>\n",
       "      <td>yandex</td>\n",
       "      <td>34080</td>\n",
       "      <td>0 days 09:40:20</td>\n",
       "      <td>photos_show</td>\n",
       "    </tr>\n",
       "    <tr>\n",
       "      <th>40696</th>\n",
       "      <td>2019-10-20 17:47:19</td>\n",
       "      <td>search</td>\n",
       "      <td>004690c3-5a84-4bb7-a8af-e0c8f8fca64e</td>\n",
       "      <td>google</td>\n",
       "      <td>34052</td>\n",
       "      <td>1 days 19:29:38</td>\n",
       "      <td>search</td>\n",
       "    </tr>\n",
       "    <tr>\n",
       "      <th>40701</th>\n",
       "      <td>2019-10-25 22:17:32</td>\n",
       "      <td>search</td>\n",
       "      <td>004690c3-5a84-4bb7-a8af-e0c8f8fca64e</td>\n",
       "      <td>google</td>\n",
       "      <td>34048</td>\n",
       "      <td>5 days 04:29:50</td>\n",
       "      <td>search</td>\n",
       "    </tr>\n",
       "    <tr>\n",
       "      <th>40705</th>\n",
       "      <td>2019-10-26 23:34:22</td>\n",
       "      <td>search</td>\n",
       "      <td>004690c3-5a84-4bb7-a8af-e0c8f8fca64e</td>\n",
       "      <td>google</td>\n",
       "      <td>34044</td>\n",
       "      <td>1 days 00:48:32</td>\n",
       "      <td>search</td>\n",
       "    </tr>\n",
       "    <tr>\n",
       "      <th>40710</th>\n",
       "      <td>2019-10-27 00:07:33</td>\n",
       "      <td>map</td>\n",
       "      <td>004690c3-5a84-4bb7-a8af-e0c8f8fca64e</td>\n",
       "      <td>google</td>\n",
       "      <td>34042</td>\n",
       "      <td>0 days 00:33:09</td>\n",
       "      <td>advert_open</td>\n",
       "    </tr>\n",
       "    <tr>\n",
       "      <th>40716</th>\n",
       "      <td>2019-10-27 20:18:09</td>\n",
       "      <td>search</td>\n",
       "      <td>004690c3-5a84-4bb7-a8af-e0c8f8fca64e</td>\n",
       "      <td>google</td>\n",
       "      <td>34036</td>\n",
       "      <td>0 days 20:05:57</td>\n",
       "      <td>search</td>\n",
       "    </tr>\n",
       "  </tbody>\n",
       "</table>\n",
       "</div>"
      ],
      "text/plain": [
       "               event_time   event_name                               user_id  \\\n",
       "2198  2019-10-22 11:18:15          map  0001b1d5-b74a-4cbf-aeb0-7df5947bf349   \n",
       "42969 2019-10-20 18:49:24       search  00157779-810c-4498-9e05-a1e9e3cedf93   \n",
       "42987 2019-10-24 10:50:40  photos_show  00157779-810c-4498-9e05-a1e9e3cedf93   \n",
       "42996 2019-10-29 21:18:25       search  00157779-810c-4498-9e05-a1e9e3cedf93   \n",
       "43016 2019-10-30 07:50:46       search  00157779-810c-4498-9e05-a1e9e3cedf93   \n",
       "40696 2019-10-20 17:47:19       search  004690c3-5a84-4bb7-a8af-e0c8f8fca64e   \n",
       "40701 2019-10-25 22:17:32       search  004690c3-5a84-4bb7-a8af-e0c8f8fca64e   \n",
       "40705 2019-10-26 23:34:22       search  004690c3-5a84-4bb7-a8af-e0c8f8fca64e   \n",
       "40710 2019-10-27 00:07:33          map  004690c3-5a84-4bb7-a8af-e0c8f8fca64e   \n",
       "40716 2019-10-27 20:18:09       search  004690c3-5a84-4bb7-a8af-e0c8f8fca64e   \n",
       "\n",
       "       source     id            diff   next_event  \n",
       "2198    other  34138 0 days 15:21:26          map  \n",
       "42969  yandex  34127 0 days 20:49:29  photos_show  \n",
       "42987  yandex  34109 3 days 14:45:04  photos_show  \n",
       "42996  yandex  34100 5 days 10:21:12  photos_show  \n",
       "43016  yandex  34080 0 days 09:40:20  photos_show  \n",
       "40696  google  34052 1 days 19:29:38       search  \n",
       "40701  google  34048 5 days 04:29:50       search  \n",
       "40705  google  34044 1 days 00:48:32       search  \n",
       "40710  google  34042 0 days 00:33:09  advert_open  \n",
       "40716  google  34036 0 days 20:05:57       search  "
      ]
     },
     "execution_count": 27,
     "metadata": {},
     "output_type": "execute_result"
    }
   ],
   "source": [
    "#зададим размер сессии в 30 минут \n",
    "sessions_start_df = mobile_dataset_notips[(mobile_dataset_notips['diff'].isnull()) | (mobile_dataset_notips['diff'] > '30Min')]\n",
    "\n",
    "sessions_start_df.head(10)"
   ]
  },
  {
   "cell_type": "code",
   "execution_count": 28,
   "metadata": {},
   "outputs": [],
   "source": [
    "sessions_start_df['session_id'] = sessions_start_df['id']"
   ]
  },
  {
   "cell_type": "code",
   "execution_count": 29,
   "metadata": {},
   "outputs": [],
   "source": [
    "#С помощью функции merge_asof объединим между собой данные основного и вспомогательного датафреймов\n",
    "mobile_dataset_notips = mobile_dataset_notips.sort_values('id')\n",
    "sessions_start_df = sessions_start_df.sort_values('id')\n",
    "mobile_dataset_notips = pd.merge_asof(mobile_dataset_notips,sessions_start_df[['id','user_id','session_id']],on='id',by='user_id')"
   ]
  },
  {
   "cell_type": "code",
   "execution_count": 30,
   "metadata": {},
   "outputs": [
    {
     "data": {
      "text/html": [
       "<div>\n",
       "<style scoped>\n",
       "    .dataframe tbody tr th:only-of-type {\n",
       "        vertical-align: middle;\n",
       "    }\n",
       "\n",
       "    .dataframe tbody tr th {\n",
       "        vertical-align: top;\n",
       "    }\n",
       "\n",
       "    .dataframe thead th {\n",
       "        text-align: right;\n",
       "    }\n",
       "</style>\n",
       "<table border=\"1\" class=\"dataframe\">\n",
       "  <thead>\n",
       "    <tr style=\"text-align: right;\">\n",
       "      <th></th>\n",
       "      <th>event_time</th>\n",
       "      <th>event_name</th>\n",
       "      <th>user_id</th>\n",
       "      <th>source</th>\n",
       "      <th>id</th>\n",
       "      <th>diff</th>\n",
       "      <th>next_event</th>\n",
       "      <th>session_id</th>\n",
       "    </tr>\n",
       "  </thead>\n",
       "  <tbody>\n",
       "    <tr>\n",
       "      <th>25340</th>\n",
       "      <td>2019-10-20 19:18:55</td>\n",
       "      <td>photos_show</td>\n",
       "      <td>00157779-810c-4498-9e05-a1e9e3cedf93</td>\n",
       "      <td>yandex</td>\n",
       "      <td>34119</td>\n",
       "      <td>0 days 00:01:30</td>\n",
       "      <td>photos_show</td>\n",
       "      <td>34109.0</td>\n",
       "    </tr>\n",
       "    <tr>\n",
       "      <th>25341</th>\n",
       "      <td>2019-10-20 19:17:19</td>\n",
       "      <td>contacts_show</td>\n",
       "      <td>00157779-810c-4498-9e05-a1e9e3cedf93</td>\n",
       "      <td>yandex</td>\n",
       "      <td>34121</td>\n",
       "      <td>0 days 00:05:32</td>\n",
       "      <td>contacts_call</td>\n",
       "      <td>34109.0</td>\n",
       "    </tr>\n",
       "    <tr>\n",
       "      <th>25342</th>\n",
       "      <td>2019-10-20 19:11:47</td>\n",
       "      <td>search</td>\n",
       "      <td>00157779-810c-4498-9e05-a1e9e3cedf93</td>\n",
       "      <td>yandex</td>\n",
       "      <td>34122</td>\n",
       "      <td>0 days 00:01:51</td>\n",
       "      <td>contacts_show</td>\n",
       "      <td>34109.0</td>\n",
       "    </tr>\n",
       "    <tr>\n",
       "      <th>25343</th>\n",
       "      <td>2019-10-20 19:09:56</td>\n",
       "      <td>search</td>\n",
       "      <td>00157779-810c-4498-9e05-a1e9e3cedf93</td>\n",
       "      <td>yandex</td>\n",
       "      <td>34123</td>\n",
       "      <td>0 days 00:05:40</td>\n",
       "      <td>search</td>\n",
       "      <td>34109.0</td>\n",
       "    </tr>\n",
       "    <tr>\n",
       "      <th>25344</th>\n",
       "      <td>2019-10-20 19:04:16</td>\n",
       "      <td>search</td>\n",
       "      <td>00157779-810c-4498-9e05-a1e9e3cedf93</td>\n",
       "      <td>yandex</td>\n",
       "      <td>34124</td>\n",
       "      <td>0 days 00:01:14</td>\n",
       "      <td>search</td>\n",
       "      <td>34109.0</td>\n",
       "    </tr>\n",
       "    <tr>\n",
       "      <th>25345</th>\n",
       "      <td>2019-10-20 19:03:02</td>\n",
       "      <td>favorites_add</td>\n",
       "      <td>00157779-810c-4498-9e05-a1e9e3cedf93</td>\n",
       "      <td>yandex</td>\n",
       "      <td>34125</td>\n",
       "      <td>0 days 00:03:39</td>\n",
       "      <td>search</td>\n",
       "      <td>34109.0</td>\n",
       "    </tr>\n",
       "    <tr>\n",
       "      <th>25346</th>\n",
       "      <td>2019-10-20 18:59:23</td>\n",
       "      <td>photos_show</td>\n",
       "      <td>00157779-810c-4498-9e05-a1e9e3cedf93</td>\n",
       "      <td>yandex</td>\n",
       "      <td>34126</td>\n",
       "      <td>0 days 00:09:59</td>\n",
       "      <td>favorites_add</td>\n",
       "      <td>34109.0</td>\n",
       "    </tr>\n",
       "    <tr>\n",
       "      <th>25347</th>\n",
       "      <td>2019-10-20 18:49:24</td>\n",
       "      <td>search</td>\n",
       "      <td>00157779-810c-4498-9e05-a1e9e3cedf93</td>\n",
       "      <td>yandex</td>\n",
       "      <td>34127</td>\n",
       "      <td>0 days 20:49:29</td>\n",
       "      <td>photos_show</td>\n",
       "      <td>34127.0</td>\n",
       "    </tr>\n",
       "    <tr>\n",
       "      <th>25348</th>\n",
       "      <td>2019-10-19 21:59:55</td>\n",
       "      <td>photos_show</td>\n",
       "      <td>00157779-810c-4498-9e05-a1e9e3cedf93</td>\n",
       "      <td>yandex</td>\n",
       "      <td>34128</td>\n",
       "      <td>0 days 00:01:55</td>\n",
       "      <td>search</td>\n",
       "      <td>34127.0</td>\n",
       "    </tr>\n",
       "    <tr>\n",
       "      <th>25349</th>\n",
       "      <td>2019-10-19 21:58:00</td>\n",
       "      <td>search</td>\n",
       "      <td>00157779-810c-4498-9e05-a1e9e3cedf93</td>\n",
       "      <td>yandex</td>\n",
       "      <td>34129</td>\n",
       "      <td>0 days 00:11:07</td>\n",
       "      <td>photos_show</td>\n",
       "      <td>34127.0</td>\n",
       "    </tr>\n",
       "    <tr>\n",
       "      <th>25350</th>\n",
       "      <td>2019-10-19 21:46:53</td>\n",
       "      <td>photos_show</td>\n",
       "      <td>00157779-810c-4498-9e05-a1e9e3cedf93</td>\n",
       "      <td>yandex</td>\n",
       "      <td>34130</td>\n",
       "      <td>0 days 00:01:57</td>\n",
       "      <td>search</td>\n",
       "      <td>34127.0</td>\n",
       "    </tr>\n",
       "    <tr>\n",
       "      <th>25351</th>\n",
       "      <td>2019-10-19 21:44:56</td>\n",
       "      <td>photos_show</td>\n",
       "      <td>00157779-810c-4498-9e05-a1e9e3cedf93</td>\n",
       "      <td>yandex</td>\n",
       "      <td>34131</td>\n",
       "      <td>0 days 00:02:42</td>\n",
       "      <td>photos_show</td>\n",
       "      <td>34127.0</td>\n",
       "    </tr>\n",
       "    <tr>\n",
       "      <th>25352</th>\n",
       "      <td>2019-10-19 21:42:14</td>\n",
       "      <td>photos_show</td>\n",
       "      <td>00157779-810c-4498-9e05-a1e9e3cedf93</td>\n",
       "      <td>yandex</td>\n",
       "      <td>34132</td>\n",
       "      <td>0 days 00:01:35</td>\n",
       "      <td>photos_show</td>\n",
       "      <td>34127.0</td>\n",
       "    </tr>\n",
       "    <tr>\n",
       "      <th>25353</th>\n",
       "      <td>2019-10-19 21:40:39</td>\n",
       "      <td>photos_show</td>\n",
       "      <td>00157779-810c-4498-9e05-a1e9e3cedf93</td>\n",
       "      <td>yandex</td>\n",
       "      <td>34133</td>\n",
       "      <td>0 days 00:03:55</td>\n",
       "      <td>photos_show</td>\n",
       "      <td>34127.0</td>\n",
       "    </tr>\n",
       "    <tr>\n",
       "      <th>25354</th>\n",
       "      <td>2019-10-19 21:36:44</td>\n",
       "      <td>search</td>\n",
       "      <td>00157779-810c-4498-9e05-a1e9e3cedf93</td>\n",
       "      <td>yandex</td>\n",
       "      <td>34134</td>\n",
       "      <td>0 days 00:01:25</td>\n",
       "      <td>photos_show</td>\n",
       "      <td>34127.0</td>\n",
       "    </tr>\n",
       "    <tr>\n",
       "      <th>25355</th>\n",
       "      <td>2019-10-19 21:35:19</td>\n",
       "      <td>search</td>\n",
       "      <td>00157779-810c-4498-9e05-a1e9e3cedf93</td>\n",
       "      <td>yandex</td>\n",
       "      <td>34135</td>\n",
       "      <td>0 days 00:00:45</td>\n",
       "      <td>search</td>\n",
       "      <td>34127.0</td>\n",
       "    </tr>\n",
       "    <tr>\n",
       "      <th>25356</th>\n",
       "      <td>2019-10-22 11:25:34</td>\n",
       "      <td>map</td>\n",
       "      <td>0001b1d5-b74a-4cbf-aeb0-7df5947bf349</td>\n",
       "      <td>other</td>\n",
       "      <td>34137</td>\n",
       "      <td>0 days 00:07:19</td>\n",
       "      <td>NaN</td>\n",
       "      <td>NaN</td>\n",
       "    </tr>\n",
       "    <tr>\n",
       "      <th>25357</th>\n",
       "      <td>2019-10-22 11:18:15</td>\n",
       "      <td>map</td>\n",
       "      <td>0001b1d5-b74a-4cbf-aeb0-7df5947bf349</td>\n",
       "      <td>other</td>\n",
       "      <td>34138</td>\n",
       "      <td>0 days 15:21:26</td>\n",
       "      <td>map</td>\n",
       "      <td>34138.0</td>\n",
       "    </tr>\n",
       "    <tr>\n",
       "      <th>25358</th>\n",
       "      <td>2019-10-21 19:56:49</td>\n",
       "      <td>map</td>\n",
       "      <td>0001b1d5-b74a-4cbf-aeb0-7df5947bf349</td>\n",
       "      <td>other</td>\n",
       "      <td>34139</td>\n",
       "      <td>0 days 00:03:10</td>\n",
       "      <td>map</td>\n",
       "      <td>34138.0</td>\n",
       "    </tr>\n",
       "    <tr>\n",
       "      <th>25359</th>\n",
       "      <td>2019-10-09 18:35:28</td>\n",
       "      <td>map</td>\n",
       "      <td>0001b1d5-b74a-4cbf-aeb0-7df5947bf349</td>\n",
       "      <td>other</td>\n",
       "      <td>34141</td>\n",
       "      <td>0 days 00:01:32</td>\n",
       "      <td>map</td>\n",
       "      <td>34138.0</td>\n",
       "    </tr>\n",
       "  </tbody>\n",
       "</table>\n",
       "</div>"
      ],
      "text/plain": [
       "               event_time     event_name  \\\n",
       "25340 2019-10-20 19:18:55    photos_show   \n",
       "25341 2019-10-20 19:17:19  contacts_show   \n",
       "25342 2019-10-20 19:11:47         search   \n",
       "25343 2019-10-20 19:09:56         search   \n",
       "25344 2019-10-20 19:04:16         search   \n",
       "25345 2019-10-20 19:03:02  favorites_add   \n",
       "25346 2019-10-20 18:59:23    photos_show   \n",
       "25347 2019-10-20 18:49:24         search   \n",
       "25348 2019-10-19 21:59:55    photos_show   \n",
       "25349 2019-10-19 21:58:00         search   \n",
       "25350 2019-10-19 21:46:53    photos_show   \n",
       "25351 2019-10-19 21:44:56    photos_show   \n",
       "25352 2019-10-19 21:42:14    photos_show   \n",
       "25353 2019-10-19 21:40:39    photos_show   \n",
       "25354 2019-10-19 21:36:44         search   \n",
       "25355 2019-10-19 21:35:19         search   \n",
       "25356 2019-10-22 11:25:34            map   \n",
       "25357 2019-10-22 11:18:15            map   \n",
       "25358 2019-10-21 19:56:49            map   \n",
       "25359 2019-10-09 18:35:28            map   \n",
       "\n",
       "                                    user_id  source     id            diff  \\\n",
       "25340  00157779-810c-4498-9e05-a1e9e3cedf93  yandex  34119 0 days 00:01:30   \n",
       "25341  00157779-810c-4498-9e05-a1e9e3cedf93  yandex  34121 0 days 00:05:32   \n",
       "25342  00157779-810c-4498-9e05-a1e9e3cedf93  yandex  34122 0 days 00:01:51   \n",
       "25343  00157779-810c-4498-9e05-a1e9e3cedf93  yandex  34123 0 days 00:05:40   \n",
       "25344  00157779-810c-4498-9e05-a1e9e3cedf93  yandex  34124 0 days 00:01:14   \n",
       "25345  00157779-810c-4498-9e05-a1e9e3cedf93  yandex  34125 0 days 00:03:39   \n",
       "25346  00157779-810c-4498-9e05-a1e9e3cedf93  yandex  34126 0 days 00:09:59   \n",
       "25347  00157779-810c-4498-9e05-a1e9e3cedf93  yandex  34127 0 days 20:49:29   \n",
       "25348  00157779-810c-4498-9e05-a1e9e3cedf93  yandex  34128 0 days 00:01:55   \n",
       "25349  00157779-810c-4498-9e05-a1e9e3cedf93  yandex  34129 0 days 00:11:07   \n",
       "25350  00157779-810c-4498-9e05-a1e9e3cedf93  yandex  34130 0 days 00:01:57   \n",
       "25351  00157779-810c-4498-9e05-a1e9e3cedf93  yandex  34131 0 days 00:02:42   \n",
       "25352  00157779-810c-4498-9e05-a1e9e3cedf93  yandex  34132 0 days 00:01:35   \n",
       "25353  00157779-810c-4498-9e05-a1e9e3cedf93  yandex  34133 0 days 00:03:55   \n",
       "25354  00157779-810c-4498-9e05-a1e9e3cedf93  yandex  34134 0 days 00:01:25   \n",
       "25355  00157779-810c-4498-9e05-a1e9e3cedf93  yandex  34135 0 days 00:00:45   \n",
       "25356  0001b1d5-b74a-4cbf-aeb0-7df5947bf349   other  34137 0 days 00:07:19   \n",
       "25357  0001b1d5-b74a-4cbf-aeb0-7df5947bf349   other  34138 0 days 15:21:26   \n",
       "25358  0001b1d5-b74a-4cbf-aeb0-7df5947bf349   other  34139 0 days 00:03:10   \n",
       "25359  0001b1d5-b74a-4cbf-aeb0-7df5947bf349   other  34141 0 days 00:01:32   \n",
       "\n",
       "          next_event  session_id  \n",
       "25340    photos_show     34109.0  \n",
       "25341  contacts_call     34109.0  \n",
       "25342  contacts_show     34109.0  \n",
       "25343         search     34109.0  \n",
       "25344         search     34109.0  \n",
       "25345         search     34109.0  \n",
       "25346  favorites_add     34109.0  \n",
       "25347    photos_show     34127.0  \n",
       "25348         search     34127.0  \n",
       "25349    photos_show     34127.0  \n",
       "25350         search     34127.0  \n",
       "25351    photos_show     34127.0  \n",
       "25352    photos_show     34127.0  \n",
       "25353    photos_show     34127.0  \n",
       "25354    photos_show     34127.0  \n",
       "25355         search     34127.0  \n",
       "25356            NaN         NaN  \n",
       "25357            map     34138.0  \n",
       "25358            map     34138.0  \n",
       "25359            map     34138.0  "
      ]
     },
     "execution_count": 30,
     "metadata": {},
     "output_type": "execute_result"
    }
   ],
   "source": [
    "mobile_dataset_notips.tail(20)"
   ]
  },
  {
   "cell_type": "code",
   "execution_count": 31,
   "metadata": {},
   "outputs": [
    {
     "name": "stdout",
     "output_type": "stream",
     "text": [
      "Количество пользователей: 2977\n",
      "Количество сессий: 3308\n",
      "Количество просмотров страниц: 25360\n",
      "Среднее время просмотра страницы: 0 days 04:01:34.931427444\n"
     ]
    }
   ],
   "source": [
    "print ('Количество пользователей: {0}'.format(mobile_dataset_notips['user_id'].nunique()))\n",
    "print ('Количество сессий: {0}'.format(mobile_dataset_notips['session_id'].nunique()))\n",
    "print ('Количество просмотров страниц: {0}'.format(mobile_dataset_notips['event_name'].count()))\n",
    "print ('Среднее время просмотра страницы: {0}'.format(mobile_dataset_notips['diff'].mean()))"
   ]
  },
  {
   "cell_type": "code",
   "execution_count": 32,
   "metadata": {
    "scrolled": false
   },
   "outputs": [
    {
     "data": {
      "image/png": "[encoded data removed]",
      "text/plain": [
       "<Figure size 1080x576 with 1 Axes>"
      ]
     },
     "metadata": {
      "needs_background": "light"
     },
     "output_type": "display_data"
    }
   ],
   "source": [
    "#гистограмма сессий\n",
    "period = ['2019-10-08 12:00:00', '2019-10-10 12:00:00']\n",
    "plt.figure(figsize=(15,8))\n",
    "sns.lineplot(\n",
    "    data= mobile_dataset_notips[(mobile_dataset_notips['event_time'] >= period[0]) & (mobile_dataset_notips['event_time'] <= period[1])],\n",
    "    x=\"event_time\", y=\"session_id\", hue=\"event_name\", style = 'session_id', legend = False)\n",
    "plt.xlabel('ВРЕМЯ')\n",
    "plt.grid()\n",
    "plt.ylabel('Сессии')\n",
    "plt.title('Распределение сессий по времени');\n",
    "plt.show();\n"
   ]
  },
  {
   "cell_type": "markdown",
   "metadata": {},
   "source": [
    "На гистограмме распределение сессий за период ['2019-10-08 12:00:00', '2019-10-10 12:00:00'], это двое суток, но мы не наблюдаем определенное цепочки действий / воронки. Либо сессия составляет более долгий период, либо воронки вообще нет и пользователь имеет множество путей достижения целевого события. "
   ]
  },
  {
   "cell_type": "markdown",
   "metadata": {},
   "source": [
    "График событий за недельный период по пользователям и времени также показывает отсутвие четкой воронки действий."
   ]
  },
  {
   "cell_type": "code",
   "execution_count": 33,
   "metadata": {},
   "outputs": [
    {
     "data": {
      "text/html": [
       "<div>\n",
       "<style scoped>\n",
       "    .dataframe tbody tr th:only-of-type {\n",
       "        vertical-align: middle;\n",
       "    }\n",
       "\n",
       "    .dataframe tbody tr th {\n",
       "        vertical-align: top;\n",
       "    }\n",
       "\n",
       "    .dataframe thead th {\n",
       "        text-align: right;\n",
       "    }\n",
       "</style>\n",
       "<table border=\"1\" class=\"dataframe\">\n",
       "  <thead>\n",
       "    <tr style=\"text-align: right;\">\n",
       "      <th></th>\n",
       "      <th>event_time</th>\n",
       "      <th>event_name</th>\n",
       "      <th>user_id</th>\n",
       "      <th>source</th>\n",
       "      <th>id</th>\n",
       "      <th>diff</th>\n",
       "      <th>next_event</th>\n",
       "      <th>session_id</th>\n",
       "    </tr>\n",
       "  </thead>\n",
       "  <tbody>\n",
       "    <tr>\n",
       "      <th>0</th>\n",
       "      <td>2019-10-16 12:57:41</td>\n",
       "      <td>contacts_show</td>\n",
       "      <td>fffb9e79-b927-4dbb-9b48-7fd09b23a62b</td>\n",
       "      <td>google</td>\n",
       "      <td>68</td>\n",
       "      <td>4 days 11:48:52</td>\n",
       "      <td>contacts_show</td>\n",
       "      <td>68.0</td>\n",
       "    </tr>\n",
       "    <tr>\n",
       "      <th>1</th>\n",
       "      <td>2019-10-12 01:08:49</td>\n",
       "      <td>map</td>\n",
       "      <td>fffb9e79-b927-4dbb-9b48-7fd09b23a62b</td>\n",
       "      <td>google</td>\n",
       "      <td>69</td>\n",
       "      <td>0 days 00:00:55</td>\n",
       "      <td>contacts_show</td>\n",
       "      <td>68.0</td>\n",
       "    </tr>\n",
       "    <tr>\n",
       "      <th>2</th>\n",
       "      <td>2019-10-28 07:17:53</td>\n",
       "      <td>photos_show</td>\n",
       "      <td>ffe68f10-e48e-470e-be9b-eeb93128ff1a</td>\n",
       "      <td>yandex</td>\n",
       "      <td>71</td>\n",
       "      <td>0 days 00:02:43</td>\n",
       "      <td>NaN</td>\n",
       "      <td>NaN</td>\n",
       "    </tr>\n",
       "    <tr>\n",
       "      <th>3</th>\n",
       "      <td>2019-10-28 07:15:10</td>\n",
       "      <td>photos_show</td>\n",
       "      <td>ffe68f10-e48e-470e-be9b-eeb93128ff1a</td>\n",
       "      <td>yandex</td>\n",
       "      <td>72</td>\n",
       "      <td>0 days 00:00:49</td>\n",
       "      <td>photos_show</td>\n",
       "      <td>NaN</td>\n",
       "    </tr>\n",
       "    <tr>\n",
       "      <th>4</th>\n",
       "      <td>2019-10-28 07:14:21</td>\n",
       "      <td>photos_show</td>\n",
       "      <td>ffe68f10-e48e-470e-be9b-eeb93128ff1a</td>\n",
       "      <td>yandex</td>\n",
       "      <td>73</td>\n",
       "      <td>0 days 00:01:17</td>\n",
       "      <td>photos_show</td>\n",
       "      <td>NaN</td>\n",
       "    </tr>\n",
       "    <tr>\n",
       "      <th>...</th>\n",
       "      <td>...</td>\n",
       "      <td>...</td>\n",
       "      <td>...</td>\n",
       "      <td>...</td>\n",
       "      <td>...</td>\n",
       "      <td>...</td>\n",
       "      <td>...</td>\n",
       "      <td>...</td>\n",
       "    </tr>\n",
       "    <tr>\n",
       "      <th>25343</th>\n",
       "      <td>2019-10-20 19:09:56</td>\n",
       "      <td>search</td>\n",
       "      <td>00157779-810c-4498-9e05-a1e9e3cedf93</td>\n",
       "      <td>yandex</td>\n",
       "      <td>34123</td>\n",
       "      <td>0 days 00:05:40</td>\n",
       "      <td>search</td>\n",
       "      <td>34109.0</td>\n",
       "    </tr>\n",
       "    <tr>\n",
       "      <th>25344</th>\n",
       "      <td>2019-10-20 19:04:16</td>\n",
       "      <td>search</td>\n",
       "      <td>00157779-810c-4498-9e05-a1e9e3cedf93</td>\n",
       "      <td>yandex</td>\n",
       "      <td>34124</td>\n",
       "      <td>0 days 00:01:14</td>\n",
       "      <td>search</td>\n",
       "      <td>34109.0</td>\n",
       "    </tr>\n",
       "    <tr>\n",
       "      <th>25345</th>\n",
       "      <td>2019-10-20 19:03:02</td>\n",
       "      <td>favorites_add</td>\n",
       "      <td>00157779-810c-4498-9e05-a1e9e3cedf93</td>\n",
       "      <td>yandex</td>\n",
       "      <td>34125</td>\n",
       "      <td>0 days 00:03:39</td>\n",
       "      <td>search</td>\n",
       "      <td>34109.0</td>\n",
       "    </tr>\n",
       "    <tr>\n",
       "      <th>25346</th>\n",
       "      <td>2019-10-20 18:59:23</td>\n",
       "      <td>photos_show</td>\n",
       "      <td>00157779-810c-4498-9e05-a1e9e3cedf93</td>\n",
       "      <td>yandex</td>\n",
       "      <td>34126</td>\n",
       "      <td>0 days 00:09:59</td>\n",
       "      <td>favorites_add</td>\n",
       "      <td>34109.0</td>\n",
       "    </tr>\n",
       "    <tr>\n",
       "      <th>25356</th>\n",
       "      <td>2019-10-22 11:25:34</td>\n",
       "      <td>map</td>\n",
       "      <td>0001b1d5-b74a-4cbf-aeb0-7df5947bf349</td>\n",
       "      <td>other</td>\n",
       "      <td>34137</td>\n",
       "      <td>0 days 00:07:19</td>\n",
       "      <td>NaN</td>\n",
       "      <td>NaN</td>\n",
       "    </tr>\n",
       "  </tbody>\n",
       "</table>\n",
       "<p>14593 rows × 8 columns</p>\n",
       "</div>"
      ],
      "text/plain": [
       "               event_time     event_name  \\\n",
       "0     2019-10-16 12:57:41  contacts_show   \n",
       "1     2019-10-12 01:08:49            map   \n",
       "2     2019-10-28 07:17:53    photos_show   \n",
       "3     2019-10-28 07:15:10    photos_show   \n",
       "4     2019-10-28 07:14:21    photos_show   \n",
       "...                   ...            ...   \n",
       "25343 2019-10-20 19:09:56         search   \n",
       "25344 2019-10-20 19:04:16         search   \n",
       "25345 2019-10-20 19:03:02  favorites_add   \n",
       "25346 2019-10-20 18:59:23    photos_show   \n",
       "25356 2019-10-22 11:25:34            map   \n",
       "\n",
       "                                    user_id  source     id            diff  \\\n",
       "0      fffb9e79-b927-4dbb-9b48-7fd09b23a62b  google     68 4 days 11:48:52   \n",
       "1      fffb9e79-b927-4dbb-9b48-7fd09b23a62b  google     69 0 days 00:00:55   \n",
       "2      ffe68f10-e48e-470e-be9b-eeb93128ff1a  yandex     71 0 days 00:02:43   \n",
       "3      ffe68f10-e48e-470e-be9b-eeb93128ff1a  yandex     72 0 days 00:00:49   \n",
       "4      ffe68f10-e48e-470e-be9b-eeb93128ff1a  yandex     73 0 days 00:01:17   \n",
       "...                                     ...     ...    ...             ...   \n",
       "25343  00157779-810c-4498-9e05-a1e9e3cedf93  yandex  34123 0 days 00:05:40   \n",
       "25344  00157779-810c-4498-9e05-a1e9e3cedf93  yandex  34124 0 days 00:01:14   \n",
       "25345  00157779-810c-4498-9e05-a1e9e3cedf93  yandex  34125 0 days 00:03:39   \n",
       "25346  00157779-810c-4498-9e05-a1e9e3cedf93  yandex  34126 0 days 00:09:59   \n",
       "25356  0001b1d5-b74a-4cbf-aeb0-7df5947bf349   other  34137 0 days 00:07:19   \n",
       "\n",
       "          next_event  session_id  \n",
       "0      contacts_show        68.0  \n",
       "1      contacts_show        68.0  \n",
       "2                NaN         NaN  \n",
       "3        photos_show         NaN  \n",
       "4        photos_show         NaN  \n",
       "...              ...         ...  \n",
       "25343         search     34109.0  \n",
       "25344         search     34109.0  \n",
       "25345         search     34109.0  \n",
       "25346  favorites_add     34109.0  \n",
       "25356            NaN         NaN  \n",
       "\n",
       "[14593 rows x 8 columns]"
      ]
     },
     "execution_count": 33,
     "metadata": {},
     "output_type": "execute_result"
    }
   ],
   "source": [
    "#выделим номера успешных сессий\n",
    "good_session = mobile_dataset_notips.loc[mobile_dataset_notips.loc[:, 'event_name'] == 'contacts_show']['session_id']\n",
    "#сохраним успешые сессии в отдельный файл\n",
    "show = mobile_dataset_notips.query('session_id in @good_session')\n",
    "show"
   ]
  },
  {
   "cell_type": "code",
   "execution_count": 34,
   "metadata": {},
   "outputs": [
    {
     "data": {
      "text/html": [
       "<div>\n",
       "<style scoped>\n",
       "    .dataframe tbody tr th:only-of-type {\n",
       "        vertical-align: middle;\n",
       "    }\n",
       "\n",
       "    .dataframe tbody tr th {\n",
       "        vertical-align: top;\n",
       "    }\n",
       "\n",
       "    .dataframe thead th {\n",
       "        text-align: right;\n",
       "    }\n",
       "</style>\n",
       "<table border=\"1\" class=\"dataframe\">\n",
       "  <thead>\n",
       "    <tr style=\"text-align: right;\">\n",
       "      <th></th>\n",
       "      <th>session_id</th>\n",
       "      <th>event_name</th>\n",
       "    </tr>\n",
       "  </thead>\n",
       "  <tbody>\n",
       "    <tr>\n",
       "      <th>0</th>\n",
       "      <td>68.0</td>\n",
       "      <td>contacts_showmap</td>\n",
       "    </tr>\n",
       "    <tr>\n",
       "      <th>1</th>\n",
       "      <td>80.0</td>\n",
       "      <td>contacts_showphotos_showsearch</td>\n",
       "    </tr>\n",
       "    <tr>\n",
       "      <th>2</th>\n",
       "      <td>114.0</td>\n",
       "      <td>contacts_showphotos_show</td>\n",
       "    </tr>\n",
       "    <tr>\n",
       "      <th>3</th>\n",
       "      <td>193.0</td>\n",
       "      <td>searchcontacts_show</td>\n",
       "    </tr>\n",
       "    <tr>\n",
       "      <th>4</th>\n",
       "      <td>199.0</td>\n",
       "      <td>contacts_showtips_clickmapsearchsearch</td>\n",
       "    </tr>\n",
       "    <tr>\n",
       "      <th>...</th>\n",
       "      <td>...</td>\n",
       "      <td>...</td>\n",
       "    </tr>\n",
       "    <tr>\n",
       "      <th>548</th>\n",
       "      <td>33886.0</td>\n",
       "      <td>contacts_showcontacts_show</td>\n",
       "    </tr>\n",
       "    <tr>\n",
       "      <th>549</th>\n",
       "      <td>33962.0</td>\n",
       "      <td>contacts_showsearch</td>\n",
       "    </tr>\n",
       "    <tr>\n",
       "      <th>550</th>\n",
       "      <td>34020.0</td>\n",
       "      <td>photos_showcontacts_showcontacts_show</td>\n",
       "    </tr>\n",
       "    <tr>\n",
       "      <th>551</th>\n",
       "      <td>34080.0</td>\n",
       "      <td>searchphotos_showadvert_opencontacts_showphoto...</td>\n",
       "    </tr>\n",
       "    <tr>\n",
       "      <th>552</th>\n",
       "      <td>34109.0</td>\n",
       "      <td>photos_showcontacts_showphotos_showphotos_show...</td>\n",
       "    </tr>\n",
       "  </tbody>\n",
       "</table>\n",
       "<p>553 rows × 2 columns</p>\n",
       "</div>"
      ],
      "text/plain": [
       "     session_id                                         event_name\n",
       "0          68.0                                   contacts_showmap\n",
       "1          80.0                     contacts_showphotos_showsearch\n",
       "2         114.0                           contacts_showphotos_show\n",
       "3         193.0                                searchcontacts_show\n",
       "4         199.0             contacts_showtips_clickmapsearchsearch\n",
       "..          ...                                                ...\n",
       "548     33886.0                         contacts_showcontacts_show\n",
       "549     33962.0                                contacts_showsearch\n",
       "550     34020.0              photos_showcontacts_showcontacts_show\n",
       "551     34080.0  searchphotos_showadvert_opencontacts_showphoto...\n",
       "552     34109.0  photos_showcontacts_showphotos_showphotos_show...\n",
       "\n",
       "[553 rows x 2 columns]"
      ]
     },
     "execution_count": 34,
     "metadata": {},
     "output_type": "execute_result"
    }
   ],
   "source": [
    "#выделим в отдельный файл номера сессий и события в них, чтобы попробовать найти некоторую последовательность действий:\n",
    "session_list = show.pivot_table(index='session_id', values='event_name', aggfunc='sum').reset_index()\n",
    "session_list"
   ]
  },
  {
   "cell_type": "code",
   "execution_count": 35,
   "metadata": {},
   "outputs": [
    {
     "name": "stdout",
     "output_type": "stream",
     "text": [
      "contacts_show                                                                                 111\n",
      "searchcontacts_show                                                                            22\n",
      "contacts_showsearch                                                                            13\n",
      "contacts_showcontacts_show                                                                     12\n",
      "contacts_showphotos_show                                                                       12\n",
      "contacts_showmap                                                                               10\n",
      "photos_showcontacts_show                                                                        9\n",
      "contacts_showphotos_showphotos_show                                                             9\n",
      "searchcontacts_showsearch                                                                       8\n",
      "contacts_showsearchsearch                                                                       7\n",
      "contacts_showcontacts_showcontacts_show                                                         7\n",
      "mapcontacts_showcontacts_show                                                                   5\n",
      "searchsearchcontacts_show                                                                       5\n",
      "contacts_showphotos_showphotos_showphotos_showphotos_showphotos_showphotos_showphotos_show      4\n",
      "photos_showcontacts_showphotos_show                                                             4\n",
      "photos_showphotos_showcontacts_showphotos_show                                                  4\n",
      "mapcontacts_show                                                                                4\n",
      "advert_opencontacts_show                                                                        4\n",
      "contacts_showphotos_showcontacts_show                                                           4\n",
      "searchcontacts_showphotos_show                                                                  3\n",
      "contacts_showmapmapmapmapmap                                                                    3\n",
      "advert_opencontacts_showadvert_open                                                             3\n",
      "photos_showcontacts_showphotos_showphotos_show                                                  3\n",
      "searchcontacts_showsearchsearch                                                                 3\n",
      "photos_showphotos_showcontacts_show                                                             3\n",
      "photos_showcontacts_showsearch                                                                  2\n",
      "photos_showcontacts_showcontacts_show                                                           2\n",
      "photos_showphotos_showphotos_showcontacts_showphotos_show                                       2\n",
      "contacts_showmapsearchsearch                                                                    2\n",
      "contacts_showsearchsearchsearch                                                                 2\n",
      "Name: event_name, dtype: int64\n"
     ]
    }
   ],
   "source": [
    "print(session_list['event_name'].value_counts().head(30))"
   ]
  },
  {
   "cell_type": "code",
   "execution_count": 36,
   "metadata": {},
   "outputs": [
    {
     "data": {
      "text/plain": [
       "yandex    41\n",
       "other     38\n",
       "google    32\n",
       "Name: source, dtype: int64"
      ]
     },
     "execution_count": 36,
     "metadata": {},
     "output_type": "execute_result"
    }
   ],
   "source": [
    "#у нас много сессий с одним целевым действием. Посмотрим источник этих пользователей:\n",
    "f = session_list[session_list.loc[:,'event_name'] == 'contacts_show']\n",
    "f = pd.merge(f,show[['session_id','source']], on='session_id')\n",
    "f['source'].value_counts()"
   ]
  },
  {
   "cell_type": "markdown",
   "metadata": {},
   "source": [
    "Вывод:\n",
    "\n",
    "Пользователи имеют как самостоятельные события, так и пары связанных событий, например просмотр фотографий и открытие контактов. У них есть множество путей и комбинаций событий в приложении. \n",
    "Поэтому мы можем рассмотреть влияние одного события на последующее. Например, событий просмотра фотографий приводят к целевому событию и другим действиям. \n",
    "Мы также видим, что пользователь иметь несколько сессий, но они состоят только из пары действий. \n",
    "\n",
    "Фотографии - в сессиях мы видим одно - два события. Возможно, здесь есть что улучшить. Больше фотографий и, возможно более детальных, может заинтересовать пользователя в продукте.\n",
    "\n",
    "Favorites_add - при достаточно больших периодах поиска было бы удобнее добавлять объявления в отдельный список, чтобы было легче вернуться к ним. Но это событие почти не используется. Возможно, его можно улучшить, сделать более заметным и удобным."
   ]
  },
  {
   "cell_type": "markdown",
   "metadata": {},
   "source": [
    "### <span style=\"color:black\">Воронки/конверсия событий<span>"
   ]
  },
  {
   "cell_type": "code",
   "execution_count": 37,
   "metadata": {},
   "outputs": [
    {
     "data": {
      "image/png": "[encoded data removed]",
      "text/plain": [
       "<Figure size 1080x576 with 1 Axes>"
      ]
     },
     "metadata": {
      "needs_background": "light"
     },
     "output_type": "display_data"
    }
   ],
   "source": [
    "#какое событие предшествует целевому?\n",
    "events_before = show.loc[(show.loc[:, 'next_event'] == 'contacts_show') & (show['event_name'] != 'contacts_show')]['event_name']\n",
    "plt.figure(figsize=(15,8))\n",
    "events_before.hist()\n",
    "plt.xlabel('События')\n",
    "plt.grid()\n",
    "plt.ylabel('Частота')\n",
    "plt.title('События, которые предшествуют целевому');\n",
    "plt.show();"
   ]
  },
  {
   "cell_type": "markdown",
   "metadata": {},
   "source": [
    "Перед целевым событием пользователи часто смотрят фотографии и делают поиск."
   ]
  },
  {
   "cell_type": "code",
   "execution_count": 38,
   "metadata": {},
   "outputs": [
    {
     "data": {
      "image/png": "[encoded data removed]",
      "text/plain": [
       "<Figure size 1080x576 with 1 Axes>"
      ]
     },
     "metadata": {
      "needs_background": "light"
     },
     "output_type": "display_data"
    }
   ],
   "source": [
    "#какие события чаще встречаются в уcпешных сессиях:\n",
    "events = show [(show['event_name'] != 'contacts_show')]['event_name']\n",
    "events.hist(grid = True, figsize = (15,8))\n",
    "plt.xlabel('Cобытия')\n",
    "plt.ylabel('Количество событий')\n",
    "plt.title('Все события успешных сессий')\n",
    "plt.show()"
   ]
  },
  {
   "cell_type": "code",
   "execution_count": 39,
   "metadata": {},
   "outputs": [],
   "source": [
    "events_before\n",
    "events_before = show.loc[(show.loc[:, 'next_event'] == 'contacts_show') & (show['event_name'] != 'contacts_show')]['event_name']\n",
    "users_before = show.loc[(show.loc[:, 'next_event'] == 'contacts_show') & (show['event_name'] != 'contacts_show')][['user_id', 'event_name']]"
   ]
  },
  {
   "cell_type": "markdown",
   "metadata": {},
   "source": [
    "Для успешных сессий характерно производить поиск, открытие объявления, просмотр фотографий и карты."
   ]
  },
  {
   "cell_type": "code",
   "execution_count": 40,
   "metadata": {},
   "outputs": [
    {
     "name": "stdout",
     "output_type": "stream",
     "text": [
      "Конверсия событий в целевое событие\n"
     ]
    },
    {
     "data": {
      "text/html": [
       "<div>\n",
       "<style scoped>\n",
       "    .dataframe tbody tr th:only-of-type {\n",
       "        vertical-align: middle;\n",
       "    }\n",
       "\n",
       "    .dataframe tbody tr th {\n",
       "        vertical-align: top;\n",
       "    }\n",
       "\n",
       "    .dataframe thead th {\n",
       "        text-align: right;\n",
       "    }\n",
       "</style>\n",
       "<table border=\"1\" class=\"dataframe\">\n",
       "  <thead>\n",
       "    <tr style=\"text-align: right;\">\n",
       "      <th></th>\n",
       "      <th>event_name</th>\n",
       "      <th>successful_users</th>\n",
       "      <th>total_users</th>\n",
       "      <th>conversion%</th>\n",
       "    </tr>\n",
       "  </thead>\n",
       "  <tbody>\n",
       "    <tr>\n",
       "      <th>0</th>\n",
       "      <td>advert_open</td>\n",
       "      <td>79</td>\n",
       "      <td>728</td>\n",
       "      <td>10.85</td>\n",
       "    </tr>\n",
       "    <tr>\n",
       "      <th>1</th>\n",
       "      <td>contacts_call</td>\n",
       "      <td>12</td>\n",
       "      <td>29</td>\n",
       "      <td>41.38</td>\n",
       "    </tr>\n",
       "    <tr>\n",
       "      <th>2</th>\n",
       "      <td>favorites_add</td>\n",
       "      <td>31</td>\n",
       "      <td>293</td>\n",
       "      <td>10.58</td>\n",
       "    </tr>\n",
       "    <tr>\n",
       "      <th>3</th>\n",
       "      <td>map</td>\n",
       "      <td>71</td>\n",
       "      <td>840</td>\n",
       "      <td>8.45</td>\n",
       "    </tr>\n",
       "    <tr>\n",
       "      <th>4</th>\n",
       "      <td>photos_show</td>\n",
       "      <td>182</td>\n",
       "      <td>1038</td>\n",
       "      <td>17.53</td>\n",
       "    </tr>\n",
       "    <tr>\n",
       "      <th>5</th>\n",
       "      <td>search</td>\n",
       "      <td>133</td>\n",
       "      <td>1437</td>\n",
       "      <td>9.26</td>\n",
       "    </tr>\n",
       "    <tr>\n",
       "      <th>6</th>\n",
       "      <td>tips_click</td>\n",
       "      <td>41</td>\n",
       "      <td>228</td>\n",
       "      <td>17.98</td>\n",
       "    </tr>\n",
       "  </tbody>\n",
       "</table>\n",
       "</div>"
      ],
      "text/plain": [
       "      event_name  successful_users  total_users  conversion%\n",
       "0    advert_open                79          728        10.85\n",
       "1  contacts_call                12           29        41.38\n",
       "2  favorites_add                31          293        10.58\n",
       "3            map                71          840         8.45\n",
       "4    photos_show               182         1038        17.53\n",
       "5         search               133         1437         9.26\n",
       "6     tips_click                41          228        17.98"
      ]
     },
     "metadata": {},
     "output_type": "display_data"
    }
   ],
   "source": [
    "#конверсия событий в целевое событие:\n",
    "users_before = users_before.pivot_table(index='event_name', values='user_id', aggfunc='nunique').reset_index()\n",
    "users_before\n",
    "all_events = mobile_dataset_notips.pivot_table(index='event_name', values='user_id', aggfunc='nunique').reset_index()\n",
    "all_events\n",
    "events_conversion = pd.merge(users_before,all_events, on='event_name')\n",
    "events_conversion ['conversion%'] = round((events_conversion ['user_id_x']/events_conversion['user_id_y']*100), 2)\n",
    "events_conversion.columns = ['event_name', 'successful_users', 'total_users', 'conversion%']\n",
    "print ('Конверсия событий в целевое событие')\n",
    "display (events_conversion)"
   ]
  },
  {
   "cell_type": "code",
   "execution_count": 41,
   "metadata": {},
   "outputs": [
    {
     "data": {
      "image/png": "[encoded data removed]",
      "text/plain": [
       "<Figure size 1080x576 with 1 Axes>"
      ]
     },
     "metadata": {
      "needs_background": "light"
     },
     "output_type": "display_data"
    }
   ],
   "source": [
    "e = events_conversion[['event_name', 'successful_users', 'total_users']]\n",
    "e['total_users'] = e['total_users']-e['successful_users']\n",
    "e.plot.bar(grid = True, figsize = (15,8), stacked = True)\n",
    "plt.xlabel('Cобытия')\n",
    "plt.ylabel('Количество событий')\n",
    "plt.title('Конверсия событий в целевое действие')\n",
    "plt.show()"
   ]
  },
  {
   "cell_type": "markdown",
   "metadata": {},
   "source": [
    "Наибольшая конверсия в целевое событие у contacts_call, tips_click, photos_show.\n",
    "\n",
    "Меня немного смущает contacts_call в этом списке. Если пользователь уже решил позвонить продавцу, то зачем он потом переходит в его контакты. Они бы и так сохранились в телефоне. Возможно, здесь есть какая-то техническая ситуация и звонок не произошел, поэтому каждый пятый раз, пользователь переходит в контакты. Это необходимо проверить, если звонок действительно не удался, то может быть потерей половины покупателей."
   ]
  },
  {
   "cell_type": "code",
   "execution_count": 42,
   "metadata": {},
   "outputs": [],
   "source": [
    "#посмотрим зависимость событий друг от друга, для уcпешных сессий, в которых было целевое событие\n",
    "list_of_events = ['advert_open', 'map', 'contacts_show', 'search', 'tips_click', 'photos_show', 'favorites_add', 'contacts_call']\n",
    "\n",
    "#функция для расчет коневерсии в успешных сессиях:\n",
    "def events_before_conversion (event):\n",
    "    h = show [show['next_event'] == event][['event_name', 'user_id']]\n",
    "    h = h.pivot_table(index='event_name', values='user_id', aggfunc='nunique')\n",
    "    h = pd.merge(h,all_events ,on='event_name')\n",
    "    h ['conversion%'] = round((h['user_id_x']/h['user_id_y']*100), 2)\n",
    "    h.columns = ['event_name', 'successful_users', 'total_users', 'conversion%']\n",
    "    print ('Конверсия событий в событие', event) \n",
    "    display (h)"
   ]
  },
  {
   "cell_type": "code",
   "execution_count": 43,
   "metadata": {
    "scrolled": false
   },
   "outputs": [
    {
     "name": "stdout",
     "output_type": "stream",
     "text": [
      "Конверсия событий в событие advert_open\n"
     ]
    },
    {
     "data": {
      "text/html": [
       "<div>\n",
       "<style scoped>\n",
       "    .dataframe tbody tr th:only-of-type {\n",
       "        vertical-align: middle;\n",
       "    }\n",
       "\n",
       "    .dataframe tbody tr th {\n",
       "        vertical-align: top;\n",
       "    }\n",
       "\n",
       "    .dataframe thead th {\n",
       "        text-align: right;\n",
       "    }\n",
       "</style>\n",
       "<table border=\"1\" class=\"dataframe\">\n",
       "  <thead>\n",
       "    <tr style=\"text-align: right;\">\n",
       "      <th></th>\n",
       "      <th>event_name</th>\n",
       "      <th>successful_users</th>\n",
       "      <th>total_users</th>\n",
       "      <th>conversion%</th>\n",
       "    </tr>\n",
       "  </thead>\n",
       "  <tbody>\n",
       "    <tr>\n",
       "      <th>0</th>\n",
       "      <td>advert_open</td>\n",
       "      <td>475</td>\n",
       "      <td>728</td>\n",
       "      <td>65.25</td>\n",
       "    </tr>\n",
       "    <tr>\n",
       "      <th>1</th>\n",
       "      <td>contacts_show</td>\n",
       "      <td>54</td>\n",
       "      <td>726</td>\n",
       "      <td>7.44</td>\n",
       "    </tr>\n",
       "    <tr>\n",
       "      <th>2</th>\n",
       "      <td>favorites_add</td>\n",
       "      <td>33</td>\n",
       "      <td>293</td>\n",
       "      <td>11.26</td>\n",
       "    </tr>\n",
       "    <tr>\n",
       "      <th>3</th>\n",
       "      <td>map</td>\n",
       "      <td>167</td>\n",
       "      <td>840</td>\n",
       "      <td>19.88</td>\n",
       "    </tr>\n",
       "    <tr>\n",
       "      <th>4</th>\n",
       "      <td>photos_show</td>\n",
       "      <td>25</td>\n",
       "      <td>1038</td>\n",
       "      <td>2.41</td>\n",
       "    </tr>\n",
       "    <tr>\n",
       "      <th>5</th>\n",
       "      <td>search</td>\n",
       "      <td>118</td>\n",
       "      <td>1437</td>\n",
       "      <td>8.21</td>\n",
       "    </tr>\n",
       "    <tr>\n",
       "      <th>6</th>\n",
       "      <td>tips_click</td>\n",
       "      <td>15</td>\n",
       "      <td>228</td>\n",
       "      <td>6.58</td>\n",
       "    </tr>\n",
       "  </tbody>\n",
       "</table>\n",
       "</div>"
      ],
      "text/plain": [
       "      event_name  successful_users  total_users  conversion%\n",
       "0    advert_open               475          728        65.25\n",
       "1  contacts_show                54          726         7.44\n",
       "2  favorites_add                33          293        11.26\n",
       "3            map               167          840        19.88\n",
       "4    photos_show                25         1038         2.41\n",
       "5         search               118         1437         8.21\n",
       "6     tips_click                15          228         6.58"
      ]
     },
     "metadata": {},
     "output_type": "display_data"
    },
    {
     "name": "stdout",
     "output_type": "stream",
     "text": [
      "Конверсия событий в событие map\n"
     ]
    },
    {
     "data": {
      "text/html": [
       "<div>\n",
       "<style scoped>\n",
       "    .dataframe tbody tr th:only-of-type {\n",
       "        vertical-align: middle;\n",
       "    }\n",
       "\n",
       "    .dataframe tbody tr th {\n",
       "        vertical-align: top;\n",
       "    }\n",
       "\n",
       "    .dataframe thead th {\n",
       "        text-align: right;\n",
       "    }\n",
       "</style>\n",
       "<table border=\"1\" class=\"dataframe\">\n",
       "  <thead>\n",
       "    <tr style=\"text-align: right;\">\n",
       "      <th></th>\n",
       "      <th>event_name</th>\n",
       "      <th>successful_users</th>\n",
       "      <th>total_users</th>\n",
       "      <th>conversion%</th>\n",
       "    </tr>\n",
       "  </thead>\n",
       "  <tbody>\n",
       "    <tr>\n",
       "      <th>0</th>\n",
       "      <td>advert_open</td>\n",
       "      <td>91</td>\n",
       "      <td>728</td>\n",
       "      <td>12.50</td>\n",
       "    </tr>\n",
       "    <tr>\n",
       "      <th>1</th>\n",
       "      <td>contacts_show</td>\n",
       "      <td>58</td>\n",
       "      <td>726</td>\n",
       "      <td>7.99</td>\n",
       "    </tr>\n",
       "    <tr>\n",
       "      <th>2</th>\n",
       "      <td>favorites_add</td>\n",
       "      <td>10</td>\n",
       "      <td>293</td>\n",
       "      <td>3.41</td>\n",
       "    </tr>\n",
       "    <tr>\n",
       "      <th>3</th>\n",
       "      <td>map</td>\n",
       "      <td>203</td>\n",
       "      <td>840</td>\n",
       "      <td>24.17</td>\n",
       "    </tr>\n",
       "    <tr>\n",
       "      <th>4</th>\n",
       "      <td>search</td>\n",
       "      <td>173</td>\n",
       "      <td>1437</td>\n",
       "      <td>12.04</td>\n",
       "    </tr>\n",
       "    <tr>\n",
       "      <th>5</th>\n",
       "      <td>tips_click</td>\n",
       "      <td>22</td>\n",
       "      <td>228</td>\n",
       "      <td>9.65</td>\n",
       "    </tr>\n",
       "  </tbody>\n",
       "</table>\n",
       "</div>"
      ],
      "text/plain": [
       "      event_name  successful_users  total_users  conversion%\n",
       "0    advert_open                91          728        12.50\n",
       "1  contacts_show                58          726         7.99\n",
       "2  favorites_add                10          293         3.41\n",
       "3            map               203          840        24.17\n",
       "4         search               173         1437        12.04\n",
       "5     tips_click                22          228         9.65"
      ]
     },
     "metadata": {},
     "output_type": "display_data"
    },
    {
     "name": "stdout",
     "output_type": "stream",
     "text": [
      "Конверсия событий в событие contacts_show\n"
     ]
    },
    {
     "data": {
      "text/html": [
       "<div>\n",
       "<style scoped>\n",
       "    .dataframe tbody tr th:only-of-type {\n",
       "        vertical-align: middle;\n",
       "    }\n",
       "\n",
       "    .dataframe tbody tr th {\n",
       "        vertical-align: top;\n",
       "    }\n",
       "\n",
       "    .dataframe thead th {\n",
       "        text-align: right;\n",
       "    }\n",
       "</style>\n",
       "<table border=\"1\" class=\"dataframe\">\n",
       "  <thead>\n",
       "    <tr style=\"text-align: right;\">\n",
       "      <th></th>\n",
       "      <th>event_name</th>\n",
       "      <th>successful_users</th>\n",
       "      <th>total_users</th>\n",
       "      <th>conversion%</th>\n",
       "    </tr>\n",
       "  </thead>\n",
       "  <tbody>\n",
       "    <tr>\n",
       "      <th>0</th>\n",
       "      <td>advert_open</td>\n",
       "      <td>79</td>\n",
       "      <td>728</td>\n",
       "      <td>10.85</td>\n",
       "    </tr>\n",
       "    <tr>\n",
       "      <th>1</th>\n",
       "      <td>contacts_call</td>\n",
       "      <td>12</td>\n",
       "      <td>29</td>\n",
       "      <td>41.38</td>\n",
       "    </tr>\n",
       "    <tr>\n",
       "      <th>2</th>\n",
       "      <td>contacts_show</td>\n",
       "      <td>307</td>\n",
       "      <td>726</td>\n",
       "      <td>42.29</td>\n",
       "    </tr>\n",
       "    <tr>\n",
       "      <th>3</th>\n",
       "      <td>favorites_add</td>\n",
       "      <td>31</td>\n",
       "      <td>293</td>\n",
       "      <td>10.58</td>\n",
       "    </tr>\n",
       "    <tr>\n",
       "      <th>4</th>\n",
       "      <td>map</td>\n",
       "      <td>71</td>\n",
       "      <td>840</td>\n",
       "      <td>8.45</td>\n",
       "    </tr>\n",
       "    <tr>\n",
       "      <th>5</th>\n",
       "      <td>photos_show</td>\n",
       "      <td>182</td>\n",
       "      <td>1038</td>\n",
       "      <td>17.53</td>\n",
       "    </tr>\n",
       "    <tr>\n",
       "      <th>6</th>\n",
       "      <td>search</td>\n",
       "      <td>133</td>\n",
       "      <td>1437</td>\n",
       "      <td>9.26</td>\n",
       "    </tr>\n",
       "    <tr>\n",
       "      <th>7</th>\n",
       "      <td>tips_click</td>\n",
       "      <td>41</td>\n",
       "      <td>228</td>\n",
       "      <td>17.98</td>\n",
       "    </tr>\n",
       "  </tbody>\n",
       "</table>\n",
       "</div>"
      ],
      "text/plain": [
       "      event_name  successful_users  total_users  conversion%\n",
       "0    advert_open                79          728        10.85\n",
       "1  contacts_call                12           29        41.38\n",
       "2  contacts_show               307          726        42.29\n",
       "3  favorites_add                31          293        10.58\n",
       "4            map                71          840         8.45\n",
       "5    photos_show               182         1038        17.53\n",
       "6         search               133         1437         9.26\n",
       "7     tips_click                41          228        17.98"
      ]
     },
     "metadata": {},
     "output_type": "display_data"
    },
    {
     "name": "stdout",
     "output_type": "stream",
     "text": [
      "Конверсия событий в событие search\n"
     ]
    },
    {
     "data": {
      "text/html": [
       "<div>\n",
       "<style scoped>\n",
       "    .dataframe tbody tr th:only-of-type {\n",
       "        vertical-align: middle;\n",
       "    }\n",
       "\n",
       "    .dataframe tbody tr th {\n",
       "        vertical-align: top;\n",
       "    }\n",
       "\n",
       "    .dataframe thead th {\n",
       "        text-align: right;\n",
       "    }\n",
       "</style>\n",
       "<table border=\"1\" class=\"dataframe\">\n",
       "  <thead>\n",
       "    <tr style=\"text-align: right;\">\n",
       "      <th></th>\n",
       "      <th>event_name</th>\n",
       "      <th>successful_users</th>\n",
       "      <th>total_users</th>\n",
       "      <th>conversion%</th>\n",
       "    </tr>\n",
       "  </thead>\n",
       "  <tbody>\n",
       "    <tr>\n",
       "      <th>0</th>\n",
       "      <td>advert_open</td>\n",
       "      <td>86</td>\n",
       "      <td>728</td>\n",
       "      <td>11.81</td>\n",
       "    </tr>\n",
       "    <tr>\n",
       "      <th>1</th>\n",
       "      <td>contacts_call</td>\n",
       "      <td>3</td>\n",
       "      <td>29</td>\n",
       "      <td>10.34</td>\n",
       "    </tr>\n",
       "    <tr>\n",
       "      <th>2</th>\n",
       "      <td>contacts_show</td>\n",
       "      <td>79</td>\n",
       "      <td>726</td>\n",
       "      <td>10.88</td>\n",
       "    </tr>\n",
       "    <tr>\n",
       "      <th>3</th>\n",
       "      <td>favorites_add</td>\n",
       "      <td>23</td>\n",
       "      <td>293</td>\n",
       "      <td>7.85</td>\n",
       "    </tr>\n",
       "    <tr>\n",
       "      <th>4</th>\n",
       "      <td>map</td>\n",
       "      <td>80</td>\n",
       "      <td>840</td>\n",
       "      <td>9.52</td>\n",
       "    </tr>\n",
       "    <tr>\n",
       "      <th>5</th>\n",
       "      <td>photos_show</td>\n",
       "      <td>194</td>\n",
       "      <td>1038</td>\n",
       "      <td>18.69</td>\n",
       "    </tr>\n",
       "    <tr>\n",
       "      <th>6</th>\n",
       "      <td>search</td>\n",
       "      <td>636</td>\n",
       "      <td>1437</td>\n",
       "      <td>44.26</td>\n",
       "    </tr>\n",
       "    <tr>\n",
       "      <th>7</th>\n",
       "      <td>tips_click</td>\n",
       "      <td>1</td>\n",
       "      <td>228</td>\n",
       "      <td>0.44</td>\n",
       "    </tr>\n",
       "  </tbody>\n",
       "</table>\n",
       "</div>"
      ],
      "text/plain": [
       "      event_name  successful_users  total_users  conversion%\n",
       "0    advert_open                86          728        11.81\n",
       "1  contacts_call                 3           29        10.34\n",
       "2  contacts_show                79          726        10.88\n",
       "3  favorites_add                23          293         7.85\n",
       "4            map                80          840         9.52\n",
       "5    photos_show               194         1038        18.69\n",
       "6         search               636         1437        44.26\n",
       "7     tips_click                 1          228         0.44"
      ]
     },
     "metadata": {},
     "output_type": "display_data"
    },
    {
     "name": "stdout",
     "output_type": "stream",
     "text": [
      "Конверсия событий в событие tips_click\n"
     ]
    },
    {
     "data": {
      "text/html": [
       "<div>\n",
       "<style scoped>\n",
       "    .dataframe tbody tr th:only-of-type {\n",
       "        vertical-align: middle;\n",
       "    }\n",
       "\n",
       "    .dataframe tbody tr th {\n",
       "        vertical-align: top;\n",
       "    }\n",
       "\n",
       "    .dataframe thead th {\n",
       "        text-align: right;\n",
       "    }\n",
       "</style>\n",
       "<table border=\"1\" class=\"dataframe\">\n",
       "  <thead>\n",
       "    <tr style=\"text-align: right;\">\n",
       "      <th></th>\n",
       "      <th>event_name</th>\n",
       "      <th>successful_users</th>\n",
       "      <th>total_users</th>\n",
       "      <th>conversion%</th>\n",
       "    </tr>\n",
       "  </thead>\n",
       "  <tbody>\n",
       "    <tr>\n",
       "      <th>0</th>\n",
       "      <td>advert_open</td>\n",
       "      <td>17</td>\n",
       "      <td>728</td>\n",
       "      <td>2.34</td>\n",
       "    </tr>\n",
       "    <tr>\n",
       "      <th>1</th>\n",
       "      <td>contacts_show</td>\n",
       "      <td>29</td>\n",
       "      <td>726</td>\n",
       "      <td>3.99</td>\n",
       "    </tr>\n",
       "    <tr>\n",
       "      <th>2</th>\n",
       "      <td>favorites_add</td>\n",
       "      <td>2</td>\n",
       "      <td>293</td>\n",
       "      <td>0.68</td>\n",
       "    </tr>\n",
       "    <tr>\n",
       "      <th>3</th>\n",
       "      <td>map</td>\n",
       "      <td>19</td>\n",
       "      <td>840</td>\n",
       "      <td>2.26</td>\n",
       "    </tr>\n",
       "    <tr>\n",
       "      <th>4</th>\n",
       "      <td>photos_show</td>\n",
       "      <td>1</td>\n",
       "      <td>1038</td>\n",
       "      <td>0.10</td>\n",
       "    </tr>\n",
       "    <tr>\n",
       "      <th>5</th>\n",
       "      <td>search</td>\n",
       "      <td>15</td>\n",
       "      <td>1437</td>\n",
       "      <td>1.04</td>\n",
       "    </tr>\n",
       "    <tr>\n",
       "      <th>6</th>\n",
       "      <td>tips_click</td>\n",
       "      <td>61</td>\n",
       "      <td>228</td>\n",
       "      <td>26.75</td>\n",
       "    </tr>\n",
       "  </tbody>\n",
       "</table>\n",
       "</div>"
      ],
      "text/plain": [
       "      event_name  successful_users  total_users  conversion%\n",
       "0    advert_open                17          728         2.34\n",
       "1  contacts_show                29          726         3.99\n",
       "2  favorites_add                 2          293         0.68\n",
       "3            map                19          840         2.26\n",
       "4    photos_show                 1         1038         0.10\n",
       "5         search                15         1437         1.04\n",
       "6     tips_click                61          228        26.75"
      ]
     },
     "metadata": {},
     "output_type": "display_data"
    },
    {
     "name": "stdout",
     "output_type": "stream",
     "text": [
      "Конверсия событий в событие photos_show\n"
     ]
    },
    {
     "data": {
      "text/html": [
       "<div>\n",
       "<style scoped>\n",
       "    .dataframe tbody tr th:only-of-type {\n",
       "        vertical-align: middle;\n",
       "    }\n",
       "\n",
       "    .dataframe tbody tr th {\n",
       "        vertical-align: top;\n",
       "    }\n",
       "\n",
       "    .dataframe thead th {\n",
       "        text-align: right;\n",
       "    }\n",
       "</style>\n",
       "<table border=\"1\" class=\"dataframe\">\n",
       "  <thead>\n",
       "    <tr style=\"text-align: right;\">\n",
       "      <th></th>\n",
       "      <th>event_name</th>\n",
       "      <th>successful_users</th>\n",
       "      <th>total_users</th>\n",
       "      <th>conversion%</th>\n",
       "    </tr>\n",
       "  </thead>\n",
       "  <tbody>\n",
       "    <tr>\n",
       "      <th>0</th>\n",
       "      <td>advert_open</td>\n",
       "      <td>31</td>\n",
       "      <td>728</td>\n",
       "      <td>4.26</td>\n",
       "    </tr>\n",
       "    <tr>\n",
       "      <th>1</th>\n",
       "      <td>contacts_call</td>\n",
       "      <td>9</td>\n",
       "      <td>29</td>\n",
       "      <td>31.03</td>\n",
       "    </tr>\n",
       "    <tr>\n",
       "      <th>2</th>\n",
       "      <td>contacts_show</td>\n",
       "      <td>117</td>\n",
       "      <td>726</td>\n",
       "      <td>16.12</td>\n",
       "    </tr>\n",
       "    <tr>\n",
       "      <th>3</th>\n",
       "      <td>favorites_add</td>\n",
       "      <td>67</td>\n",
       "      <td>293</td>\n",
       "      <td>22.87</td>\n",
       "    </tr>\n",
       "    <tr>\n",
       "      <th>4</th>\n",
       "      <td>photos_show</td>\n",
       "      <td>632</td>\n",
       "      <td>1038</td>\n",
       "      <td>60.89</td>\n",
       "    </tr>\n",
       "    <tr>\n",
       "      <th>5</th>\n",
       "      <td>search</td>\n",
       "      <td>247</td>\n",
       "      <td>1437</td>\n",
       "      <td>17.19</td>\n",
       "    </tr>\n",
       "  </tbody>\n",
       "</table>\n",
       "</div>"
      ],
      "text/plain": [
       "      event_name  successful_users  total_users  conversion%\n",
       "0    advert_open                31          728         4.26\n",
       "1  contacts_call                 9           29        31.03\n",
       "2  contacts_show               117          726        16.12\n",
       "3  favorites_add                67          293        22.87\n",
       "4    photos_show               632         1038        60.89\n",
       "5         search               247         1437        17.19"
      ]
     },
     "metadata": {},
     "output_type": "display_data"
    },
    {
     "name": "stdout",
     "output_type": "stream",
     "text": [
      "Конверсия событий в событие favorites_add\n"
     ]
    },
    {
     "data": {
      "text/html": [
       "<div>\n",
       "<style scoped>\n",
       "    .dataframe tbody tr th:only-of-type {\n",
       "        vertical-align: middle;\n",
       "    }\n",
       "\n",
       "    .dataframe tbody tr th {\n",
       "        vertical-align: top;\n",
       "    }\n",
       "\n",
       "    .dataframe thead th {\n",
       "        text-align: right;\n",
       "    }\n",
       "</style>\n",
       "<table border=\"1\" class=\"dataframe\">\n",
       "  <thead>\n",
       "    <tr style=\"text-align: right;\">\n",
       "      <th></th>\n",
       "      <th>event_name</th>\n",
       "      <th>successful_users</th>\n",
       "      <th>total_users</th>\n",
       "      <th>conversion%</th>\n",
       "    </tr>\n",
       "  </thead>\n",
       "  <tbody>\n",
       "    <tr>\n",
       "      <th>0</th>\n",
       "      <td>advert_open</td>\n",
       "      <td>11</td>\n",
       "      <td>728</td>\n",
       "      <td>1.51</td>\n",
       "    </tr>\n",
       "    <tr>\n",
       "      <th>1</th>\n",
       "      <td>contacts_call</td>\n",
       "      <td>1</td>\n",
       "      <td>29</td>\n",
       "      <td>3.45</td>\n",
       "    </tr>\n",
       "    <tr>\n",
       "      <th>2</th>\n",
       "      <td>contacts_show</td>\n",
       "      <td>29</td>\n",
       "      <td>726</td>\n",
       "      <td>3.99</td>\n",
       "    </tr>\n",
       "    <tr>\n",
       "      <th>3</th>\n",
       "      <td>favorites_add</td>\n",
       "      <td>91</td>\n",
       "      <td>293</td>\n",
       "      <td>31.06</td>\n",
       "    </tr>\n",
       "    <tr>\n",
       "      <th>4</th>\n",
       "      <td>map</td>\n",
       "      <td>9</td>\n",
       "      <td>840</td>\n",
       "      <td>1.07</td>\n",
       "    </tr>\n",
       "    <tr>\n",
       "      <th>5</th>\n",
       "      <td>photos_show</td>\n",
       "      <td>62</td>\n",
       "      <td>1038</td>\n",
       "      <td>5.97</td>\n",
       "    </tr>\n",
       "    <tr>\n",
       "      <th>6</th>\n",
       "      <td>search</td>\n",
       "      <td>49</td>\n",
       "      <td>1437</td>\n",
       "      <td>3.41</td>\n",
       "    </tr>\n",
       "    <tr>\n",
       "      <th>7</th>\n",
       "      <td>tips_click</td>\n",
       "      <td>4</td>\n",
       "      <td>228</td>\n",
       "      <td>1.75</td>\n",
       "    </tr>\n",
       "  </tbody>\n",
       "</table>\n",
       "</div>"
      ],
      "text/plain": [
       "      event_name  successful_users  total_users  conversion%\n",
       "0    advert_open                11          728         1.51\n",
       "1  contacts_call                 1           29         3.45\n",
       "2  contacts_show                29          726         3.99\n",
       "3  favorites_add                91          293        31.06\n",
       "4            map                 9          840         1.07\n",
       "5    photos_show                62         1038         5.97\n",
       "6         search                49         1437         3.41\n",
       "7     tips_click                 4          228         1.75"
      ]
     },
     "metadata": {},
     "output_type": "display_data"
    },
    {
     "name": "stdout",
     "output_type": "stream",
     "text": [
      "Конверсия событий в событие contacts_call\n"
     ]
    },
    {
     "data": {
      "text/html": [
       "<div>\n",
       "<style scoped>\n",
       "    .dataframe tbody tr th:only-of-type {\n",
       "        vertical-align: middle;\n",
       "    }\n",
       "\n",
       "    .dataframe tbody tr th {\n",
       "        vertical-align: top;\n",
       "    }\n",
       "\n",
       "    .dataframe thead th {\n",
       "        text-align: right;\n",
       "    }\n",
       "</style>\n",
       "<table border=\"1\" class=\"dataframe\">\n",
       "  <thead>\n",
       "    <tr style=\"text-align: right;\">\n",
       "      <th></th>\n",
       "      <th>event_name</th>\n",
       "      <th>successful_users</th>\n",
       "      <th>total_users</th>\n",
       "      <th>conversion%</th>\n",
       "    </tr>\n",
       "  </thead>\n",
       "  <tbody>\n",
       "    <tr>\n",
       "      <th>0</th>\n",
       "      <td>contacts_call</td>\n",
       "      <td>4</td>\n",
       "      <td>29</td>\n",
       "      <td>13.79</td>\n",
       "    </tr>\n",
       "    <tr>\n",
       "      <th>1</th>\n",
       "      <td>contacts_show</td>\n",
       "      <td>170</td>\n",
       "      <td>726</td>\n",
       "      <td>23.42</td>\n",
       "    </tr>\n",
       "  </tbody>\n",
       "</table>\n",
       "</div>"
      ],
      "text/plain": [
       "      event_name  successful_users  total_users  conversion%\n",
       "0  contacts_call                 4           29        13.79\n",
       "1  contacts_show               170          726        23.42"
      ]
     },
     "metadata": {},
     "output_type": "display_data"
    }
   ],
   "source": [
    "#Составить воронки событий.\n",
    "for event in list_of_events:\n",
    "    events_before_conversion (event)"
   ]
  },
  {
   "cell_type": "code",
   "execution_count": 44,
   "metadata": {},
   "outputs": [
    {
     "name": "stdout",
     "output_type": "stream",
     "text": [
      "Доля пользователей, которая доходит от первого события до просмотра контактов 21.95 %\n"
     ]
    }
   ],
   "source": [
    "#Какая доля пользователей доходит от первого события до просмотра контактов?\n",
    "j = mobile_dataset_notips[mobile_dataset_notips['event_name'] == 'contacts_show']['user_id'].nunique()\n",
    "i = j / mobile_dataset_notips ['session_id'].nunique() *100 \n",
    "print ('Доля пользователей, которая доходит от первого события до просмотра контактов', round(i, 2),'%' )"
   ]
  },
  {
   "cell_type": "markdown",
   "metadata": {},
   "source": [
    "В таблицах выше мы можем видеть какая доля пользователей переходит к следующему действию:\n",
    "\n",
    "В advert_open переходят часто из advert_open, map, favourites add. \n",
    "\n",
    "В map из map, search, advert_open\n",
    "\n",
    "В search из search, contact_show, photos.  Переход от звонка снова в поиск может быть, если не договорились с продавцом или не дозвонились.\n",
    "\n",
    "tips_click из tips_click. Здесь надо учитывать еще tips_show, которое мы убрали из выборки. \n",
    "\n",
    "В photos из photos, call, favourites, search. \n",
    "\n",
    "В favourites add из favourites, photos и contacts_show.\n",
    "\n",
    "В contacts_call из contacts_call, contacts_show\n",
    "\n",
    "Очень низкая конверсия у событий favorites_add, map, tips_click. Возможно, эти события можно сделать более удобными для пользователя."
   ]
  },
  {
   "cell_type": "markdown",
   "metadata": {},
   "source": [
    "### <span style=\"color:black\">Retention rate<span>"
   ]
  },
  {
   "cell_type": "markdown",
   "metadata": {},
   "source": [
    "Расчет удержания для всей выборки по неделям"
   ]
  },
  {
   "cell_type": "code",
   "execution_count": 45,
   "metadata": {},
   "outputs": [],
   "source": [
    "# здесь мы задаем текущую дату события в формате недели\n",
    "mobile_dataset['active_date'] = mobile_dataset['event_time'].astype('datetime64[W]')\n",
    "\n",
    "#добавляем столбец success для успешных пользователей:\n",
    "mobile_dataset ['success'] = mobile_dataset['user_id'].isin (users_contacts)\n",
    "\n",
    "# cгруппируем и найдем первый заход для каждого id\n",
    "first_ts = mobile_dataset.groupby('user_id').agg({'event_time': 'min'}).reset_index()"
   ]
  },
  {
   "cell_type": "code",
   "execution_count": 46,
   "metadata": {},
   "outputs": [],
   "source": [
    "first_ts = first_ts.rename(columns={'event_time':'first_ts'})\n",
    "first_ts['first_ts'] = first_ts['first_ts'].astype('datetime64[W]')\n",
    "# объеденяем датасеты\n",
    "mobile_dataset = first_ts.merge(mobile_dataset, on = 'user_id')"
   ]
  },
  {
   "cell_type": "code",
   "execution_count": 47,
   "metadata": {},
   "outputs": [
    {
     "data": {
      "text/html": [
       "<div>\n",
       "<style scoped>\n",
       "    .dataframe tbody tr th:only-of-type {\n",
       "        vertical-align: middle;\n",
       "    }\n",
       "\n",
       "    .dataframe tbody tr th {\n",
       "        vertical-align: top;\n",
       "    }\n",
       "\n",
       "    .dataframe thead th {\n",
       "        text-align: right;\n",
       "    }\n",
       "</style>\n",
       "<table border=\"1\" class=\"dataframe\">\n",
       "  <thead>\n",
       "    <tr style=\"text-align: right;\">\n",
       "      <th></th>\n",
       "      <th>cohort_size</th>\n",
       "      <th>0_%</th>\n",
       "      <th>1_week_%</th>\n",
       "      <th>2_weeks_%</th>\n",
       "      <th>3_weeks_%</th>\n",
       "      <th>4_weeks_%</th>\n",
       "    </tr>\n",
       "    <tr>\n",
       "      <th>first_ts</th>\n",
       "      <th></th>\n",
       "      <th></th>\n",
       "      <th></th>\n",
       "      <th></th>\n",
       "      <th></th>\n",
       "      <th></th>\n",
       "    </tr>\n",
       "  </thead>\n",
       "  <tbody>\n",
       "    <tr>\n",
       "      <th>2019-10-03</th>\n",
       "      <td>547</td>\n",
       "      <td>547.0</td>\n",
       "      <td>0.270567</td>\n",
       "      <td>0.168190</td>\n",
       "      <td>0.109689</td>\n",
       "      <td>0.071298</td>\n",
       "    </tr>\n",
       "    <tr>\n",
       "      <th>2019-10-10</th>\n",
       "      <td>1120</td>\n",
       "      <td>1120.0</td>\n",
       "      <td>0.233929</td>\n",
       "      <td>0.154464</td>\n",
       "      <td>0.070536</td>\n",
       "      <td>NaN</td>\n",
       "    </tr>\n",
       "    <tr>\n",
       "      <th>2019-10-17</th>\n",
       "      <td>1136</td>\n",
       "      <td>1136.0</td>\n",
       "      <td>0.240317</td>\n",
       "      <td>0.088908</td>\n",
       "      <td>NaN</td>\n",
       "      <td>NaN</td>\n",
       "    </tr>\n",
       "    <tr>\n",
       "      <th>2019-10-24</th>\n",
       "      <td>1014</td>\n",
       "      <td>1014.0</td>\n",
       "      <td>0.173570</td>\n",
       "      <td>NaN</td>\n",
       "      <td>NaN</td>\n",
       "      <td>NaN</td>\n",
       "    </tr>\n",
       "    <tr>\n",
       "      <th>2019-10-31</th>\n",
       "      <td>476</td>\n",
       "      <td>476.0</td>\n",
       "      <td>NaN</td>\n",
       "      <td>NaN</td>\n",
       "      <td>NaN</td>\n",
       "      <td>NaN</td>\n",
       "    </tr>\n",
       "  </tbody>\n",
       "</table>\n",
       "</div>"
      ],
      "text/plain": [
       "            cohort_size     0_%  1_week_%  2_weeks_%  3_weeks_%  4_weeks_%\n",
       "first_ts                                                                  \n",
       "2019-10-03          547   547.0  0.270567   0.168190   0.109689   0.071298\n",
       "2019-10-10         1120  1120.0  0.233929   0.154464   0.070536        NaN\n",
       "2019-10-17         1136  1136.0  0.240317   0.088908        NaN        NaN\n",
       "2019-10-24         1014  1014.0  0.173570        NaN        NaN        NaN\n",
       "2019-10-31          476   476.0       NaN        NaN        NaN        NaN"
      ]
     },
     "execution_count": 47,
     "metadata": {},
     "output_type": "execute_result"
    }
   ],
   "source": [
    "# здесь рассчитываем lifetime события относительно первого захода пользователя\n",
    "mobile_dataset['lifetime'] = mobile_dataset['active_date'] - mobile_dataset['first_ts']\n",
    "\n",
    "# строим таблицу удержания\n",
    "result_grouped = mobile_dataset.pivot_table(\n",
    "    index=['first_ts'], columns='lifetime', values='user_id', aggfunc='nunique'\n",
    ")\n",
    "# вычисляем размеры когорт\n",
    "cohort_sizes = (\n",
    "    mobile_dataset.groupby('first_ts')\n",
    "    .agg({'user_id': 'nunique'})\n",
    "    .rename(columns={'user_id': 'cohort_size'})\n",
    ")\n",
    "\n",
    "# объединяем размеры когорт и таблицу удержания\n",
    "result_grouped = cohort_sizes.merge(\n",
    "    result_grouped, on='first_ts', how='left'\n",
    ")\n",
    "\n",
    "#вывести результат result_grouped в процентах. т.е. поделить все значения на cohort_size\n",
    "result_grouped.columns = ['cohort_size', '0_%', '1_week_%', '2_weeks_%', '3_weeks_%', '4_weeks_%']\n",
    "\n",
    "\n",
    "result_grouped ['1_week_%'] = result_grouped ['1_week_%']/result_grouped ['cohort_size']\n",
    "result_grouped ['2_weeks_%'] = result_grouped ['2_weeks_%']/result_grouped ['cohort_size']\n",
    "result_grouped ['3_weeks_%'] = result_grouped ['3_weeks_%']/result_grouped ['cohort_size']\n",
    "result_grouped ['4_weeks_%'] = result_grouped ['4_weeks_%']/result_grouped ['cohort_size']\n",
    "\n",
    "result_grouped\n"
   ]
  },
  {
   "cell_type": "markdown",
   "metadata": {},
   "source": [
    "Расчет удержания для успешных пользователей"
   ]
  },
  {
   "cell_type": "code",
   "execution_count": 48,
   "metadata": {},
   "outputs": [
    {
     "data": {
      "text/html": [
       "<div>\n",
       "<style scoped>\n",
       "    .dataframe tbody tr th:only-of-type {\n",
       "        vertical-align: middle;\n",
       "    }\n",
       "\n",
       "    .dataframe tbody tr th {\n",
       "        vertical-align: top;\n",
       "    }\n",
       "\n",
       "    .dataframe thead th {\n",
       "        text-align: right;\n",
       "    }\n",
       "</style>\n",
       "<table border=\"1\" class=\"dataframe\">\n",
       "  <thead>\n",
       "    <tr style=\"text-align: right;\">\n",
       "      <th></th>\n",
       "      <th>user_id</th>\n",
       "      <th>event_time</th>\n",
       "      <th>event_name</th>\n",
       "      <th>source</th>\n",
       "      <th>active_date</th>\n",
       "      <th>success</th>\n",
       "      <th>lifetime</th>\n",
       "    </tr>\n",
       "  </thead>\n",
       "  <tbody>\n",
       "    <tr>\n",
       "      <th>35</th>\n",
       "      <td>00157779-810c-4498-9e05-a1e9e3cedf93</td>\n",
       "      <td>2019-10-19 21:34:34</td>\n",
       "      <td>search</td>\n",
       "      <td>yandex</td>\n",
       "      <td>2019-10-17</td>\n",
       "      <td>True</td>\n",
       "      <td>0 days</td>\n",
       "    </tr>\n",
       "    <tr>\n",
       "      <th>36</th>\n",
       "      <td>00157779-810c-4498-9e05-a1e9e3cedf93</td>\n",
       "      <td>2019-10-19 21:35:19</td>\n",
       "      <td>search</td>\n",
       "      <td>yandex</td>\n",
       "      <td>2019-10-17</td>\n",
       "      <td>True</td>\n",
       "      <td>0 days</td>\n",
       "    </tr>\n",
       "    <tr>\n",
       "      <th>37</th>\n",
       "      <td>00157779-810c-4498-9e05-a1e9e3cedf93</td>\n",
       "      <td>2019-10-19 21:36:44</td>\n",
       "      <td>search</td>\n",
       "      <td>yandex</td>\n",
       "      <td>2019-10-17</td>\n",
       "      <td>True</td>\n",
       "      <td>0 days</td>\n",
       "    </tr>\n",
       "    <tr>\n",
       "      <th>38</th>\n",
       "      <td>00157779-810c-4498-9e05-a1e9e3cedf93</td>\n",
       "      <td>2019-10-19 21:40:39</td>\n",
       "      <td>photos_show</td>\n",
       "      <td>yandex</td>\n",
       "      <td>2019-10-17</td>\n",
       "      <td>True</td>\n",
       "      <td>0 days</td>\n",
       "    </tr>\n",
       "    <tr>\n",
       "      <th>39</th>\n",
       "      <td>00157779-810c-4498-9e05-a1e9e3cedf93</td>\n",
       "      <td>2019-10-19 21:42:14</td>\n",
       "      <td>photos_show</td>\n",
       "      <td>yandex</td>\n",
       "      <td>2019-10-17</td>\n",
       "      <td>True</td>\n",
       "      <td>0 days</td>\n",
       "    </tr>\n",
       "    <tr>\n",
       "      <th>...</th>\n",
       "      <td>...</td>\n",
       "      <td>...</td>\n",
       "      <td>...</td>\n",
       "      <td>...</td>\n",
       "      <td>...</td>\n",
       "      <td>...</td>\n",
       "      <td>...</td>\n",
       "    </tr>\n",
       "    <tr>\n",
       "      <th>74192</th>\n",
       "      <td>fffb9e79-b927-4dbb-9b48-7fd09b23a62b</td>\n",
       "      <td>2019-11-03 15:51:24</td>\n",
       "      <td>tips_show</td>\n",
       "      <td>google</td>\n",
       "      <td>2019-10-31</td>\n",
       "      <td>True</td>\n",
       "      <td>21 days</td>\n",
       "    </tr>\n",
       "    <tr>\n",
       "      <th>74193</th>\n",
       "      <td>fffb9e79-b927-4dbb-9b48-7fd09b23a62b</td>\n",
       "      <td>2019-11-03 15:51:58</td>\n",
       "      <td>contacts_show</td>\n",
       "      <td>google</td>\n",
       "      <td>2019-10-31</td>\n",
       "      <td>True</td>\n",
       "      <td>21 days</td>\n",
       "    </tr>\n",
       "    <tr>\n",
       "      <th>74194</th>\n",
       "      <td>fffb9e79-b927-4dbb-9b48-7fd09b23a62b</td>\n",
       "      <td>2019-11-03 16:07:41</td>\n",
       "      <td>tips_show</td>\n",
       "      <td>google</td>\n",
       "      <td>2019-10-31</td>\n",
       "      <td>True</td>\n",
       "      <td>21 days</td>\n",
       "    </tr>\n",
       "    <tr>\n",
       "      <th>74195</th>\n",
       "      <td>fffb9e79-b927-4dbb-9b48-7fd09b23a62b</td>\n",
       "      <td>2019-11-03 16:08:18</td>\n",
       "      <td>tips_show</td>\n",
       "      <td>google</td>\n",
       "      <td>2019-10-31</td>\n",
       "      <td>True</td>\n",
       "      <td>21 days</td>\n",
       "    </tr>\n",
       "    <tr>\n",
       "      <th>74196</th>\n",
       "      <td>fffb9e79-b927-4dbb-9b48-7fd09b23a62b</td>\n",
       "      <td>2019-11-03 16:08:25</td>\n",
       "      <td>tips_show</td>\n",
       "      <td>google</td>\n",
       "      <td>2019-10-31</td>\n",
       "      <td>True</td>\n",
       "      <td>21 days</td>\n",
       "    </tr>\n",
       "  </tbody>\n",
       "</table>\n",
       "<p>27197 rows × 7 columns</p>\n",
       "</div>"
      ],
      "text/plain": [
       "                                    user_id          event_time  \\\n",
       "35     00157779-810c-4498-9e05-a1e9e3cedf93 2019-10-19 21:34:34   \n",
       "36     00157779-810c-4498-9e05-a1e9e3cedf93 2019-10-19 21:35:19   \n",
       "37     00157779-810c-4498-9e05-a1e9e3cedf93 2019-10-19 21:36:44   \n",
       "38     00157779-810c-4498-9e05-a1e9e3cedf93 2019-10-19 21:40:39   \n",
       "39     00157779-810c-4498-9e05-a1e9e3cedf93 2019-10-19 21:42:14   \n",
       "...                                     ...                 ...   \n",
       "74192  fffb9e79-b927-4dbb-9b48-7fd09b23a62b 2019-11-03 15:51:24   \n",
       "74193  fffb9e79-b927-4dbb-9b48-7fd09b23a62b 2019-11-03 15:51:58   \n",
       "74194  fffb9e79-b927-4dbb-9b48-7fd09b23a62b 2019-11-03 16:07:41   \n",
       "74195  fffb9e79-b927-4dbb-9b48-7fd09b23a62b 2019-11-03 16:08:18   \n",
       "74196  fffb9e79-b927-4dbb-9b48-7fd09b23a62b 2019-11-03 16:08:25   \n",
       "\n",
       "          event_name  source active_date  success lifetime  \n",
       "35            search  yandex  2019-10-17     True   0 days  \n",
       "36            search  yandex  2019-10-17     True   0 days  \n",
       "37            search  yandex  2019-10-17     True   0 days  \n",
       "38       photos_show  yandex  2019-10-17     True   0 days  \n",
       "39       photos_show  yandex  2019-10-17     True   0 days  \n",
       "...              ...     ...         ...      ...      ...  \n",
       "74192      tips_show  google  2019-10-31     True  21 days  \n",
       "74193  contacts_show  google  2019-10-31     True  21 days  \n",
       "74194      tips_show  google  2019-10-31     True  21 days  \n",
       "74195      tips_show  google  2019-10-31     True  21 days  \n",
       "74196      tips_show  google  2019-10-31     True  21 days  \n",
       "\n",
       "[27197 rows x 7 columns]"
      ]
     },
     "execution_count": 48,
     "metadata": {},
     "output_type": "execute_result"
    }
   ],
   "source": [
    "good_users_events = mobile_dataset.query('success == True')\n",
    "good_users_events=good_users_events.drop(columns=['first_ts'])\n",
    "# здесь мы задаем текущую дату события в формате недели\n",
    "good_users_events['active_date'] = good_users_events['event_time'].astype('datetime64[W]')\n",
    "\n",
    "# cгруппируем и найдем первый заход для каждого id\n",
    "first_ts = good_users_events.groupby('user_id').agg({'event_time': 'min'}).reset_index()\n",
    "good_users_events"
   ]
  },
  {
   "cell_type": "code",
   "execution_count": 49,
   "metadata": {},
   "outputs": [
    {
     "data": {
      "text/html": [
       "<div>\n",
       "<style scoped>\n",
       "    .dataframe tbody tr th:only-of-type {\n",
       "        vertical-align: middle;\n",
       "    }\n",
       "\n",
       "    .dataframe tbody tr th {\n",
       "        vertical-align: top;\n",
       "    }\n",
       "\n",
       "    .dataframe thead th {\n",
       "        text-align: right;\n",
       "    }\n",
       "</style>\n",
       "<table border=\"1\" class=\"dataframe\">\n",
       "  <thead>\n",
       "    <tr style=\"text-align: right;\">\n",
       "      <th></th>\n",
       "      <th>user_id</th>\n",
       "      <th>first_ts</th>\n",
       "      <th>event_time</th>\n",
       "      <th>event_name</th>\n",
       "      <th>source</th>\n",
       "      <th>active_date</th>\n",
       "      <th>success</th>\n",
       "      <th>lifetime</th>\n",
       "    </tr>\n",
       "  </thead>\n",
       "  <tbody>\n",
       "    <tr>\n",
       "      <th>0</th>\n",
       "      <td>00157779-810c-4498-9e05-a1e9e3cedf93</td>\n",
       "      <td>2019-10-17</td>\n",
       "      <td>2019-10-19 21:34:34</td>\n",
       "      <td>search</td>\n",
       "      <td>yandex</td>\n",
       "      <td>2019-10-17</td>\n",
       "      <td>True</td>\n",
       "      <td>0 days</td>\n",
       "    </tr>\n",
       "    <tr>\n",
       "      <th>1</th>\n",
       "      <td>00157779-810c-4498-9e05-a1e9e3cedf93</td>\n",
       "      <td>2019-10-17</td>\n",
       "      <td>2019-10-19 21:35:19</td>\n",
       "      <td>search</td>\n",
       "      <td>yandex</td>\n",
       "      <td>2019-10-17</td>\n",
       "      <td>True</td>\n",
       "      <td>0 days</td>\n",
       "    </tr>\n",
       "    <tr>\n",
       "      <th>2</th>\n",
       "      <td>00157779-810c-4498-9e05-a1e9e3cedf93</td>\n",
       "      <td>2019-10-17</td>\n",
       "      <td>2019-10-19 21:36:44</td>\n",
       "      <td>search</td>\n",
       "      <td>yandex</td>\n",
       "      <td>2019-10-17</td>\n",
       "      <td>True</td>\n",
       "      <td>0 days</td>\n",
       "    </tr>\n",
       "    <tr>\n",
       "      <th>3</th>\n",
       "      <td>00157779-810c-4498-9e05-a1e9e3cedf93</td>\n",
       "      <td>2019-10-17</td>\n",
       "      <td>2019-10-19 21:40:39</td>\n",
       "      <td>photos_show</td>\n",
       "      <td>yandex</td>\n",
       "      <td>2019-10-17</td>\n",
       "      <td>True</td>\n",
       "      <td>0 days</td>\n",
       "    </tr>\n",
       "    <tr>\n",
       "      <th>4</th>\n",
       "      <td>00157779-810c-4498-9e05-a1e9e3cedf93</td>\n",
       "      <td>2019-10-17</td>\n",
       "      <td>2019-10-19 21:42:14</td>\n",
       "      <td>photos_show</td>\n",
       "      <td>yandex</td>\n",
       "      <td>2019-10-17</td>\n",
       "      <td>True</td>\n",
       "      <td>0 days</td>\n",
       "    </tr>\n",
       "    <tr>\n",
       "      <th>...</th>\n",
       "      <td>...</td>\n",
       "      <td>...</td>\n",
       "      <td>...</td>\n",
       "      <td>...</td>\n",
       "      <td>...</td>\n",
       "      <td>...</td>\n",
       "      <td>...</td>\n",
       "      <td>...</td>\n",
       "    </tr>\n",
       "    <tr>\n",
       "      <th>27192</th>\n",
       "      <td>fffb9e79-b927-4dbb-9b48-7fd09b23a62b</td>\n",
       "      <td>2019-10-10</td>\n",
       "      <td>2019-11-03 15:51:24</td>\n",
       "      <td>tips_show</td>\n",
       "      <td>google</td>\n",
       "      <td>2019-10-31</td>\n",
       "      <td>True</td>\n",
       "      <td>21 days</td>\n",
       "    </tr>\n",
       "    <tr>\n",
       "      <th>27193</th>\n",
       "      <td>fffb9e79-b927-4dbb-9b48-7fd09b23a62b</td>\n",
       "      <td>2019-10-10</td>\n",
       "      <td>2019-11-03 15:51:58</td>\n",
       "      <td>contacts_show</td>\n",
       "      <td>google</td>\n",
       "      <td>2019-10-31</td>\n",
       "      <td>True</td>\n",
       "      <td>21 days</td>\n",
       "    </tr>\n",
       "    <tr>\n",
       "      <th>27194</th>\n",
       "      <td>fffb9e79-b927-4dbb-9b48-7fd09b23a62b</td>\n",
       "      <td>2019-10-10</td>\n",
       "      <td>2019-11-03 16:07:41</td>\n",
       "      <td>tips_show</td>\n",
       "      <td>google</td>\n",
       "      <td>2019-10-31</td>\n",
       "      <td>True</td>\n",
       "      <td>21 days</td>\n",
       "    </tr>\n",
       "    <tr>\n",
       "      <th>27195</th>\n",
       "      <td>fffb9e79-b927-4dbb-9b48-7fd09b23a62b</td>\n",
       "      <td>2019-10-10</td>\n",
       "      <td>2019-11-03 16:08:18</td>\n",
       "      <td>tips_show</td>\n",
       "      <td>google</td>\n",
       "      <td>2019-10-31</td>\n",
       "      <td>True</td>\n",
       "      <td>21 days</td>\n",
       "    </tr>\n",
       "    <tr>\n",
       "      <th>27196</th>\n",
       "      <td>fffb9e79-b927-4dbb-9b48-7fd09b23a62b</td>\n",
       "      <td>2019-10-10</td>\n",
       "      <td>2019-11-03 16:08:25</td>\n",
       "      <td>tips_show</td>\n",
       "      <td>google</td>\n",
       "      <td>2019-10-31</td>\n",
       "      <td>True</td>\n",
       "      <td>21 days</td>\n",
       "    </tr>\n",
       "  </tbody>\n",
       "</table>\n",
       "<p>27197 rows × 8 columns</p>\n",
       "</div>"
      ],
      "text/plain": [
       "                                    user_id   first_ts          event_time  \\\n",
       "0      00157779-810c-4498-9e05-a1e9e3cedf93 2019-10-17 2019-10-19 21:34:34   \n",
       "1      00157779-810c-4498-9e05-a1e9e3cedf93 2019-10-17 2019-10-19 21:35:19   \n",
       "2      00157779-810c-4498-9e05-a1e9e3cedf93 2019-10-17 2019-10-19 21:36:44   \n",
       "3      00157779-810c-4498-9e05-a1e9e3cedf93 2019-10-17 2019-10-19 21:40:39   \n",
       "4      00157779-810c-4498-9e05-a1e9e3cedf93 2019-10-17 2019-10-19 21:42:14   \n",
       "...                                     ...        ...                 ...   \n",
       "27192  fffb9e79-b927-4dbb-9b48-7fd09b23a62b 2019-10-10 2019-11-03 15:51:24   \n",
       "27193  fffb9e79-b927-4dbb-9b48-7fd09b23a62b 2019-10-10 2019-11-03 15:51:58   \n",
       "27194  fffb9e79-b927-4dbb-9b48-7fd09b23a62b 2019-10-10 2019-11-03 16:07:41   \n",
       "27195  fffb9e79-b927-4dbb-9b48-7fd09b23a62b 2019-10-10 2019-11-03 16:08:18   \n",
       "27196  fffb9e79-b927-4dbb-9b48-7fd09b23a62b 2019-10-10 2019-11-03 16:08:25   \n",
       "\n",
       "          event_name  source active_date  success lifetime  \n",
       "0             search  yandex  2019-10-17     True   0 days  \n",
       "1             search  yandex  2019-10-17     True   0 days  \n",
       "2             search  yandex  2019-10-17     True   0 days  \n",
       "3        photos_show  yandex  2019-10-17     True   0 days  \n",
       "4        photos_show  yandex  2019-10-17     True   0 days  \n",
       "...              ...     ...         ...      ...      ...  \n",
       "27192      tips_show  google  2019-10-31     True  21 days  \n",
       "27193  contacts_show  google  2019-10-31     True  21 days  \n",
       "27194      tips_show  google  2019-10-31     True  21 days  \n",
       "27195      tips_show  google  2019-10-31     True  21 days  \n",
       "27196      tips_show  google  2019-10-31     True  21 days  \n",
       "\n",
       "[27197 rows x 8 columns]"
      ]
     },
     "execution_count": 49,
     "metadata": {},
     "output_type": "execute_result"
    }
   ],
   "source": [
    "first_ts = first_ts.rename(columns={'event_time':'first_ts'})\n",
    "first_ts['first_ts'] = first_ts['first_ts'].astype('datetime64[W]')\n",
    "# объеденяем датасеты\n",
    "good_users_events = first_ts.merge(good_users_events, on = 'user_id')\n",
    "good_users_events"
   ]
  },
  {
   "cell_type": "code",
   "execution_count": 50,
   "metadata": {},
   "outputs": [
    {
     "data": {
      "text/html": [
       "<div>\n",
       "<style scoped>\n",
       "    .dataframe tbody tr th:only-of-type {\n",
       "        vertical-align: middle;\n",
       "    }\n",
       "\n",
       "    .dataframe tbody tr th {\n",
       "        vertical-align: top;\n",
       "    }\n",
       "\n",
       "    .dataframe thead th {\n",
       "        text-align: right;\n",
       "    }\n",
       "</style>\n",
       "<table border=\"1\" class=\"dataframe\">\n",
       "  <thead>\n",
       "    <tr style=\"text-align: right;\">\n",
       "      <th></th>\n",
       "      <th>cohort_size</th>\n",
       "      <th>0_%</th>\n",
       "      <th>1_week_%</th>\n",
       "      <th>2_weeks_%</th>\n",
       "      <th>3_weeks_%</th>\n",
       "      <th>4_weeks_%</th>\n",
       "    </tr>\n",
       "    <tr>\n",
       "      <th>first_ts</th>\n",
       "      <th></th>\n",
       "      <th></th>\n",
       "      <th></th>\n",
       "      <th></th>\n",
       "      <th></th>\n",
       "      <th></th>\n",
       "    </tr>\n",
       "  </thead>\n",
       "  <tbody>\n",
       "    <tr>\n",
       "      <th>2019-10-03</th>\n",
       "      <td>140</td>\n",
       "      <td>140.0</td>\n",
       "      <td>0.378571</td>\n",
       "      <td>0.307143</td>\n",
       "      <td>0.178571</td>\n",
       "      <td>0.107143</td>\n",
       "    </tr>\n",
       "    <tr>\n",
       "      <th>2019-10-10</th>\n",
       "      <td>233</td>\n",
       "      <td>233.0</td>\n",
       "      <td>0.364807</td>\n",
       "      <td>0.236052</td>\n",
       "      <td>0.128755</td>\n",
       "      <td>NaN</td>\n",
       "    </tr>\n",
       "    <tr>\n",
       "      <th>2019-10-17</th>\n",
       "      <td>269</td>\n",
       "      <td>269.0</td>\n",
       "      <td>0.330855</td>\n",
       "      <td>0.141264</td>\n",
       "      <td>NaN</td>\n",
       "      <td>NaN</td>\n",
       "    </tr>\n",
       "    <tr>\n",
       "      <th>2019-10-24</th>\n",
       "      <td>236</td>\n",
       "      <td>236.0</td>\n",
       "      <td>0.330508</td>\n",
       "      <td>NaN</td>\n",
       "      <td>NaN</td>\n",
       "      <td>NaN</td>\n",
       "    </tr>\n",
       "    <tr>\n",
       "      <th>2019-10-31</th>\n",
       "      <td>103</td>\n",
       "      <td>103.0</td>\n",
       "      <td>NaN</td>\n",
       "      <td>NaN</td>\n",
       "      <td>NaN</td>\n",
       "      <td>NaN</td>\n",
       "    </tr>\n",
       "  </tbody>\n",
       "</table>\n",
       "</div>"
      ],
      "text/plain": [
       "            cohort_size    0_%  1_week_%  2_weeks_%  3_weeks_%  4_weeks_%\n",
       "first_ts                                                                 \n",
       "2019-10-03          140  140.0  0.378571   0.307143   0.178571   0.107143\n",
       "2019-10-10          233  233.0  0.364807   0.236052   0.128755        NaN\n",
       "2019-10-17          269  269.0  0.330855   0.141264        NaN        NaN\n",
       "2019-10-24          236  236.0  0.330508        NaN        NaN        NaN\n",
       "2019-10-31          103  103.0       NaN        NaN        NaN        NaN"
      ]
     },
     "execution_count": 50,
     "metadata": {},
     "output_type": "execute_result"
    }
   ],
   "source": [
    "# здесь рассчитываесмя lifetime события относительно первого захода пользователя\n",
    "good_users_events['lifetime'] = good_users_events['active_date'] - good_users_events['first_ts']\n",
    "\n",
    "# строим таблицу удержания\n",
    "show_result_grouped = good_users_events.pivot_table(\n",
    "    index=['first_ts'], columns='lifetime', values='user_id', aggfunc='nunique'\n",
    ")\n",
    "# вычисляем размеры когорт\n",
    "cohort_sizes = (\n",
    "    good_users_events.groupby('first_ts')\n",
    "    .agg({'user_id': 'nunique'})\n",
    "    .rename(columns={'user_id': 'cohort_size'})\n",
    ")\n",
    "\n",
    "# объединяем размеры когорт и таблицу удержания\n",
    "show_result_grouped = cohort_sizes.merge(\n",
    "    show_result_grouped, on='first_ts', how='left'\n",
    ")\n",
    "\n",
    "#вывести результат result_grouped в процентах. т.е. поделить все значения на cohort_size\n",
    "show_result_grouped.columns = ['cohort_size', '0_%', '1_week_%', '2_weeks_%', '3_weeks_%', '4_weeks_%']\n",
    "\n",
    "\n",
    "show_result_grouped ['1_week_%'] = show_result_grouped ['1_week_%']/show_result_grouped ['cohort_size']\n",
    "show_result_grouped ['2_weeks_%'] =show_result_grouped ['2_weeks_%']/show_result_grouped ['cohort_size']\n",
    "show_result_grouped ['3_weeks_%'] = show_result_grouped ['3_weeks_%']/show_result_grouped ['cohort_size']\n",
    "show_result_grouped ['4_weeks_%'] = show_result_grouped ['4_weeks_%']/show_result_grouped ['cohort_size']\n",
    "\n",
    "show_result_grouped"
   ]
  },
  {
   "cell_type": "code",
   "execution_count": 51,
   "metadata": {},
   "outputs": [
    {
     "data": {
      "image/png": "[encoded data removed]",
      "text/plain": [
       "<Figure size 1080x432 with 2 Axes>"
      ]
     },
     "metadata": {
      "needs_background": "light"
     },
     "output_type": "display_data"
    },
    {
     "data": {
      "image/png": "[encoded data removed]",
      "text/plain": [
       "<Figure size 1080x432 with 2 Axes>"
      ]
     },
     "metadata": {
      "needs_background": "light"
     },
     "output_type": "display_data"
    }
   ],
   "source": [
    "# строим хитмэп\n",
    "\n",
    "plt.figure(figsize=(15, 6))  # задаём размер графика\n",
    "sns.heatmap(\n",
    "    result_grouped.drop(columns=['cohort_size', '0_%']),  # удаляем размеры когорт\n",
    "    annot=True,  # включаем подписи\n",
    "    fmt='.2%',  # переводим значения в проценты\n",
    ")\n",
    "plt.title('Тепловая карта удержания всей выборки')  # название графика\n",
    "\n",
    "plt.figure(figsize=(15, 6))  # задаём размер графика\n",
    "sns.heatmap(\n",
    "    show_result_grouped.drop(columns=['cohort_size', '0_%']),  # удаляем размеры когорт\n",
    "    annot=True,  # включаем подписи\n",
    "    fmt='.2%',  # переводим значения в проценты\n",
    ")\n",
    "plt.title('Тепловая карта удержания успешных пользователей')  # название графика\n",
    "\n",
    "\n",
    "\n",
    "plt.show()\n"
   ]
  },
  {
   "cell_type": "markdown",
   "metadata": {},
   "source": [
    "Графики удержания показывают ,что в приложении удержание хорошее. Успешные пользователи больше остаются с приложением. Поэтому надо помогать клиентам находить ,что они ищут. Возможно стоит изучить поисковые запросы неуспешных пользователей и добавить новые товары."
   ]
  },
  {
   "cell_type": "markdown",
   "metadata": {},
   "source": [
    "## <span style=\"color:black\">Проверка гипотез с помощью статистического теста<span>"
   ]
  },
  {
   "cell_type": "markdown",
   "metadata": {},
   "source": [
    "Надо разделить данные на 2 группы. Одни пользователи совершают действия tips_show и tips_click, другие — только tips_show. Проверить пересечение между группами. Сделать груфики, посмотреть распределение. Посчитать конверсию в обоих группах."
   ]
  },
  {
   "cell_type": "code",
   "execution_count": 52,
   "metadata": {},
   "outputs": [],
   "source": [
    "#функция для проверки гипотез:\n",
    "def z_test(successes1, successes2, trials1, trials2, alpha=0.05):\n",
    "    p1 = successes1 / trials1\n",
    "    p2 = successes2 / trials2\n",
    "    \n",
    "    p_combined = (successes1 + successes2) / (trials1 + trials2)\n",
    "    difference = p1 - p2\n",
    "    \n",
    "    z_value = difference / mth.sqrt(p_combined * (1 - p_combined) * (1/trials1 + 1/trials2)) \n",
    "    distr = st.norm(0, 1)  \n",
    "    p_value = (1 - distr.cdf(abs(z_value))) * 2 \n",
    "    print('p-значение: ', p_value)\n",
    " \n",
    "    if (p_value < alpha): \n",
    "        display('Отвергаем нулевую гипотезу, между выборками есть статистически значимые различия')\n",
    "    else:\n",
    "        display('Не получилось отвергнуть нулевую гипотезу, статистически значимых различий в выборках нет')"
   ]
  },
  {
   "cell_type": "code",
   "execution_count": 53,
   "metadata": {},
   "outputs": [
    {
     "name": "stdout",
     "output_type": "stream",
     "text": [
      "Количество пользователей все \"tips_show\" = 2801\n",
      "Количество пользователей \"tips_show\"+\"tips_click\" = 297\n",
      "Количество пользователей только \"tips_show\" = 2504\n"
     ]
    }
   ],
   "source": [
    "#выделим две группы:\n",
    "tips_show_users = mobile_dataset.query('event_name ==\"tips_show\"')['user_id'].unique().tolist()\n",
    "print('Количество пользователей все \"tips_show\" =', len(tips_show_users))\n",
    "\n",
    "tips_show_click_users = mobile_dataset.query('event_name ==\"tips_click\" and user_id==@tips_show_users')['user_id'].unique().tolist()\n",
    "trials2 = len(tips_show_click_users)\n",
    "print('Количество пользователей \"tips_show\"+\"tips_click\" =', trials2)\n",
    "\n",
    "#trials1 = list(set(tips_show_users) - set(tips_show_click_users))\n",
    "trials1 = len(tips_show_users) - trials2\n",
    "print('Количество пользователей только \"tips_show\" =', trials1)"
   ]
  },
  {
   "cell_type": "code",
   "execution_count": 54,
   "metadata": {},
   "outputs": [
    {
     "name": "stdout",
     "output_type": "stream",
     "text": [
      "Количество всего событий у tips_show+click пользователей = 12262\n",
      "Количество ЦС у tips_show+click пользователей = 838\n",
      "Конверсия в ЦС tips_show+click пользователей = 30.64%\n"
     ]
    }
   ],
   "source": [
    "#конверсия в \"contacts_show\" tips_show+click пользователей:\n",
    "show_click_events = mobile_dataset.query('user_id==@tips_show_click_users')[['user_id', 'event_name']]\n",
    "#display(show_click_events.sample(4))\n",
    "print('Количество всего событий у tips_show+click пользователей =', len(show_click_events))\n",
    "print('Количество ЦС у tips_show+click пользователей =', show_click_events[show_click_events['event_name']==\"contacts_show\"]['event_name'].count())\n",
    "\n",
    "successes2 = show_click_events[show_click_events['event_name']==\"contacts_show\"]['user_id'].nunique()\n",
    "show_click_convertion = successes2 / trials2\n",
    "print(f'Конверсия в ЦС tips_show+click пользователей = {round(show_click_convertion*100, 2)}%')"
   ]
  },
  {
   "cell_type": "code",
   "execution_count": 55,
   "metadata": {},
   "outputs": [
    {
     "name": "stdout",
     "output_type": "stream",
     "text": [
      "Количество всего событий у только tips_show пользователей = 56327\n",
      "Количество ЦС у только tips_show пользователей = 2827\n",
      "Конверсия в ЦС у только tips_show пользователей = 20.61%\n"
     ]
    }
   ],
   "source": [
    "#конверсия в \"contacts_show\" tips_show пользователей:\n",
    "only_show_events = mobile_dataset.query('user_id==@tips_show_users')[['user_id', 'event_name']]\n",
    "print('Количество всего событий у только tips_show пользователей =', len(only_show_events))\n",
    "print('Количество ЦС у только tips_show пользователей =', only_show_events[only_show_events['event_name']==\"contacts_show\"]['event_name'].count())\n",
    "\n",
    "successes1 = only_show_events[only_show_events['event_name']==\"contacts_show\"]['user_id'].nunique()\n",
    "only_show_convertion = successes1 / trials1\n",
    "print(f'Конверсия в ЦС у только tips_show пользователей = {round(only_show_convertion*100, 2)}%')"
   ]
  },
  {
   "cell_type": "markdown",
   "metadata": {},
   "source": [
    "### <span style=\"color:black\">Гипотеза 1<span>"
   ]
  },
  {
   "cell_type": "markdown",
   "metadata": {},
   "source": [
    "Гипотеза 1:\n",
    "\n",
    "Нулевая гипотеза - Конверсия в просмотры контактов равна у этих двух групп.\n",
    "\n",
    "Альтернативная гипотеза - конверсия в просмотры контактов различается у этих двух групп."
   ]
  },
  {
   "cell_type": "code",
   "execution_count": 56,
   "metadata": {},
   "outputs": [
    {
     "name": "stdout",
     "output_type": "stream",
     "text": [
      "p-значение:  7.251854653844703e-05\n"
     ]
    },
    {
     "data": {
      "text/plain": [
       "'Отвергаем нулевую гипотезу, между выборками есть статистически значимые различия'"
      ]
     },
     "metadata": {},
     "output_type": "display_data"
    }
   ],
   "source": [
    "z_test(successes1, successes2, trials1, trials2, alpha=0.05)"
   ]
  },
  {
   "cell_type": "markdown",
   "metadata": {},
   "source": [
    "### <span style=\"color:black\">Гипотеза 2<span>"
   ]
  },
  {
   "cell_type": "code",
   "execution_count": 57,
   "metadata": {},
   "outputs": [
    {
     "name": "stdout",
     "output_type": "stream",
     "text": [
      "Количество уникальных пользователей группы tips_show в событии photos_show 13\n",
      "Конверсия в фотографии у только tips_show пользователей = 0.52%\n"
     ]
    }
   ],
   "source": [
    "#конверсия в \"photos_show\" tips_show пользователей:\n",
    "successes3 = only_show_events[only_show_events['event_name']==\"photos_show\"]['user_id'].nunique()\n",
    "only_show_photo_convertion = successes3 / trials1\n",
    "print('Количество уникальных пользователей группы tips_show в событии photos_show', successes3)\n",
    "print(f'Конверсия в фотографии у только tips_show пользователей = {round(only_show_photo_convertion*100, 2)}%')"
   ]
  },
  {
   "cell_type": "code",
   "execution_count": 58,
   "metadata": {},
   "outputs": [
    {
     "name": "stdout",
     "output_type": "stream",
     "text": [
      "Количество уникальных пользователей группы tips_show+click в событии photos_show 4\n",
      "Конверсия в ЦС tips_show+click пользователей = 1.35%\n"
     ]
    }
   ],
   "source": [
    "#конверсия в \"photos_show\" tips_show+click пользователей:\n",
    "successes4 = show_click_events[show_click_events['event_name']==\"photos_show\"]['user_id'].nunique()\n",
    "show_click_convertion = successes4 / trials2\n",
    "print('Количество уникальных пользователей группы tips_show+click в событии photos_show', successes4)\n",
    "print(f'Конверсия в ЦС tips_show+click пользователей = {round(show_click_convertion*100, 2)}%')"
   ]
  },
  {
   "cell_type": "markdown",
   "metadata": {},
   "source": [
    "Гипотеза 2: \n",
    "\n",
    "Нулевая гипотеза - Конверсия в просмотры фотографий равна у этих двух групп.\n",
    "\n",
    "Альтернативная гипотеза - конверсия в просмотры фотографий различается у этих двух групп"
   ]
  },
  {
   "cell_type": "code",
   "execution_count": 59,
   "metadata": {},
   "outputs": [
    {
     "name": "stdout",
     "output_type": "stream",
     "text": [
      "p-значение:  0.08250699972293041\n"
     ]
    },
    {
     "data": {
      "text/plain": [
       "'Не получилось отвергнуть нулевую гипотезу, статистически значимых различий в выборках нет'"
      ]
     },
     "metadata": {},
     "output_type": "display_data"
    }
   ],
   "source": [
    "z_test(successes3, successes4, trials1, trials2, alpha=0.05)"
   ]
  },
  {
   "cell_type": "markdown",
   "metadata": {},
   "source": [
    "Мы рассмотрели две гипотезы и пришли к выводам:\n",
    "1. Конверсия в просмотры контактов различается у этих двух групп.\n",
    "2. Конверсия в просмотры фотографий равна у этих двух групп"
   ]
  },
  {
   "cell_type": "markdown",
   "metadata": {},
   "source": [
    "## <span style=\"color:black\">Презентация<span>"
   ]
  },
  {
   "cell_type": "markdown",
   "metadata": {},
   "source": [
    "https://disk.yandex.ru/d/4_j0GhtbIvS3Kg"
   ]
  },
  {
   "cell_type": "markdown",
   "metadata": {},
   "source": [
    "## <span style=\"color:black\">Дашборд Табло<span>"
   ]
  },
  {
   "cell_type": "markdown",
   "metadata": {},
   "source": [
    "https://public.tableau.com/app/profile/tania.shchur/viz/_16533202362910/Dashboard1"
   ]
  },
  {
   "cell_type": "code",
   "execution_count": 60,
   "metadata": {},
   "outputs": [],
   "source": [
    "mobile_dataset[['event_time', 'event_name', 'user_id', 'source']].to_csv('mobile_dataset_tableau.csv', index = False)"
   ]
  },
  {
   "cell_type": "code",
   "execution_count": 61,
   "metadata": {},
   "outputs": [
    {
     "data": {
      "text/html": [
       "<div>\n",
       "<style scoped>\n",
       "    .dataframe tbody tr th:only-of-type {\n",
       "        vertical-align: middle;\n",
       "    }\n",
       "\n",
       "    .dataframe tbody tr th {\n",
       "        vertical-align: top;\n",
       "    }\n",
       "\n",
       "    .dataframe thead th {\n",
       "        text-align: right;\n",
       "    }\n",
       "</style>\n",
       "<table border=\"1\" class=\"dataframe\">\n",
       "  <thead>\n",
       "    <tr style=\"text-align: right;\">\n",
       "      <th></th>\n",
       "      <th>event_time</th>\n",
       "      <th>event_name</th>\n",
       "      <th>user_id</th>\n",
       "      <th>source</th>\n",
       "    </tr>\n",
       "  </thead>\n",
       "  <tbody>\n",
       "    <tr>\n",
       "      <th>0</th>\n",
       "      <td>2019-10-07 13:39:46</td>\n",
       "      <td>tips_show</td>\n",
       "      <td>0001b1d5-b74a-4cbf-aeb0-7df5947bf349</td>\n",
       "      <td>other</td>\n",
       "    </tr>\n",
       "    <tr>\n",
       "      <th>1</th>\n",
       "      <td>2019-10-07 13:40:31</td>\n",
       "      <td>tips_show</td>\n",
       "      <td>0001b1d5-b74a-4cbf-aeb0-7df5947bf349</td>\n",
       "      <td>other</td>\n",
       "    </tr>\n",
       "    <tr>\n",
       "      <th>2</th>\n",
       "      <td>2019-10-07 13:41:06</td>\n",
       "      <td>tips_show</td>\n",
       "      <td>0001b1d5-b74a-4cbf-aeb0-7df5947bf349</td>\n",
       "      <td>other</td>\n",
       "    </tr>\n",
       "    <tr>\n",
       "      <th>3</th>\n",
       "      <td>2019-10-07 13:43:21</td>\n",
       "      <td>tips_show</td>\n",
       "      <td>0001b1d5-b74a-4cbf-aeb0-7df5947bf349</td>\n",
       "      <td>other</td>\n",
       "    </tr>\n",
       "    <tr>\n",
       "      <th>4</th>\n",
       "      <td>2019-10-07 13:45:31</td>\n",
       "      <td>tips_show</td>\n",
       "      <td>0001b1d5-b74a-4cbf-aeb0-7df5947bf349</td>\n",
       "      <td>other</td>\n",
       "    </tr>\n",
       "    <tr>\n",
       "      <th>...</th>\n",
       "      <td>...</td>\n",
       "      <td>...</td>\n",
       "      <td>...</td>\n",
       "      <td>...</td>\n",
       "    </tr>\n",
       "    <tr>\n",
       "      <th>74192</th>\n",
       "      <td>2019-11-03 15:51:24</td>\n",
       "      <td>tips_show</td>\n",
       "      <td>fffb9e79-b927-4dbb-9b48-7fd09b23a62b</td>\n",
       "      <td>google</td>\n",
       "    </tr>\n",
       "    <tr>\n",
       "      <th>74193</th>\n",
       "      <td>2019-11-03 15:51:58</td>\n",
       "      <td>contacts_show</td>\n",
       "      <td>fffb9e79-b927-4dbb-9b48-7fd09b23a62b</td>\n",
       "      <td>google</td>\n",
       "    </tr>\n",
       "    <tr>\n",
       "      <th>74194</th>\n",
       "      <td>2019-11-03 16:07:41</td>\n",
       "      <td>tips_show</td>\n",
       "      <td>fffb9e79-b927-4dbb-9b48-7fd09b23a62b</td>\n",
       "      <td>google</td>\n",
       "    </tr>\n",
       "    <tr>\n",
       "      <th>74195</th>\n",
       "      <td>2019-11-03 16:08:18</td>\n",
       "      <td>tips_show</td>\n",
       "      <td>fffb9e79-b927-4dbb-9b48-7fd09b23a62b</td>\n",
       "      <td>google</td>\n",
       "    </tr>\n",
       "    <tr>\n",
       "      <th>74196</th>\n",
       "      <td>2019-11-03 16:08:25</td>\n",
       "      <td>tips_show</td>\n",
       "      <td>fffb9e79-b927-4dbb-9b48-7fd09b23a62b</td>\n",
       "      <td>google</td>\n",
       "    </tr>\n",
       "  </tbody>\n",
       "</table>\n",
       "<p>74197 rows × 4 columns</p>\n",
       "</div>"
      ],
      "text/plain": [
       "                event_time     event_name  \\\n",
       "0      2019-10-07 13:39:46      tips_show   \n",
       "1      2019-10-07 13:40:31      tips_show   \n",
       "2      2019-10-07 13:41:06      tips_show   \n",
       "3      2019-10-07 13:43:21      tips_show   \n",
       "4      2019-10-07 13:45:31      tips_show   \n",
       "...                    ...            ...   \n",
       "74192  2019-11-03 15:51:24      tips_show   \n",
       "74193  2019-11-03 15:51:58  contacts_show   \n",
       "74194  2019-11-03 16:07:41      tips_show   \n",
       "74195  2019-11-03 16:08:18      tips_show   \n",
       "74196  2019-11-03 16:08:25      tips_show   \n",
       "\n",
       "                                    user_id  source  \n",
       "0      0001b1d5-b74a-4cbf-aeb0-7df5947bf349   other  \n",
       "1      0001b1d5-b74a-4cbf-aeb0-7df5947bf349   other  \n",
       "2      0001b1d5-b74a-4cbf-aeb0-7df5947bf349   other  \n",
       "3      0001b1d5-b74a-4cbf-aeb0-7df5947bf349   other  \n",
       "4      0001b1d5-b74a-4cbf-aeb0-7df5947bf349   other  \n",
       "...                                     ...     ...  \n",
       "74192  fffb9e79-b927-4dbb-9b48-7fd09b23a62b  google  \n",
       "74193  fffb9e79-b927-4dbb-9b48-7fd09b23a62b  google  \n",
       "74194  fffb9e79-b927-4dbb-9b48-7fd09b23a62b  google  \n",
       "74195  fffb9e79-b927-4dbb-9b48-7fd09b23a62b  google  \n",
       "74196  fffb9e79-b927-4dbb-9b48-7fd09b23a62b  google  \n",
       "\n",
       "[74197 rows x 4 columns]"
      ]
     },
     "execution_count": 61,
     "metadata": {},
     "output_type": "execute_result"
    }
   ],
   "source": [
    "pd.read_csv('mobile_dataset_tableau.csv')"
   ]
  },
  {
   "cell_type": "markdown",
   "metadata": {},
   "source": [
    "## <span style=\"color:black\">Вывод<span>"
   ]
  },
  {
   "cell_type": "markdown",
   "metadata": {},
   "source": [
    "Есть данные о действиях 4293 пользователей в мобильном приложении и источники их перехода. Заменили названия столбцов для удобства работы. Пропусков, дубликатов нет. Тип данных заменили только в столбце с временем, также соратили дату до секунд. Проверили на пересекающихся пользователей по источникам, все хорошо, пересечений нет. Также проверили, что пользователи в двух файлах одинаковые. Тут тоже все хорошо. Уифицировали название целевого события и поисков.\n",
    "\n",
    "Пользователи имеют как самостоятельные события, так и пары связанных событий, например просмотр фотографий и открытие контактов. У них есть множество путей и комбинаций событий в приложении. \n",
    "Поэтому мы можем рассмотреть влияние одного события на последующее. Например, событий просмотра фотографий приводят к целевому событию и другим событиям. \n",
    "Мы также видим, что пользователь иметь несколько сессий, но они состоят только из пары действий. \n",
    "\n",
    "Фотографии - в сессиях мы видим одно - два события. Возможно, здесь есть что улучшить. Больше фотографий и, возможно более детальных, может заинтересовать пользователя в продукте.\n",
    "\n",
    "Favorites_add - при достаточно больших периодах поиска было бы удобнее добавлять объявления в отдельный список, чтобы было легче вернуться к ним. Но это событие почти не используется. Возможно, его можно улучшить, сделать более заметным и удобным.\n",
    "\n",
    "В таблицах выше мы можем видеть какая доля пользователей переходит к следующему действию:\n",
    "\n",
    "В advert_open переходят часто из advert_open, map, favourites add. \n",
    "\n",
    "В map из map, search, advert_open\n",
    "\n",
    "В search из search, contact_show, photos.  Переход от звонка снова в поиск может быть, если не договорились с продавцом или не дозвонились.\n",
    "\n",
    "tips_click из tips_click. Здесь надо учитывать еще tips_show, которое мы убрали из выборки. \n",
    "\n",
    "В photos из photos, call, favourites, search. \n",
    "\n",
    "В favourites add из favourites, photos и contacts_show.\n",
    "\n",
    "В contacts_call из contacts_call, contacts_show\n",
    "\n",
    "Очень низкая конверсия у событий favorites_add, map, tips_click. Возможно, эти события можно сделать более удобными для пользователя.\n",
    "\n",
    "Графики удержания показывают ,что в приложении лучше остаются пользователи, которые нашли то, что искали. Поэтому имеет смысл улучшать работу приложения и помогать пользователю находить, то, что он ищет. Возможно стоит изучить запрос сессий, которые не были успешными. Может быть есть продукты, которых в приложении еще нет.\n",
    "\n",
    "Мы рассмотрели две гипотезы и пришли к выводам:\n",
    "1. Конверсия в просмотры контактов различается у этих двух групп.\n",
    "2. Конверсия в просмотры фотографий равна у этих двух групп\n"
   ]
  },
  {
   "cell_type": "markdown",
   "metadata": {},
   "source": [
    "Рекомендации:\n",
    "\n",
    "1. В данных было 7 видов события search. Если между ними есть разница, то ее лучше уточнить для дальнейшей корректной работы.\n",
    "\n",
    "2. Пользователи наиболее активны в период примерно с 9 утра до 24 часов. Размещение новых объявлений, возможно, стоит проводить в это время.\n",
    "\n",
    "3. В данных было достаточно много событий между которыми разница по времени составляла 0 секунд. Лучше уточнить причину таких событий. \n",
    "\n",
    "4. Фотографии хорошо конвертируются в фотографии. У пользователя одно - два фото события в сессии. Возможно, было бы полезно добавить больше фотографий, детальных, чтобы заинтересовать пользователя.\n",
    "\n",
    "5. событие favorites_add, возможно, надо улучшить, сделать более заметным и удобным. \n",
    "\n",
    "6. Надо проверить событие contacts_call. Были ли случаи недозвона? Возможно это событие можно улучшить.\n",
    "\n",
    "7. Посмотреть поисковые запросы в неуспешных сессиях на предмет новых товаров, слов/фраз. Возможно, получится улучшить результаты поиска. Удержание успешных пользователей лучше."
   ]
  }
 ],
 "metadata": {
  "ExecuteTimeLog": [
   {
    "duration": 2226,
    "start_time": "2022-05-17T07:48:20.000Z"
   },
   {
    "duration": 175,
    "start_time": "2022-05-17T07:51:30.624Z"
   },
   {
    "duration": 30,
    "start_time": "2022-05-17T07:51:37.173Z"
   },
   {
    "duration": 110,
    "start_time": "2022-05-17T07:52:51.485Z"
   },
   {
    "duration": 145,
    "start_time": "2022-05-17T08:43:33.305Z"
   },
   {
    "duration": 39,
    "start_time": "2022-05-17T08:43:53.195Z"
   },
   {
    "duration": 14,
    "start_time": "2022-05-17T08:47:55.248Z"
   },
   {
    "duration": 16,
    "start_time": "2022-05-17T08:51:34.084Z"
   },
   {
    "duration": 17,
    "start_time": "2022-05-17T08:51:36.508Z"
   },
   {
    "duration": 95,
    "start_time": "2022-05-17T08:54:52.605Z"
   },
   {
    "duration": 109,
    "start_time": "2022-05-17T08:55:26.679Z"
   },
   {
    "duration": 1014,
    "start_time": "2022-05-17T09:03:52.108Z"
   },
   {
    "duration": 1516,
    "start_time": "2022-05-17T09:04:20.100Z"
   },
   {
    "duration": 2869,
    "start_time": "2022-05-17T09:05:02.570Z"
   },
   {
    "duration": 1231,
    "start_time": "2022-05-17T09:05:15.716Z"
   },
   {
    "duration": 26,
    "start_time": "2022-05-17T09:06:24.210Z"
   },
   {
    "duration": 30,
    "start_time": "2022-05-17T09:06:53.574Z"
   },
   {
    "duration": 42,
    "start_time": "2022-05-17T09:25:28.147Z"
   },
   {
    "duration": 89,
    "start_time": "2022-05-17T09:25:47.850Z"
   },
   {
    "duration": 21,
    "start_time": "2022-05-17T09:25:59.541Z"
   },
   {
    "duration": 20,
    "start_time": "2022-05-17T09:36:38.663Z"
   },
   {
    "duration": 27,
    "start_time": "2022-05-17T09:37:10.925Z"
   },
   {
    "duration": 22,
    "start_time": "2022-05-17T09:39:54.169Z"
   },
   {
    "duration": 47,
    "start_time": "2022-05-17T09:48:12.713Z"
   },
   {
    "duration": 26,
    "start_time": "2022-05-17T09:50:14.059Z"
   },
   {
    "duration": 46,
    "start_time": "2022-05-17T09:52:05.819Z"
   },
   {
    "duration": 12,
    "start_time": "2022-05-17T09:55:39.411Z"
   },
   {
    "duration": 10,
    "start_time": "2022-05-17T09:55:51.098Z"
   },
   {
    "duration": 4,
    "start_time": "2022-05-17T11:05:06.712Z"
   },
   {
    "duration": 25,
    "start_time": "2022-05-17T11:07:05.312Z"
   },
   {
    "duration": 30,
    "start_time": "2022-05-17T11:08:13.897Z"
   },
   {
    "duration": 30,
    "start_time": "2022-05-17T11:09:00.702Z"
   },
   {
    "duration": 30,
    "start_time": "2022-05-17T11:09:16.912Z"
   },
   {
    "duration": 22,
    "start_time": "2022-05-17T11:10:51.594Z"
   },
   {
    "duration": 1880,
    "start_time": "2022-05-17T11:14:28.010Z"
   },
   {
    "duration": 54,
    "start_time": "2022-05-17T11:15:18.749Z"
   },
   {
    "duration": 3396,
    "start_time": "2022-05-17T11:15:26.034Z"
   },
   {
    "duration": 381,
    "start_time": "2022-05-17T11:15:36.164Z"
   },
   {
    "duration": 349,
    "start_time": "2022-05-17T11:16:29.712Z"
   },
   {
    "duration": 371,
    "start_time": "2022-05-17T11:18:11.400Z"
   },
   {
    "duration": 374,
    "start_time": "2022-05-17T11:19:07.113Z"
   },
   {
    "duration": 360,
    "start_time": "2022-05-17T11:19:13.466Z"
   },
   {
    "duration": 369,
    "start_time": "2022-05-17T11:20:24.333Z"
   },
   {
    "duration": 51,
    "start_time": "2022-05-17T11:22:44.944Z"
   },
   {
    "duration": 30,
    "start_time": "2022-05-17T11:24:51.092Z"
   },
   {
    "duration": 25,
    "start_time": "2022-05-17T11:25:35.780Z"
   },
   {
    "duration": 33,
    "start_time": "2022-05-17T11:26:00.646Z"
   },
   {
    "duration": 58,
    "start_time": "2022-05-17T19:33:53.020Z"
   },
   {
    "duration": 1654,
    "start_time": "2022-05-17T19:34:04.493Z"
   },
   {
    "duration": 216,
    "start_time": "2022-05-17T19:34:06.149Z"
   },
   {
    "duration": 15,
    "start_time": "2022-05-17T19:34:06.367Z"
   },
   {
    "duration": 83,
    "start_time": "2022-05-17T19:34:06.384Z"
   },
   {
    "duration": 10,
    "start_time": "2022-05-17T19:34:06.468Z"
   },
   {
    "duration": 7,
    "start_time": "2022-05-17T19:34:06.480Z"
   },
   {
    "duration": 51,
    "start_time": "2022-05-17T19:34:06.489Z"
   },
   {
    "duration": 23,
    "start_time": "2022-05-17T19:34:06.542Z"
   },
   {
    "duration": 10,
    "start_time": "2022-05-17T19:34:06.567Z"
   },
   {
    "duration": 12,
    "start_time": "2022-05-17T19:34:06.580Z"
   },
   {
    "duration": 293,
    "start_time": "2022-05-17T19:34:06.594Z"
   },
   {
    "duration": 51,
    "start_time": "2022-05-17T19:34:06.889Z"
   },
   {
    "duration": 123,
    "start_time": "2022-05-17T19:34:06.942Z"
   },
   {
    "duration": 0,
    "start_time": "2022-05-17T19:34:07.067Z"
   },
   {
    "duration": 0,
    "start_time": "2022-05-17T19:34:07.069Z"
   },
   {
    "duration": 0,
    "start_time": "2022-05-17T19:34:07.071Z"
   },
   {
    "duration": 0,
    "start_time": "2022-05-17T19:34:07.072Z"
   },
   {
    "duration": 0,
    "start_time": "2022-05-17T19:34:07.074Z"
   },
   {
    "duration": 0,
    "start_time": "2022-05-17T19:34:07.075Z"
   },
   {
    "duration": 34,
    "start_time": "2022-05-17T19:34:36.558Z"
   },
   {
    "duration": 4,
    "start_time": "2022-05-17T19:34:48.579Z"
   },
   {
    "duration": 130,
    "start_time": "2022-05-17T19:34:50.689Z"
   },
   {
    "duration": 14,
    "start_time": "2022-05-17T19:34:55.464Z"
   },
   {
    "duration": 68,
    "start_time": "2022-05-17T19:34:57.078Z"
   },
   {
    "duration": 10,
    "start_time": "2022-05-17T19:35:01.532Z"
   },
   {
    "duration": 7,
    "start_time": "2022-05-17T19:35:05.357Z"
   },
   {
    "duration": 24,
    "start_time": "2022-05-17T19:35:06.976Z"
   },
   {
    "duration": 18,
    "start_time": "2022-05-17T19:35:08.366Z"
   },
   {
    "duration": 7,
    "start_time": "2022-05-17T19:35:10.069Z"
   },
   {
    "duration": 3,
    "start_time": "2022-05-17T19:35:14.687Z"
   },
   {
    "duration": 253,
    "start_time": "2022-05-17T19:35:16.662Z"
   },
   {
    "duration": 34,
    "start_time": "2022-05-17T19:35:21.393Z"
   },
   {
    "duration": 11,
    "start_time": "2022-05-17T19:35:33.390Z"
   },
   {
    "duration": 17,
    "start_time": "2022-05-17T19:44:41.393Z"
   },
   {
    "duration": 8,
    "start_time": "2022-05-17T19:45:07.786Z"
   },
   {
    "duration": 1406,
    "start_time": "2022-05-19T07:11:55.742Z"
   },
   {
    "duration": 539,
    "start_time": "2022-05-19T07:11:57.150Z"
   },
   {
    "duration": 14,
    "start_time": "2022-05-19T07:11:57.691Z"
   },
   {
    "duration": 74,
    "start_time": "2022-05-19T07:11:57.707Z"
   },
   {
    "duration": 9,
    "start_time": "2022-05-19T07:11:57.783Z"
   },
   {
    "duration": 26,
    "start_time": "2022-05-19T07:11:57.794Z"
   },
   {
    "duration": 26,
    "start_time": "2022-05-19T07:11:57.828Z"
   },
   {
    "duration": 16,
    "start_time": "2022-05-19T07:11:57.855Z"
   },
   {
    "duration": 6,
    "start_time": "2022-05-19T07:11:57.872Z"
   },
   {
    "duration": 7,
    "start_time": "2022-05-19T07:11:57.880Z"
   },
   {
    "duration": 310,
    "start_time": "2022-05-19T07:11:57.888Z"
   },
   {
    "duration": 42,
    "start_time": "2022-05-19T07:11:58.199Z"
   },
   {
    "duration": 8,
    "start_time": "2022-05-19T07:11:58.242Z"
   },
   {
    "duration": 5,
    "start_time": "2022-05-19T07:11:58.251Z"
   },
   {
    "duration": 5,
    "start_time": "2022-05-19T07:11:58.258Z"
   },
   {
    "duration": 7,
    "start_time": "2022-05-19T07:11:58.264Z"
   },
   {
    "duration": 6,
    "start_time": "2022-05-19T07:11:58.273Z"
   },
   {
    "duration": 6,
    "start_time": "2022-05-19T07:11:58.280Z"
   },
   {
    "duration": 27,
    "start_time": "2022-05-19T07:11:58.288Z"
   },
   {
    "duration": 14,
    "start_time": "2022-05-19T07:15:07.581Z"
   },
   {
    "duration": 132,
    "start_time": "2022-05-19T07:16:12.143Z"
   },
   {
    "duration": 242,
    "start_time": "2022-05-19T07:16:51.413Z"
   },
   {
    "duration": 219,
    "start_time": "2022-05-19T07:17:05.840Z"
   },
   {
    "duration": 240,
    "start_time": "2022-05-19T07:18:27.127Z"
   },
   {
    "duration": 193,
    "start_time": "2022-05-19T07:19:09.840Z"
   },
   {
    "duration": 207,
    "start_time": "2022-05-19T07:20:07.619Z"
   },
   {
    "duration": 44,
    "start_time": "2022-05-19T07:21:10.876Z"
   },
   {
    "duration": 199,
    "start_time": "2022-05-19T07:21:21.123Z"
   },
   {
    "duration": 34,
    "start_time": "2022-05-19T07:22:29.251Z"
   },
   {
    "duration": 2,
    "start_time": "2022-05-19T07:22:34.958Z"
   },
   {
    "duration": 43,
    "start_time": "2022-05-19T07:24:01.588Z"
   },
   {
    "duration": 23,
    "start_time": "2022-05-19T07:25:28.955Z"
   },
   {
    "duration": 213,
    "start_time": "2022-05-19T07:26:23.862Z"
   },
   {
    "duration": 344,
    "start_time": "2022-05-19T07:29:37.082Z"
   },
   {
    "duration": 251,
    "start_time": "2022-05-19T07:31:40.855Z"
   },
   {
    "duration": 258,
    "start_time": "2022-05-19T07:31:56.316Z"
   },
   {
    "duration": 259,
    "start_time": "2022-05-19T07:32:45.091Z"
   },
   {
    "duration": 250,
    "start_time": "2022-05-19T07:32:56.089Z"
   },
   {
    "duration": 41,
    "start_time": "2022-05-19T07:33:25.797Z"
   },
   {
    "duration": 253,
    "start_time": "2022-05-19T07:34:35.732Z"
   },
   {
    "duration": 253,
    "start_time": "2022-05-19T07:34:53.142Z"
   },
   {
    "duration": 272,
    "start_time": "2022-05-19T07:35:31.670Z"
   },
   {
    "duration": 268,
    "start_time": "2022-05-19T07:35:36.825Z"
   },
   {
    "duration": 250,
    "start_time": "2022-05-19T07:35:52.262Z"
   },
   {
    "duration": 76,
    "start_time": "2022-05-19T15:34:11.204Z"
   },
   {
    "duration": 1630,
    "start_time": "2022-05-19T15:34:19.660Z"
   },
   {
    "duration": 257,
    "start_time": "2022-05-19T15:34:21.293Z"
   },
   {
    "duration": 15,
    "start_time": "2022-05-19T15:34:21.552Z"
   },
   {
    "duration": 117,
    "start_time": "2022-05-19T15:34:21.569Z"
   },
   {
    "duration": 10,
    "start_time": "2022-05-19T15:34:21.688Z"
   },
   {
    "duration": 29,
    "start_time": "2022-05-19T15:34:21.699Z"
   },
   {
    "duration": 50,
    "start_time": "2022-05-19T15:34:21.733Z"
   },
   {
    "duration": 23,
    "start_time": "2022-05-19T15:34:21.785Z"
   },
   {
    "duration": 10,
    "start_time": "2022-05-19T15:34:21.810Z"
   },
   {
    "duration": 10,
    "start_time": "2022-05-19T15:34:21.834Z"
   },
   {
    "duration": 281,
    "start_time": "2022-05-19T15:34:21.846Z"
   },
   {
    "duration": 322,
    "start_time": "2022-05-19T15:34:22.131Z"
   },
   {
    "duration": 234,
    "start_time": "2022-05-19T15:34:22.455Z"
   },
   {
    "duration": 53,
    "start_time": "2022-05-19T15:34:22.690Z"
   },
   {
    "duration": 5,
    "start_time": "2022-05-19T15:34:22.745Z"
   },
   {
    "duration": 21,
    "start_time": "2022-05-19T15:34:22.752Z"
   },
   {
    "duration": 6,
    "start_time": "2022-05-19T15:34:22.774Z"
   },
   {
    "duration": 10,
    "start_time": "2022-05-19T15:34:22.783Z"
   },
   {
    "duration": 5,
    "start_time": "2022-05-19T15:34:22.795Z"
   },
   {
    "duration": 6,
    "start_time": "2022-05-19T15:34:22.802Z"
   },
   {
    "duration": 93971,
    "start_time": "2022-05-19T15:56:19.185Z"
   },
   {
    "duration": 7633,
    "start_time": "2022-05-19T16:16:06.605Z"
   },
   {
    "duration": 7607,
    "start_time": "2022-05-19T16:18:04.298Z"
   },
   {
    "duration": 7936,
    "start_time": "2022-05-19T16:19:43.805Z"
   },
   {
    "duration": 9321,
    "start_time": "2022-05-19T16:20:24.601Z"
   },
   {
    "duration": 0,
    "start_time": "2022-05-19T16:24:16.635Z"
   },
   {
    "duration": 27,
    "start_time": "2022-05-19T16:24:40.209Z"
   },
   {
    "duration": 34,
    "start_time": "2022-05-19T16:25:08.751Z"
   },
   {
    "duration": 551,
    "start_time": "2022-05-19T16:28:21.278Z"
   },
   {
    "duration": 43076,
    "start_time": "2022-05-19T16:28:58.680Z"
   },
   {
    "duration": 8693,
    "start_time": "2022-05-19T16:31:52.240Z"
   },
   {
    "duration": 44975,
    "start_time": "2022-05-19T16:32:24.935Z"
   },
   {
    "duration": 203210,
    "start_time": "2022-05-19T16:36:54.901Z"
   },
   {
    "duration": 28688,
    "start_time": "2022-05-19T16:41:31.900Z"
   },
   {
    "duration": 208540,
    "start_time": "2022-05-19T16:42:35.853Z"
   },
   {
    "duration": 0,
    "start_time": "2022-05-19T16:51:42.129Z"
   },
   {
    "duration": 204580,
    "start_time": "2022-05-19T16:52:09.752Z"
   },
   {
    "duration": 62574,
    "start_time": "2022-05-19T16:55:54.483Z"
   },
   {
    "duration": 1572,
    "start_time": "2022-05-19T18:31:22.043Z"
   },
   {
    "duration": 211,
    "start_time": "2022-05-19T18:31:23.617Z"
   },
   {
    "duration": 15,
    "start_time": "2022-05-19T18:31:23.830Z"
   },
   {
    "duration": 76,
    "start_time": "2022-05-19T18:31:23.847Z"
   },
   {
    "duration": 10,
    "start_time": "2022-05-19T18:31:23.924Z"
   },
   {
    "duration": 29,
    "start_time": "2022-05-19T18:31:23.936Z"
   },
   {
    "duration": 30,
    "start_time": "2022-05-19T18:31:23.967Z"
   },
   {
    "duration": 18,
    "start_time": "2022-05-19T18:31:23.999Z"
   },
   {
    "duration": 6,
    "start_time": "2022-05-19T18:31:24.019Z"
   },
   {
    "duration": 5,
    "start_time": "2022-05-19T18:31:24.027Z"
   },
   {
    "duration": 311,
    "start_time": "2022-05-19T18:31:24.034Z"
   },
   {
    "duration": 283,
    "start_time": "2022-05-19T18:31:24.346Z"
   },
   {
    "duration": 229,
    "start_time": "2022-05-19T18:31:24.631Z"
   },
   {
    "duration": 36,
    "start_time": "2022-05-19T18:31:24.864Z"
   },
   {
    "duration": 65900,
    "start_time": "2022-05-19T18:31:24.902Z"
   },
   {
    "duration": 3,
    "start_time": "2022-05-19T18:32:30.804Z"
   },
   {
    "duration": 30,
    "start_time": "2022-05-19T18:32:30.808Z"
   },
   {
    "duration": 14,
    "start_time": "2022-05-19T18:32:30.840Z"
   },
   {
    "duration": 36,
    "start_time": "2022-05-19T18:32:30.856Z"
   },
   {
    "duration": 12,
    "start_time": "2022-05-19T18:32:30.894Z"
   },
   {
    "duration": 38,
    "start_time": "2022-05-19T18:32:30.908Z"
   },
   {
    "duration": 44,
    "start_time": "2022-05-19T18:32:30.948Z"
   },
   {
    "duration": 64,
    "start_time": "2022-05-19T18:35:30.364Z"
   },
   {
    "duration": 1426,
    "start_time": "2022-05-19T18:35:41.055Z"
   },
   {
    "duration": 84,
    "start_time": "2022-05-19T18:35:47.092Z"
   },
   {
    "duration": 211,
    "start_time": "2022-05-19T18:35:57.643Z"
   },
   {
    "duration": 25,
    "start_time": "2022-05-19T18:36:05.859Z"
   },
   {
    "duration": 4,
    "start_time": "2022-05-19T18:36:19.326Z"
   },
   {
    "duration": 39101,
    "start_time": "2022-05-19T18:36:24.241Z"
   },
   {
    "duration": 194,
    "start_time": "2022-05-19T18:37:59.461Z"
   },
   {
    "duration": 365,
    "start_time": "2022-05-19T18:38:36.295Z"
   },
   {
    "duration": 551,
    "start_time": "2022-05-19T18:39:28.212Z"
   },
   {
    "duration": 5,
    "start_time": "2022-05-19T18:42:32.665Z"
   },
   {
    "duration": 26336,
    "start_time": "2022-05-19T18:42:46.275Z"
   },
   {
    "duration": 37043,
    "start_time": "2022-05-19T18:43:49.489Z"
   },
   {
    "duration": 14328,
    "start_time": "2022-05-19T18:44:45.157Z"
   },
   {
    "duration": 13741,
    "start_time": "2022-05-19T18:45:28.549Z"
   },
   {
    "duration": 7658,
    "start_time": "2022-05-19T18:46:14.058Z"
   },
   {
    "duration": 4244,
    "start_time": "2022-05-19T18:46:46.320Z"
   },
   {
    "duration": 562,
    "start_time": "2022-05-19T18:47:35.650Z"
   },
   {
    "duration": 725422,
    "start_time": "2022-05-19T18:48:17.763Z"
   },
   {
    "duration": 0,
    "start_time": "2022-05-19T19:00:23.188Z"
   },
   {
    "duration": 22,
    "start_time": "2022-05-19T19:00:32.515Z"
   },
   {
    "duration": 20,
    "start_time": "2022-05-19T19:01:53.525Z"
   },
   {
    "duration": 42,
    "start_time": "2022-05-19T19:02:04.198Z"
   },
   {
    "duration": 39,
    "start_time": "2022-05-19T19:02:47.566Z"
   },
   {
    "duration": 32,
    "start_time": "2022-05-19T19:03:20.158Z"
   },
   {
    "duration": 1130,
    "start_time": "2022-05-19T19:04:01.777Z"
   },
   {
    "duration": 34,
    "start_time": "2022-05-19T19:04:09.645Z"
   },
   {
    "duration": 30,
    "start_time": "2022-05-19T19:05:26.916Z"
   },
   {
    "duration": 33,
    "start_time": "2022-05-19T19:06:06.661Z"
   },
   {
    "duration": 32,
    "start_time": "2022-05-19T19:07:36.121Z"
   },
   {
    "duration": 48,
    "start_time": "2022-05-19T19:11:43.060Z"
   },
   {
    "duration": 72,
    "start_time": "2022-05-19T19:12:47.443Z"
   },
   {
    "duration": 2788,
    "start_time": "2022-05-19T19:12:55.957Z"
   },
   {
    "duration": 269,
    "start_time": "2022-05-19T19:12:58.747Z"
   },
   {
    "duration": 4,
    "start_time": "2022-05-19T19:13:07.647Z"
   },
   {
    "duration": 76,
    "start_time": "2022-05-19T19:13:42.497Z"
   },
   {
    "duration": 3448,
    "start_time": "2022-05-19T19:13:52.195Z"
   },
   {
    "duration": 251,
    "start_time": "2022-05-19T19:13:55.646Z"
   },
   {
    "duration": 16,
    "start_time": "2022-05-19T19:13:55.899Z"
   },
   {
    "duration": 110,
    "start_time": "2022-05-19T19:13:55.917Z"
   },
   {
    "duration": 12,
    "start_time": "2022-05-19T19:13:56.029Z"
   },
   {
    "duration": 30,
    "start_time": "2022-05-19T19:13:56.043Z"
   },
   {
    "duration": 49,
    "start_time": "2022-05-19T19:13:56.076Z"
   },
   {
    "duration": 21,
    "start_time": "2022-05-19T19:13:56.128Z"
   },
   {
    "duration": 8,
    "start_time": "2022-05-19T19:13:56.166Z"
   },
   {
    "duration": 14,
    "start_time": "2022-05-19T19:13:56.177Z"
   },
   {
    "duration": 329,
    "start_time": "2022-05-19T19:13:56.192Z"
   },
   {
    "duration": 296,
    "start_time": "2022-05-19T19:13:56.523Z"
   },
   {
    "duration": 249,
    "start_time": "2022-05-19T19:13:56.821Z"
   },
   {
    "duration": 39,
    "start_time": "2022-05-19T19:13:57.073Z"
   },
   {
    "duration": 52574,
    "start_time": "2022-05-19T19:13:57.114Z"
   },
   {
    "duration": 103,
    "start_time": "2022-05-19T19:19:46.551Z"
   },
   {
    "duration": 10,
    "start_time": "2022-05-19T19:20:01.852Z"
   },
   {
    "duration": 2157,
    "start_time": "2022-05-19T19:20:04.577Z"
   },
   {
    "duration": 263,
    "start_time": "2022-05-19T19:20:06.736Z"
   },
   {
    "duration": 5,
    "start_time": "2022-05-19T19:20:15.476Z"
   },
   {
    "duration": 104,
    "start_time": "2022-05-19T19:20:36.061Z"
   },
   {
    "duration": 1658,
    "start_time": "2022-05-19T19:20:46.739Z"
   },
   {
    "duration": 313,
    "start_time": "2022-05-19T19:20:49.167Z"
   },
   {
    "duration": 4,
    "start_time": "2022-05-19T19:20:56.545Z"
   },
   {
    "duration": 130,
    "start_time": "2022-05-19T19:21:03.164Z"
   },
   {
    "duration": 470,
    "start_time": "2022-05-19T19:21:06.811Z"
   },
   {
    "duration": 6,
    "start_time": "2022-05-19T19:21:18.601Z"
   },
   {
    "duration": 182,
    "start_time": "2022-05-19T19:21:18.610Z"
   },
   {
    "duration": 20,
    "start_time": "2022-05-19T19:21:18.794Z"
   },
   {
    "duration": 149,
    "start_time": "2022-05-19T19:21:18.816Z"
   },
   {
    "duration": 18,
    "start_time": "2022-05-19T19:21:18.970Z"
   },
   {
    "duration": 41,
    "start_time": "2022-05-19T19:21:18.990Z"
   },
   {
    "duration": 52,
    "start_time": "2022-05-19T19:21:19.034Z"
   },
   {
    "duration": 240,
    "start_time": "2022-05-19T19:21:19.088Z"
   },
   {
    "duration": 11,
    "start_time": "2022-05-19T19:21:19.330Z"
   },
   {
    "duration": 4,
    "start_time": "2022-05-19T19:21:22.664Z"
   },
   {
    "duration": 92,
    "start_time": "2022-05-19T19:22:12.695Z"
   },
   {
    "duration": 1964,
    "start_time": "2022-05-19T19:22:33.642Z"
   },
   {
    "duration": 328,
    "start_time": "2022-05-19T19:22:35.612Z"
   },
   {
    "duration": 30,
    "start_time": "2022-05-19T19:22:35.942Z"
   },
   {
    "duration": 161,
    "start_time": "2022-05-19T19:22:35.975Z"
   },
   {
    "duration": 34,
    "start_time": "2022-05-19T19:22:36.138Z"
   },
   {
    "duration": 19,
    "start_time": "2022-05-19T19:22:36.177Z"
   },
   {
    "duration": 48,
    "start_time": "2022-05-19T19:22:36.202Z"
   },
   {
    "duration": 37,
    "start_time": "2022-05-19T19:22:36.252Z"
   },
   {
    "duration": 25,
    "start_time": "2022-05-19T19:22:36.292Z"
   },
   {
    "duration": 4,
    "start_time": "2022-05-19T19:22:38.387Z"
   },
   {
    "duration": 26,
    "start_time": "2022-05-19T19:22:46.921Z"
   },
   {
    "duration": 81,
    "start_time": "2022-05-19T19:24:53.683Z"
   },
   {
    "duration": 1891,
    "start_time": "2022-05-19T19:26:00.709Z"
   },
   {
    "duration": 254,
    "start_time": "2022-05-19T19:26:02.602Z"
   },
   {
    "duration": 18,
    "start_time": "2022-05-19T19:26:02.859Z"
   },
   {
    "duration": 126,
    "start_time": "2022-05-19T19:26:02.880Z"
   },
   {
    "duration": 12,
    "start_time": "2022-05-19T19:26:03.008Z"
   },
   {
    "duration": 17,
    "start_time": "2022-05-19T19:26:03.022Z"
   },
   {
    "duration": 62,
    "start_time": "2022-05-19T19:26:03.041Z"
   },
   {
    "duration": 26,
    "start_time": "2022-05-19T19:26:03.106Z"
   },
   {
    "duration": 11,
    "start_time": "2022-05-19T19:26:03.133Z"
   },
   {
    "duration": 26,
    "start_time": "2022-05-19T19:26:03.147Z"
   },
   {
    "duration": 391,
    "start_time": "2022-05-19T19:26:03.175Z"
   },
   {
    "duration": 412,
    "start_time": "2022-05-19T19:26:03.568Z"
   },
   {
    "duration": 333,
    "start_time": "2022-05-19T19:26:03.982Z"
   },
   {
    "duration": 67,
    "start_time": "2022-05-19T19:26:04.317Z"
   },
   {
    "duration": 64324,
    "start_time": "2022-05-19T19:26:04.386Z"
   },
   {
    "duration": 37,
    "start_time": "2022-05-19T19:27:08.712Z"
   },
   {
    "duration": 98,
    "start_time": "2022-05-19T19:30:42.718Z"
   },
   {
    "duration": 107,
    "start_time": "2022-05-19T19:31:38.569Z"
   },
   {
    "duration": 1853,
    "start_time": "2022-05-19T19:31:43.858Z"
   },
   {
    "duration": 307,
    "start_time": "2022-05-19T19:31:45.713Z"
   },
   {
    "duration": 24,
    "start_time": "2022-05-19T19:31:46.023Z"
   },
   {
    "duration": 105,
    "start_time": "2022-05-19T19:31:46.049Z"
   },
   {
    "duration": 18,
    "start_time": "2022-05-19T19:31:46.157Z"
   },
   {
    "duration": 35,
    "start_time": "2022-05-19T19:31:46.176Z"
   },
   {
    "duration": 33,
    "start_time": "2022-05-19T19:31:46.213Z"
   },
   {
    "duration": 28,
    "start_time": "2022-05-19T19:31:46.248Z"
   },
   {
    "duration": 25,
    "start_time": "2022-05-19T19:31:46.286Z"
   },
   {
    "duration": 6,
    "start_time": "2022-05-19T19:31:46.314Z"
   },
   {
    "duration": 329,
    "start_time": "2022-05-19T19:31:46.322Z"
   },
   {
    "duration": 372,
    "start_time": "2022-05-19T19:31:46.653Z"
   },
   {
    "duration": 316,
    "start_time": "2022-05-19T19:31:47.028Z"
   },
   {
    "duration": 58,
    "start_time": "2022-05-19T19:31:47.349Z"
   },
   {
    "duration": 58613,
    "start_time": "2022-05-19T19:31:47.409Z"
   },
   {
    "duration": 50,
    "start_time": "2022-05-19T19:32:46.024Z"
   },
   {
    "duration": 132,
    "start_time": "2022-05-19T19:32:46.076Z"
   },
   {
    "duration": 0,
    "start_time": "2022-05-19T19:32:46.210Z"
   },
   {
    "duration": 0,
    "start_time": "2022-05-19T19:32:46.212Z"
   },
   {
    "duration": 0,
    "start_time": "2022-05-19T19:32:46.213Z"
   },
   {
    "duration": 0,
    "start_time": "2022-05-19T19:32:46.215Z"
   },
   {
    "duration": 0,
    "start_time": "2022-05-19T19:32:46.216Z"
   },
   {
    "duration": 0,
    "start_time": "2022-05-19T19:32:46.218Z"
   },
   {
    "duration": 76,
    "start_time": "2022-05-19T19:36:36.644Z"
   },
   {
    "duration": 1713,
    "start_time": "2022-05-19T19:36:53.146Z"
   },
   {
    "duration": 254,
    "start_time": "2022-05-19T19:36:54.861Z"
   },
   {
    "duration": 16,
    "start_time": "2022-05-19T19:36:55.117Z"
   },
   {
    "duration": 108,
    "start_time": "2022-05-19T19:36:55.135Z"
   },
   {
    "duration": 11,
    "start_time": "2022-05-19T19:36:55.244Z"
   },
   {
    "duration": 23,
    "start_time": "2022-05-19T19:36:55.264Z"
   },
   {
    "duration": 39,
    "start_time": "2022-05-19T19:36:55.289Z"
   },
   {
    "duration": 24,
    "start_time": "2022-05-19T19:36:55.330Z"
   },
   {
    "duration": 14,
    "start_time": "2022-05-19T19:36:55.357Z"
   },
   {
    "duration": 27,
    "start_time": "2022-05-19T19:36:55.375Z"
   },
   {
    "duration": 380,
    "start_time": "2022-05-19T19:36:55.404Z"
   },
   {
    "duration": 367,
    "start_time": "2022-05-19T19:36:55.787Z"
   },
   {
    "duration": 282,
    "start_time": "2022-05-19T19:36:56.156Z"
   },
   {
    "duration": 54,
    "start_time": "2022-05-19T19:36:56.440Z"
   },
   {
    "duration": 54421,
    "start_time": "2022-05-19T19:36:56.497Z"
   },
   {
    "duration": 49,
    "start_time": "2022-05-19T19:37:50.921Z"
   },
   {
    "duration": 133,
    "start_time": "2022-05-19T19:37:50.974Z"
   },
   {
    "duration": 0,
    "start_time": "2022-05-19T19:37:51.110Z"
   },
   {
    "duration": 0,
    "start_time": "2022-05-19T19:37:51.111Z"
   },
   {
    "duration": 0,
    "start_time": "2022-05-19T19:37:51.113Z"
   },
   {
    "duration": 0,
    "start_time": "2022-05-19T19:37:51.115Z"
   },
   {
    "duration": 0,
    "start_time": "2022-05-19T19:37:51.117Z"
   },
   {
    "duration": 0,
    "start_time": "2022-05-19T19:37:51.118Z"
   },
   {
    "duration": 14,
    "start_time": "2022-05-19T19:40:16.357Z"
   },
   {
    "duration": 18,
    "start_time": "2022-05-19T19:40:25.289Z"
   },
   {
    "duration": 30,
    "start_time": "2022-05-19T19:40:51.197Z"
   },
   {
    "duration": 19,
    "start_time": "2022-05-19T19:47:06.442Z"
   },
   {
    "duration": 36,
    "start_time": "2022-05-19T19:47:20.880Z"
   },
   {
    "duration": 615,
    "start_time": "2022-05-19T19:48:18.099Z"
   },
   {
    "duration": 83,
    "start_time": "2022-05-19T19:51:34.444Z"
   },
   {
    "duration": 1752,
    "start_time": "2022-05-19T19:51:39.788Z"
   },
   {
    "duration": 297,
    "start_time": "2022-05-19T19:51:41.542Z"
   },
   {
    "duration": 17,
    "start_time": "2022-05-19T19:51:41.841Z"
   },
   {
    "duration": 120,
    "start_time": "2022-05-19T19:51:41.860Z"
   },
   {
    "duration": 19,
    "start_time": "2022-05-19T19:51:41.983Z"
   },
   {
    "duration": 13,
    "start_time": "2022-05-19T19:51:42.004Z"
   },
   {
    "duration": 35,
    "start_time": "2022-05-19T19:51:42.018Z"
   },
   {
    "duration": 42,
    "start_time": "2022-05-19T19:51:42.054Z"
   },
   {
    "duration": 25,
    "start_time": "2022-05-19T19:51:42.097Z"
   },
   {
    "duration": 8,
    "start_time": "2022-05-19T19:51:42.125Z"
   },
   {
    "duration": 357,
    "start_time": "2022-05-19T19:51:42.135Z"
   },
   {
    "duration": 395,
    "start_time": "2022-05-19T19:51:42.495Z"
   },
   {
    "duration": 299,
    "start_time": "2022-05-19T19:51:42.898Z"
   },
   {
    "duration": 43,
    "start_time": "2022-05-19T19:51:43.201Z"
   },
   {
    "duration": 58173,
    "start_time": "2022-05-19T19:51:43.247Z"
   },
   {
    "duration": 29,
    "start_time": "2022-05-19T19:52:41.422Z"
   },
   {
    "duration": 1575,
    "start_time": "2022-05-19T20:21:53.105Z"
   },
   {
    "duration": 226,
    "start_time": "2022-05-19T20:21:54.683Z"
   },
   {
    "duration": 25,
    "start_time": "2022-05-19T20:21:54.911Z"
   },
   {
    "duration": 102,
    "start_time": "2022-05-19T20:21:54.938Z"
   },
   {
    "duration": 26,
    "start_time": "2022-05-19T20:21:55.042Z"
   },
   {
    "duration": 13,
    "start_time": "2022-05-19T20:21:55.070Z"
   },
   {
    "duration": 44,
    "start_time": "2022-05-19T20:21:55.085Z"
   },
   {
    "duration": 50,
    "start_time": "2022-05-19T20:21:55.131Z"
   },
   {
    "duration": 10,
    "start_time": "2022-05-19T20:21:55.183Z"
   },
   {
    "duration": 7,
    "start_time": "2022-05-19T20:21:55.196Z"
   },
   {
    "duration": 305,
    "start_time": "2022-05-19T20:21:55.205Z"
   },
   {
    "duration": 299,
    "start_time": "2022-05-19T20:21:55.512Z"
   },
   {
    "duration": 237,
    "start_time": "2022-05-19T20:21:55.813Z"
   },
   {
    "duration": 41,
    "start_time": "2022-05-19T20:21:56.051Z"
   },
   {
    "duration": 48697,
    "start_time": "2022-05-19T20:21:56.094Z"
   },
   {
    "duration": 38,
    "start_time": "2022-05-19T20:22:44.793Z"
   },
   {
    "duration": 4,
    "start_time": "2022-05-19T20:22:44.833Z"
   },
   {
    "duration": 26,
    "start_time": "2022-05-19T20:22:44.839Z"
   },
   {
    "duration": 6,
    "start_time": "2022-05-19T20:22:44.868Z"
   },
   {
    "duration": 6,
    "start_time": "2022-05-19T20:22:44.876Z"
   },
   {
    "duration": 7,
    "start_time": "2022-05-19T20:22:44.885Z"
   },
   {
    "duration": 9,
    "start_time": "2022-05-19T20:22:44.894Z"
   },
   {
    "duration": 21746,
    "start_time": "2022-05-19T20:24:02.879Z"
   },
   {
    "duration": 0,
    "start_time": "2022-05-19T20:29:18.302Z"
   },
   {
    "duration": 2,
    "start_time": "2022-05-19T20:41:44.497Z"
   },
   {
    "duration": 2803,
    "start_time": "2022-05-19T20:44:46.372Z"
   },
   {
    "duration": 920,
    "start_time": "2022-05-19T20:45:01.626Z"
   },
   {
    "duration": 968,
    "start_time": "2022-05-19T20:45:27.948Z"
   },
   {
    "duration": 181,
    "start_time": "2022-05-19T20:45:55.740Z"
   },
   {
    "duration": 788,
    "start_time": "2022-05-19T20:46:13.754Z"
   },
   {
    "duration": 796,
    "start_time": "2022-05-19T20:46:57.944Z"
   },
   {
    "duration": 755,
    "start_time": "2022-05-19T20:47:20.999Z"
   },
   {
    "duration": 826,
    "start_time": "2022-05-19T20:47:37.725Z"
   },
   {
    "duration": 872,
    "start_time": "2022-05-19T20:49:01.001Z"
   },
   {
    "duration": 417,
    "start_time": "2022-05-19T20:50:00.582Z"
   },
   {
    "duration": 951,
    "start_time": "2022-05-19T20:52:43.260Z"
   },
   {
    "duration": 3,
    "start_time": "2022-05-19T20:54:12.110Z"
   },
   {
    "duration": 84,
    "start_time": "2022-05-19T20:55:16.033Z"
   },
   {
    "duration": 15,
    "start_time": "2022-05-19T20:56:17.501Z"
   },
   {
    "duration": 3398,
    "start_time": "2022-05-19T20:56:32.572Z"
   },
   {
    "duration": 1341,
    "start_time": "2022-05-19T20:58:23.551Z"
   },
   {
    "duration": 822,
    "start_time": "2022-05-19T21:01:59.171Z"
   },
   {
    "duration": 704,
    "start_time": "2022-05-19T21:03:09.175Z"
   },
   {
    "duration": 1870,
    "start_time": "2022-05-20T08:25:27.085Z"
   },
   {
    "duration": 368,
    "start_time": "2022-05-20T08:25:28.958Z"
   },
   {
    "duration": 26,
    "start_time": "2022-05-20T08:25:29.327Z"
   },
   {
    "duration": 134,
    "start_time": "2022-05-20T08:25:29.354Z"
   },
   {
    "duration": 12,
    "start_time": "2022-05-20T08:25:29.491Z"
   },
   {
    "duration": 8,
    "start_time": "2022-05-20T08:25:29.505Z"
   },
   {
    "duration": 69,
    "start_time": "2022-05-20T08:25:29.515Z"
   },
   {
    "duration": 20,
    "start_time": "2022-05-20T08:25:29.591Z"
   },
   {
    "duration": 7,
    "start_time": "2022-05-20T08:25:29.613Z"
   },
   {
    "duration": 5,
    "start_time": "2022-05-20T08:25:29.622Z"
   },
   {
    "duration": 356,
    "start_time": "2022-05-20T08:25:29.629Z"
   },
   {
    "duration": 320,
    "start_time": "2022-05-20T08:25:29.987Z"
   },
   {
    "duration": 252,
    "start_time": "2022-05-20T08:25:30.309Z"
   },
   {
    "duration": 48,
    "start_time": "2022-05-20T08:25:30.565Z"
   },
   {
    "duration": 51728,
    "start_time": "2022-05-20T08:25:30.615Z"
   },
   {
    "duration": 61,
    "start_time": "2022-05-20T08:26:22.345Z"
   },
   {
    "duration": 923,
    "start_time": "2022-05-20T08:26:30.501Z"
   },
   {
    "duration": 257,
    "start_time": "2022-05-20T08:34:16.955Z"
   },
   {
    "duration": 1481,
    "start_time": "2022-05-20T08:38:58.598Z"
   },
   {
    "duration": 15,
    "start_time": "2022-05-20T08:39:44.308Z"
   },
   {
    "duration": 17,
    "start_time": "2022-05-20T08:39:56.491Z"
   },
   {
    "duration": 14,
    "start_time": "2022-05-20T08:40:03.594Z"
   },
   {
    "duration": 31,
    "start_time": "2022-05-20T08:40:57.368Z"
   },
   {
    "duration": 1050,
    "start_time": "2022-05-20T08:41:49.362Z"
   },
   {
    "duration": 1046,
    "start_time": "2022-05-20T08:42:45.679Z"
   },
   {
    "duration": 63,
    "start_time": "2022-05-20T08:44:01.135Z"
   },
   {
    "duration": 1483,
    "start_time": "2022-05-20T08:44:31.211Z"
   },
   {
    "duration": 26,
    "start_time": "2022-05-20T08:44:42.192Z"
   },
   {
    "duration": 935,
    "start_time": "2022-05-20T08:45:03.624Z"
   },
   {
    "duration": 1119,
    "start_time": "2022-05-20T08:45:16.514Z"
   },
   {
    "duration": 23,
    "start_time": "2022-05-20T08:49:04.921Z"
   },
   {
    "duration": 49,
    "start_time": "2022-05-20T08:49:32.291Z"
   },
   {
    "duration": 598,
    "start_time": "2022-05-20T08:49:46.662Z"
   },
   {
    "duration": 37,
    "start_time": "2022-05-20T08:49:56.608Z"
   },
   {
    "duration": 296,
    "start_time": "2022-05-20T08:52:46.642Z"
   },
   {
    "duration": 108,
    "start_time": "2022-05-20T09:00:26.603Z"
   },
   {
    "duration": 0,
    "start_time": "2022-05-20T09:06:18.302Z"
   },
   {
    "duration": 0,
    "start_time": "2022-05-20T09:06:18.303Z"
   },
   {
    "duration": 72,
    "start_time": "2022-05-20T09:11:05.237Z"
   },
   {
    "duration": 1727,
    "start_time": "2022-05-20T09:11:13.184Z"
   },
   {
    "duration": 223,
    "start_time": "2022-05-20T09:11:14.914Z"
   },
   {
    "duration": 17,
    "start_time": "2022-05-20T09:11:15.138Z"
   },
   {
    "duration": 107,
    "start_time": "2022-05-20T09:11:15.164Z"
   },
   {
    "duration": 12,
    "start_time": "2022-05-20T09:11:15.281Z"
   },
   {
    "duration": 9,
    "start_time": "2022-05-20T09:11:15.296Z"
   },
   {
    "duration": 34,
    "start_time": "2022-05-20T09:11:15.307Z"
   },
   {
    "duration": 42,
    "start_time": "2022-05-20T09:11:15.344Z"
   },
   {
    "duration": 10,
    "start_time": "2022-05-20T09:11:15.389Z"
   },
   {
    "duration": 11,
    "start_time": "2022-05-20T09:11:15.401Z"
   },
   {
    "duration": 387,
    "start_time": "2022-05-20T09:11:15.414Z"
   },
   {
    "duration": 332,
    "start_time": "2022-05-20T09:11:15.803Z"
   },
   {
    "duration": 272,
    "start_time": "2022-05-20T09:11:16.137Z"
   },
   {
    "duration": 40,
    "start_time": "2022-05-20T09:11:16.412Z"
   },
   {
    "duration": 52067,
    "start_time": "2022-05-20T09:11:16.455Z"
   },
   {
    "duration": 73,
    "start_time": "2022-05-20T09:12:08.523Z"
   },
   {
    "duration": 1020,
    "start_time": "2022-05-20T09:12:08.598Z"
   },
   {
    "duration": 12,
    "start_time": "2022-05-20T09:12:09.620Z"
   },
   {
    "duration": 950,
    "start_time": "2022-05-20T09:12:09.635Z"
   },
   {
    "duration": 26,
    "start_time": "2022-05-20T09:12:10.588Z"
   },
   {
    "duration": 90,
    "start_time": "2022-05-20T09:12:10.616Z"
   },
   {
    "duration": 0,
    "start_time": "2022-05-20T09:12:10.708Z"
   },
   {
    "duration": 0,
    "start_time": "2022-05-20T09:12:10.709Z"
   },
   {
    "duration": 0,
    "start_time": "2022-05-20T09:12:10.710Z"
   },
   {
    "duration": 0,
    "start_time": "2022-05-20T09:12:10.712Z"
   },
   {
    "duration": 0,
    "start_time": "2022-05-20T09:12:10.713Z"
   },
   {
    "duration": 382,
    "start_time": "2022-05-20T09:13:42.533Z"
   },
   {
    "duration": 527,
    "start_time": "2022-05-20T09:14:22.183Z"
   },
   {
    "duration": 582,
    "start_time": "2022-05-20T09:14:46.038Z"
   },
   {
    "duration": 527,
    "start_time": "2022-05-20T09:14:55.565Z"
   },
   {
    "duration": 23,
    "start_time": "2022-05-20T09:15:04.765Z"
   },
   {
    "duration": 223,
    "start_time": "2022-05-20T09:15:59.815Z"
   },
   {
    "duration": 262,
    "start_time": "2022-05-20T09:16:17.798Z"
   },
   {
    "duration": 250,
    "start_time": "2022-05-20T09:17:48.722Z"
   },
   {
    "duration": 36,
    "start_time": "2022-05-20T09:18:13.019Z"
   },
   {
    "duration": 182859,
    "start_time": "2022-05-20T09:19:37.585Z"
   },
   {
    "duration": 1805,
    "start_time": "2022-05-20T09:24:27.989Z"
   },
   {
    "duration": 2,
    "start_time": "2022-05-20T09:29:22.507Z"
   },
   {
    "duration": 10,
    "start_time": "2022-05-20T09:32:47.471Z"
   },
   {
    "duration": 5,
    "start_time": "2022-05-20T09:33:03.970Z"
   },
   {
    "duration": 3,
    "start_time": "2022-05-20T09:33:43.822Z"
   },
   {
    "duration": 410755,
    "start_time": "2022-05-20T09:35:19.697Z"
   },
   {
    "duration": 1582,
    "start_time": "2022-05-20T09:42:28.436Z"
   },
   {
    "duration": 213,
    "start_time": "2022-05-20T09:42:30.021Z"
   },
   {
    "duration": 44,
    "start_time": "2022-05-20T09:42:30.238Z"
   },
   {
    "duration": 147,
    "start_time": "2022-05-20T09:42:30.286Z"
   },
   {
    "duration": 10,
    "start_time": "2022-05-20T09:42:30.435Z"
   },
   {
    "duration": 123,
    "start_time": "2022-05-20T09:42:30.446Z"
   },
   {
    "duration": 132,
    "start_time": "2022-05-20T09:42:30.572Z"
   },
   {
    "duration": 44,
    "start_time": "2022-05-20T09:42:30.706Z"
   },
   {
    "duration": 32,
    "start_time": "2022-05-20T09:42:30.752Z"
   },
   {
    "duration": 20,
    "start_time": "2022-05-20T09:42:30.787Z"
   },
   {
    "duration": 318,
    "start_time": "2022-05-20T09:42:30.809Z"
   },
   {
    "duration": 370,
    "start_time": "2022-05-20T09:42:31.130Z"
   },
   {
    "duration": 350,
    "start_time": "2022-05-20T09:42:31.502Z"
   },
   {
    "duration": 69,
    "start_time": "2022-05-20T09:42:31.854Z"
   },
   {
    "duration": 57641,
    "start_time": "2022-05-20T09:42:31.925Z"
   },
   {
    "duration": 60,
    "start_time": "2022-05-20T09:43:29.568Z"
   },
   {
    "duration": 981,
    "start_time": "2022-05-20T09:43:29.631Z"
   },
   {
    "duration": 21,
    "start_time": "2022-05-20T09:43:30.615Z"
   },
   {
    "duration": 1128,
    "start_time": "2022-05-20T09:43:30.638Z"
   },
   {
    "duration": 35,
    "start_time": "2022-05-20T09:43:31.769Z"
   },
   {
    "duration": 3,
    "start_time": "2022-05-20T09:43:31.806Z"
   },
   {
    "duration": 8,
    "start_time": "2022-05-20T09:43:31.811Z"
   },
   {
    "duration": 18,
    "start_time": "2022-05-20T09:43:31.821Z"
   },
   {
    "duration": 32,
    "start_time": "2022-05-20T09:43:31.842Z"
   },
   {
    "duration": 15,
    "start_time": "2022-05-20T09:43:31.876Z"
   },
   {
    "duration": 37,
    "start_time": "2022-05-20T09:43:31.894Z"
   },
   {
    "duration": 2504,
    "start_time": "2022-05-20T09:45:05.731Z"
   },
   {
    "duration": 2345,
    "start_time": "2022-05-20T09:45:23.515Z"
   },
   {
    "duration": 1781,
    "start_time": "2022-05-20T09:46:53.485Z"
   },
   {
    "duration": 3411,
    "start_time": "2022-05-20T09:47:11.508Z"
   },
   {
    "duration": 2946,
    "start_time": "2022-05-20T09:48:06.611Z"
   },
   {
    "duration": 2707,
    "start_time": "2022-05-20T09:48:46.561Z"
   },
   {
    "duration": 12,
    "start_time": "2022-05-20T10:29:14.162Z"
   },
   {
    "duration": 46,
    "start_time": "2022-05-20T10:29:17.113Z"
   },
   {
    "duration": 44,
    "start_time": "2022-05-20T10:29:37.752Z"
   },
   {
    "duration": 25252,
    "start_time": "2022-05-20T10:30:06.862Z"
   },
   {
    "duration": 34,
    "start_time": "2022-05-20T10:33:34.701Z"
   },
   {
    "duration": 35,
    "start_time": "2022-05-20T10:33:52.101Z"
   },
   {
    "duration": 804,
    "start_time": "2022-05-20T10:34:27.531Z"
   },
   {
    "duration": 822,
    "start_time": "2022-05-20T10:34:34.900Z"
   },
   {
    "duration": 22,
    "start_time": "2022-05-20T10:34:42.555Z"
   },
   {
    "duration": 898,
    "start_time": "2022-05-20T10:35:01.625Z"
   },
   {
    "duration": 41,
    "start_time": "2022-05-20T10:35:24.459Z"
   },
   {
    "duration": 19,
    "start_time": "2022-05-20T10:35:53.291Z"
   },
   {
    "duration": 14,
    "start_time": "2022-05-20T10:36:22.209Z"
   },
   {
    "duration": 378,
    "start_time": "2022-05-20T10:44:04.538Z"
   },
   {
    "duration": 235,
    "start_time": "2022-05-20T10:44:25.161Z"
   },
   {
    "duration": 197728,
    "start_time": "2022-05-20T10:44:51.653Z"
   },
   {
    "duration": 361415,
    "start_time": "2022-05-20T10:50:24.631Z"
   },
   {
    "duration": 231354,
    "start_time": "2022-05-20T10:59:00.550Z"
   },
   {
    "duration": 82,
    "start_time": "2022-05-20T11:15:21.588Z"
   },
   {
    "duration": 2467,
    "start_time": "2022-05-20T11:15:35.497Z"
   },
   {
    "duration": 556,
    "start_time": "2022-05-20T11:15:37.967Z"
   },
   {
    "duration": 38,
    "start_time": "2022-05-20T11:15:38.525Z"
   },
   {
    "duration": 205,
    "start_time": "2022-05-20T11:15:38.568Z"
   },
   {
    "duration": 23,
    "start_time": "2022-05-20T11:15:38.776Z"
   },
   {
    "duration": 77,
    "start_time": "2022-05-20T11:15:38.801Z"
   },
   {
    "duration": 175,
    "start_time": "2022-05-20T11:15:38.882Z"
   },
   {
    "duration": 83,
    "start_time": "2022-05-20T11:15:39.061Z"
   },
   {
    "duration": 22,
    "start_time": "2022-05-20T11:15:39.152Z"
   },
   {
    "duration": 91,
    "start_time": "2022-05-20T11:15:39.175Z"
   },
   {
    "duration": 608,
    "start_time": "2022-05-20T11:15:39.268Z"
   },
   {
    "duration": 522,
    "start_time": "2022-05-20T11:15:39.879Z"
   },
   {
    "duration": 348,
    "start_time": "2022-05-20T11:15:40.407Z"
   },
   {
    "duration": 12,
    "start_time": "2022-05-20T11:15:40.763Z"
   },
   {
    "duration": 179,
    "start_time": "2022-05-20T11:15:40.781Z"
   },
   {
    "duration": 39138,
    "start_time": "2022-05-20T11:15:40.963Z"
   },
   {
    "duration": 57,
    "start_time": "2022-05-20T11:16:20.108Z"
   },
   {
    "duration": 1449,
    "start_time": "2022-05-20T11:16:20.167Z"
   },
   {
    "duration": 25,
    "start_time": "2022-05-20T11:16:21.621Z"
   },
   {
    "duration": 1103,
    "start_time": "2022-05-20T11:16:21.652Z"
   },
   {
    "duration": 43,
    "start_time": "2022-05-20T11:16:22.757Z"
   },
   {
    "duration": 70,
    "start_time": "2022-05-20T11:16:22.801Z"
   },
   {
    "duration": 1544,
    "start_time": "2022-05-20T11:16:22.873Z"
   },
   {
    "duration": 3,
    "start_time": "2022-05-20T11:16:24.419Z"
   },
   {
    "duration": 39,
    "start_time": "2022-05-20T11:16:24.425Z"
   },
   {
    "duration": 0,
    "start_time": "2022-05-20T11:16:24.466Z"
   },
   {
    "duration": 0,
    "start_time": "2022-05-20T11:16:24.467Z"
   },
   {
    "duration": 0,
    "start_time": "2022-05-20T11:16:24.469Z"
   },
   {
    "duration": 0,
    "start_time": "2022-05-20T11:16:24.471Z"
   },
   {
    "duration": 0,
    "start_time": "2022-05-20T11:16:24.472Z"
   },
   {
    "duration": 0,
    "start_time": "2022-05-20T11:16:24.474Z"
   },
   {
    "duration": 42,
    "start_time": "2022-05-20T11:18:18.518Z"
   },
   {
    "duration": 142,
    "start_time": "2022-05-20T11:18:23.503Z"
   },
   {
    "duration": 13,
    "start_time": "2022-05-20T11:22:08.511Z"
   },
   {
    "duration": 10,
    "start_time": "2022-05-20T11:24:53.122Z"
   },
   {
    "duration": 14,
    "start_time": "2022-05-20T11:25:37.657Z"
   },
   {
    "duration": 10,
    "start_time": "2022-05-20T11:25:42.618Z"
   },
   {
    "duration": 181,
    "start_time": "2022-05-20T11:27:21.634Z"
   },
   {
    "duration": 148,
    "start_time": "2022-05-20T11:28:12.189Z"
   },
   {
    "duration": 10,
    "start_time": "2022-05-20T11:28:30.616Z"
   },
   {
    "duration": 19,
    "start_time": "2022-05-20T11:39:58.323Z"
   },
   {
    "duration": 899,
    "start_time": "2022-05-20T11:40:05.095Z"
   },
   {
    "duration": 12,
    "start_time": "2022-05-20T11:41:50.729Z"
   },
   {
    "duration": 16,
    "start_time": "2022-05-20T11:41:58.623Z"
   },
   {
    "duration": 48,
    "start_time": "2022-05-20T11:44:42.722Z"
   },
   {
    "duration": 33,
    "start_time": "2022-05-20T11:46:07.120Z"
   },
   {
    "duration": 19,
    "start_time": "2022-05-20T11:47:25.414Z"
   },
   {
    "duration": 21,
    "start_time": "2022-05-20T11:48:58.660Z"
   },
   {
    "duration": 21,
    "start_time": "2022-05-20T11:49:21.027Z"
   },
   {
    "duration": 5,
    "start_time": "2022-05-20T11:53:57.896Z"
   },
   {
    "duration": 143,
    "start_time": "2022-05-20T11:53:57.903Z"
   },
   {
    "duration": 30,
    "start_time": "2022-05-20T11:53:58.049Z"
   },
   {
    "duration": 98,
    "start_time": "2022-05-20T11:53:58.080Z"
   },
   {
    "duration": 14,
    "start_time": "2022-05-20T11:53:58.183Z"
   },
   {
    "duration": 9,
    "start_time": "2022-05-20T11:53:58.198Z"
   },
   {
    "duration": 27,
    "start_time": "2022-05-20T11:53:58.209Z"
   },
   {
    "duration": 43,
    "start_time": "2022-05-20T11:53:58.238Z"
   },
   {
    "duration": 12,
    "start_time": "2022-05-20T11:53:58.283Z"
   },
   {
    "duration": 5,
    "start_time": "2022-05-20T11:53:58.297Z"
   },
   {
    "duration": 293,
    "start_time": "2022-05-20T11:53:58.304Z"
   },
   {
    "duration": 325,
    "start_time": "2022-05-20T11:53:58.603Z"
   },
   {
    "duration": 298,
    "start_time": "2022-05-20T11:53:58.931Z"
   },
   {
    "duration": 13,
    "start_time": "2022-05-20T11:53:59.233Z"
   },
   {
    "duration": 50,
    "start_time": "2022-05-20T11:53:59.248Z"
   },
   {
    "duration": 24601,
    "start_time": "2022-05-20T11:53:59.300Z"
   },
   {
    "duration": 31,
    "start_time": "2022-05-20T11:54:23.903Z"
   },
   {
    "duration": 882,
    "start_time": "2022-05-20T11:54:23.937Z"
   },
   {
    "duration": 13,
    "start_time": "2022-05-20T11:54:24.822Z"
   },
   {
    "duration": 36,
    "start_time": "2022-05-20T11:54:24.837Z"
   },
   {
    "duration": 19,
    "start_time": "2022-05-20T11:54:24.880Z"
   },
   {
    "duration": 807,
    "start_time": "2022-05-20T11:54:24.900Z"
   },
   {
    "duration": 15,
    "start_time": "2022-05-20T11:54:25.709Z"
   },
   {
    "duration": 917,
    "start_time": "2022-05-20T11:54:25.726Z"
   },
   {
    "duration": 28,
    "start_time": "2022-05-20T11:54:26.646Z"
   },
   {
    "duration": 49,
    "start_time": "2022-05-20T11:54:26.676Z"
   },
   {
    "duration": 0,
    "start_time": "2022-05-20T11:54:26.726Z"
   },
   {
    "duration": 0,
    "start_time": "2022-05-20T11:54:26.728Z"
   },
   {
    "duration": 0,
    "start_time": "2022-05-20T11:54:26.729Z"
   },
   {
    "duration": 0,
    "start_time": "2022-05-20T11:54:26.730Z"
   },
   {
    "duration": 0,
    "start_time": "2022-05-20T11:54:26.731Z"
   },
   {
    "duration": 0,
    "start_time": "2022-05-20T11:54:26.733Z"
   },
   {
    "duration": 884,
    "start_time": "2022-05-20T11:56:45.213Z"
   },
   {
    "duration": 809,
    "start_time": "2022-05-20T11:57:05.915Z"
   },
   {
    "duration": 681,
    "start_time": "2022-05-20T12:04:18.100Z"
   },
   {
    "duration": 769,
    "start_time": "2022-05-20T12:05:16.638Z"
   },
   {
    "duration": 29,
    "start_time": "2022-05-20T12:06:52.699Z"
   },
   {
    "duration": 796,
    "start_time": "2022-05-20T12:08:17.582Z"
   },
   {
    "duration": 815,
    "start_time": "2022-05-20T12:08:31.322Z"
   },
   {
    "duration": 627,
    "start_time": "2022-05-20T12:10:20.323Z"
   },
   {
    "duration": 187,
    "start_time": "2022-05-20T12:13:38.366Z"
   },
   {
    "duration": 57,
    "start_time": "2022-05-20T12:13:53.891Z"
   },
   {
    "duration": 1528,
    "start_time": "2022-05-20T16:03:48.395Z"
   },
   {
    "duration": 205,
    "start_time": "2022-05-20T16:03:49.925Z"
   },
   {
    "duration": 16,
    "start_time": "2022-05-20T16:03:50.132Z"
   },
   {
    "duration": 89,
    "start_time": "2022-05-20T16:03:50.150Z"
   },
   {
    "duration": 9,
    "start_time": "2022-05-20T16:03:50.240Z"
   },
   {
    "duration": 7,
    "start_time": "2022-05-20T16:03:50.251Z"
   },
   {
    "duration": 29,
    "start_time": "2022-05-20T16:03:50.259Z"
   },
   {
    "duration": 44,
    "start_time": "2022-05-20T16:03:50.289Z"
   },
   {
    "duration": 6,
    "start_time": "2022-05-20T16:03:50.334Z"
   },
   {
    "duration": 7,
    "start_time": "2022-05-20T16:03:50.342Z"
   },
   {
    "duration": 291,
    "start_time": "2022-05-20T16:03:50.350Z"
   },
   {
    "duration": 280,
    "start_time": "2022-05-20T16:03:50.643Z"
   },
   {
    "duration": 219,
    "start_time": "2022-05-20T16:03:50.925Z"
   },
   {
    "duration": 16,
    "start_time": "2022-05-20T16:03:51.145Z"
   },
   {
    "duration": 29,
    "start_time": "2022-05-20T16:03:51.163Z"
   },
   {
    "duration": 21199,
    "start_time": "2022-05-20T16:03:51.196Z"
   },
   {
    "duration": 34,
    "start_time": "2022-05-20T16:04:12.397Z"
   },
   {
    "duration": 5,
    "start_time": "2022-05-20T16:04:12.432Z"
   },
   {
    "duration": 0,
    "start_time": "2022-05-20T16:04:12.439Z"
   },
   {
    "duration": 0,
    "start_time": "2022-05-20T16:04:12.441Z"
   },
   {
    "duration": 0,
    "start_time": "2022-05-20T16:04:12.442Z"
   },
   {
    "duration": 0,
    "start_time": "2022-05-20T16:04:12.444Z"
   },
   {
    "duration": 0,
    "start_time": "2022-05-20T16:04:12.445Z"
   },
   {
    "duration": 0,
    "start_time": "2022-05-20T16:04:12.447Z"
   },
   {
    "duration": 0,
    "start_time": "2022-05-20T16:04:12.448Z"
   },
   {
    "duration": 0,
    "start_time": "2022-05-20T16:04:12.450Z"
   },
   {
    "duration": 0,
    "start_time": "2022-05-20T16:04:12.451Z"
   },
   {
    "duration": 0,
    "start_time": "2022-05-20T16:04:12.453Z"
   },
   {
    "duration": 0,
    "start_time": "2022-05-20T16:04:12.454Z"
   },
   {
    "duration": 0,
    "start_time": "2022-05-20T16:04:12.456Z"
   },
   {
    "duration": 0,
    "start_time": "2022-05-20T16:04:12.458Z"
   },
   {
    "duration": 0,
    "start_time": "2022-05-20T16:04:12.459Z"
   },
   {
    "duration": 27,
    "start_time": "2022-05-20T16:05:06.128Z"
   },
   {
    "duration": 506,
    "start_time": "2022-05-20T16:07:35.488Z"
   },
   {
    "duration": 768,
    "start_time": "2022-05-20T16:07:54.666Z"
   },
   {
    "duration": 21,
    "start_time": "2022-05-20T16:08:01.817Z"
   },
   {
    "duration": 12,
    "start_time": "2022-05-20T16:08:07.658Z"
   },
   {
    "duration": 58,
    "start_time": "2022-05-20T16:10:16.919Z"
   },
   {
    "duration": 54,
    "start_time": "2022-05-20T16:10:58.315Z"
   },
   {
    "duration": 61,
    "start_time": "2022-05-20T16:11:19.175Z"
   },
   {
    "duration": 729,
    "start_time": "2022-05-20T16:13:10.485Z"
   },
   {
    "duration": 12,
    "start_time": "2022-05-20T16:13:53.348Z"
   },
   {
    "duration": 688,
    "start_time": "2022-05-20T16:20:13.841Z"
   },
   {
    "duration": 10,
    "start_time": "2022-05-20T16:27:17.137Z"
   },
   {
    "duration": 169,
    "start_time": "2022-05-20T16:27:26.653Z"
   },
   {
    "duration": 18,
    "start_time": "2022-05-20T16:27:54.341Z"
   },
   {
    "duration": 19,
    "start_time": "2022-05-20T16:28:57.579Z"
   },
   {
    "duration": 5,
    "start_time": "2022-05-20T16:29:52.931Z"
   },
   {
    "duration": 126,
    "start_time": "2022-05-20T16:29:52.937Z"
   },
   {
    "duration": 13,
    "start_time": "2022-05-20T16:29:53.065Z"
   },
   {
    "duration": 102,
    "start_time": "2022-05-20T16:29:53.080Z"
   },
   {
    "duration": 9,
    "start_time": "2022-05-20T16:29:53.183Z"
   },
   {
    "duration": 29,
    "start_time": "2022-05-20T16:29:53.194Z"
   },
   {
    "duration": 32,
    "start_time": "2022-05-20T16:29:53.225Z"
   },
   {
    "duration": 23,
    "start_time": "2022-05-20T16:29:53.259Z"
   },
   {
    "duration": 7,
    "start_time": "2022-05-20T16:29:53.284Z"
   },
   {
    "duration": 20,
    "start_time": "2022-05-20T16:29:53.293Z"
   },
   {
    "duration": 252,
    "start_time": "2022-05-20T16:29:53.315Z"
   },
   {
    "duration": 274,
    "start_time": "2022-05-20T16:29:53.569Z"
   },
   {
    "duration": 214,
    "start_time": "2022-05-20T16:29:53.845Z"
   },
   {
    "duration": 9,
    "start_time": "2022-05-20T16:29:54.062Z"
   },
   {
    "duration": 24,
    "start_time": "2022-05-20T16:29:54.073Z"
   },
   {
    "duration": 20904,
    "start_time": "2022-05-20T16:29:54.099Z"
   },
   {
    "duration": 32,
    "start_time": "2022-05-20T16:30:15.004Z"
   },
   {
    "duration": 705,
    "start_time": "2022-05-20T16:30:15.038Z"
   },
   {
    "duration": 52,
    "start_time": "2022-05-20T16:30:15.744Z"
   },
   {
    "duration": 0,
    "start_time": "2022-05-20T16:30:15.798Z"
   },
   {
    "duration": 0,
    "start_time": "2022-05-20T16:30:15.799Z"
   },
   {
    "duration": 0,
    "start_time": "2022-05-20T16:30:15.800Z"
   },
   {
    "duration": 0,
    "start_time": "2022-05-20T16:30:15.802Z"
   },
   {
    "duration": 0,
    "start_time": "2022-05-20T16:30:15.803Z"
   },
   {
    "duration": 0,
    "start_time": "2022-05-20T16:30:15.804Z"
   },
   {
    "duration": 0,
    "start_time": "2022-05-20T16:30:15.805Z"
   },
   {
    "duration": 0,
    "start_time": "2022-05-20T16:30:15.806Z"
   },
   {
    "duration": 0,
    "start_time": "2022-05-20T16:30:15.807Z"
   },
   {
    "duration": 0,
    "start_time": "2022-05-20T16:30:15.808Z"
   },
   {
    "duration": 0,
    "start_time": "2022-05-20T16:30:15.809Z"
   },
   {
    "duration": 0,
    "start_time": "2022-05-20T16:30:15.810Z"
   },
   {
    "duration": 0,
    "start_time": "2022-05-20T16:30:15.811Z"
   },
   {
    "duration": 0,
    "start_time": "2022-05-20T16:30:15.812Z"
   },
   {
    "duration": 0,
    "start_time": "2022-05-20T16:30:15.813Z"
   },
   {
    "duration": 195,
    "start_time": "2022-05-20T16:30:31.879Z"
   },
   {
    "duration": 15,
    "start_time": "2022-05-20T16:32:18.730Z"
   },
   {
    "duration": 157,
    "start_time": "2022-05-20T16:32:28.999Z"
   },
   {
    "duration": 111,
    "start_time": "2022-05-20T16:33:02.747Z"
   },
   {
    "duration": 133,
    "start_time": "2022-05-20T16:34:54.055Z"
   },
   {
    "duration": 16,
    "start_time": "2022-05-20T16:37:10.759Z"
   },
   {
    "duration": 17,
    "start_time": "2022-05-20T16:38:18.492Z"
   },
   {
    "duration": 24,
    "start_time": "2022-05-20T16:38:22.840Z"
   },
   {
    "duration": 95,
    "start_time": "2022-05-20T16:38:35.038Z"
   },
   {
    "duration": 104,
    "start_time": "2022-05-20T16:39:36.881Z"
   },
   {
    "duration": 92,
    "start_time": "2022-05-20T16:41:05.640Z"
   },
   {
    "duration": 103,
    "start_time": "2022-05-20T16:41:36.869Z"
   },
   {
    "duration": 12,
    "start_time": "2022-05-20T16:42:44.509Z"
   },
   {
    "duration": 22,
    "start_time": "2022-05-20T16:42:52.314Z"
   },
   {
    "duration": 700,
    "start_time": "2022-05-20T16:43:24.194Z"
   },
   {
    "duration": 652,
    "start_time": "2022-05-20T16:44:52.750Z"
   },
   {
    "duration": 108,
    "start_time": "2022-05-20T16:47:29.268Z"
   },
   {
    "duration": 16,
    "start_time": "2022-05-20T16:47:55.574Z"
   },
   {
    "duration": 27,
    "start_time": "2022-05-20T16:50:47.540Z"
   },
   {
    "duration": 628,
    "start_time": "2022-05-20T16:50:50.503Z"
   },
   {
    "duration": 16,
    "start_time": "2022-05-20T16:51:07.311Z"
   },
   {
    "duration": 358,
    "start_time": "2022-05-20T16:54:34.217Z"
   },
   {
    "duration": 215,
    "start_time": "2022-05-20T16:55:07.557Z"
   },
   {
    "duration": 98,
    "start_time": "2022-05-20T16:56:38.695Z"
   },
   {
    "duration": 26,
    "start_time": "2022-05-20T16:57:06.911Z"
   },
   {
    "duration": 21,
    "start_time": "2022-05-20T16:57:48.891Z"
   },
   {
    "duration": 32,
    "start_time": "2022-05-20T16:59:14.876Z"
   },
   {
    "duration": 42,
    "start_time": "2022-05-20T16:59:27.672Z"
   },
   {
    "duration": 15,
    "start_time": "2022-05-20T16:59:44.726Z"
   },
   {
    "duration": 14,
    "start_time": "2022-05-20T16:59:56.241Z"
   },
   {
    "duration": 11,
    "start_time": "2022-05-20T17:00:25.319Z"
   },
   {
    "duration": 26,
    "start_time": "2022-05-20T17:00:30.664Z"
   },
   {
    "duration": 31,
    "start_time": "2022-05-20T17:01:07.600Z"
   },
   {
    "duration": 700,
    "start_time": "2022-05-20T17:01:33.849Z"
   },
   {
    "duration": 15,
    "start_time": "2022-05-20T17:03:23.908Z"
   },
   {
    "duration": 4,
    "start_time": "2022-05-20T18:47:50.914Z"
   },
   {
    "duration": 141,
    "start_time": "2022-05-20T18:47:50.920Z"
   },
   {
    "duration": 13,
    "start_time": "2022-05-20T18:47:51.063Z"
   },
   {
    "duration": 94,
    "start_time": "2022-05-20T18:47:51.078Z"
   },
   {
    "duration": 14,
    "start_time": "2022-05-20T18:47:51.173Z"
   },
   {
    "duration": 10,
    "start_time": "2022-05-20T18:47:51.189Z"
   },
   {
    "duration": 49,
    "start_time": "2022-05-20T18:47:51.201Z"
   },
   {
    "duration": 26,
    "start_time": "2022-05-20T18:47:51.254Z"
   },
   {
    "duration": 10,
    "start_time": "2022-05-20T18:47:51.284Z"
   },
   {
    "duration": 7,
    "start_time": "2022-05-20T18:47:51.296Z"
   },
   {
    "duration": 305,
    "start_time": "2022-05-20T18:47:51.305Z"
   },
   {
    "duration": 307,
    "start_time": "2022-05-20T18:47:51.612Z"
   },
   {
    "duration": 244,
    "start_time": "2022-05-20T18:47:51.922Z"
   },
   {
    "duration": 8,
    "start_time": "2022-05-20T18:47:52.168Z"
   },
   {
    "duration": 29,
    "start_time": "2022-05-20T18:47:52.178Z"
   },
   {
    "duration": 21569,
    "start_time": "2022-05-20T18:47:52.209Z"
   },
   {
    "duration": 26,
    "start_time": "2022-05-20T18:48:13.780Z"
   },
   {
    "duration": 749,
    "start_time": "2022-05-20T18:48:13.808Z"
   },
   {
    "duration": 189,
    "start_time": "2022-05-20T18:48:14.558Z"
   },
   {
    "duration": 48,
    "start_time": "2022-05-20T18:48:14.748Z"
   },
   {
    "duration": 17,
    "start_time": "2022-05-20T18:48:14.797Z"
   },
   {
    "duration": 11,
    "start_time": "2022-05-20T18:48:14.816Z"
   },
   {
    "duration": 15,
    "start_time": "2022-05-20T18:48:14.843Z"
   },
   {
    "duration": 776,
    "start_time": "2022-05-20T18:48:14.861Z"
   },
   {
    "duration": 23,
    "start_time": "2022-05-20T18:48:15.639Z"
   },
   {
    "duration": 756,
    "start_time": "2022-05-20T18:48:15.664Z"
   },
   {
    "duration": 19,
    "start_time": "2022-05-20T18:53:01.932Z"
   },
   {
    "duration": 4,
    "start_time": "2022-05-20T18:53:34.799Z"
   },
   {
    "duration": 144,
    "start_time": "2022-05-20T18:53:34.805Z"
   },
   {
    "duration": 17,
    "start_time": "2022-05-20T18:53:34.951Z"
   },
   {
    "duration": 80,
    "start_time": "2022-05-20T18:53:34.970Z"
   },
   {
    "duration": 12,
    "start_time": "2022-05-20T18:53:35.052Z"
   },
   {
    "duration": 18,
    "start_time": "2022-05-20T18:53:35.065Z"
   },
   {
    "duration": 31,
    "start_time": "2022-05-20T18:53:35.085Z"
   },
   {
    "duration": 39,
    "start_time": "2022-05-20T18:53:35.118Z"
   },
   {
    "duration": 8,
    "start_time": "2022-05-20T18:53:35.165Z"
   },
   {
    "duration": 22,
    "start_time": "2022-05-20T18:53:35.174Z"
   },
   {
    "duration": 270,
    "start_time": "2022-05-20T18:53:35.199Z"
   },
   {
    "duration": 410,
    "start_time": "2022-05-20T18:53:35.471Z"
   },
   {
    "duration": 217,
    "start_time": "2022-05-20T18:53:35.883Z"
   },
   {
    "duration": 8,
    "start_time": "2022-05-20T18:53:36.101Z"
   },
   {
    "duration": 44,
    "start_time": "2022-05-20T18:53:36.110Z"
   },
   {
    "duration": 21202,
    "start_time": "2022-05-20T18:53:36.159Z"
   },
   {
    "duration": 26,
    "start_time": "2022-05-20T18:53:57.363Z"
   },
   {
    "duration": 721,
    "start_time": "2022-05-20T18:53:57.391Z"
   },
   {
    "duration": 196,
    "start_time": "2022-05-20T18:53:58.114Z"
   },
   {
    "duration": 57,
    "start_time": "2022-05-20T18:53:58.312Z"
   },
   {
    "duration": 18,
    "start_time": "2022-05-20T18:53:58.371Z"
   },
   {
    "duration": 12,
    "start_time": "2022-05-20T18:53:58.390Z"
   },
   {
    "duration": 17,
    "start_time": "2022-05-20T18:53:58.403Z"
   },
   {
    "duration": 14,
    "start_time": "2022-05-20T18:54:08.009Z"
   },
   {
    "duration": 9,
    "start_time": "2022-05-20T18:56:51.237Z"
   },
   {
    "duration": 139,
    "start_time": "2022-05-20T18:58:44.976Z"
   },
   {
    "duration": 596,
    "start_time": "2022-05-20T19:08:04.605Z"
   },
   {
    "duration": 31,
    "start_time": "2022-05-20T19:08:52.273Z"
   },
   {
    "duration": 584,
    "start_time": "2022-05-20T19:09:28.698Z"
   },
   {
    "duration": 12783,
    "start_time": "2022-05-20T19:13:01.120Z"
   },
   {
    "duration": 50,
    "start_time": "2022-05-20T19:13:51.133Z"
   },
   {
    "duration": 38,
    "start_time": "2022-05-20T19:14:10.235Z"
   },
   {
    "duration": 32,
    "start_time": "2022-05-20T19:14:57.397Z"
   },
   {
    "duration": 41,
    "start_time": "2022-05-20T19:18:13.402Z"
   },
   {
    "duration": 12041,
    "start_time": "2022-05-20T19:19:00.392Z"
   },
   {
    "duration": 2552,
    "start_time": "2022-05-20T19:19:33.581Z"
   },
   {
    "duration": 28,
    "start_time": "2022-05-20T19:28:33.586Z"
   },
   {
    "duration": 29,
    "start_time": "2022-05-20T19:28:57.270Z"
   },
   {
    "duration": 30,
    "start_time": "2022-05-20T19:40:24.922Z"
   },
   {
    "duration": 35,
    "start_time": "2022-05-20T19:40:36.982Z"
   },
   {
    "duration": 30,
    "start_time": "2022-05-20T19:41:07.647Z"
   },
   {
    "duration": 30,
    "start_time": "2022-05-20T19:57:52.904Z"
   },
   {
    "duration": 11287,
    "start_time": "2022-05-20T19:59:19.912Z"
   },
   {
    "duration": 11399,
    "start_time": "2022-05-20T19:59:42.469Z"
   },
   {
    "duration": 11485,
    "start_time": "2022-05-20T20:00:19.703Z"
   },
   {
    "duration": 30,
    "start_time": "2022-05-20T20:01:15.753Z"
   },
   {
    "duration": 4,
    "start_time": "2022-05-20T20:01:32.410Z"
   },
   {
    "duration": 127,
    "start_time": "2022-05-20T20:01:32.416Z"
   },
   {
    "duration": 14,
    "start_time": "2022-05-20T20:01:32.544Z"
   },
   {
    "duration": 81,
    "start_time": "2022-05-20T20:01:32.560Z"
   },
   {
    "duration": 9,
    "start_time": "2022-05-20T20:01:32.644Z"
   },
   {
    "duration": 10,
    "start_time": "2022-05-20T20:01:32.655Z"
   },
   {
    "duration": 31,
    "start_time": "2022-05-20T20:01:32.667Z"
   },
   {
    "duration": 42,
    "start_time": "2022-05-20T20:01:32.700Z"
   },
   {
    "duration": 7,
    "start_time": "2022-05-20T20:01:32.744Z"
   },
   {
    "duration": 5,
    "start_time": "2022-05-20T20:01:32.752Z"
   },
   {
    "duration": 262,
    "start_time": "2022-05-20T20:01:32.758Z"
   },
   {
    "duration": 299,
    "start_time": "2022-05-20T20:01:33.021Z"
   },
   {
    "duration": 221,
    "start_time": "2022-05-20T20:01:33.322Z"
   },
   {
    "duration": 11,
    "start_time": "2022-05-20T20:01:33.547Z"
   },
   {
    "duration": 36,
    "start_time": "2022-05-20T20:01:33.560Z"
   },
   {
    "duration": 20855,
    "start_time": "2022-05-20T20:01:33.597Z"
   },
   {
    "duration": 26,
    "start_time": "2022-05-20T20:01:54.454Z"
   },
   {
    "duration": 2372,
    "start_time": "2022-05-20T20:11:49.937Z"
   },
   {
    "duration": 2442,
    "start_time": "2022-05-20T20:12:10.561Z"
   },
   {
    "duration": 12,
    "start_time": "2022-05-20T20:13:24.423Z"
   },
   {
    "duration": 11,
    "start_time": "2022-05-20T20:13:33.958Z"
   },
   {
    "duration": 10,
    "start_time": "2022-05-20T20:13:43.501Z"
   },
   {
    "duration": 841,
    "start_time": "2022-05-20T20:13:46.259Z"
   },
   {
    "duration": 11,
    "start_time": "2022-05-20T20:14:01.742Z"
   },
   {
    "duration": 5,
    "start_time": "2022-05-20T20:15:01.980Z"
   },
   {
    "duration": 136,
    "start_time": "2022-05-20T20:15:01.987Z"
   },
   {
    "duration": 29,
    "start_time": "2022-05-20T20:15:02.124Z"
   },
   {
    "duration": 85,
    "start_time": "2022-05-20T20:15:02.155Z"
   },
   {
    "duration": 12,
    "start_time": "2022-05-20T20:15:02.242Z"
   },
   {
    "duration": 10,
    "start_time": "2022-05-20T20:15:02.256Z"
   },
   {
    "duration": 31,
    "start_time": "2022-05-20T20:15:02.267Z"
   },
   {
    "duration": 21,
    "start_time": "2022-05-20T20:15:02.300Z"
   },
   {
    "duration": 8,
    "start_time": "2022-05-20T20:15:02.342Z"
   },
   {
    "duration": 11,
    "start_time": "2022-05-20T20:15:02.353Z"
   },
   {
    "duration": 271,
    "start_time": "2022-05-20T20:15:02.366Z"
   },
   {
    "duration": 267,
    "start_time": "2022-05-20T20:15:02.638Z"
   },
   {
    "duration": 213,
    "start_time": "2022-05-20T20:15:02.906Z"
   },
   {
    "duration": 8,
    "start_time": "2022-05-20T20:15:03.121Z"
   },
   {
    "duration": 31,
    "start_time": "2022-05-20T20:15:03.130Z"
   },
   {
    "duration": 20328,
    "start_time": "2022-05-20T20:15:03.163Z"
   },
   {
    "duration": 26,
    "start_time": "2022-05-20T20:15:23.493Z"
   },
   {
    "duration": 23,
    "start_time": "2022-05-20T20:15:23.521Z"
   },
   {
    "duration": 737,
    "start_time": "2022-05-20T20:15:23.546Z"
   },
   {
    "duration": 186,
    "start_time": "2022-05-20T20:15:24.284Z"
   },
   {
    "duration": 44,
    "start_time": "2022-05-20T20:15:24.471Z"
   },
   {
    "duration": 27,
    "start_time": "2022-05-20T20:15:24.516Z"
   },
   {
    "duration": 13,
    "start_time": "2022-05-20T20:15:24.545Z"
   },
   {
    "duration": 12,
    "start_time": "2022-05-20T20:15:24.560Z"
   },
   {
    "duration": 15,
    "start_time": "2022-05-20T20:15:24.573Z"
   },
   {
    "duration": 15,
    "start_time": "2022-05-20T20:15:24.589Z"
   },
   {
    "duration": 0,
    "start_time": "2022-05-20T20:15:24.606Z"
   },
   {
    "duration": 0,
    "start_time": "2022-05-20T20:15:24.607Z"
   },
   {
    "duration": 0,
    "start_time": "2022-05-20T20:15:24.608Z"
   },
   {
    "duration": 0,
    "start_time": "2022-05-20T20:15:24.609Z"
   },
   {
    "duration": 0,
    "start_time": "2022-05-20T20:15:24.610Z"
   },
   {
    "duration": 0,
    "start_time": "2022-05-20T20:15:24.642Z"
   },
   {
    "duration": 0,
    "start_time": "2022-05-20T20:15:24.643Z"
   },
   {
    "duration": 0,
    "start_time": "2022-05-20T20:15:24.644Z"
   },
   {
    "duration": 0,
    "start_time": "2022-05-20T20:15:24.645Z"
   },
   {
    "duration": 0,
    "start_time": "2022-05-20T20:15:24.646Z"
   },
   {
    "duration": 0,
    "start_time": "2022-05-20T20:15:24.647Z"
   },
   {
    "duration": 4,
    "start_time": "2022-05-20T20:17:36.573Z"
   },
   {
    "duration": 28,
    "start_time": "2022-05-20T20:18:52.588Z"
   },
   {
    "duration": 17,
    "start_time": "2022-05-20T20:19:01.557Z"
   },
   {
    "duration": 12,
    "start_time": "2022-05-20T20:19:29.688Z"
   },
   {
    "duration": 14,
    "start_time": "2022-05-20T20:19:59.481Z"
   },
   {
    "duration": 14,
    "start_time": "2022-05-20T20:20:35.206Z"
   },
   {
    "duration": 834,
    "start_time": "2022-05-20T20:21:18.355Z"
   },
   {
    "duration": 35,
    "start_time": "2022-05-20T20:22:04.448Z"
   },
   {
    "duration": 1078,
    "start_time": "2022-05-20T20:22:10.644Z"
   },
   {
    "duration": 985,
    "start_time": "2022-05-20T20:22:38.642Z"
   },
   {
    "duration": 822,
    "start_time": "2022-05-20T20:23:42.546Z"
   },
   {
    "duration": 1046,
    "start_time": "2022-05-20T20:23:54.906Z"
   },
   {
    "duration": 557,
    "start_time": "2022-05-20T20:24:03.859Z"
   },
   {
    "duration": 687,
    "start_time": "2022-05-20T20:30:19.313Z"
   },
   {
    "duration": 0,
    "start_time": "2022-05-20T20:36:31.344Z"
   },
   {
    "duration": 1346,
    "start_time": "2022-05-20T20:36:53.697Z"
   },
   {
    "duration": 178,
    "start_time": "2022-05-20T20:37:26.246Z"
   },
   {
    "duration": 120,
    "start_time": "2022-05-20T20:40:24.100Z"
   },
   {
    "duration": 3,
    "start_time": "2022-05-20T20:41:57.841Z"
   },
   {
    "duration": 10,
    "start_time": "2022-05-20T20:42:00.453Z"
   },
   {
    "duration": 115,
    "start_time": "2022-05-20T20:43:15.589Z"
   },
   {
    "duration": 137,
    "start_time": "2022-05-20T20:43:50.371Z"
   },
   {
    "duration": 7,
    "start_time": "2022-05-20T20:44:51.967Z"
   },
   {
    "duration": 4,
    "start_time": "2022-05-21T05:21:20.858Z"
   },
   {
    "duration": 125,
    "start_time": "2022-05-21T05:21:20.864Z"
   },
   {
    "duration": 14,
    "start_time": "2022-05-21T05:21:20.991Z"
   },
   {
    "duration": 85,
    "start_time": "2022-05-21T05:21:21.007Z"
   },
   {
    "duration": 10,
    "start_time": "2022-05-21T05:21:21.093Z"
   },
   {
    "duration": 7,
    "start_time": "2022-05-21T05:21:21.105Z"
   },
   {
    "duration": 50,
    "start_time": "2022-05-21T05:21:21.114Z"
   },
   {
    "duration": 17,
    "start_time": "2022-05-21T05:21:21.166Z"
   },
   {
    "duration": 7,
    "start_time": "2022-05-21T05:21:21.187Z"
   },
   {
    "duration": 8,
    "start_time": "2022-05-21T05:21:21.195Z"
   },
   {
    "duration": 262,
    "start_time": "2022-05-21T05:21:21.205Z"
   },
   {
    "duration": 253,
    "start_time": "2022-05-21T05:21:21.469Z"
   },
   {
    "duration": 213,
    "start_time": "2022-05-21T05:21:21.723Z"
   },
   {
    "duration": 8,
    "start_time": "2022-05-21T05:21:21.940Z"
   },
   {
    "duration": 24,
    "start_time": "2022-05-21T05:21:21.950Z"
   },
   {
    "duration": 19193,
    "start_time": "2022-05-21T05:21:21.975Z"
   },
   {
    "duration": 26,
    "start_time": "2022-05-21T05:21:41.170Z"
   },
   {
    "duration": 10,
    "start_time": "2022-05-21T05:21:41.197Z"
   },
   {
    "duration": 641,
    "start_time": "2022-05-21T05:21:41.209Z"
   },
   {
    "duration": 169,
    "start_time": "2022-05-21T05:21:41.852Z"
   },
   {
    "duration": 49,
    "start_time": "2022-05-21T05:21:42.023Z"
   },
   {
    "duration": 14,
    "start_time": "2022-05-21T05:21:42.073Z"
   },
   {
    "duration": 12,
    "start_time": "2022-05-21T05:21:42.089Z"
   },
   {
    "duration": 9,
    "start_time": "2022-05-21T05:21:42.104Z"
   },
   {
    "duration": 38,
    "start_time": "2022-05-21T05:21:42.115Z"
   },
   {
    "duration": 3,
    "start_time": "2022-05-21T05:21:42.155Z"
   },
   {
    "duration": 23,
    "start_time": "2022-05-21T05:21:42.160Z"
   },
   {
    "duration": 14,
    "start_time": "2022-05-21T05:21:42.184Z"
   },
   {
    "duration": 15,
    "start_time": "2022-05-21T05:21:42.199Z"
   },
   {
    "duration": 9297,
    "start_time": "2022-05-21T05:22:27.262Z"
   },
   {
    "duration": 9493,
    "start_time": "2022-05-21T05:26:33.960Z"
   },
   {
    "duration": 40,
    "start_time": "2022-05-21T05:28:43.543Z"
   },
   {
    "duration": 354,
    "start_time": "2022-05-21T05:28:58.219Z"
   },
   {
    "duration": 654,
    "start_time": "2022-05-21T05:29:22.552Z"
   },
   {
    "duration": 423,
    "start_time": "2022-05-21T05:30:15.657Z"
   },
   {
    "duration": 134,
    "start_time": "2022-05-21T05:34:29.445Z"
   },
   {
    "duration": 324,
    "start_time": "2022-05-21T05:34:58.242Z"
   },
   {
    "duration": 452,
    "start_time": "2022-05-21T05:35:08.148Z"
   },
   {
    "duration": 76,
    "start_time": "2022-05-21T05:35:56.519Z"
   },
   {
    "duration": 5,
    "start_time": "2022-05-21T05:37:10.892Z"
   },
   {
    "duration": 6,
    "start_time": "2022-05-21T05:37:48.344Z"
   },
   {
    "duration": 6,
    "start_time": "2022-05-21T05:38:02.814Z"
   },
   {
    "duration": 47,
    "start_time": "2022-05-21T05:38:54.846Z"
   },
   {
    "duration": 77,
    "start_time": "2022-05-21T05:41:49.447Z"
   },
   {
    "duration": 34,
    "start_time": "2022-05-21T05:43:11.011Z"
   },
   {
    "duration": 81,
    "start_time": "2022-05-21T05:43:22.551Z"
   },
   {
    "duration": 89,
    "start_time": "2022-05-21T05:43:44.447Z"
   },
   {
    "duration": 89,
    "start_time": "2022-05-21T05:43:56.205Z"
   },
   {
    "duration": 29,
    "start_time": "2022-05-21T05:46:00.913Z"
   },
   {
    "duration": 37,
    "start_time": "2022-05-21T05:46:21.732Z"
   },
   {
    "duration": 69,
    "start_time": "2022-05-21T05:46:28.399Z"
   },
   {
    "duration": 86,
    "start_time": "2022-05-21T05:47:26.718Z"
   },
   {
    "duration": 29,
    "start_time": "2022-05-21T05:48:38.925Z"
   },
   {
    "duration": 790,
    "start_time": "2022-05-21T05:48:45.957Z"
   },
   {
    "duration": 5820,
    "start_time": "2022-05-21T05:48:58.262Z"
   },
   {
    "duration": 599,
    "start_time": "2022-05-21T05:49:35.629Z"
   },
   {
    "duration": 45,
    "start_time": "2022-05-21T05:49:52.079Z"
   },
   {
    "duration": 4204,
    "start_time": "2022-05-21T05:49:58.907Z"
   },
   {
    "duration": 4040,
    "start_time": "2022-05-21T05:51:03.367Z"
   },
   {
    "duration": 7544,
    "start_time": "2022-05-21T05:51:59.725Z"
   },
   {
    "duration": 6367,
    "start_time": "2022-05-21T05:53:15.414Z"
   },
   {
    "duration": 17706,
    "start_time": "2022-05-21T05:53:50.967Z"
   },
   {
    "duration": 16359,
    "start_time": "2022-05-21T05:55:25.224Z"
   },
   {
    "duration": 16568,
    "start_time": "2022-05-21T05:56:12.178Z"
   },
   {
    "duration": 170,
    "start_time": "2022-05-21T05:58:18.653Z"
   },
   {
    "duration": 15850,
    "start_time": "2022-05-21T05:58:59.875Z"
   },
   {
    "duration": 5241,
    "start_time": "2022-05-21T05:59:28.953Z"
   },
   {
    "duration": 14318,
    "start_time": "2022-05-21T06:01:49.812Z"
   },
   {
    "duration": 45600,
    "start_time": "2022-05-21T06:02:28.690Z"
   },
   {
    "duration": 7,
    "start_time": "2022-05-21T06:10:18.356Z"
   },
   {
    "duration": 11,
    "start_time": "2022-05-21T06:10:25.011Z"
   },
   {
    "duration": 8,
    "start_time": "2022-05-21T06:10:37.781Z"
   },
   {
    "duration": 16,
    "start_time": "2022-05-21T06:10:50.881Z"
   },
   {
    "duration": 192,
    "start_time": "2022-05-21T06:11:26.806Z"
   },
   {
    "duration": 4,
    "start_time": "2022-05-21T06:14:21.794Z"
   },
   {
    "duration": 9,
    "start_time": "2022-05-21T06:14:46.267Z"
   },
   {
    "duration": 150,
    "start_time": "2022-05-21T06:14:57.904Z"
   },
   {
    "duration": 177,
    "start_time": "2022-05-21T06:15:15.423Z"
   },
   {
    "duration": 214,
    "start_time": "2022-05-21T06:15:24.579Z"
   },
   {
    "duration": 181,
    "start_time": "2022-05-21T06:15:30.736Z"
   },
   {
    "duration": 202,
    "start_time": "2022-05-21T06:16:41.559Z"
   },
   {
    "duration": 23,
    "start_time": "2022-05-21T06:41:12.236Z"
   },
   {
    "duration": 26,
    "start_time": "2022-05-21T06:41:41.471Z"
   },
   {
    "duration": 5,
    "start_time": "2022-05-21T06:43:17.504Z"
   },
   {
    "duration": 155,
    "start_time": "2022-05-21T06:43:17.512Z"
   },
   {
    "duration": 23,
    "start_time": "2022-05-21T06:43:17.669Z"
   },
   {
    "duration": 109,
    "start_time": "2022-05-21T06:43:17.694Z"
   },
   {
    "duration": 9,
    "start_time": "2022-05-21T06:43:17.805Z"
   },
   {
    "duration": 37,
    "start_time": "2022-05-21T06:43:17.816Z"
   },
   {
    "duration": 29,
    "start_time": "2022-05-21T06:43:17.858Z"
   },
   {
    "duration": 21,
    "start_time": "2022-05-21T06:43:17.889Z"
   },
   {
    "duration": 6,
    "start_time": "2022-05-21T06:43:17.912Z"
   },
   {
    "duration": 4,
    "start_time": "2022-05-21T06:43:17.921Z"
   },
   {
    "duration": 25,
    "start_time": "2022-05-21T06:43:17.942Z"
   },
   {
    "duration": 0,
    "start_time": "2022-05-21T06:43:17.970Z"
   },
   {
    "duration": 0,
    "start_time": "2022-05-21T06:43:17.971Z"
   },
   {
    "duration": 0,
    "start_time": "2022-05-21T06:43:17.972Z"
   },
   {
    "duration": 0,
    "start_time": "2022-05-21T06:43:17.973Z"
   },
   {
    "duration": 0,
    "start_time": "2022-05-21T06:43:17.975Z"
   },
   {
    "duration": 0,
    "start_time": "2022-05-21T06:43:17.976Z"
   },
   {
    "duration": 0,
    "start_time": "2022-05-21T06:43:17.977Z"
   },
   {
    "duration": 0,
    "start_time": "2022-05-21T06:43:17.978Z"
   },
   {
    "duration": 0,
    "start_time": "2022-05-21T06:43:17.980Z"
   },
   {
    "duration": 0,
    "start_time": "2022-05-21T06:43:17.981Z"
   },
   {
    "duration": 0,
    "start_time": "2022-05-21T06:43:17.982Z"
   },
   {
    "duration": 0,
    "start_time": "2022-05-21T06:43:17.984Z"
   },
   {
    "duration": 0,
    "start_time": "2022-05-21T06:43:17.985Z"
   },
   {
    "duration": 0,
    "start_time": "2022-05-21T06:43:17.986Z"
   },
   {
    "duration": 1,
    "start_time": "2022-05-21T06:43:17.987Z"
   },
   {
    "duration": 0,
    "start_time": "2022-05-21T06:43:17.989Z"
   },
   {
    "duration": 0,
    "start_time": "2022-05-21T06:43:17.990Z"
   },
   {
    "duration": 0,
    "start_time": "2022-05-21T06:43:17.991Z"
   },
   {
    "duration": 0,
    "start_time": "2022-05-21T06:43:17.992Z"
   },
   {
    "duration": 0,
    "start_time": "2022-05-21T06:43:17.994Z"
   },
   {
    "duration": 0,
    "start_time": "2022-05-21T06:43:17.996Z"
   },
   {
    "duration": 0,
    "start_time": "2022-05-21T06:43:17.997Z"
   },
   {
    "duration": 0,
    "start_time": "2022-05-21T06:43:18.045Z"
   },
   {
    "duration": 0,
    "start_time": "2022-05-21T06:43:18.046Z"
   },
   {
    "duration": 0,
    "start_time": "2022-05-21T06:43:18.047Z"
   },
   {
    "duration": 0,
    "start_time": "2022-05-21T06:43:18.048Z"
   },
   {
    "duration": 0,
    "start_time": "2022-05-21T06:43:18.049Z"
   },
   {
    "duration": 0,
    "start_time": "2022-05-21T06:43:18.050Z"
   },
   {
    "duration": 32,
    "start_time": "2022-05-21T06:44:17.119Z"
   },
   {
    "duration": 16,
    "start_time": "2022-05-21T06:44:45.720Z"
   },
   {
    "duration": 5,
    "start_time": "2022-05-21T06:45:01.773Z"
   },
   {
    "duration": 187,
    "start_time": "2022-05-21T06:45:01.780Z"
   },
   {
    "duration": 16,
    "start_time": "2022-05-21T06:45:01.969Z"
   },
   {
    "duration": 93,
    "start_time": "2022-05-21T06:45:01.987Z"
   },
   {
    "duration": 10,
    "start_time": "2022-05-21T06:45:02.082Z"
   },
   {
    "duration": 39,
    "start_time": "2022-05-21T06:45:02.094Z"
   },
   {
    "duration": 60,
    "start_time": "2022-05-21T06:45:02.135Z"
   },
   {
    "duration": 18,
    "start_time": "2022-05-21T06:45:02.196Z"
   },
   {
    "duration": 13,
    "start_time": "2022-05-21T06:45:02.216Z"
   },
   {
    "duration": 6,
    "start_time": "2022-05-21T06:45:02.231Z"
   },
   {
    "duration": 27,
    "start_time": "2022-05-21T06:45:02.238Z"
   },
   {
    "duration": 280,
    "start_time": "2022-05-21T06:45:02.272Z"
   },
   {
    "duration": 269,
    "start_time": "2022-05-21T06:45:02.553Z"
   },
   {
    "duration": 237,
    "start_time": "2022-05-21T06:45:02.825Z"
   },
   {
    "duration": 9,
    "start_time": "2022-05-21T06:45:03.065Z"
   },
   {
    "duration": 27,
    "start_time": "2022-05-21T06:45:03.076Z"
   },
   {
    "duration": 21837,
    "start_time": "2022-05-21T06:45:03.105Z"
   },
   {
    "duration": 34,
    "start_time": "2022-05-21T06:45:24.943Z"
   },
   {
    "duration": 12,
    "start_time": "2022-05-21T06:45:24.979Z"
   },
   {
    "duration": 1171,
    "start_time": "2022-05-21T06:45:24.993Z"
   },
   {
    "duration": 211,
    "start_time": "2022-05-21T06:45:26.165Z"
   },
   {
    "duration": 42,
    "start_time": "2022-05-21T06:45:26.377Z"
   },
   {
    "duration": 34,
    "start_time": "2022-05-21T06:45:26.420Z"
   },
   {
    "duration": 16,
    "start_time": "2022-05-21T06:45:26.455Z"
   },
   {
    "duration": 11,
    "start_time": "2022-05-21T06:45:26.473Z"
   },
   {
    "duration": 14,
    "start_time": "2022-05-21T06:45:26.486Z"
   },
   {
    "duration": 3,
    "start_time": "2022-05-21T06:45:26.502Z"
   },
   {
    "duration": 45,
    "start_time": "2022-05-21T06:45:26.506Z"
   },
   {
    "duration": 16,
    "start_time": "2022-05-21T06:45:26.553Z"
   },
   {
    "duration": 23,
    "start_time": "2022-05-21T06:45:26.570Z"
   },
   {
    "duration": 47319,
    "start_time": "2022-05-21T06:45:26.594Z"
   },
   {
    "duration": 268,
    "start_time": "2022-05-21T06:46:13.915Z"
   },
   {
    "duration": 25,
    "start_time": "2022-05-21T06:46:14.185Z"
   },
   {
    "duration": 0,
    "start_time": "2022-05-21T06:46:14.212Z"
   },
   {
    "duration": 0,
    "start_time": "2022-05-21T06:46:14.214Z"
   },
   {
    "duration": 0,
    "start_time": "2022-05-21T06:46:14.216Z"
   },
   {
    "duration": 0,
    "start_time": "2022-05-21T06:46:14.217Z"
   },
   {
    "duration": 0,
    "start_time": "2022-05-21T06:46:14.218Z"
   },
   {
    "duration": 0,
    "start_time": "2022-05-21T06:46:14.219Z"
   },
   {
    "duration": 42,
    "start_time": "2022-05-21T06:47:38.233Z"
   },
   {
    "duration": 33,
    "start_time": "2022-05-21T06:47:43.200Z"
   },
   {
    "duration": 19,
    "start_time": "2022-05-21T06:48:41.542Z"
   },
   {
    "duration": 10,
    "start_time": "2022-05-21T06:48:46.400Z"
   },
   {
    "duration": 41,
    "start_time": "2022-05-21T06:50:51.641Z"
   },
   {
    "duration": 26,
    "start_time": "2022-05-21T06:55:37.773Z"
   },
   {
    "duration": 12,
    "start_time": "2022-05-21T06:55:42.909Z"
   },
   {
    "duration": 18,
    "start_time": "2022-05-21T06:56:07.970Z"
   },
   {
    "duration": 17,
    "start_time": "2022-05-21T06:56:20.182Z"
   },
   {
    "duration": 25,
    "start_time": "2022-05-21T06:56:38.971Z"
   },
   {
    "duration": 27,
    "start_time": "2022-05-21T06:56:59.469Z"
   },
   {
    "duration": 11,
    "start_time": "2022-05-21T06:57:28.093Z"
   },
   {
    "duration": 25,
    "start_time": "2022-05-21T06:57:41.713Z"
   },
   {
    "duration": 31,
    "start_time": "2022-05-21T06:57:46.811Z"
   },
   {
    "duration": 23,
    "start_time": "2022-05-21T06:58:09.680Z"
   },
   {
    "duration": 10,
    "start_time": "2022-05-21T06:58:26.026Z"
   },
   {
    "duration": 31,
    "start_time": "2022-05-21T07:00:11.165Z"
   },
   {
    "duration": 32,
    "start_time": "2022-05-21T07:00:31.084Z"
   },
   {
    "duration": 11,
    "start_time": "2022-05-21T07:04:33.539Z"
   },
   {
    "duration": 17,
    "start_time": "2022-05-21T07:05:17.773Z"
   },
   {
    "duration": 23,
    "start_time": "2022-05-21T07:05:40.581Z"
   },
   {
    "duration": 52,
    "start_time": "2022-05-21T07:07:43.536Z"
   },
   {
    "duration": 32,
    "start_time": "2022-05-21T07:09:31.797Z"
   },
   {
    "duration": 34,
    "start_time": "2022-05-21T07:09:37.688Z"
   },
   {
    "duration": 22,
    "start_time": "2022-05-21T07:09:41.984Z"
   },
   {
    "duration": 52,
    "start_time": "2022-05-21T07:09:45.036Z"
   },
   {
    "duration": 22,
    "start_time": "2022-05-21T07:10:17.702Z"
   },
   {
    "duration": 20,
    "start_time": "2022-05-21T07:10:39.411Z"
   },
   {
    "duration": 35,
    "start_time": "2022-05-21T07:12:00.581Z"
   },
   {
    "duration": 12,
    "start_time": "2022-05-21T07:12:13.622Z"
   },
   {
    "duration": 24,
    "start_time": "2022-05-21T07:12:17.999Z"
   },
   {
    "duration": 209,
    "start_time": "2022-05-21T07:16:34.671Z"
   },
   {
    "duration": 207,
    "start_time": "2022-05-21T07:17:49.109Z"
   },
   {
    "duration": 29,
    "start_time": "2022-05-21T07:18:09.401Z"
   },
   {
    "duration": 37,
    "start_time": "2022-05-21T07:18:36.078Z"
   },
   {
    "duration": 21,
    "start_time": "2022-05-21T07:19:31.181Z"
   },
   {
    "duration": 5,
    "start_time": "2022-05-21T07:19:58.293Z"
   },
   {
    "duration": 18,
    "start_time": "2022-05-21T07:20:31.126Z"
   },
   {
    "duration": 14,
    "start_time": "2022-05-21T07:20:36.520Z"
   },
   {
    "duration": 12,
    "start_time": "2022-05-21T07:22:48.224Z"
   },
   {
    "duration": 14,
    "start_time": "2022-05-21T07:23:00.274Z"
   },
   {
    "duration": 16,
    "start_time": "2022-05-21T07:23:24.685Z"
   },
   {
    "duration": 1529,
    "start_time": "2022-05-21T16:29:52.392Z"
   },
   {
    "duration": 500,
    "start_time": "2022-05-21T16:29:53.923Z"
   },
   {
    "duration": 14,
    "start_time": "2022-05-21T16:29:54.425Z"
   },
   {
    "duration": 83,
    "start_time": "2022-05-21T16:29:54.440Z"
   },
   {
    "duration": 9,
    "start_time": "2022-05-21T16:29:54.525Z"
   },
   {
    "duration": 9,
    "start_time": "2022-05-21T16:29:54.536Z"
   },
   {
    "duration": 40,
    "start_time": "2022-05-21T16:29:54.547Z"
   },
   {
    "duration": 23,
    "start_time": "2022-05-21T16:29:54.589Z"
   },
   {
    "duration": 6,
    "start_time": "2022-05-21T16:29:54.614Z"
   },
   {
    "duration": 18,
    "start_time": "2022-05-21T16:29:54.622Z"
   },
   {
    "duration": 20,
    "start_time": "2022-05-21T16:29:54.642Z"
   },
   {
    "duration": 271,
    "start_time": "2022-05-21T16:29:54.664Z"
   },
   {
    "duration": 262,
    "start_time": "2022-05-21T16:29:54.937Z"
   },
   {
    "duration": 216,
    "start_time": "2022-05-21T16:29:55.202Z"
   },
   {
    "duration": 8,
    "start_time": "2022-05-21T16:29:55.419Z"
   },
   {
    "duration": 33,
    "start_time": "2022-05-21T16:29:55.428Z"
   },
   {
    "duration": 19239,
    "start_time": "2022-05-21T16:29:55.463Z"
   },
   {
    "duration": 30,
    "start_time": "2022-05-21T16:30:14.704Z"
   },
   {
    "duration": 11,
    "start_time": "2022-05-21T16:30:14.735Z"
   },
   {
    "duration": 645,
    "start_time": "2022-05-21T16:30:14.747Z"
   },
   {
    "duration": 181,
    "start_time": "2022-05-21T16:30:15.394Z"
   },
   {
    "duration": 45,
    "start_time": "2022-05-21T16:30:15.577Z"
   },
   {
    "duration": 13,
    "start_time": "2022-05-21T16:30:15.624Z"
   },
   {
    "duration": 15,
    "start_time": "2022-05-21T16:30:15.639Z"
   },
   {
    "duration": 16,
    "start_time": "2022-05-21T16:30:15.655Z"
   },
   {
    "duration": 20,
    "start_time": "2022-05-21T16:30:15.672Z"
   },
   {
    "duration": 19,
    "start_time": "2022-05-21T16:30:15.693Z"
   },
   {
    "duration": 24,
    "start_time": "2022-05-21T16:30:15.714Z"
   },
   {
    "duration": 14,
    "start_time": "2022-05-21T16:30:15.740Z"
   },
   {
    "duration": 15,
    "start_time": "2022-05-21T16:30:15.756Z"
   },
   {
    "duration": 41282,
    "start_time": "2022-05-21T16:30:15.773Z"
   },
   {
    "duration": 239,
    "start_time": "2022-05-21T16:30:57.057Z"
   },
   {
    "duration": 30,
    "start_time": "2022-05-21T16:30:57.298Z"
   },
   {
    "duration": 207,
    "start_time": "2022-05-21T16:30:57.330Z"
   },
   {
    "duration": 36,
    "start_time": "2022-05-21T16:30:57.539Z"
   },
   {
    "duration": 13,
    "start_time": "2022-05-21T16:30:57.577Z"
   },
   {
    "duration": 21,
    "start_time": "2022-05-21T16:30:57.591Z"
   },
   {
    "duration": 2,
    "start_time": "2022-05-21T16:30:57.614Z"
   },
   {
    "duration": 10,
    "start_time": "2022-05-21T16:30:57.617Z"
   },
   {
    "duration": 4,
    "start_time": "2022-05-21T16:30:57.629Z"
   },
   {
    "duration": 3,
    "start_time": "2022-05-21T16:30:57.636Z"
   },
   {
    "duration": 122,
    "start_time": "2022-05-21T16:34:05.146Z"
   },
   {
    "duration": 9,
    "start_time": "2022-05-21T16:34:56.522Z"
   },
   {
    "duration": 14,
    "start_time": "2022-05-21T16:35:06.799Z"
   },
   {
    "duration": 184,
    "start_time": "2022-05-21T16:35:29.208Z"
   },
   {
    "duration": 172,
    "start_time": "2022-05-21T16:35:38.590Z"
   },
   {
    "duration": 21,
    "start_time": "2022-05-21T16:35:58.723Z"
   },
   {
    "duration": 1707,
    "start_time": "2022-05-21T18:03:29.251Z"
   },
   {
    "duration": 241,
    "start_time": "2022-05-21T18:03:30.961Z"
   },
   {
    "duration": 38,
    "start_time": "2022-05-21T18:03:31.204Z"
   },
   {
    "duration": 75,
    "start_time": "2022-05-21T18:03:31.244Z"
   },
   {
    "duration": 15,
    "start_time": "2022-05-21T18:03:31.332Z"
   },
   {
    "duration": 12,
    "start_time": "2022-05-21T18:03:31.349Z"
   },
   {
    "duration": 38,
    "start_time": "2022-05-21T18:03:31.363Z"
   },
   {
    "duration": 42,
    "start_time": "2022-05-21T18:03:31.404Z"
   },
   {
    "duration": 11,
    "start_time": "2022-05-21T18:03:31.448Z"
   },
   {
    "duration": 17,
    "start_time": "2022-05-21T18:03:31.461Z"
   },
   {
    "duration": 32,
    "start_time": "2022-05-21T18:03:31.480Z"
   },
   {
    "duration": 255,
    "start_time": "2022-05-21T18:03:31.513Z"
   },
   {
    "duration": 301,
    "start_time": "2022-05-21T18:03:31.769Z"
   },
   {
    "duration": 227,
    "start_time": "2022-05-21T18:03:32.072Z"
   },
   {
    "duration": 8,
    "start_time": "2022-05-21T18:03:32.301Z"
   },
   {
    "duration": 42,
    "start_time": "2022-05-21T18:03:32.311Z"
   },
   {
    "duration": 20579,
    "start_time": "2022-05-21T18:03:32.355Z"
   },
   {
    "duration": 29,
    "start_time": "2022-05-21T18:03:52.942Z"
   },
   {
    "duration": 11,
    "start_time": "2022-05-21T18:03:52.972Z"
   },
   {
    "duration": 696,
    "start_time": "2022-05-21T18:03:52.985Z"
   },
   {
    "duration": 192,
    "start_time": "2022-05-21T18:03:53.683Z"
   },
   {
    "duration": 58,
    "start_time": "2022-05-21T18:03:53.876Z"
   },
   {
    "duration": 31,
    "start_time": "2022-05-21T18:03:53.936Z"
   },
   {
    "duration": 15,
    "start_time": "2022-05-21T18:03:53.969Z"
   },
   {
    "duration": 12,
    "start_time": "2022-05-21T18:03:53.986Z"
   },
   {
    "duration": 34,
    "start_time": "2022-05-21T18:03:54.000Z"
   },
   {
    "duration": 6,
    "start_time": "2022-05-21T18:03:54.038Z"
   },
   {
    "duration": 34,
    "start_time": "2022-05-21T18:03:54.048Z"
   },
   {
    "duration": 15,
    "start_time": "2022-05-21T18:03:54.084Z"
   },
   {
    "duration": 34,
    "start_time": "2022-05-21T18:03:54.101Z"
   },
   {
    "duration": 44622,
    "start_time": "2022-05-21T18:03:54.139Z"
   },
   {
    "duration": 233,
    "start_time": "2022-05-21T18:04:38.762Z"
   },
   {
    "duration": 31,
    "start_time": "2022-05-21T18:04:38.997Z"
   },
   {
    "duration": 221,
    "start_time": "2022-05-21T18:04:39.030Z"
   },
   {
    "duration": 40,
    "start_time": "2022-05-21T18:04:39.253Z"
   },
   {
    "duration": 31,
    "start_time": "2022-05-21T18:04:39.295Z"
   },
   {
    "duration": 7,
    "start_time": "2022-05-21T18:04:39.329Z"
   },
   {
    "duration": 12,
    "start_time": "2022-05-21T18:04:39.337Z"
   },
   {
    "duration": 7,
    "start_time": "2022-05-21T18:04:39.352Z"
   },
   {
    "duration": 6,
    "start_time": "2022-05-21T18:04:39.360Z"
   },
   {
    "duration": 6,
    "start_time": "2022-05-21T18:04:39.367Z"
   },
   {
    "duration": 371,
    "start_time": "2022-05-21T18:04:39.375Z"
   },
   {
    "duration": 337,
    "start_time": "2022-05-21T18:05:08.094Z"
   },
   {
    "duration": 58,
    "start_time": "2022-05-21T18:09:07.817Z"
   },
   {
    "duration": 1148,
    "start_time": "2022-05-21T18:09:13.175Z"
   },
   {
    "duration": 17,
    "start_time": "2022-05-21T18:09:50.083Z"
   },
   {
    "duration": 12,
    "start_time": "2022-05-21T18:09:52.946Z"
   },
   {
    "duration": 14,
    "start_time": "2022-05-21T18:10:12.046Z"
   },
   {
    "duration": 328,
    "start_time": "2022-05-21T18:10:17.106Z"
   },
   {
    "duration": 12,
    "start_time": "2022-05-21T18:10:20.970Z"
   },
   {
    "duration": 13,
    "start_time": "2022-05-21T18:10:47.063Z"
   },
   {
    "duration": 11,
    "start_time": "2022-05-21T18:11:07.882Z"
   },
   {
    "duration": 13,
    "start_time": "2022-05-21T18:11:30.708Z"
   },
   {
    "duration": 11,
    "start_time": "2022-05-21T18:11:35.849Z"
   },
   {
    "duration": 12,
    "start_time": "2022-05-21T18:11:42.876Z"
   },
   {
    "duration": 8,
    "start_time": "2022-05-21T18:11:51.746Z"
   },
   {
    "duration": 129,
    "start_time": "2022-05-21T18:11:51.756Z"
   },
   {
    "duration": 14,
    "start_time": "2022-05-21T18:11:51.886Z"
   },
   {
    "duration": 109,
    "start_time": "2022-05-21T18:11:51.902Z"
   },
   {
    "duration": 9,
    "start_time": "2022-05-21T18:11:52.013Z"
   },
   {
    "duration": 20,
    "start_time": "2022-05-21T18:11:52.024Z"
   },
   {
    "duration": 39,
    "start_time": "2022-05-21T18:11:52.046Z"
   },
   {
    "duration": 20,
    "start_time": "2022-05-21T18:11:52.086Z"
   },
   {
    "duration": 11,
    "start_time": "2022-05-21T18:11:52.108Z"
   },
   {
    "duration": 26,
    "start_time": "2022-05-21T18:11:52.121Z"
   },
   {
    "duration": 25,
    "start_time": "2022-05-21T18:11:52.149Z"
   },
   {
    "duration": 270,
    "start_time": "2022-05-21T18:11:52.176Z"
   },
   {
    "duration": 288,
    "start_time": "2022-05-21T18:11:52.448Z"
   },
   {
    "duration": 232,
    "start_time": "2022-05-21T18:11:52.745Z"
   },
   {
    "duration": 10,
    "start_time": "2022-05-21T18:11:52.978Z"
   },
   {
    "duration": 44,
    "start_time": "2022-05-21T18:11:52.989Z"
   },
   {
    "duration": 20727,
    "start_time": "2022-05-21T18:11:53.037Z"
   },
   {
    "duration": 29,
    "start_time": "2022-05-21T18:12:13.766Z"
   },
   {
    "duration": 11,
    "start_time": "2022-05-21T18:12:13.796Z"
   },
   {
    "duration": 1218,
    "start_time": "2022-05-21T18:12:13.827Z"
   },
   {
    "duration": 322,
    "start_time": "2022-05-21T18:12:15.047Z"
   },
   {
    "duration": 46,
    "start_time": "2022-05-21T18:12:15.370Z"
   },
   {
    "duration": 32,
    "start_time": "2022-05-21T18:12:15.417Z"
   },
   {
    "duration": 36,
    "start_time": "2022-05-21T18:12:15.451Z"
   },
   {
    "duration": 12,
    "start_time": "2022-05-21T18:12:15.490Z"
   },
   {
    "duration": 33,
    "start_time": "2022-05-21T18:12:15.504Z"
   },
   {
    "duration": 5,
    "start_time": "2022-05-21T18:12:15.538Z"
   },
   {
    "duration": 26,
    "start_time": "2022-05-21T18:12:15.545Z"
   },
   {
    "duration": 17,
    "start_time": "2022-05-21T18:12:15.572Z"
   },
   {
    "duration": 14,
    "start_time": "2022-05-21T18:12:15.591Z"
   },
   {
    "duration": 44578,
    "start_time": "2022-05-21T18:12:15.607Z"
   },
   {
    "duration": 253,
    "start_time": "2022-05-21T18:13:00.187Z"
   },
   {
    "duration": 26,
    "start_time": "2022-05-21T18:13:00.442Z"
   },
   {
    "duration": 227,
    "start_time": "2022-05-21T18:13:00.470Z"
   },
   {
    "duration": 51,
    "start_time": "2022-05-21T18:13:00.699Z"
   },
   {
    "duration": 15,
    "start_time": "2022-05-21T18:13:00.752Z"
   },
   {
    "duration": 395,
    "start_time": "2022-05-21T18:13:00.769Z"
   },
   {
    "duration": 16,
    "start_time": "2022-05-21T18:15:07.391Z"
   },
   {
    "duration": 12,
    "start_time": "2022-05-21T18:15:26.785Z"
   },
   {
    "duration": 18,
    "start_time": "2022-05-21T18:15:35.951Z"
   },
   {
    "duration": 130,
    "start_time": "2022-05-21T18:16:10.080Z"
   },
   {
    "duration": 18,
    "start_time": "2022-05-21T18:16:23.418Z"
   },
   {
    "duration": 12,
    "start_time": "2022-05-21T18:16:33.464Z"
   },
   {
    "duration": 16,
    "start_time": "2022-05-21T18:16:40.927Z"
   },
   {
    "duration": 13,
    "start_time": "2022-05-21T18:17:06.490Z"
   },
   {
    "duration": 5,
    "start_time": "2022-05-21T18:17:30.750Z"
   },
   {
    "duration": 120,
    "start_time": "2022-05-21T18:17:30.757Z"
   },
   {
    "duration": 23,
    "start_time": "2022-05-21T18:17:30.879Z"
   },
   {
    "duration": 90,
    "start_time": "2022-05-21T18:17:30.904Z"
   },
   {
    "duration": 8,
    "start_time": "2022-05-21T18:17:30.996Z"
   },
   {
    "duration": 35,
    "start_time": "2022-05-21T18:17:31.006Z"
   },
   {
    "duration": 40,
    "start_time": "2022-05-21T18:17:31.043Z"
   },
   {
    "duration": 17,
    "start_time": "2022-05-21T18:17:31.085Z"
   },
   {
    "duration": 14,
    "start_time": "2022-05-21T18:17:31.104Z"
   },
   {
    "duration": 21,
    "start_time": "2022-05-21T18:17:31.119Z"
   },
   {
    "duration": 43,
    "start_time": "2022-05-21T18:17:31.142Z"
   },
   {
    "duration": 268,
    "start_time": "2022-05-21T18:17:31.187Z"
   },
   {
    "duration": 924,
    "start_time": "2022-05-21T18:17:31.456Z"
   },
   {
    "duration": 233,
    "start_time": "2022-05-21T18:17:32.385Z"
   },
   {
    "duration": 24,
    "start_time": "2022-05-21T18:17:32.619Z"
   },
   {
    "duration": 63,
    "start_time": "2022-05-21T18:17:32.644Z"
   },
   {
    "duration": 20718,
    "start_time": "2022-05-21T18:17:32.708Z"
   },
   {
    "duration": 36,
    "start_time": "2022-05-21T18:17:53.428Z"
   },
   {
    "duration": 14,
    "start_time": "2022-05-21T18:17:53.465Z"
   },
   {
    "duration": 753,
    "start_time": "2022-05-21T18:17:53.481Z"
   },
   {
    "duration": 208,
    "start_time": "2022-05-21T18:17:54.237Z"
   },
   {
    "duration": 76,
    "start_time": "2022-05-21T18:17:54.447Z"
   },
   {
    "duration": 38,
    "start_time": "2022-05-21T18:17:54.527Z"
   },
   {
    "duration": 25,
    "start_time": "2022-05-21T18:17:54.567Z"
   },
   {
    "duration": 11,
    "start_time": "2022-05-21T18:17:54.594Z"
   },
   {
    "duration": 16,
    "start_time": "2022-05-21T18:17:54.607Z"
   },
   {
    "duration": 8,
    "start_time": "2022-05-21T18:17:54.625Z"
   },
   {
    "duration": 42,
    "start_time": "2022-05-21T18:17:54.636Z"
   },
   {
    "duration": 15,
    "start_time": "2022-05-21T18:17:54.680Z"
   },
   {
    "duration": 19,
    "start_time": "2022-05-21T18:17:54.696Z"
   },
   {
    "duration": 44916,
    "start_time": "2022-05-21T18:17:54.717Z"
   },
   {
    "duration": 233,
    "start_time": "2022-05-21T18:18:39.635Z"
   },
   {
    "duration": 27,
    "start_time": "2022-05-21T18:18:39.870Z"
   },
   {
    "duration": 238,
    "start_time": "2022-05-21T18:18:39.899Z"
   },
   {
    "duration": 39,
    "start_time": "2022-05-21T18:18:40.138Z"
   },
   {
    "duration": 13,
    "start_time": "2022-05-21T18:18:40.179Z"
   },
   {
    "duration": 398,
    "start_time": "2022-05-21T18:18:40.194Z"
   },
   {
    "duration": 12,
    "start_time": "2022-05-21T18:18:40.593Z"
   },
   {
    "duration": 0,
    "start_time": "2022-05-21T18:18:40.607Z"
   },
   {
    "duration": 0,
    "start_time": "2022-05-21T18:18:40.608Z"
   },
   {
    "duration": 0,
    "start_time": "2022-05-21T18:18:40.628Z"
   },
   {
    "duration": 0,
    "start_time": "2022-05-21T18:18:40.629Z"
   },
   {
    "duration": 0,
    "start_time": "2022-05-21T18:18:40.630Z"
   },
   {
    "duration": 12,
    "start_time": "2022-05-21T18:19:18.913Z"
   },
   {
    "duration": 582,
    "start_time": "2022-05-21T18:19:26.866Z"
   },
   {
    "duration": 12,
    "start_time": "2022-05-21T18:19:37.550Z"
   },
   {
    "duration": 382,
    "start_time": "2022-05-21T18:19:39.655Z"
   },
   {
    "duration": 21,
    "start_time": "2022-05-21T18:19:53.419Z"
   },
   {
    "duration": 375,
    "start_time": "2022-05-21T18:19:58.918Z"
   },
   {
    "duration": 6,
    "start_time": "2022-05-21T18:20:01.293Z"
   },
   {
    "duration": 6,
    "start_time": "2022-05-21T18:20:07.149Z"
   },
   {
    "duration": 10,
    "start_time": "2022-05-21T18:24:28.722Z"
   },
   {
    "duration": 7,
    "start_time": "2022-05-21T18:24:45.902Z"
   },
   {
    "duration": 6,
    "start_time": "2022-05-21T18:25:44.083Z"
   },
   {
    "duration": 495,
    "start_time": "2022-05-21T18:46:18.889Z"
   },
   {
    "duration": 414,
    "start_time": "2022-05-21T18:46:35.987Z"
   },
   {
    "duration": 440,
    "start_time": "2022-05-21T18:48:00.952Z"
   },
   {
    "duration": 7,
    "start_time": "2022-05-21T18:48:25.630Z"
   },
   {
    "duration": 138,
    "start_time": "2022-05-21T18:48:25.665Z"
   },
   {
    "duration": 22,
    "start_time": "2022-05-21T18:48:25.805Z"
   },
   {
    "duration": 75,
    "start_time": "2022-05-21T18:48:25.829Z"
   },
   {
    "duration": 32,
    "start_time": "2022-05-21T18:48:25.906Z"
   },
   {
    "duration": 33,
    "start_time": "2022-05-21T18:48:25.940Z"
   },
   {
    "duration": 25,
    "start_time": "2022-05-21T18:48:25.975Z"
   },
   {
    "duration": 46,
    "start_time": "2022-05-21T18:48:26.002Z"
   },
   {
    "duration": 13,
    "start_time": "2022-05-21T18:48:26.049Z"
   },
   {
    "duration": 4,
    "start_time": "2022-05-21T18:48:26.064Z"
   },
   {
    "duration": 29,
    "start_time": "2022-05-21T18:48:26.070Z"
   },
   {
    "duration": 243,
    "start_time": "2022-05-21T18:48:26.101Z"
   },
   {
    "duration": 246,
    "start_time": "2022-05-21T18:48:26.345Z"
   },
   {
    "duration": 208,
    "start_time": "2022-05-21T18:48:26.594Z"
   },
   {
    "duration": 10,
    "start_time": "2022-05-21T18:48:26.805Z"
   },
   {
    "duration": 40,
    "start_time": "2022-05-21T18:48:26.816Z"
   },
   {
    "duration": 20261,
    "start_time": "2022-05-21T18:48:26.858Z"
   },
   {
    "duration": 38,
    "start_time": "2022-05-21T18:48:47.121Z"
   },
   {
    "duration": 11,
    "start_time": "2022-05-21T18:48:47.160Z"
   },
   {
    "duration": 1255,
    "start_time": "2022-05-21T18:48:47.172Z"
   },
   {
    "duration": 172,
    "start_time": "2022-05-21T18:48:48.429Z"
   },
   {
    "duration": 49,
    "start_time": "2022-05-21T18:48:48.603Z"
   },
   {
    "duration": 18,
    "start_time": "2022-05-21T18:48:48.653Z"
   },
   {
    "duration": 13,
    "start_time": "2022-05-21T18:48:48.673Z"
   },
   {
    "duration": 12,
    "start_time": "2022-05-21T18:48:48.688Z"
   },
   {
    "duration": 38,
    "start_time": "2022-05-21T18:48:48.701Z"
   },
   {
    "duration": 4,
    "start_time": "2022-05-21T18:48:48.741Z"
   },
   {
    "duration": 29,
    "start_time": "2022-05-21T18:48:48.747Z"
   },
   {
    "duration": 14,
    "start_time": "2022-05-21T18:48:48.778Z"
   },
   {
    "duration": 41,
    "start_time": "2022-05-21T18:48:48.794Z"
   },
   {
    "duration": 44157,
    "start_time": "2022-05-21T18:48:48.837Z"
   },
   {
    "duration": 233,
    "start_time": "2022-05-21T18:49:32.996Z"
   },
   {
    "duration": 32,
    "start_time": "2022-05-21T18:49:33.232Z"
   },
   {
    "duration": 220,
    "start_time": "2022-05-21T18:49:33.265Z"
   },
   {
    "duration": 52,
    "start_time": "2022-05-21T18:49:33.487Z"
   },
   {
    "duration": 14,
    "start_time": "2022-05-21T18:49:33.543Z"
   },
   {
    "duration": 394,
    "start_time": "2022-05-21T18:49:33.559Z"
   },
   {
    "duration": 6,
    "start_time": "2022-05-21T18:49:33.955Z"
   },
   {
    "duration": 14,
    "start_time": "2022-05-21T18:49:33.962Z"
   },
   {
    "duration": 8,
    "start_time": "2022-05-21T18:49:33.978Z"
   },
   {
    "duration": 13,
    "start_time": "2022-05-21T18:49:33.988Z"
   },
   {
    "duration": 10,
    "start_time": "2022-05-21T18:49:34.005Z"
   },
   {
    "duration": 6,
    "start_time": "2022-05-21T18:49:34.016Z"
   },
   {
    "duration": 21,
    "start_time": "2022-05-21T18:49:34.023Z"
   },
   {
    "duration": 189,
    "start_time": "2022-05-21T18:56:36.351Z"
   },
   {
    "duration": 36,
    "start_time": "2022-05-21T18:56:51.158Z"
   },
   {
    "duration": 38,
    "start_time": "2022-05-21T18:57:25.640Z"
   },
   {
    "duration": 11,
    "start_time": "2022-05-21T19:05:26.891Z"
   },
   {
    "duration": 43,
    "start_time": "2022-05-21T19:06:43.199Z"
   },
   {
    "duration": 458,
    "start_time": "2022-05-21T19:06:54.463Z"
   },
   {
    "duration": 13,
    "start_time": "2022-05-21T19:08:10.576Z"
   },
   {
    "duration": 20,
    "start_time": "2022-05-21T19:09:43.364Z"
   },
   {
    "duration": 19,
    "start_time": "2022-05-21T19:10:04.279Z"
   },
   {
    "duration": 24,
    "start_time": "2022-05-21T19:10:36.023Z"
   },
   {
    "duration": 20,
    "start_time": "2022-05-21T19:10:48.122Z"
   },
   {
    "duration": 21,
    "start_time": "2022-05-21T19:10:50.965Z"
   },
   {
    "duration": 14,
    "start_time": "2022-05-21T19:11:05.700Z"
   },
   {
    "duration": 23,
    "start_time": "2022-05-21T19:11:16.925Z"
   },
   {
    "duration": 16,
    "start_time": "2022-05-21T19:11:42.160Z"
   },
   {
    "duration": 12,
    "start_time": "2022-05-21T19:33:33.133Z"
   },
   {
    "duration": 5,
    "start_time": "2022-05-21T19:42:43.808Z"
   },
   {
    "duration": 142,
    "start_time": "2022-05-21T19:42:43.815Z"
   },
   {
    "duration": 14,
    "start_time": "2022-05-21T19:42:43.959Z"
   },
   {
    "duration": 103,
    "start_time": "2022-05-21T19:42:43.975Z"
   },
   {
    "duration": 10,
    "start_time": "2022-05-21T19:42:44.080Z"
   },
   {
    "duration": 56,
    "start_time": "2022-05-21T19:42:44.092Z"
   },
   {
    "duration": 26,
    "start_time": "2022-05-21T19:42:44.150Z"
   },
   {
    "duration": 17,
    "start_time": "2022-05-21T19:42:44.178Z"
   },
   {
    "duration": 14,
    "start_time": "2022-05-21T19:42:44.197Z"
   },
   {
    "duration": 8,
    "start_time": "2022-05-21T19:42:44.227Z"
   },
   {
    "duration": 29,
    "start_time": "2022-05-21T19:42:44.237Z"
   },
   {
    "duration": 243,
    "start_time": "2022-05-21T19:42:44.268Z"
   },
   {
    "duration": 296,
    "start_time": "2022-05-21T19:42:44.513Z"
   },
   {
    "duration": 243,
    "start_time": "2022-05-21T19:42:44.812Z"
   },
   {
    "duration": 16,
    "start_time": "2022-05-21T19:42:45.057Z"
   },
   {
    "duration": 44,
    "start_time": "2022-05-21T19:42:45.075Z"
   },
   {
    "duration": 24245,
    "start_time": "2022-05-21T19:42:45.132Z"
   },
   {
    "duration": 34,
    "start_time": "2022-05-21T19:43:09.379Z"
   },
   {
    "duration": 33,
    "start_time": "2022-05-21T19:43:09.415Z"
   },
   {
    "duration": 619,
    "start_time": "2022-05-21T19:43:09.450Z"
   },
   {
    "duration": 215,
    "start_time": "2022-05-21T19:43:10.071Z"
   },
   {
    "duration": 48,
    "start_time": "2022-05-21T19:43:10.288Z"
   },
   {
    "duration": 23,
    "start_time": "2022-05-21T19:43:10.342Z"
   },
   {
    "duration": 14,
    "start_time": "2022-05-21T19:43:10.367Z"
   },
   {
    "duration": 13,
    "start_time": "2022-05-21T19:43:10.383Z"
   },
   {
    "duration": 45,
    "start_time": "2022-05-21T19:43:10.398Z"
   },
   {
    "duration": 3,
    "start_time": "2022-05-21T19:43:10.445Z"
   },
   {
    "duration": 40,
    "start_time": "2022-05-21T19:43:10.450Z"
   },
   {
    "duration": 16,
    "start_time": "2022-05-21T19:43:10.492Z"
   },
   {
    "duration": 33,
    "start_time": "2022-05-21T19:43:10.509Z"
   },
   {
    "duration": 44606,
    "start_time": "2022-05-21T19:43:10.544Z"
   },
   {
    "duration": 226,
    "start_time": "2022-05-21T19:43:55.152Z"
   },
   {
    "duration": 31,
    "start_time": "2022-05-21T19:43:55.380Z"
   },
   {
    "duration": 178,
    "start_time": "2022-05-21T19:43:55.432Z"
   },
   {
    "duration": 45,
    "start_time": "2022-05-21T19:43:55.612Z"
   },
   {
    "duration": 15,
    "start_time": "2022-05-21T19:43:55.659Z"
   },
   {
    "duration": 390,
    "start_time": "2022-05-21T19:43:55.675Z"
   },
   {
    "duration": 13,
    "start_time": "2022-05-21T19:43:56.067Z"
   },
   {
    "duration": 20,
    "start_time": "2022-05-21T19:43:56.082Z"
   },
   {
    "duration": 40,
    "start_time": "2022-05-21T19:43:56.103Z"
   },
   {
    "duration": 3,
    "start_time": "2022-05-21T19:43:56.148Z"
   },
   {
    "duration": 17,
    "start_time": "2022-05-21T19:43:56.152Z"
   },
   {
    "duration": 0,
    "start_time": "2022-05-21T19:43:56.171Z"
   },
   {
    "duration": 0,
    "start_time": "2022-05-21T19:43:56.172Z"
   },
   {
    "duration": 0,
    "start_time": "2022-05-21T19:43:56.173Z"
   },
   {
    "duration": 0,
    "start_time": "2022-05-21T19:43:56.175Z"
   },
   {
    "duration": 0,
    "start_time": "2022-05-21T19:43:56.176Z"
   },
   {
    "duration": 6,
    "start_time": "2022-05-21T19:45:41.191Z"
   },
   {
    "duration": 140,
    "start_time": "2022-05-21T19:45:41.199Z"
   },
   {
    "duration": 20,
    "start_time": "2022-05-21T19:45:41.342Z"
   },
   {
    "duration": 116,
    "start_time": "2022-05-21T19:45:41.366Z"
   },
   {
    "duration": 10,
    "start_time": "2022-05-21T19:45:41.485Z"
   },
   {
    "duration": 48,
    "start_time": "2022-05-21T19:45:41.497Z"
   },
   {
    "duration": 35,
    "start_time": "2022-05-21T19:45:41.547Z"
   },
   {
    "duration": 20,
    "start_time": "2022-05-21T19:45:41.584Z"
   },
   {
    "duration": 33,
    "start_time": "2022-05-21T19:45:41.605Z"
   },
   {
    "duration": 12,
    "start_time": "2022-05-21T19:45:41.644Z"
   },
   {
    "duration": 26,
    "start_time": "2022-05-21T19:45:41.658Z"
   },
   {
    "duration": 231,
    "start_time": "2022-05-21T19:45:41.685Z"
   },
   {
    "duration": 265,
    "start_time": "2022-05-21T19:45:41.917Z"
   },
   {
    "duration": 210,
    "start_time": "2022-05-21T19:45:42.184Z"
   },
   {
    "duration": 11,
    "start_time": "2022-05-21T19:45:42.396Z"
   },
   {
    "duration": 48,
    "start_time": "2022-05-21T19:45:42.410Z"
   },
   {
    "duration": 21583,
    "start_time": "2022-05-21T19:45:42.461Z"
   },
   {
    "duration": 30,
    "start_time": "2022-05-21T19:46:04.047Z"
   },
   {
    "duration": 11,
    "start_time": "2022-05-21T19:46:04.079Z"
   },
   {
    "duration": 1277,
    "start_time": "2022-05-21T19:46:04.092Z"
   },
   {
    "duration": 195,
    "start_time": "2022-05-21T19:46:05.372Z"
   },
   {
    "duration": 46,
    "start_time": "2022-05-21T19:46:05.568Z"
   },
   {
    "duration": 36,
    "start_time": "2022-05-21T19:46:05.616Z"
   },
   {
    "duration": 15,
    "start_time": "2022-05-21T19:46:05.654Z"
   },
   {
    "duration": 27,
    "start_time": "2022-05-21T19:46:05.670Z"
   },
   {
    "duration": 37,
    "start_time": "2022-05-21T19:46:05.699Z"
   },
   {
    "duration": 11,
    "start_time": "2022-05-21T19:46:05.737Z"
   },
   {
    "duration": 30,
    "start_time": "2022-05-21T19:46:05.753Z"
   },
   {
    "duration": 15,
    "start_time": "2022-05-21T19:46:05.785Z"
   },
   {
    "duration": 31,
    "start_time": "2022-05-21T19:46:05.803Z"
   },
   {
    "duration": 43154,
    "start_time": "2022-05-21T19:46:05.839Z"
   },
   {
    "duration": 287,
    "start_time": "2022-05-21T19:46:48.994Z"
   },
   {
    "duration": 24,
    "start_time": "2022-05-21T19:46:49.283Z"
   },
   {
    "duration": 194,
    "start_time": "2022-05-21T19:46:49.308Z"
   },
   {
    "duration": 47,
    "start_time": "2022-05-21T19:46:49.504Z"
   },
   {
    "duration": 14,
    "start_time": "2022-05-21T19:46:49.553Z"
   },
   {
    "duration": 368,
    "start_time": "2022-05-21T19:46:49.569Z"
   },
   {
    "duration": 17,
    "start_time": "2022-05-21T19:46:49.940Z"
   },
   {
    "duration": 10,
    "start_time": "2022-05-21T19:46:49.959Z"
   },
   {
    "duration": 19,
    "start_time": "2022-05-21T19:46:49.971Z"
   },
   {
    "duration": 2,
    "start_time": "2022-05-21T19:46:49.992Z"
   },
   {
    "duration": 17,
    "start_time": "2022-05-21T19:46:49.997Z"
   },
   {
    "duration": 0,
    "start_time": "2022-05-21T19:46:50.027Z"
   },
   {
    "duration": 0,
    "start_time": "2022-05-21T19:46:50.029Z"
   },
   {
    "duration": 0,
    "start_time": "2022-05-21T19:46:50.030Z"
   },
   {
    "duration": 0,
    "start_time": "2022-05-21T19:46:50.031Z"
   },
   {
    "duration": 0,
    "start_time": "2022-05-21T19:46:50.032Z"
   },
   {
    "duration": 26,
    "start_time": "2022-05-21T19:58:26.615Z"
   },
   {
    "duration": 3,
    "start_time": "2022-05-21T20:05:47.602Z"
   },
   {
    "duration": 40,
    "start_time": "2022-05-21T20:15:32.014Z"
   },
   {
    "duration": 44,
    "start_time": "2022-05-21T20:15:39.310Z"
   },
   {
    "duration": 18,
    "start_time": "2022-05-21T20:15:54.959Z"
   },
   {
    "duration": 24,
    "start_time": "2022-05-21T20:16:07.610Z"
   },
   {
    "duration": 5,
    "start_time": "2022-05-21T20:29:19.844Z"
   },
   {
    "duration": 110,
    "start_time": "2022-05-21T20:29:19.873Z"
   },
   {
    "duration": 14,
    "start_time": "2022-05-21T20:29:19.985Z"
   },
   {
    "duration": 94,
    "start_time": "2022-05-21T20:29:20.000Z"
   },
   {
    "duration": 9,
    "start_time": "2022-05-21T20:29:20.096Z"
   },
   {
    "duration": 35,
    "start_time": "2022-05-21T20:29:20.127Z"
   },
   {
    "duration": 24,
    "start_time": "2022-05-21T20:29:20.164Z"
   },
   {
    "duration": 22,
    "start_time": "2022-05-21T20:29:20.189Z"
   },
   {
    "duration": 12,
    "start_time": "2022-05-21T20:29:20.231Z"
   },
   {
    "duration": 7,
    "start_time": "2022-05-21T20:29:20.248Z"
   },
   {
    "duration": 18,
    "start_time": "2022-05-21T20:29:20.257Z"
   },
   {
    "duration": 251,
    "start_time": "2022-05-21T20:29:20.277Z"
   },
   {
    "duration": 231,
    "start_time": "2022-05-21T20:29:20.534Z"
   },
   {
    "duration": 201,
    "start_time": "2022-05-21T20:29:20.767Z"
   },
   {
    "duration": 8,
    "start_time": "2022-05-21T20:29:20.971Z"
   },
   {
    "duration": 31,
    "start_time": "2022-05-21T20:29:20.981Z"
   },
   {
    "duration": 20209,
    "start_time": "2022-05-21T20:29:21.014Z"
   },
   {
    "duration": 33,
    "start_time": "2022-05-21T20:29:41.229Z"
   },
   {
    "duration": 11,
    "start_time": "2022-05-21T20:29:41.263Z"
   },
   {
    "duration": 580,
    "start_time": "2022-05-21T20:29:41.276Z"
   },
   {
    "duration": 187,
    "start_time": "2022-05-21T20:29:41.858Z"
   },
   {
    "duration": 43,
    "start_time": "2022-05-21T20:29:42.047Z"
   },
   {
    "duration": 36,
    "start_time": "2022-05-21T20:29:42.092Z"
   },
   {
    "duration": 18,
    "start_time": "2022-05-21T20:29:42.130Z"
   },
   {
    "duration": 11,
    "start_time": "2022-05-21T20:29:42.150Z"
   },
   {
    "duration": 20,
    "start_time": "2022-05-21T20:29:42.163Z"
   },
   {
    "duration": 3,
    "start_time": "2022-05-21T20:29:42.186Z"
   },
   {
    "duration": 66,
    "start_time": "2022-05-21T20:29:42.191Z"
   },
   {
    "duration": 21,
    "start_time": "2022-05-21T20:29:42.259Z"
   },
   {
    "duration": 26,
    "start_time": "2022-05-21T20:29:42.282Z"
   },
   {
    "duration": 38817,
    "start_time": "2022-05-21T20:29:42.310Z"
   },
   {
    "duration": 215,
    "start_time": "2022-05-21T20:30:21.129Z"
   },
   {
    "duration": 37,
    "start_time": "2022-05-21T20:30:21.347Z"
   },
   {
    "duration": 188,
    "start_time": "2022-05-21T20:30:21.386Z"
   },
   {
    "duration": 34,
    "start_time": "2022-05-21T20:30:21.576Z"
   },
   {
    "duration": 31,
    "start_time": "2022-05-21T20:30:21.612Z"
   },
   {
    "duration": 339,
    "start_time": "2022-05-21T20:30:21.645Z"
   },
   {
    "duration": 11,
    "start_time": "2022-05-21T20:30:21.986Z"
   },
   {
    "duration": 10,
    "start_time": "2022-05-21T20:30:21.998Z"
   },
   {
    "duration": 34,
    "start_time": "2022-05-21T20:30:22.009Z"
   },
   {
    "duration": 17,
    "start_time": "2022-05-21T20:30:22.044Z"
   },
   {
    "duration": 3,
    "start_time": "2022-05-21T20:30:22.066Z"
   },
   {
    "duration": 44,
    "start_time": "2022-05-21T20:30:22.070Z"
   },
   {
    "duration": 33,
    "start_time": "2022-05-21T20:30:22.116Z"
   },
   {
    "duration": 3,
    "start_time": "2022-05-21T20:30:22.151Z"
   },
   {
    "duration": 19,
    "start_time": "2022-05-21T20:30:22.156Z"
   },
   {
    "duration": 0,
    "start_time": "2022-05-21T20:30:22.178Z"
   },
   {
    "duration": 0,
    "start_time": "2022-05-21T20:30:22.179Z"
   },
   {
    "duration": 0,
    "start_time": "2022-05-21T20:30:22.181Z"
   },
   {
    "duration": 0,
    "start_time": "2022-05-21T20:30:22.183Z"
   },
   {
    "duration": 0,
    "start_time": "2022-05-21T20:30:22.184Z"
   },
   {
    "duration": 5,
    "start_time": "2022-05-21T20:33:29.399Z"
   },
   {
    "duration": 149,
    "start_time": "2022-05-21T20:33:29.406Z"
   },
   {
    "duration": 16,
    "start_time": "2022-05-21T20:33:29.557Z"
   },
   {
    "duration": 109,
    "start_time": "2022-05-21T20:33:29.575Z"
   },
   {
    "duration": 11,
    "start_time": "2022-05-21T20:33:29.686Z"
   },
   {
    "duration": 51,
    "start_time": "2022-05-21T20:33:29.698Z"
   },
   {
    "duration": 24,
    "start_time": "2022-05-21T20:33:29.751Z"
   },
   {
    "duration": 19,
    "start_time": "2022-05-21T20:33:29.777Z"
   },
   {
    "duration": 8,
    "start_time": "2022-05-21T20:33:29.798Z"
   },
   {
    "duration": 16,
    "start_time": "2022-05-21T20:33:29.826Z"
   },
   {
    "duration": 24,
    "start_time": "2022-05-21T20:33:29.843Z"
   },
   {
    "duration": 210,
    "start_time": "2022-05-21T20:33:29.869Z"
   },
   {
    "duration": 238,
    "start_time": "2022-05-21T20:33:30.081Z"
   },
   {
    "duration": 193,
    "start_time": "2022-05-21T20:33:30.326Z"
   },
   {
    "duration": 12,
    "start_time": "2022-05-21T20:33:30.526Z"
   },
   {
    "duration": 58,
    "start_time": "2022-05-21T20:33:30.539Z"
   },
   {
    "duration": 19853,
    "start_time": "2022-05-21T20:33:30.599Z"
   },
   {
    "duration": 27,
    "start_time": "2022-05-21T20:33:50.454Z"
   },
   {
    "duration": 14,
    "start_time": "2022-05-21T20:33:50.483Z"
   },
   {
    "duration": 600,
    "start_time": "2022-05-21T20:33:50.499Z"
   },
   {
    "duration": 191,
    "start_time": "2022-05-21T20:33:51.100Z"
   },
   {
    "duration": 49,
    "start_time": "2022-05-21T20:33:51.294Z"
   },
   {
    "duration": 21,
    "start_time": "2022-05-21T20:33:51.345Z"
   },
   {
    "duration": 18,
    "start_time": "2022-05-21T20:33:51.371Z"
   },
   {
    "duration": 12,
    "start_time": "2022-05-21T20:33:51.390Z"
   },
   {
    "duration": 25,
    "start_time": "2022-05-21T20:33:51.431Z"
   },
   {
    "duration": 3,
    "start_time": "2022-05-21T20:33:51.458Z"
   },
   {
    "duration": 35,
    "start_time": "2022-05-21T20:33:51.463Z"
   },
   {
    "duration": 14,
    "start_time": "2022-05-21T20:33:51.500Z"
   },
   {
    "duration": 20,
    "start_time": "2022-05-21T20:33:51.525Z"
   },
   {
    "duration": 35738,
    "start_time": "2022-05-21T20:33:51.546Z"
   },
   {
    "duration": 243,
    "start_time": "2022-05-21T20:34:27.286Z"
   },
   {
    "duration": 28,
    "start_time": "2022-05-21T20:34:27.533Z"
   },
   {
    "duration": 216,
    "start_time": "2022-05-21T20:34:27.565Z"
   },
   {
    "duration": 51,
    "start_time": "2022-05-21T20:34:27.783Z"
   },
   {
    "duration": 18,
    "start_time": "2022-05-21T20:34:27.836Z"
   },
   {
    "duration": 381,
    "start_time": "2022-05-21T20:34:27.855Z"
   },
   {
    "duration": 12,
    "start_time": "2022-05-21T20:34:28.238Z"
   },
   {
    "duration": 5,
    "start_time": "2022-05-21T20:34:28.252Z"
   },
   {
    "duration": 16,
    "start_time": "2022-05-21T20:34:28.259Z"
   },
   {
    "duration": 17,
    "start_time": "2022-05-21T20:34:28.277Z"
   },
   {
    "duration": 3,
    "start_time": "2022-05-21T20:34:28.296Z"
   },
   {
    "duration": 46,
    "start_time": "2022-05-21T20:34:28.329Z"
   },
   {
    "duration": 20,
    "start_time": "2022-05-21T20:34:28.376Z"
   },
   {
    "duration": 5,
    "start_time": "2022-05-21T20:34:28.397Z"
   },
   {
    "duration": 39,
    "start_time": "2022-05-21T20:34:28.403Z"
   },
   {
    "duration": 0,
    "start_time": "2022-05-21T20:34:28.445Z"
   },
   {
    "duration": 0,
    "start_time": "2022-05-21T20:34:28.446Z"
   },
   {
    "duration": 0,
    "start_time": "2022-05-21T20:34:28.447Z"
   },
   {
    "duration": 0,
    "start_time": "2022-05-21T20:34:28.448Z"
   },
   {
    "duration": 0,
    "start_time": "2022-05-21T20:34:28.449Z"
   },
   {
    "duration": 6,
    "start_time": "2022-05-21T20:40:17.796Z"
   },
   {
    "duration": 137,
    "start_time": "2022-05-21T20:40:17.803Z"
   },
   {
    "duration": 13,
    "start_time": "2022-05-21T20:40:17.942Z"
   },
   {
    "duration": 122,
    "start_time": "2022-05-21T20:40:17.957Z"
   },
   {
    "duration": 10,
    "start_time": "2022-05-21T20:40:18.081Z"
   },
   {
    "duration": 51,
    "start_time": "2022-05-21T20:40:18.092Z"
   },
   {
    "duration": 24,
    "start_time": "2022-05-21T20:40:18.145Z"
   },
   {
    "duration": 19,
    "start_time": "2022-05-21T20:40:18.170Z"
   },
   {
    "duration": 7,
    "start_time": "2022-05-21T20:40:18.191Z"
   },
   {
    "duration": 28,
    "start_time": "2022-05-21T20:40:18.200Z"
   },
   {
    "duration": 20,
    "start_time": "2022-05-21T20:40:18.229Z"
   },
   {
    "duration": 223,
    "start_time": "2022-05-21T20:40:18.251Z"
   },
   {
    "duration": 238,
    "start_time": "2022-05-21T20:40:18.476Z"
   },
   {
    "duration": 201,
    "start_time": "2022-05-21T20:40:18.716Z"
   },
   {
    "duration": 13,
    "start_time": "2022-05-21T20:40:18.919Z"
   },
   {
    "duration": 37,
    "start_time": "2022-05-21T20:40:18.934Z"
   },
   {
    "duration": 18911,
    "start_time": "2022-05-21T20:40:18.973Z"
   },
   {
    "duration": 26,
    "start_time": "2022-05-21T20:40:37.886Z"
   },
   {
    "duration": 21,
    "start_time": "2022-05-21T20:40:37.914Z"
   },
   {
    "duration": 531,
    "start_time": "2022-05-21T20:40:37.936Z"
   },
   {
    "duration": 756,
    "start_time": "2022-05-21T20:40:38.468Z"
   },
   {
    "duration": 42,
    "start_time": "2022-05-21T20:40:39.226Z"
   },
   {
    "duration": 24,
    "start_time": "2022-05-21T20:40:39.270Z"
   },
   {
    "duration": 31,
    "start_time": "2022-05-21T20:40:39.298Z"
   },
   {
    "duration": 14,
    "start_time": "2022-05-21T20:40:39.331Z"
   },
   {
    "duration": 15,
    "start_time": "2022-05-21T20:40:39.346Z"
   },
   {
    "duration": 7,
    "start_time": "2022-05-21T20:40:39.362Z"
   },
   {
    "duration": 29,
    "start_time": "2022-05-21T20:40:39.371Z"
   },
   {
    "duration": 35,
    "start_time": "2022-05-21T20:40:39.403Z"
   },
   {
    "duration": 15,
    "start_time": "2022-05-21T20:40:39.439Z"
   },
   {
    "duration": 31848,
    "start_time": "2022-05-21T20:40:39.455Z"
   },
   {
    "duration": 198,
    "start_time": "2022-05-21T20:41:11.305Z"
   },
   {
    "duration": 35,
    "start_time": "2022-05-21T20:41:11.505Z"
   },
   {
    "duration": 185,
    "start_time": "2022-05-21T20:41:11.542Z"
   },
   {
    "duration": 39,
    "start_time": "2022-05-21T20:41:11.728Z"
   },
   {
    "duration": 14,
    "start_time": "2022-05-21T20:41:11.768Z"
   },
   {
    "duration": 369,
    "start_time": "2022-05-21T20:41:11.784Z"
   },
   {
    "duration": 11,
    "start_time": "2022-05-21T20:41:12.155Z"
   },
   {
    "duration": 13,
    "start_time": "2022-05-21T20:41:12.168Z"
   },
   {
    "duration": 24,
    "start_time": "2022-05-21T20:41:12.183Z"
   },
   {
    "duration": 30,
    "start_time": "2022-05-21T20:41:12.208Z"
   },
   {
    "duration": 4,
    "start_time": "2022-05-21T20:41:12.239Z"
   },
   {
    "duration": 37,
    "start_time": "2022-05-21T20:41:12.245Z"
   },
   {
    "duration": 19,
    "start_time": "2022-05-21T20:41:12.284Z"
   },
   {
    "duration": 5,
    "start_time": "2022-05-21T20:41:12.305Z"
   },
   {
    "duration": 11,
    "start_time": "2022-05-21T20:41:12.327Z"
   },
   {
    "duration": 0,
    "start_time": "2022-05-21T20:41:12.339Z"
   },
   {
    "duration": 0,
    "start_time": "2022-05-21T20:41:12.340Z"
   },
   {
    "duration": 0,
    "start_time": "2022-05-21T20:41:12.341Z"
   },
   {
    "duration": 0,
    "start_time": "2022-05-21T20:41:12.342Z"
   },
   {
    "duration": 0,
    "start_time": "2022-05-21T20:41:12.343Z"
   },
   {
    "duration": 5,
    "start_time": "2022-05-21T20:43:25.808Z"
   },
   {
    "duration": 125,
    "start_time": "2022-05-21T20:43:25.815Z"
   },
   {
    "duration": 14,
    "start_time": "2022-05-21T20:43:25.942Z"
   },
   {
    "duration": 105,
    "start_time": "2022-05-21T20:43:25.958Z"
   },
   {
    "duration": 11,
    "start_time": "2022-05-21T20:43:26.065Z"
   },
   {
    "duration": 57,
    "start_time": "2022-05-21T20:43:26.077Z"
   },
   {
    "duration": 26,
    "start_time": "2022-05-21T20:43:26.136Z"
   },
   {
    "duration": 19,
    "start_time": "2022-05-21T20:43:26.164Z"
   },
   {
    "duration": 7,
    "start_time": "2022-05-21T20:43:26.184Z"
   },
   {
    "duration": 35,
    "start_time": "2022-05-21T20:43:26.193Z"
   },
   {
    "duration": 29,
    "start_time": "2022-05-21T20:43:26.232Z"
   },
   {
    "duration": 236,
    "start_time": "2022-05-21T20:43:26.264Z"
   },
   {
    "duration": 236,
    "start_time": "2022-05-21T20:43:26.502Z"
   },
   {
    "duration": 186,
    "start_time": "2022-05-21T20:43:26.740Z"
   },
   {
    "duration": 8,
    "start_time": "2022-05-21T20:43:26.928Z"
   },
   {
    "duration": 28,
    "start_time": "2022-05-21T20:43:26.938Z"
   },
   {
    "duration": 19574,
    "start_time": "2022-05-21T20:43:26.968Z"
   },
   {
    "duration": 28,
    "start_time": "2022-05-21T20:43:46.544Z"
   },
   {
    "duration": 11,
    "start_time": "2022-05-21T20:43:46.574Z"
   },
   {
    "duration": 588,
    "start_time": "2022-05-21T20:43:46.586Z"
   },
   {
    "duration": 186,
    "start_time": "2022-05-21T20:43:47.176Z"
   },
   {
    "duration": 52,
    "start_time": "2022-05-21T20:43:47.364Z"
   },
   {
    "duration": 29,
    "start_time": "2022-05-21T20:43:47.426Z"
   },
   {
    "duration": 24,
    "start_time": "2022-05-21T20:43:47.457Z"
   },
   {
    "duration": 34,
    "start_time": "2022-05-21T20:43:47.483Z"
   },
   {
    "duration": 31,
    "start_time": "2022-05-21T20:43:47.518Z"
   },
   {
    "duration": 13,
    "start_time": "2022-05-21T20:43:47.552Z"
   },
   {
    "duration": 38,
    "start_time": "2022-05-21T20:43:47.567Z"
   },
   {
    "duration": 16,
    "start_time": "2022-05-21T20:43:47.609Z"
   },
   {
    "duration": 22,
    "start_time": "2022-05-21T20:43:47.626Z"
   },
   {
    "duration": 30326,
    "start_time": "2022-05-21T20:43:47.650Z"
   },
   {
    "duration": 206,
    "start_time": "2022-05-21T20:44:17.978Z"
   },
   {
    "duration": 23,
    "start_time": "2022-05-21T20:44:18.186Z"
   },
   {
    "duration": 184,
    "start_time": "2022-05-21T20:44:18.211Z"
   },
   {
    "duration": 55,
    "start_time": "2022-05-21T20:44:18.397Z"
   },
   {
    "duration": 13,
    "start_time": "2022-05-21T20:44:18.454Z"
   },
   {
    "duration": 316,
    "start_time": "2022-05-21T20:44:18.469Z"
   },
   {
    "duration": 10,
    "start_time": "2022-05-21T20:44:18.786Z"
   },
   {
    "duration": 11,
    "start_time": "2022-05-21T20:44:18.798Z"
   },
   {
    "duration": 26,
    "start_time": "2022-05-21T20:44:18.811Z"
   },
   {
    "duration": 17,
    "start_time": "2022-05-21T20:44:18.839Z"
   },
   {
    "duration": 6,
    "start_time": "2022-05-21T20:44:18.858Z"
   },
   {
    "duration": 45,
    "start_time": "2022-05-21T20:44:18.865Z"
   },
   {
    "duration": 19,
    "start_time": "2022-05-21T20:44:18.925Z"
   },
   {
    "duration": 8,
    "start_time": "2022-05-21T20:44:18.945Z"
   },
   {
    "duration": 15,
    "start_time": "2022-05-21T20:44:18.955Z"
   },
   {
    "duration": 0,
    "start_time": "2022-05-21T20:44:18.972Z"
   },
   {
    "duration": 0,
    "start_time": "2022-05-21T20:44:18.973Z"
   },
   {
    "duration": 0,
    "start_time": "2022-05-21T20:44:18.974Z"
   },
   {
    "duration": 0,
    "start_time": "2022-05-21T20:44:18.975Z"
   },
   {
    "duration": 0,
    "start_time": "2022-05-21T20:44:18.975Z"
   },
   {
    "duration": 5,
    "start_time": "2022-05-21T20:48:54.469Z"
   },
   {
    "duration": 163,
    "start_time": "2022-05-21T20:48:54.477Z"
   },
   {
    "duration": 13,
    "start_time": "2022-05-21T20:48:54.642Z"
   },
   {
    "duration": 100,
    "start_time": "2022-05-21T20:48:54.657Z"
   },
   {
    "duration": 10,
    "start_time": "2022-05-21T20:48:54.759Z"
   },
   {
    "duration": 25,
    "start_time": "2022-05-21T20:48:54.771Z"
   },
   {
    "duration": 45,
    "start_time": "2022-05-21T20:48:54.797Z"
   },
   {
    "duration": 23,
    "start_time": "2022-05-21T20:48:54.844Z"
   },
   {
    "duration": 7,
    "start_time": "2022-05-21T20:48:54.869Z"
   },
   {
    "duration": 7,
    "start_time": "2022-05-21T20:48:54.878Z"
   },
   {
    "duration": 39,
    "start_time": "2022-05-21T20:48:54.887Z"
   },
   {
    "duration": 206,
    "start_time": "2022-05-21T20:48:54.928Z"
   },
   {
    "duration": 224,
    "start_time": "2022-05-21T20:48:55.135Z"
   },
   {
    "duration": 185,
    "start_time": "2022-05-21T20:48:55.361Z"
   },
   {
    "duration": 9,
    "start_time": "2022-05-21T20:48:55.547Z"
   },
   {
    "duration": 24,
    "start_time": "2022-05-21T20:48:55.557Z"
   },
   {
    "duration": 18783,
    "start_time": "2022-05-21T20:48:55.583Z"
   },
   {
    "duration": 41,
    "start_time": "2022-05-21T20:49:14.368Z"
   },
   {
    "duration": 27,
    "start_time": "2022-05-21T20:49:14.411Z"
   },
   {
    "duration": 586,
    "start_time": "2022-05-21T20:49:14.440Z"
   },
   {
    "duration": 2,
    "start_time": "2022-05-21T20:49:15.028Z"
   },
   {
    "duration": 21,
    "start_time": "2022-05-21T20:49:15.032Z"
   },
   {
    "duration": 24,
    "start_time": "2022-05-21T20:49:15.055Z"
   },
   {
    "duration": 17,
    "start_time": "2022-05-21T20:49:15.081Z"
   },
   {
    "duration": 27,
    "start_time": "2022-05-21T20:49:15.099Z"
   },
   {
    "duration": 29,
    "start_time": "2022-05-21T20:49:15.129Z"
   },
   {
    "duration": 4,
    "start_time": "2022-05-21T20:49:15.160Z"
   },
   {
    "duration": 32,
    "start_time": "2022-05-21T20:49:15.168Z"
   },
   {
    "duration": 15,
    "start_time": "2022-05-21T20:49:15.201Z"
   },
   {
    "duration": 28,
    "start_time": "2022-05-21T20:49:15.225Z"
   },
   {
    "duration": 20167,
    "start_time": "2022-05-21T20:49:15.256Z"
   },
   {
    "duration": 210,
    "start_time": "2022-05-21T20:49:35.426Z"
   },
   {
    "duration": 27,
    "start_time": "2022-05-21T20:49:35.638Z"
   },
   {
    "duration": 177,
    "start_time": "2022-05-21T20:49:35.667Z"
   },
   {
    "duration": 45,
    "start_time": "2022-05-21T20:49:35.846Z"
   },
   {
    "duration": 15,
    "start_time": "2022-05-21T20:49:35.893Z"
   },
   {
    "duration": 68,
    "start_time": "2022-05-21T20:49:35.909Z"
   },
   {
    "duration": 11,
    "start_time": "2022-05-21T20:49:35.978Z"
   },
   {
    "duration": 10,
    "start_time": "2022-05-21T20:49:35.990Z"
   },
   {
    "duration": 37,
    "start_time": "2022-05-21T20:49:36.001Z"
   },
   {
    "duration": 23,
    "start_time": "2022-05-21T20:49:36.040Z"
   },
   {
    "duration": 6,
    "start_time": "2022-05-21T20:49:36.065Z"
   },
   {
    "duration": 44,
    "start_time": "2022-05-21T20:49:36.072Z"
   },
   {
    "duration": 20,
    "start_time": "2022-05-21T20:49:36.126Z"
   },
   {
    "duration": 8,
    "start_time": "2022-05-21T20:49:36.148Z"
   },
   {
    "duration": 14,
    "start_time": "2022-05-21T20:49:36.157Z"
   },
   {
    "duration": 0,
    "start_time": "2022-05-21T20:49:36.173Z"
   },
   {
    "duration": 0,
    "start_time": "2022-05-21T20:49:36.174Z"
   },
   {
    "duration": 0,
    "start_time": "2022-05-21T20:49:36.176Z"
   },
   {
    "duration": 0,
    "start_time": "2022-05-21T20:49:36.177Z"
   },
   {
    "duration": 0,
    "start_time": "2022-05-21T20:49:36.178Z"
   },
   {
    "duration": 6,
    "start_time": "2022-05-21T20:52:00.380Z"
   },
   {
    "duration": 145,
    "start_time": "2022-05-21T20:52:00.388Z"
   },
   {
    "duration": 16,
    "start_time": "2022-05-21T20:52:00.534Z"
   },
   {
    "duration": 91,
    "start_time": "2022-05-21T20:52:00.552Z"
   },
   {
    "duration": 12,
    "start_time": "2022-05-21T20:52:00.646Z"
   },
   {
    "duration": 48,
    "start_time": "2022-05-21T20:52:00.660Z"
   },
   {
    "duration": 29,
    "start_time": "2022-05-21T20:52:00.710Z"
   },
   {
    "duration": 32,
    "start_time": "2022-05-21T20:52:00.742Z"
   },
   {
    "duration": 21,
    "start_time": "2022-05-21T20:52:00.776Z"
   },
   {
    "duration": 17,
    "start_time": "2022-05-21T20:52:00.800Z"
   },
   {
    "duration": 43,
    "start_time": "2022-05-21T20:52:00.820Z"
   },
   {
    "duration": 191,
    "start_time": "2022-05-21T20:52:00.865Z"
   },
   {
    "duration": 221,
    "start_time": "2022-05-21T20:52:01.058Z"
   },
   {
    "duration": 203,
    "start_time": "2022-05-21T20:52:01.282Z"
   },
   {
    "duration": 10,
    "start_time": "2022-05-21T20:52:01.487Z"
   },
   {
    "duration": 64,
    "start_time": "2022-05-21T20:52:01.499Z"
   },
   {
    "duration": 18866,
    "start_time": "2022-05-21T20:52:01.565Z"
   },
   {
    "duration": 30,
    "start_time": "2022-05-21T20:52:20.433Z"
   },
   {
    "duration": 12,
    "start_time": "2022-05-21T20:52:20.464Z"
   },
   {
    "duration": 556,
    "start_time": "2022-05-21T20:52:20.478Z"
   },
   {
    "duration": 3,
    "start_time": "2022-05-21T20:52:21.036Z"
   },
   {
    "duration": 7,
    "start_time": "2022-05-21T20:52:21.041Z"
   },
   {
    "duration": 20,
    "start_time": "2022-05-21T20:52:21.050Z"
   },
   {
    "duration": 14,
    "start_time": "2022-05-21T20:52:21.072Z"
   },
   {
    "duration": 12,
    "start_time": "2022-05-21T20:52:21.088Z"
   },
   {
    "duration": 39,
    "start_time": "2022-05-21T20:52:21.101Z"
   },
   {
    "duration": 12,
    "start_time": "2022-05-21T20:52:21.142Z"
   },
   {
    "duration": 31,
    "start_time": "2022-05-21T20:52:21.155Z"
   },
   {
    "duration": 15,
    "start_time": "2022-05-21T20:52:21.189Z"
   },
   {
    "duration": 30,
    "start_time": "2022-05-21T20:52:21.205Z"
   },
   {
    "duration": 24548,
    "start_time": "2022-05-21T20:52:21.236Z"
   },
   {
    "duration": 204,
    "start_time": "2022-05-21T20:52:45.787Z"
   },
   {
    "duration": 46,
    "start_time": "2022-05-21T20:52:45.993Z"
   },
   {
    "duration": 212,
    "start_time": "2022-05-21T20:52:46.042Z"
   },
   {
    "duration": 37,
    "start_time": "2022-05-21T20:52:46.255Z"
   },
   {
    "duration": 33,
    "start_time": "2022-05-21T20:52:46.294Z"
   },
   {
    "duration": 101,
    "start_time": "2022-05-21T20:52:46.329Z"
   },
   {
    "duration": 11,
    "start_time": "2022-05-21T20:52:46.432Z"
   },
   {
    "duration": 8,
    "start_time": "2022-05-21T20:52:46.445Z"
   },
   {
    "duration": 17,
    "start_time": "2022-05-21T20:52:46.455Z"
   },
   {
    "duration": 17,
    "start_time": "2022-05-21T20:52:46.475Z"
   },
   {
    "duration": 37,
    "start_time": "2022-05-21T20:52:46.494Z"
   },
   {
    "duration": 45,
    "start_time": "2022-05-21T20:52:46.532Z"
   },
   {
    "duration": 20,
    "start_time": "2022-05-21T20:52:46.579Z"
   },
   {
    "duration": 6,
    "start_time": "2022-05-21T20:52:46.600Z"
   },
   {
    "duration": 22,
    "start_time": "2022-05-21T20:52:46.608Z"
   },
   {
    "duration": 0,
    "start_time": "2022-05-21T20:52:46.632Z"
   },
   {
    "duration": 0,
    "start_time": "2022-05-21T20:52:46.633Z"
   },
   {
    "duration": 0,
    "start_time": "2022-05-21T20:52:46.634Z"
   },
   {
    "duration": 0,
    "start_time": "2022-05-21T20:52:46.635Z"
   },
   {
    "duration": 0,
    "start_time": "2022-05-21T20:52:46.637Z"
   },
   {
    "duration": 1611,
    "start_time": "2022-05-22T09:01:16.250Z"
   },
   {
    "duration": 200,
    "start_time": "2022-05-22T09:01:17.864Z"
   },
   {
    "duration": 15,
    "start_time": "2022-05-22T09:01:18.066Z"
   },
   {
    "duration": 107,
    "start_time": "2022-05-22T09:01:18.082Z"
   },
   {
    "duration": 10,
    "start_time": "2022-05-22T09:01:18.193Z"
   },
   {
    "duration": 62,
    "start_time": "2022-05-22T09:01:18.205Z"
   },
   {
    "duration": 46,
    "start_time": "2022-05-22T09:01:18.269Z"
   },
   {
    "duration": 40,
    "start_time": "2022-05-22T09:01:18.317Z"
   },
   {
    "duration": 9,
    "start_time": "2022-05-22T09:01:18.359Z"
   },
   {
    "duration": 5,
    "start_time": "2022-05-22T09:01:18.369Z"
   },
   {
    "duration": 20,
    "start_time": "2022-05-22T09:01:18.376Z"
   },
   {
    "duration": 251,
    "start_time": "2022-05-22T09:01:18.397Z"
   },
   {
    "duration": 246,
    "start_time": "2022-05-22T09:01:18.649Z"
   },
   {
    "duration": 194,
    "start_time": "2022-05-22T09:01:18.898Z"
   },
   {
    "duration": 9,
    "start_time": "2022-05-22T09:01:19.093Z"
   },
   {
    "duration": 26,
    "start_time": "2022-05-22T09:01:19.104Z"
   },
   {
    "duration": 22779,
    "start_time": "2022-05-22T09:01:19.132Z"
   },
   {
    "duration": 39,
    "start_time": "2022-05-22T09:01:41.913Z"
   },
   {
    "duration": 11,
    "start_time": "2022-05-22T09:01:41.954Z"
   },
   {
    "duration": 746,
    "start_time": "2022-05-22T09:01:41.967Z"
   },
   {
    "duration": 3,
    "start_time": "2022-05-22T09:01:42.715Z"
   },
   {
    "duration": 7,
    "start_time": "2022-05-22T09:01:42.720Z"
   },
   {
    "duration": 29,
    "start_time": "2022-05-22T09:01:42.729Z"
   },
   {
    "duration": 13,
    "start_time": "2022-05-22T09:01:42.760Z"
   },
   {
    "duration": 12,
    "start_time": "2022-05-22T09:01:42.775Z"
   },
   {
    "duration": 16,
    "start_time": "2022-05-22T09:01:42.789Z"
   },
   {
    "duration": 4,
    "start_time": "2022-05-22T09:01:42.806Z"
   },
   {
    "duration": 59,
    "start_time": "2022-05-22T09:01:42.812Z"
   },
   {
    "duration": 30,
    "start_time": "2022-05-22T09:01:42.872Z"
   },
   {
    "duration": 21,
    "start_time": "2022-05-22T09:01:42.904Z"
   },
   {
    "duration": 30098,
    "start_time": "2022-05-22T09:01:42.926Z"
   },
   {
    "duration": 218,
    "start_time": "2022-05-22T09:02:13.025Z"
   },
   {
    "duration": 31,
    "start_time": "2022-05-22T09:02:13.244Z"
   },
   {
    "duration": 193,
    "start_time": "2022-05-22T09:02:13.277Z"
   },
   {
    "duration": 36,
    "start_time": "2022-05-22T09:02:13.472Z"
   },
   {
    "duration": 15,
    "start_time": "2022-05-22T09:02:13.510Z"
   },
   {
    "duration": 160,
    "start_time": "2022-05-22T09:02:13.527Z"
   },
   {
    "duration": 11,
    "start_time": "2022-05-22T09:02:13.689Z"
   },
   {
    "duration": 10,
    "start_time": "2022-05-22T09:02:13.702Z"
   },
   {
    "duration": 40,
    "start_time": "2022-05-22T09:02:13.714Z"
   },
   {
    "duration": 24,
    "start_time": "2022-05-22T09:02:13.759Z"
   },
   {
    "duration": 6,
    "start_time": "2022-05-22T09:02:13.785Z"
   },
   {
    "duration": 76,
    "start_time": "2022-05-22T09:02:13.793Z"
   },
   {
    "duration": 24,
    "start_time": "2022-05-22T09:02:13.870Z"
   },
   {
    "duration": 11,
    "start_time": "2022-05-22T09:02:13.896Z"
   },
   {
    "duration": 144,
    "start_time": "2022-05-22T09:02:13.909Z"
   },
   {
    "duration": 0,
    "start_time": "2022-05-22T09:02:14.054Z"
   },
   {
    "duration": 0,
    "start_time": "2022-05-22T09:02:14.055Z"
   },
   {
    "duration": 0,
    "start_time": "2022-05-22T09:02:14.057Z"
   },
   {
    "duration": 0,
    "start_time": "2022-05-22T09:02:14.058Z"
   },
   {
    "duration": 0,
    "start_time": "2022-05-22T09:02:14.059Z"
   },
   {
    "duration": 5,
    "start_time": "2022-05-22T09:08:53.919Z"
   },
   {
    "duration": 124,
    "start_time": "2022-05-22T09:08:53.931Z"
   },
   {
    "duration": 14,
    "start_time": "2022-05-22T09:08:54.057Z"
   },
   {
    "duration": 89,
    "start_time": "2022-05-22T09:08:54.073Z"
   },
   {
    "duration": 10,
    "start_time": "2022-05-22T09:08:54.164Z"
   },
   {
    "duration": 23,
    "start_time": "2022-05-22T09:08:54.177Z"
   },
   {
    "duration": 53,
    "start_time": "2022-05-22T09:08:54.202Z"
   },
   {
    "duration": 17,
    "start_time": "2022-05-22T09:08:54.257Z"
   },
   {
    "duration": 9,
    "start_time": "2022-05-22T09:08:54.276Z"
   },
   {
    "duration": 5,
    "start_time": "2022-05-22T09:08:54.286Z"
   },
   {
    "duration": 19,
    "start_time": "2022-05-22T09:08:54.292Z"
   },
   {
    "duration": 233,
    "start_time": "2022-05-22T09:08:54.313Z"
   },
   {
    "duration": 233,
    "start_time": "2022-05-22T09:08:54.547Z"
   },
   {
    "duration": 200,
    "start_time": "2022-05-22T09:08:54.782Z"
   },
   {
    "duration": 9,
    "start_time": "2022-05-22T09:08:54.986Z"
   },
   {
    "duration": 28,
    "start_time": "2022-05-22T09:08:54.997Z"
   },
   {
    "duration": 21191,
    "start_time": "2022-05-22T09:08:55.027Z"
   },
   {
    "duration": 43,
    "start_time": "2022-05-22T09:09:16.220Z"
   },
   {
    "duration": 11,
    "start_time": "2022-05-22T09:09:16.265Z"
   },
   {
    "duration": 594,
    "start_time": "2022-05-22T09:09:16.277Z"
   },
   {
    "duration": 4,
    "start_time": "2022-05-22T09:09:16.873Z"
   },
   {
    "duration": 6,
    "start_time": "2022-05-22T09:09:16.879Z"
   },
   {
    "duration": 16,
    "start_time": "2022-05-22T09:09:16.887Z"
   },
   {
    "duration": 15,
    "start_time": "2022-05-22T09:09:16.904Z"
   },
   {
    "duration": 34,
    "start_time": "2022-05-22T09:09:16.920Z"
   },
   {
    "duration": 16,
    "start_time": "2022-05-22T09:09:16.955Z"
   },
   {
    "duration": 4,
    "start_time": "2022-05-22T09:09:16.973Z"
   },
   {
    "duration": 32,
    "start_time": "2022-05-22T09:09:16.979Z"
   },
   {
    "duration": 40,
    "start_time": "2022-05-22T09:09:17.012Z"
   },
   {
    "duration": 20,
    "start_time": "2022-05-22T09:09:17.054Z"
   },
   {
    "duration": 33237,
    "start_time": "2022-05-22T09:09:17.077Z"
   },
   {
    "duration": 202,
    "start_time": "2022-05-22T09:09:50.316Z"
   },
   {
    "duration": 33,
    "start_time": "2022-05-22T09:09:50.520Z"
   },
   {
    "duration": 185,
    "start_time": "2022-05-22T09:09:50.554Z"
   },
   {
    "duration": 43,
    "start_time": "2022-05-22T09:09:50.741Z"
   },
   {
    "duration": 14,
    "start_time": "2022-05-22T09:09:50.785Z"
   },
   {
    "duration": 145,
    "start_time": "2022-05-22T09:09:50.801Z"
   },
   {
    "duration": 11,
    "start_time": "2022-05-22T09:09:50.948Z"
   },
   {
    "duration": 21,
    "start_time": "2022-05-22T09:09:50.960Z"
   },
   {
    "duration": 16,
    "start_time": "2022-05-22T09:09:50.983Z"
   },
   {
    "duration": 17,
    "start_time": "2022-05-22T09:09:51.001Z"
   },
   {
    "duration": 3,
    "start_time": "2022-05-22T09:09:51.022Z"
   },
   {
    "duration": 55,
    "start_time": "2022-05-22T09:09:51.027Z"
   },
   {
    "duration": 20,
    "start_time": "2022-05-22T09:09:51.084Z"
   },
   {
    "duration": 4,
    "start_time": "2022-05-22T09:09:51.106Z"
   },
   {
    "duration": 12,
    "start_time": "2022-05-22T09:09:51.112Z"
   },
   {
    "duration": 0,
    "start_time": "2022-05-22T09:09:51.125Z"
   },
   {
    "duration": 0,
    "start_time": "2022-05-22T09:09:51.127Z"
   },
   {
    "duration": 0,
    "start_time": "2022-05-22T09:09:51.152Z"
   },
   {
    "duration": 0,
    "start_time": "2022-05-22T09:09:51.153Z"
   },
   {
    "duration": 0,
    "start_time": "2022-05-22T09:09:51.154Z"
   },
   {
    "duration": 5,
    "start_time": "2022-05-22T09:11:43.109Z"
   },
   {
    "duration": 98,
    "start_time": "2022-05-22T09:11:43.119Z"
   },
   {
    "duration": 11,
    "start_time": "2022-05-22T09:11:43.219Z"
   },
   {
    "duration": 59,
    "start_time": "2022-05-22T09:11:43.252Z"
   },
   {
    "duration": 9,
    "start_time": "2022-05-22T09:11:43.312Z"
   },
   {
    "duration": 48,
    "start_time": "2022-05-22T09:11:43.323Z"
   },
   {
    "duration": 24,
    "start_time": "2022-05-22T09:11:43.372Z"
   },
   {
    "duration": 16,
    "start_time": "2022-05-22T09:11:43.397Z"
   },
   {
    "duration": 7,
    "start_time": "2022-05-22T09:11:43.414Z"
   },
   {
    "duration": 29,
    "start_time": "2022-05-22T09:11:43.422Z"
   },
   {
    "duration": 16,
    "start_time": "2022-05-22T09:11:43.452Z"
   },
   {
    "duration": 214,
    "start_time": "2022-05-22T09:11:43.469Z"
   },
   {
    "duration": 235,
    "start_time": "2022-05-22T09:11:43.684Z"
   },
   {
    "duration": 556,
    "start_time": "2022-05-22T09:11:43.920Z"
   },
   {
    "duration": 8,
    "start_time": "2022-05-22T09:11:44.479Z"
   },
   {
    "duration": 22,
    "start_time": "2022-05-22T09:11:44.489Z"
   },
   {
    "duration": 20674,
    "start_time": "2022-05-22T09:11:44.512Z"
   },
   {
    "duration": 34,
    "start_time": "2022-05-22T09:12:05.188Z"
   },
   {
    "duration": 36,
    "start_time": "2022-05-22T09:12:05.225Z"
   },
   {
    "duration": 715,
    "start_time": "2022-05-22T09:12:05.263Z"
   },
   {
    "duration": 3,
    "start_time": "2022-05-22T09:12:05.979Z"
   },
   {
    "duration": 13,
    "start_time": "2022-05-22T09:12:05.983Z"
   },
   {
    "duration": 16,
    "start_time": "2022-05-22T09:12:05.998Z"
   },
   {
    "duration": 13,
    "start_time": "2022-05-22T09:12:06.016Z"
   },
   {
    "duration": 24,
    "start_time": "2022-05-22T09:12:06.030Z"
   },
   {
    "duration": 15,
    "start_time": "2022-05-22T09:12:06.055Z"
   },
   {
    "duration": 3,
    "start_time": "2022-05-22T09:12:06.072Z"
   },
   {
    "duration": 25,
    "start_time": "2022-05-22T09:12:06.076Z"
   },
   {
    "duration": 15,
    "start_time": "2022-05-22T09:12:06.103Z"
   },
   {
    "duration": 42,
    "start_time": "2022-05-22T09:12:06.120Z"
   },
   {
    "duration": 23320,
    "start_time": "2022-05-22T09:12:06.163Z"
   },
   {
    "duration": 223,
    "start_time": "2022-05-22T09:12:29.486Z"
   },
   {
    "duration": 26,
    "start_time": "2022-05-22T09:12:29.711Z"
   },
   {
    "duration": 231,
    "start_time": "2022-05-22T09:12:29.739Z"
   },
   {
    "duration": 45,
    "start_time": "2022-05-22T09:12:29.972Z"
   },
   {
    "duration": 34,
    "start_time": "2022-05-22T09:12:30.019Z"
   },
   {
    "duration": 102,
    "start_time": "2022-05-22T09:12:30.055Z"
   },
   {
    "duration": 12,
    "start_time": "2022-05-22T09:12:30.159Z"
   },
   {
    "duration": 37,
    "start_time": "2022-05-22T09:12:30.173Z"
   },
   {
    "duration": 37,
    "start_time": "2022-05-22T09:12:30.213Z"
   },
   {
    "duration": 54,
    "start_time": "2022-05-22T09:12:30.252Z"
   },
   {
    "duration": 6,
    "start_time": "2022-05-22T09:12:30.310Z"
   },
   {
    "duration": 59,
    "start_time": "2022-05-22T09:12:30.318Z"
   },
   {
    "duration": 38,
    "start_time": "2022-05-22T09:12:30.379Z"
   },
   {
    "duration": 36,
    "start_time": "2022-05-22T09:12:30.418Z"
   },
   {
    "duration": 44,
    "start_time": "2022-05-22T09:12:30.456Z"
   },
   {
    "duration": 0,
    "start_time": "2022-05-22T09:12:30.503Z"
   },
   {
    "duration": 0,
    "start_time": "2022-05-22T09:12:30.505Z"
   },
   {
    "duration": 0,
    "start_time": "2022-05-22T09:12:30.506Z"
   },
   {
    "duration": 0,
    "start_time": "2022-05-22T09:12:30.508Z"
   },
   {
    "duration": 0,
    "start_time": "2022-05-22T09:12:30.510Z"
   },
   {
    "duration": 19,
    "start_time": "2022-05-22T09:31:42.893Z"
   },
   {
    "duration": 4,
    "start_time": "2022-05-22T09:39:00.773Z"
   },
   {
    "duration": 21,
    "start_time": "2022-05-22T09:40:10.708Z"
   },
   {
    "duration": 13,
    "start_time": "2022-05-22T09:40:38.493Z"
   },
   {
    "duration": 193,
    "start_time": "2022-05-22T10:24:06.579Z"
   },
   {
    "duration": 6,
    "start_time": "2022-05-22T10:24:30.818Z"
   },
   {
    "duration": 174,
    "start_time": "2022-05-22T10:25:04.961Z"
   },
   {
    "duration": 164,
    "start_time": "2022-05-22T10:25:45.344Z"
   },
   {
    "duration": 456,
    "start_time": "2022-05-22T10:25:54.200Z"
   },
   {
    "duration": 6,
    "start_time": "2022-05-22T10:26:01.271Z"
   },
   {
    "duration": 7,
    "start_time": "2022-05-22T10:39:43.119Z"
   },
   {
    "duration": 15,
    "start_time": "2022-05-22T10:42:17.872Z"
   },
   {
    "duration": 4,
    "start_time": "2022-05-22T10:43:32.998Z"
   },
   {
    "duration": 6,
    "start_time": "2022-05-22T10:43:38.459Z"
   },
   {
    "duration": 8,
    "start_time": "2022-05-22T10:43:50.119Z"
   },
   {
    "duration": 13,
    "start_time": "2022-05-22T10:44:10.599Z"
   },
   {
    "duration": 7,
    "start_time": "2022-05-22T10:44:17.804Z"
   },
   {
    "duration": 8,
    "start_time": "2022-05-22T10:44:58.967Z"
   },
   {
    "duration": 19,
    "start_time": "2022-05-22T10:46:06.771Z"
   },
   {
    "duration": 24,
    "start_time": "2022-05-22T10:49:16.012Z"
   },
   {
    "duration": 24,
    "start_time": "2022-05-22T10:50:00.612Z"
   },
   {
    "duration": 25,
    "start_time": "2022-05-22T10:50:10.830Z"
   },
   {
    "duration": 21,
    "start_time": "2022-05-22T10:50:16.400Z"
   },
   {
    "duration": 22,
    "start_time": "2022-05-22T10:51:53.059Z"
   },
   {
    "duration": 23,
    "start_time": "2022-05-22T10:52:06.129Z"
   },
   {
    "duration": 24,
    "start_time": "2022-05-22T10:53:31.004Z"
   },
   {
    "duration": 25,
    "start_time": "2022-05-22T10:54:53.267Z"
   },
   {
    "duration": 26,
    "start_time": "2022-05-22T10:55:17.694Z"
   },
   {
    "duration": 26,
    "start_time": "2022-05-22T10:55:31.126Z"
   },
   {
    "duration": 25,
    "start_time": "2022-05-22T10:55:36.577Z"
   },
   {
    "duration": 33,
    "start_time": "2022-05-22T10:57:19.298Z"
   },
   {
    "duration": 178,
    "start_time": "2022-05-22T11:00:08.861Z"
   },
   {
    "duration": 210,
    "start_time": "2022-05-22T11:00:32.318Z"
   },
   {
    "duration": 1535,
    "start_time": "2022-05-22T18:54:04.359Z"
   },
   {
    "duration": 542,
    "start_time": "2022-05-22T18:54:05.896Z"
   },
   {
    "duration": 13,
    "start_time": "2022-05-22T18:54:06.439Z"
   },
   {
    "duration": 77,
    "start_time": "2022-05-22T18:54:06.454Z"
   },
   {
    "duration": 11,
    "start_time": "2022-05-22T18:54:06.532Z"
   },
   {
    "duration": 27,
    "start_time": "2022-05-22T18:54:06.544Z"
   },
   {
    "duration": 50,
    "start_time": "2022-05-22T18:54:06.573Z"
   },
   {
    "duration": 18,
    "start_time": "2022-05-22T18:54:06.624Z"
   },
   {
    "duration": 7,
    "start_time": "2022-05-22T18:54:06.644Z"
   },
   {
    "duration": 5,
    "start_time": "2022-05-22T18:54:06.653Z"
   },
   {
    "duration": 16,
    "start_time": "2022-05-22T18:54:06.659Z"
   },
   {
    "duration": 262,
    "start_time": "2022-05-22T18:54:06.677Z"
   },
   {
    "duration": 234,
    "start_time": "2022-05-22T18:54:06.941Z"
   },
   {
    "duration": 199,
    "start_time": "2022-05-22T18:54:07.177Z"
   },
   {
    "duration": 7,
    "start_time": "2022-05-22T18:54:07.378Z"
   },
   {
    "duration": 34,
    "start_time": "2022-05-22T18:54:07.386Z"
   },
   {
    "duration": 20466,
    "start_time": "2022-05-22T18:54:07.421Z"
   },
   {
    "duration": 36,
    "start_time": "2022-05-22T18:54:27.889Z"
   },
   {
    "duration": 11,
    "start_time": "2022-05-22T18:54:27.927Z"
   },
   {
    "duration": 724,
    "start_time": "2022-05-22T18:54:27.939Z"
   },
   {
    "duration": 3,
    "start_time": "2022-05-22T18:54:28.665Z"
   },
   {
    "duration": 5,
    "start_time": "2022-05-22T18:54:28.669Z"
   },
   {
    "duration": 14,
    "start_time": "2022-05-22T18:54:28.676Z"
   },
   {
    "duration": 18,
    "start_time": "2022-05-22T18:54:28.701Z"
   },
   {
    "duration": 14,
    "start_time": "2022-05-22T18:54:28.721Z"
   },
   {
    "duration": 13,
    "start_time": "2022-05-22T18:54:28.736Z"
   },
   {
    "duration": 3,
    "start_time": "2022-05-22T18:54:28.750Z"
   },
   {
    "duration": 23,
    "start_time": "2022-05-22T18:54:28.756Z"
   },
   {
    "duration": 42,
    "start_time": "2022-05-22T18:54:28.781Z"
   },
   {
    "duration": 13,
    "start_time": "2022-05-22T18:54:28.824Z"
   },
   {
    "duration": 23428,
    "start_time": "2022-05-22T18:54:28.838Z"
   },
   {
    "duration": 202,
    "start_time": "2022-05-22T18:54:52.268Z"
   },
   {
    "duration": 31,
    "start_time": "2022-05-22T18:54:52.472Z"
   },
   {
    "duration": 200,
    "start_time": "2022-05-22T18:54:52.505Z"
   },
   {
    "duration": 172,
    "start_time": "2022-05-22T18:54:52.707Z"
   },
   {
    "duration": 38,
    "start_time": "2022-05-22T18:54:52.881Z"
   },
   {
    "duration": 205,
    "start_time": "2022-05-22T18:54:52.921Z"
   },
   {
    "duration": 141,
    "start_time": "2022-05-22T18:54:53.127Z"
   },
   {
    "duration": 0,
    "start_time": "2022-05-22T18:54:53.269Z"
   },
   {
    "duration": 0,
    "start_time": "2022-05-22T18:54:53.271Z"
   },
   {
    "duration": 0,
    "start_time": "2022-05-22T18:54:53.272Z"
   },
   {
    "duration": 0,
    "start_time": "2022-05-22T18:54:53.274Z"
   },
   {
    "duration": 0,
    "start_time": "2022-05-22T18:54:53.275Z"
   },
   {
    "duration": 1,
    "start_time": "2022-05-22T18:54:53.276Z"
   },
   {
    "duration": 0,
    "start_time": "2022-05-22T18:54:53.278Z"
   },
   {
    "duration": 0,
    "start_time": "2022-05-22T18:54:53.279Z"
   },
   {
    "duration": 0,
    "start_time": "2022-05-22T18:54:53.280Z"
   },
   {
    "duration": 0,
    "start_time": "2022-05-22T18:54:53.302Z"
   },
   {
    "duration": 0,
    "start_time": "2022-05-22T18:54:53.304Z"
   },
   {
    "duration": 0,
    "start_time": "2022-05-22T18:54:53.305Z"
   },
   {
    "duration": 0,
    "start_time": "2022-05-22T18:54:53.306Z"
   },
   {
    "duration": 589,
    "start_time": "2022-05-22T19:00:52.240Z"
   },
   {
    "duration": 210,
    "start_time": "2022-05-22T19:01:16.380Z"
   },
   {
    "duration": 233,
    "start_time": "2022-05-22T19:05:40.829Z"
   },
   {
    "duration": 209,
    "start_time": "2022-05-22T19:06:25.461Z"
   },
   {
    "duration": 220,
    "start_time": "2022-05-22T19:11:43.405Z"
   },
   {
    "duration": 201,
    "start_time": "2022-05-22T19:14:15.560Z"
   },
   {
    "duration": 215,
    "start_time": "2022-05-22T19:14:24.666Z"
   },
   {
    "duration": 12,
    "start_time": "2022-05-22T19:15:21.977Z"
   },
   {
    "duration": 206,
    "start_time": "2022-05-22T19:16:26.816Z"
   },
   {
    "duration": 534,
    "start_time": "2022-05-22T19:16:33.982Z"
   },
   {
    "duration": 204,
    "start_time": "2022-05-22T19:16:41.934Z"
   },
   {
    "duration": 232,
    "start_time": "2022-05-22T19:17:20.312Z"
   },
   {
    "duration": 212,
    "start_time": "2022-05-22T19:17:24.252Z"
   },
   {
    "duration": 214,
    "start_time": "2022-05-22T19:17:36.065Z"
   },
   {
    "duration": 210,
    "start_time": "2022-05-22T19:20:23.616Z"
   },
   {
    "duration": 199,
    "start_time": "2022-05-22T19:20:31.514Z"
   },
   {
    "duration": 198,
    "start_time": "2022-05-22T19:20:41.967Z"
   },
   {
    "duration": 147,
    "start_time": "2022-05-22T19:20:57.964Z"
   },
   {
    "duration": 135,
    "start_time": "2022-05-22T19:21:04.378Z"
   },
   {
    "duration": 194,
    "start_time": "2022-05-22T19:21:10.752Z"
   },
   {
    "duration": 36,
    "start_time": "2022-05-22T19:39:47.470Z"
   },
   {
    "duration": 6,
    "start_time": "2022-05-22T19:40:08.179Z"
   },
   {
    "duration": 159,
    "start_time": "2022-05-22T19:40:10.166Z"
   },
   {
    "duration": 6,
    "start_time": "2022-05-22T19:40:40.916Z"
   },
   {
    "duration": 137,
    "start_time": "2022-05-22T19:40:42.993Z"
   },
   {
    "duration": 20,
    "start_time": "2022-05-22T19:41:19.765Z"
   },
   {
    "duration": 74,
    "start_time": "2022-05-22T19:41:29.253Z"
   },
   {
    "duration": 11,
    "start_time": "2022-05-22T19:41:31.714Z"
   },
   {
    "duration": 7,
    "start_time": "2022-05-22T19:41:35.866Z"
   },
   {
    "duration": 15,
    "start_time": "2022-05-22T19:41:41.979Z"
   },
   {
    "duration": 5,
    "start_time": "2022-05-22T19:53:12.767Z"
   },
   {
    "duration": 138,
    "start_time": "2022-05-22T19:53:12.775Z"
   },
   {
    "duration": 13,
    "start_time": "2022-05-22T19:53:12.915Z"
   },
   {
    "duration": 99,
    "start_time": "2022-05-22T19:53:12.930Z"
   },
   {
    "duration": 10,
    "start_time": "2022-05-22T19:53:13.032Z"
   },
   {
    "duration": 43,
    "start_time": "2022-05-22T19:53:13.044Z"
   },
   {
    "duration": 38,
    "start_time": "2022-05-22T19:53:13.089Z"
   },
   {
    "duration": 25,
    "start_time": "2022-05-22T19:53:13.128Z"
   },
   {
    "duration": 18,
    "start_time": "2022-05-22T19:53:13.155Z"
   },
   {
    "duration": 23,
    "start_time": "2022-05-22T19:53:13.175Z"
   },
   {
    "duration": 18,
    "start_time": "2022-05-22T19:53:13.200Z"
   },
   {
    "duration": 204,
    "start_time": "2022-05-22T19:53:13.220Z"
   },
   {
    "duration": 350,
    "start_time": "2022-05-22T19:53:13.425Z"
   },
   {
    "duration": 198,
    "start_time": "2022-05-22T19:53:13.779Z"
   },
   {
    "duration": 8,
    "start_time": "2022-05-22T19:53:13.978Z"
   },
   {
    "duration": 37,
    "start_time": "2022-05-22T19:53:13.988Z"
   },
   {
    "duration": 1180,
    "start_time": "2022-05-22T19:53:14.026Z"
   },
   {
    "duration": 26,
    "start_time": "2022-05-22T19:53:15.208Z"
   },
   {
    "duration": 13,
    "start_time": "2022-05-22T19:53:15.236Z"
   },
   {
    "duration": 712,
    "start_time": "2022-05-22T19:53:15.251Z"
   },
   {
    "duration": 3,
    "start_time": "2022-05-22T19:53:15.964Z"
   },
   {
    "duration": 7,
    "start_time": "2022-05-22T19:53:15.969Z"
   },
   {
    "duration": 31,
    "start_time": "2022-05-22T19:53:15.978Z"
   },
   {
    "duration": 16,
    "start_time": "2022-05-22T19:53:16.011Z"
   },
   {
    "duration": 10,
    "start_time": "2022-05-22T19:53:16.029Z"
   },
   {
    "duration": 16,
    "start_time": "2022-05-22T19:53:16.040Z"
   },
   {
    "duration": 4,
    "start_time": "2022-05-22T19:53:16.057Z"
   },
   {
    "duration": 53,
    "start_time": "2022-05-22T19:53:16.062Z"
   },
   {
    "duration": 14,
    "start_time": "2022-05-22T19:53:16.117Z"
   },
   {
    "duration": 15,
    "start_time": "2022-05-22T19:53:16.133Z"
   },
   {
    "duration": 22705,
    "start_time": "2022-05-22T19:53:16.150Z"
   },
   {
    "duration": 1368,
    "start_time": "2022-05-22T19:57:41.815Z"
   },
   {
    "duration": 504,
    "start_time": "2022-05-22T19:57:43.185Z"
   },
   {
    "duration": 13,
    "start_time": "2022-05-22T19:57:43.691Z"
   },
   {
    "duration": 102,
    "start_time": "2022-05-22T19:57:43.706Z"
   },
   {
    "duration": 12,
    "start_time": "2022-05-22T19:57:43.810Z"
   },
   {
    "duration": 32,
    "start_time": "2022-05-22T19:57:43.824Z"
   },
   {
    "duration": 47,
    "start_time": "2022-05-22T19:57:43.857Z"
   },
   {
    "duration": 18,
    "start_time": "2022-05-22T19:57:43.905Z"
   },
   {
    "duration": 6,
    "start_time": "2022-05-22T19:57:43.924Z"
   },
   {
    "duration": 6,
    "start_time": "2022-05-22T19:57:43.934Z"
   },
   {
    "duration": 18,
    "start_time": "2022-05-22T19:57:43.943Z"
   },
   {
    "duration": 227,
    "start_time": "2022-05-22T19:57:43.963Z"
   },
   {
    "duration": 233,
    "start_time": "2022-05-22T19:57:44.192Z"
   },
   {
    "duration": 195,
    "start_time": "2022-05-22T19:57:44.427Z"
   },
   {
    "duration": 7,
    "start_time": "2022-05-22T19:57:44.624Z"
   },
   {
    "duration": 24,
    "start_time": "2022-05-22T19:57:44.633Z"
   },
   {
    "duration": 1111,
    "start_time": "2022-05-22T19:57:44.659Z"
   },
   {
    "duration": 34,
    "start_time": "2022-05-22T19:57:45.772Z"
   },
   {
    "duration": 13,
    "start_time": "2022-05-22T19:57:45.808Z"
   },
   {
    "duration": 558,
    "start_time": "2022-05-22T19:57:45.823Z"
   },
   {
    "duration": 2,
    "start_time": "2022-05-22T19:57:46.382Z"
   },
   {
    "duration": 7,
    "start_time": "2022-05-22T19:57:46.386Z"
   },
   {
    "duration": 14,
    "start_time": "2022-05-22T19:57:46.402Z"
   },
   {
    "duration": 13,
    "start_time": "2022-05-22T19:57:46.418Z"
   },
   {
    "duration": 10,
    "start_time": "2022-05-22T19:57:46.432Z"
   },
   {
    "duration": 14,
    "start_time": "2022-05-22T19:57:46.444Z"
   },
   {
    "duration": 4,
    "start_time": "2022-05-22T19:57:46.460Z"
   },
   {
    "duration": 67,
    "start_time": "2022-05-22T19:57:46.468Z"
   },
   {
    "duration": 14,
    "start_time": "2022-05-22T19:57:46.537Z"
   },
   {
    "duration": 18,
    "start_time": "2022-05-22T19:57:46.552Z"
   },
   {
    "duration": 10597,
    "start_time": "2022-05-22T19:57:46.572Z"
   },
   {
    "duration": 121,
    "start_time": "2022-05-22T19:57:57.171Z"
   },
   {
    "duration": 0,
    "start_time": "2022-05-22T19:57:57.293Z"
   },
   {
    "duration": 1,
    "start_time": "2022-05-22T19:57:57.294Z"
   },
   {
    "duration": 0,
    "start_time": "2022-05-22T19:57:57.296Z"
   },
   {
    "duration": 0,
    "start_time": "2022-05-22T19:57:57.302Z"
   },
   {
    "duration": 0,
    "start_time": "2022-05-22T19:57:57.303Z"
   },
   {
    "duration": 0,
    "start_time": "2022-05-22T19:57:57.305Z"
   },
   {
    "duration": 0,
    "start_time": "2022-05-22T19:57:57.306Z"
   },
   {
    "duration": 0,
    "start_time": "2022-05-22T19:57:57.308Z"
   },
   {
    "duration": 0,
    "start_time": "2022-05-22T19:57:57.309Z"
   },
   {
    "duration": 0,
    "start_time": "2022-05-22T19:57:57.311Z"
   },
   {
    "duration": 0,
    "start_time": "2022-05-22T19:57:57.313Z"
   },
   {
    "duration": 0,
    "start_time": "2022-05-22T19:57:57.314Z"
   },
   {
    "duration": 0,
    "start_time": "2022-05-22T19:57:57.316Z"
   },
   {
    "duration": 0,
    "start_time": "2022-05-22T19:57:57.318Z"
   },
   {
    "duration": 0,
    "start_time": "2022-05-22T19:57:57.319Z"
   },
   {
    "duration": 0,
    "start_time": "2022-05-22T19:57:57.321Z"
   },
   {
    "duration": 25,
    "start_time": "2022-05-22T20:00:33.294Z"
   },
   {
    "duration": 67,
    "start_time": "2022-05-22T20:00:45.236Z"
   },
   {
    "duration": 8,
    "start_time": "2022-05-22T20:00:53.845Z"
   },
   {
    "duration": 1547,
    "start_time": "2022-05-22T20:01:00.360Z"
   },
   {
    "duration": 534,
    "start_time": "2022-05-22T20:01:01.910Z"
   },
   {
    "duration": 18,
    "start_time": "2022-05-22T20:01:02.446Z"
   },
   {
    "duration": 94,
    "start_time": "2022-05-22T20:01:02.467Z"
   },
   {
    "duration": 9,
    "start_time": "2022-05-22T20:01:02.564Z"
   },
   {
    "duration": 48,
    "start_time": "2022-05-22T20:01:02.575Z"
   },
   {
    "duration": 34,
    "start_time": "2022-05-22T20:01:02.625Z"
   },
   {
    "duration": 29,
    "start_time": "2022-05-22T20:01:02.660Z"
   },
   {
    "duration": 14,
    "start_time": "2022-05-22T20:01:02.691Z"
   },
   {
    "duration": 10,
    "start_time": "2022-05-22T20:01:02.708Z"
   },
   {
    "duration": 20,
    "start_time": "2022-05-22T20:01:02.719Z"
   },
   {
    "duration": 243,
    "start_time": "2022-05-22T20:01:02.741Z"
   },
   {
    "duration": 261,
    "start_time": "2022-05-22T20:01:02.985Z"
   },
   {
    "duration": 236,
    "start_time": "2022-05-22T20:01:03.248Z"
   },
   {
    "duration": 16,
    "start_time": "2022-05-22T20:01:03.486Z"
   },
   {
    "duration": 23,
    "start_time": "2022-05-22T20:01:03.504Z"
   },
   {
    "duration": 1178,
    "start_time": "2022-05-22T20:01:03.529Z"
   },
   {
    "duration": 32,
    "start_time": "2022-05-22T20:01:04.709Z"
   },
   {
    "duration": 11,
    "start_time": "2022-05-22T20:01:04.746Z"
   },
   {
    "duration": 637,
    "start_time": "2022-05-22T20:01:04.759Z"
   },
   {
    "duration": 5,
    "start_time": "2022-05-22T20:01:05.397Z"
   },
   {
    "duration": 6,
    "start_time": "2022-05-22T20:01:05.404Z"
   },
   {
    "duration": 17,
    "start_time": "2022-05-22T20:01:05.411Z"
   },
   {
    "duration": 14,
    "start_time": "2022-05-22T20:01:05.430Z"
   },
   {
    "duration": 13,
    "start_time": "2022-05-22T20:01:05.446Z"
   },
   {
    "duration": 42,
    "start_time": "2022-05-22T20:01:05.461Z"
   },
   {
    "duration": 4,
    "start_time": "2022-05-22T20:01:05.505Z"
   },
   {
    "duration": 27,
    "start_time": "2022-05-22T20:01:05.513Z"
   },
   {
    "duration": 15,
    "start_time": "2022-05-22T20:01:05.542Z"
   },
   {
    "duration": 17,
    "start_time": "2022-05-22T20:01:05.559Z"
   },
   {
    "duration": 11503,
    "start_time": "2022-05-22T20:01:05.578Z"
   },
   {
    "duration": 26,
    "start_time": "2022-05-22T20:01:17.083Z"
   },
   {
    "duration": 1646,
    "start_time": "2022-05-22T20:01:59.770Z"
   },
   {
    "duration": 564,
    "start_time": "2022-05-22T20:02:01.419Z"
   },
   {
    "duration": 22,
    "start_time": "2022-05-22T20:02:01.986Z"
   },
   {
    "duration": 99,
    "start_time": "2022-05-22T20:02:02.010Z"
   },
   {
    "duration": 10,
    "start_time": "2022-05-22T20:02:02.111Z"
   },
   {
    "duration": 56,
    "start_time": "2022-05-22T20:02:02.123Z"
   },
   {
    "duration": 44,
    "start_time": "2022-05-22T20:02:02.181Z"
   },
   {
    "duration": 24,
    "start_time": "2022-05-22T20:02:02.228Z"
   },
   {
    "duration": 26,
    "start_time": "2022-05-22T20:02:02.255Z"
   },
   {
    "duration": 15,
    "start_time": "2022-05-22T20:02:02.284Z"
   },
   {
    "duration": 27,
    "start_time": "2022-05-22T20:02:02.301Z"
   },
   {
    "duration": 249,
    "start_time": "2022-05-22T20:02:02.330Z"
   },
   {
    "duration": 287,
    "start_time": "2022-05-22T20:02:02.581Z"
   },
   {
    "duration": 228,
    "start_time": "2022-05-22T20:02:02.871Z"
   },
   {
    "duration": 9,
    "start_time": "2022-05-22T20:02:03.102Z"
   },
   {
    "duration": 27,
    "start_time": "2022-05-22T20:02:03.113Z"
   },
   {
    "duration": 1231,
    "start_time": "2022-05-22T20:02:03.142Z"
   },
   {
    "duration": 34,
    "start_time": "2022-05-22T20:02:04.375Z"
   },
   {
    "duration": 15,
    "start_time": "2022-05-22T20:02:04.412Z"
   },
   {
    "duration": 661,
    "start_time": "2022-05-22T20:02:04.429Z"
   },
   {
    "duration": 3,
    "start_time": "2022-05-22T20:02:05.092Z"
   },
   {
    "duration": 5,
    "start_time": "2022-05-22T20:02:05.102Z"
   },
   {
    "duration": 22,
    "start_time": "2022-05-22T20:02:05.109Z"
   },
   {
    "duration": 20,
    "start_time": "2022-05-22T20:02:05.134Z"
   },
   {
    "duration": 14,
    "start_time": "2022-05-22T20:02:05.156Z"
   },
   {
    "duration": 23,
    "start_time": "2022-05-22T20:02:05.202Z"
   },
   {
    "duration": 5,
    "start_time": "2022-05-22T20:02:05.227Z"
   },
   {
    "duration": 38,
    "start_time": "2022-05-22T20:02:05.234Z"
   },
   {
    "duration": 42,
    "start_time": "2022-05-22T20:02:05.274Z"
   },
   {
    "duration": 23,
    "start_time": "2022-05-22T20:02:05.318Z"
   },
   {
    "duration": 11786,
    "start_time": "2022-05-22T20:02:05.343Z"
   },
   {
    "duration": 29,
    "start_time": "2022-05-22T20:02:17.131Z"
   },
   {
    "duration": 1688,
    "start_time": "2022-05-22T20:03:20.792Z"
   },
   {
    "duration": 534,
    "start_time": "2022-05-22T20:03:22.482Z"
   },
   {
    "duration": 23,
    "start_time": "2022-05-22T20:03:23.018Z"
   },
   {
    "duration": 121,
    "start_time": "2022-05-22T20:03:23.044Z"
   },
   {
    "duration": 14,
    "start_time": "2022-05-22T20:03:23.167Z"
   },
   {
    "duration": 36,
    "start_time": "2022-05-22T20:03:23.202Z"
   },
   {
    "duration": 27,
    "start_time": "2022-05-22T20:03:23.240Z"
   },
   {
    "duration": 50,
    "start_time": "2022-05-22T20:03:23.269Z"
   },
   {
    "duration": 9,
    "start_time": "2022-05-22T20:03:23.321Z"
   },
   {
    "duration": 4,
    "start_time": "2022-05-22T20:03:23.333Z"
   },
   {
    "duration": 26,
    "start_time": "2022-05-22T20:03:23.339Z"
   },
   {
    "duration": 249,
    "start_time": "2022-05-22T20:03:23.367Z"
   },
   {
    "duration": 293,
    "start_time": "2022-05-22T20:03:23.617Z"
   },
   {
    "duration": 218,
    "start_time": "2022-05-22T20:03:23.912Z"
   },
   {
    "duration": 8,
    "start_time": "2022-05-22T20:03:24.132Z"
   },
   {
    "duration": 31,
    "start_time": "2022-05-22T20:03:24.142Z"
   },
   {
    "duration": 1222,
    "start_time": "2022-05-22T20:03:24.175Z"
   },
   {
    "duration": 30,
    "start_time": "2022-05-22T20:03:25.402Z"
   },
   {
    "duration": 10,
    "start_time": "2022-05-22T20:03:25.433Z"
   },
   {
    "duration": 682,
    "start_time": "2022-05-22T20:03:25.445Z"
   },
   {
    "duration": 3,
    "start_time": "2022-05-22T20:03:26.129Z"
   },
   {
    "duration": 7,
    "start_time": "2022-05-22T20:03:26.133Z"
   },
   {
    "duration": 23,
    "start_time": "2022-05-22T20:03:26.141Z"
   },
   {
    "duration": 42,
    "start_time": "2022-05-22T20:03:26.166Z"
   },
   {
    "duration": 12,
    "start_time": "2022-05-22T20:03:26.209Z"
   },
   {
    "duration": 15,
    "start_time": "2022-05-22T20:03:26.223Z"
   },
   {
    "duration": 4,
    "start_time": "2022-05-22T20:03:26.239Z"
   },
   {
    "duration": 26,
    "start_time": "2022-05-22T20:03:26.246Z"
   },
   {
    "duration": 16,
    "start_time": "2022-05-22T20:03:26.303Z"
   },
   {
    "duration": 18,
    "start_time": "2022-05-22T20:03:26.321Z"
   },
   {
    "duration": 11897,
    "start_time": "2022-05-22T20:03:26.341Z"
   },
   {
    "duration": 28,
    "start_time": "2022-05-22T20:04:03.758Z"
   },
   {
    "duration": 35,
    "start_time": "2022-05-22T20:04:09.890Z"
   },
   {
    "duration": 1588,
    "start_time": "2022-05-22T20:05:23.953Z"
   },
   {
    "duration": 559,
    "start_time": "2022-05-22T20:05:25.543Z"
   },
   {
    "duration": 17,
    "start_time": "2022-05-22T20:05:26.103Z"
   },
   {
    "duration": 102,
    "start_time": "2022-05-22T20:05:26.122Z"
   },
   {
    "duration": 14,
    "start_time": "2022-05-22T20:05:26.227Z"
   },
   {
    "duration": 59,
    "start_time": "2022-05-22T20:05:26.243Z"
   },
   {
    "duration": 37,
    "start_time": "2022-05-22T20:05:26.304Z"
   },
   {
    "duration": 19,
    "start_time": "2022-05-22T20:05:26.343Z"
   },
   {
    "duration": 7,
    "start_time": "2022-05-22T20:05:26.364Z"
   },
   {
    "duration": 5,
    "start_time": "2022-05-22T20:05:26.401Z"
   },
   {
    "duration": 22,
    "start_time": "2022-05-22T20:05:26.407Z"
   },
   {
    "duration": 311,
    "start_time": "2022-05-22T20:05:26.431Z"
   },
   {
    "duration": 385,
    "start_time": "2022-05-22T20:05:26.744Z"
   },
   {
    "duration": 301,
    "start_time": "2022-05-22T20:05:27.131Z"
   },
   {
    "duration": 12,
    "start_time": "2022-05-22T20:05:27.434Z"
   },
   {
    "duration": 54,
    "start_time": "2022-05-22T20:05:27.448Z"
   },
   {
    "duration": 1841,
    "start_time": "2022-05-22T20:05:27.505Z"
   },
   {
    "duration": 42,
    "start_time": "2022-05-22T20:05:29.349Z"
   },
   {
    "duration": 16,
    "start_time": "2022-05-22T20:05:29.402Z"
   },
   {
    "duration": 852,
    "start_time": "2022-05-22T20:05:29.420Z"
   },
   {
    "duration": 2,
    "start_time": "2022-05-22T20:05:30.274Z"
   },
   {
    "duration": 21,
    "start_time": "2022-05-22T20:05:30.278Z"
   },
   {
    "duration": 24,
    "start_time": "2022-05-22T20:05:30.301Z"
   },
   {
    "duration": 27,
    "start_time": "2022-05-22T20:05:30.327Z"
   },
   {
    "duration": 13,
    "start_time": "2022-05-22T20:05:30.356Z"
   },
   {
    "duration": 14,
    "start_time": "2022-05-22T20:05:30.371Z"
   },
   {
    "duration": 5,
    "start_time": "2022-05-22T20:05:30.401Z"
   },
   {
    "duration": 34,
    "start_time": "2022-05-22T20:05:30.410Z"
   },
   {
    "duration": 21,
    "start_time": "2022-05-22T20:05:30.446Z"
   },
   {
    "duration": 44,
    "start_time": "2022-05-22T20:05:30.469Z"
   },
   {
    "duration": 14489,
    "start_time": "2022-05-22T20:05:30.516Z"
   },
   {
    "duration": 31,
    "start_time": "2022-05-22T20:05:45.007Z"
   },
   {
    "duration": 10,
    "start_time": "2022-05-22T20:05:54.366Z"
   },
   {
    "duration": 1668,
    "start_time": "2022-05-22T20:06:58.308Z"
   },
   {
    "duration": 549,
    "start_time": "2022-05-22T20:06:59.978Z"
   },
   {
    "duration": 22,
    "start_time": "2022-05-22T20:07:00.529Z"
   },
   {
    "duration": 89,
    "start_time": "2022-05-22T20:07:00.553Z"
   },
   {
    "duration": 14,
    "start_time": "2022-05-22T20:07:00.645Z"
   },
   {
    "duration": 68,
    "start_time": "2022-05-22T20:07:00.661Z"
   },
   {
    "duration": 31,
    "start_time": "2022-05-22T20:07:00.731Z"
   },
   {
    "duration": 19,
    "start_time": "2022-05-22T20:07:00.764Z"
   },
   {
    "duration": 8,
    "start_time": "2022-05-22T20:07:00.803Z"
   },
   {
    "duration": 10,
    "start_time": "2022-05-22T20:07:00.813Z"
   },
   {
    "duration": 20,
    "start_time": "2022-05-22T20:07:00.825Z"
   },
   {
    "duration": 288,
    "start_time": "2022-05-22T20:07:00.847Z"
   },
   {
    "duration": 388,
    "start_time": "2022-05-22T20:07:01.139Z"
   },
   {
    "duration": 275,
    "start_time": "2022-05-22T20:07:01.532Z"
   },
   {
    "duration": 12,
    "start_time": "2022-05-22T20:07:01.809Z"
   },
   {
    "duration": 64,
    "start_time": "2022-05-22T20:07:01.823Z"
   },
   {
    "duration": 1594,
    "start_time": "2022-05-22T20:07:01.889Z"
   },
   {
    "duration": 42,
    "start_time": "2022-05-22T20:07:03.485Z"
   },
   {
    "duration": 13,
    "start_time": "2022-05-22T20:07:03.529Z"
   },
   {
    "duration": 625,
    "start_time": "2022-05-22T20:07:03.544Z"
   },
   {
    "duration": 2,
    "start_time": "2022-05-22T20:07:04.171Z"
   },
   {
    "duration": 6,
    "start_time": "2022-05-22T20:07:04.176Z"
   },
   {
    "duration": 33,
    "start_time": "2022-05-22T20:07:04.185Z"
   },
   {
    "duration": 21,
    "start_time": "2022-05-22T20:07:04.220Z"
   },
   {
    "duration": 22,
    "start_time": "2022-05-22T20:07:04.244Z"
   },
   {
    "duration": 41,
    "start_time": "2022-05-22T20:07:04.268Z"
   },
   {
    "duration": 4,
    "start_time": "2022-05-22T20:07:04.312Z"
   },
   {
    "duration": 45,
    "start_time": "2022-05-22T20:07:04.318Z"
   },
   {
    "duration": 20,
    "start_time": "2022-05-22T20:07:04.365Z"
   },
   {
    "duration": 20,
    "start_time": "2022-05-22T20:07:04.403Z"
   },
   {
    "duration": 12019,
    "start_time": "2022-05-22T20:07:04.426Z"
   },
   {
    "duration": 30,
    "start_time": "2022-05-22T20:07:16.447Z"
   },
   {
    "duration": 9,
    "start_time": "2022-05-22T20:07:37.135Z"
   },
   {
    "duration": 1494,
    "start_time": "2022-05-22T20:09:17.256Z"
   },
   {
    "duration": 508,
    "start_time": "2022-05-22T20:09:18.752Z"
   },
   {
    "duration": 15,
    "start_time": "2022-05-22T20:09:19.261Z"
   },
   {
    "duration": 105,
    "start_time": "2022-05-22T20:09:19.278Z"
   },
   {
    "duration": 21,
    "start_time": "2022-05-22T20:09:19.385Z"
   },
   {
    "duration": 33,
    "start_time": "2022-05-22T20:09:19.407Z"
   },
   {
    "duration": 28,
    "start_time": "2022-05-22T20:09:19.442Z"
   },
   {
    "duration": 37,
    "start_time": "2022-05-22T20:09:19.471Z"
   },
   {
    "duration": 7,
    "start_time": "2022-05-22T20:09:19.510Z"
   },
   {
    "duration": 6,
    "start_time": "2022-05-22T20:09:19.519Z"
   },
   {
    "duration": 18,
    "start_time": "2022-05-22T20:09:19.528Z"
   },
   {
    "duration": 275,
    "start_time": "2022-05-22T20:09:19.548Z"
   },
   {
    "duration": 268,
    "start_time": "2022-05-22T20:09:19.825Z"
   },
   {
    "duration": 208,
    "start_time": "2022-05-22T20:09:20.095Z"
   },
   {
    "duration": 8,
    "start_time": "2022-05-22T20:09:20.305Z"
   },
   {
    "duration": 24,
    "start_time": "2022-05-22T20:09:20.315Z"
   },
   {
    "duration": 1280,
    "start_time": "2022-05-22T20:09:20.341Z"
   },
   {
    "duration": 25,
    "start_time": "2022-05-22T20:09:21.623Z"
   },
   {
    "duration": 10,
    "start_time": "2022-05-22T20:09:21.650Z"
   },
   {
    "duration": 585,
    "start_time": "2022-05-22T20:09:21.661Z"
   },
   {
    "duration": 3,
    "start_time": "2022-05-22T20:09:22.248Z"
   },
   {
    "duration": 14,
    "start_time": "2022-05-22T20:09:22.253Z"
   },
   {
    "duration": 23,
    "start_time": "2022-05-22T20:09:22.268Z"
   },
   {
    "duration": 24,
    "start_time": "2022-05-22T20:09:22.293Z"
   },
   {
    "duration": 16,
    "start_time": "2022-05-22T20:09:22.319Z"
   },
   {
    "duration": 18,
    "start_time": "2022-05-22T20:09:22.337Z"
   },
   {
    "duration": 5,
    "start_time": "2022-05-22T20:09:22.357Z"
   },
   {
    "duration": 48,
    "start_time": "2022-05-22T20:09:22.367Z"
   },
   {
    "duration": 20,
    "start_time": "2022-05-22T20:09:22.418Z"
   },
   {
    "duration": 18,
    "start_time": "2022-05-22T20:09:22.439Z"
   },
   {
    "duration": 10874,
    "start_time": "2022-05-22T20:09:22.459Z"
   },
   {
    "duration": 33,
    "start_time": "2022-05-22T20:09:33.336Z"
   },
   {
    "duration": 8,
    "start_time": "2022-05-22T20:09:33.371Z"
   },
   {
    "duration": 11,
    "start_time": "2022-05-22T20:09:33.381Z"
   },
   {
    "duration": 131,
    "start_time": "2022-05-22T20:09:33.394Z"
   },
   {
    "duration": 6,
    "start_time": "2022-05-22T20:09:33.528Z"
   },
   {
    "duration": 18,
    "start_time": "2022-05-22T20:09:33.536Z"
   },
   {
    "duration": 252,
    "start_time": "2022-05-22T20:09:33.556Z"
   },
   {
    "duration": 217,
    "start_time": "2022-05-22T20:09:33.810Z"
   },
   {
    "duration": 217,
    "start_time": "2022-05-22T20:09:34.028Z"
   },
   {
    "duration": 27,
    "start_time": "2022-05-22T20:09:34.246Z"
   },
   {
    "duration": 229,
    "start_time": "2022-05-22T20:09:34.275Z"
   },
   {
    "duration": 5,
    "start_time": "2022-05-22T20:09:34.507Z"
   },
   {
    "duration": 138,
    "start_time": "2022-05-22T20:09:34.514Z"
   },
   {
    "duration": 3,
    "start_time": "2022-05-22T20:09:34.654Z"
   },
   {
    "duration": 8,
    "start_time": "2022-05-22T20:09:34.658Z"
   },
   {
    "duration": 5,
    "start_time": "2022-05-22T20:09:34.668Z"
   },
   {
    "duration": 3,
    "start_time": "2022-05-22T20:09:34.703Z"
   },
   {
    "duration": 6,
    "start_time": "2022-05-22T20:09:34.707Z"
   },
   {
    "duration": 639,
    "start_time": "2022-05-22T20:17:44.252Z"
   },
   {
    "duration": 24,
    "start_time": "2022-05-22T20:18:22.299Z"
   },
   {
    "duration": 11,
    "start_time": "2022-05-22T20:18:54.327Z"
   },
   {
    "duration": 18,
    "start_time": "2022-05-22T20:20:37.242Z"
   },
   {
    "duration": 14,
    "start_time": "2022-05-22T20:21:08.362Z"
   },
   {
    "duration": 6,
    "start_time": "2022-05-22T20:22:11.560Z"
   },
   {
    "duration": 173,
    "start_time": "2022-05-22T20:22:11.568Z"
   },
   {
    "duration": 21,
    "start_time": "2022-05-22T20:22:11.743Z"
   },
   {
    "duration": 114,
    "start_time": "2022-05-22T20:22:11.766Z"
   },
   {
    "duration": 22,
    "start_time": "2022-05-22T20:22:11.882Z"
   },
   {
    "duration": 24,
    "start_time": "2022-05-22T20:22:11.906Z"
   },
   {
    "duration": 23,
    "start_time": "2022-05-22T20:22:11.932Z"
   },
   {
    "duration": 17,
    "start_time": "2022-05-22T20:22:11.956Z"
   },
   {
    "duration": 8,
    "start_time": "2022-05-22T20:22:12.001Z"
   },
   {
    "duration": 6,
    "start_time": "2022-05-22T20:22:12.010Z"
   },
   {
    "duration": 19,
    "start_time": "2022-05-22T20:22:12.017Z"
   },
   {
    "duration": 278,
    "start_time": "2022-05-22T20:22:12.038Z"
   },
   {
    "duration": 279,
    "start_time": "2022-05-22T20:22:12.318Z"
   },
   {
    "duration": 212,
    "start_time": "2022-05-22T20:22:12.603Z"
   },
   {
    "duration": 10,
    "start_time": "2022-05-22T20:22:12.817Z"
   },
   {
    "duration": 36,
    "start_time": "2022-05-22T20:22:12.829Z"
   },
   {
    "duration": 1155,
    "start_time": "2022-05-22T20:22:12.867Z"
   },
   {
    "duration": 28,
    "start_time": "2022-05-22T20:22:14.024Z"
   },
   {
    "duration": 13,
    "start_time": "2022-05-22T20:22:14.054Z"
   },
   {
    "duration": 700,
    "start_time": "2022-05-22T20:22:14.069Z"
   },
   {
    "duration": 35,
    "start_time": "2022-05-22T20:22:14.771Z"
   },
   {
    "duration": 0,
    "start_time": "2022-05-22T20:22:14.808Z"
   },
   {
    "duration": 0,
    "start_time": "2022-05-22T20:22:14.809Z"
   },
   {
    "duration": 0,
    "start_time": "2022-05-22T20:22:14.811Z"
   },
   {
    "duration": 0,
    "start_time": "2022-05-22T20:22:14.813Z"
   },
   {
    "duration": 0,
    "start_time": "2022-05-22T20:22:14.814Z"
   },
   {
    "duration": 0,
    "start_time": "2022-05-22T20:22:14.816Z"
   },
   {
    "duration": 0,
    "start_time": "2022-05-22T20:22:14.817Z"
   },
   {
    "duration": 0,
    "start_time": "2022-05-22T20:22:14.819Z"
   },
   {
    "duration": 0,
    "start_time": "2022-05-22T20:22:14.820Z"
   },
   {
    "duration": 0,
    "start_time": "2022-05-22T20:22:14.821Z"
   },
   {
    "duration": 0,
    "start_time": "2022-05-22T20:22:14.823Z"
   },
   {
    "duration": 0,
    "start_time": "2022-05-22T20:22:14.825Z"
   },
   {
    "duration": 0,
    "start_time": "2022-05-22T20:22:14.827Z"
   },
   {
    "duration": 0,
    "start_time": "2022-05-22T20:22:14.828Z"
   },
   {
    "duration": 0,
    "start_time": "2022-05-22T20:22:14.829Z"
   },
   {
    "duration": 0,
    "start_time": "2022-05-22T20:22:14.830Z"
   },
   {
    "duration": 0,
    "start_time": "2022-05-22T20:22:14.832Z"
   },
   {
    "duration": 0,
    "start_time": "2022-05-22T20:22:14.833Z"
   },
   {
    "duration": 0,
    "start_time": "2022-05-22T20:22:14.835Z"
   },
   {
    "duration": 0,
    "start_time": "2022-05-22T20:22:14.836Z"
   },
   {
    "duration": 0,
    "start_time": "2022-05-22T20:22:14.838Z"
   },
   {
    "duration": 0,
    "start_time": "2022-05-22T20:22:14.839Z"
   },
   {
    "duration": 0,
    "start_time": "2022-05-22T20:22:14.840Z"
   },
   {
    "duration": 0,
    "start_time": "2022-05-22T20:22:14.842Z"
   },
   {
    "duration": 0,
    "start_time": "2022-05-22T20:22:14.843Z"
   },
   {
    "duration": 0,
    "start_time": "2022-05-22T20:22:14.844Z"
   },
   {
    "duration": 0,
    "start_time": "2022-05-22T20:22:14.846Z"
   },
   {
    "duration": 188,
    "start_time": "2022-05-22T20:23:09.182Z"
   },
   {
    "duration": 6,
    "start_time": "2022-05-22T20:23:14.466Z"
   },
   {
    "duration": 149,
    "start_time": "2022-05-22T20:23:14.474Z"
   },
   {
    "duration": 18,
    "start_time": "2022-05-22T20:23:14.625Z"
   },
   {
    "duration": 113,
    "start_time": "2022-05-22T20:23:14.646Z"
   },
   {
    "duration": 10,
    "start_time": "2022-05-22T20:23:14.760Z"
   },
   {
    "duration": 46,
    "start_time": "2022-05-22T20:23:14.771Z"
   },
   {
    "duration": 22,
    "start_time": "2022-05-22T20:23:14.819Z"
   },
   {
    "duration": 21,
    "start_time": "2022-05-22T20:23:14.844Z"
   },
   {
    "duration": 9,
    "start_time": "2022-05-22T20:23:14.867Z"
   },
   {
    "duration": 4,
    "start_time": "2022-05-22T20:23:14.904Z"
   },
   {
    "duration": 20,
    "start_time": "2022-05-22T20:23:14.910Z"
   },
   {
    "duration": 223,
    "start_time": "2022-05-22T20:23:14.932Z"
   },
   {
    "duration": 257,
    "start_time": "2022-05-22T20:23:15.156Z"
   },
   {
    "duration": 214,
    "start_time": "2022-05-22T20:23:15.414Z"
   },
   {
    "duration": 8,
    "start_time": "2022-05-22T20:23:15.629Z"
   },
   {
    "duration": 30,
    "start_time": "2022-05-22T20:23:15.639Z"
   },
   {
    "duration": 908,
    "start_time": "2022-05-22T20:23:15.670Z"
   },
   {
    "duration": 38,
    "start_time": "2022-05-22T20:23:16.580Z"
   },
   {
    "duration": 12,
    "start_time": "2022-05-22T20:23:16.619Z"
   },
   {
    "duration": 642,
    "start_time": "2022-05-22T20:23:16.633Z"
   },
   {
    "duration": 4,
    "start_time": "2022-05-22T20:23:39.375Z"
   },
   {
    "duration": 19,
    "start_time": "2022-05-22T20:23:43.344Z"
   },
   {
    "duration": 16,
    "start_time": "2022-05-22T20:23:45.564Z"
   },
   {
    "duration": 10,
    "start_time": "2022-05-22T20:23:52.914Z"
   },
   {
    "duration": 5,
    "start_time": "2022-05-22T20:23:58.744Z"
   },
   {
    "duration": 125,
    "start_time": "2022-05-22T20:23:58.751Z"
   },
   {
    "duration": 25,
    "start_time": "2022-05-22T20:23:58.878Z"
   },
   {
    "duration": 70,
    "start_time": "2022-05-22T20:23:58.905Z"
   },
   {
    "duration": 32,
    "start_time": "2022-05-22T20:23:58.976Z"
   },
   {
    "duration": 33,
    "start_time": "2022-05-22T20:23:59.010Z"
   },
   {
    "duration": 32,
    "start_time": "2022-05-22T20:23:59.045Z"
   },
   {
    "duration": 36,
    "start_time": "2022-05-22T20:23:59.079Z"
   },
   {
    "duration": 7,
    "start_time": "2022-05-22T20:23:59.117Z"
   },
   {
    "duration": 6,
    "start_time": "2022-05-22T20:23:59.127Z"
   },
   {
    "duration": 24,
    "start_time": "2022-05-22T20:23:59.135Z"
   },
   {
    "duration": 232,
    "start_time": "2022-05-22T20:23:59.161Z"
   },
   {
    "duration": 240,
    "start_time": "2022-05-22T20:23:59.395Z"
   },
   {
    "duration": 213,
    "start_time": "2022-05-22T20:23:59.637Z"
   },
   {
    "duration": 8,
    "start_time": "2022-05-22T20:23:59.852Z"
   },
   {
    "duration": 23,
    "start_time": "2022-05-22T20:23:59.862Z"
   },
   {
    "duration": 990,
    "start_time": "2022-05-22T20:23:59.901Z"
   },
   {
    "duration": 31,
    "start_time": "2022-05-22T20:24:00.892Z"
   },
   {
    "duration": 14,
    "start_time": "2022-05-22T20:24:00.924Z"
   },
   {
    "duration": 815,
    "start_time": "2022-05-22T20:24:00.940Z"
   },
   {
    "duration": 196,
    "start_time": "2022-05-22T20:24:01.757Z"
   },
   {
    "duration": 50,
    "start_time": "2022-05-22T20:24:01.954Z"
   },
   {
    "duration": 27,
    "start_time": "2022-05-22T20:24:02.007Z"
   },
   {
    "duration": 23,
    "start_time": "2022-05-22T20:24:02.036Z"
   },
   {
    "duration": 19,
    "start_time": "2022-05-22T20:24:16.972Z"
   },
   {
    "duration": 11,
    "start_time": "2022-05-22T20:24:32.830Z"
   },
   {
    "duration": 14,
    "start_time": "2022-05-22T20:24:35.386Z"
   },
   {
    "duration": 4,
    "start_time": "2022-05-22T20:24:41.944Z"
   },
   {
    "duration": 32,
    "start_time": "2022-05-22T20:24:44.009Z"
   },
   {
    "duration": 15,
    "start_time": "2022-05-22T20:24:46.713Z"
   },
   {
    "duration": 15,
    "start_time": "2022-05-22T20:24:52.612Z"
   },
   {
    "duration": 16163,
    "start_time": "2022-05-22T20:24:58.486Z"
   },
   {
    "duration": 52,
    "start_time": "2022-05-22T20:25:14.651Z"
   },
   {
    "duration": 8,
    "start_time": "2022-05-22T20:25:14.705Z"
   },
   {
    "duration": 7,
    "start_time": "2022-05-22T20:25:31.565Z"
   },
   {
    "duration": 353,
    "start_time": "2022-05-22T20:25:33.458Z"
   },
   {
    "duration": 6,
    "start_time": "2022-05-22T20:25:38.590Z"
   },
   {
    "duration": 16,
    "start_time": "2022-05-22T20:25:44.023Z"
   },
   {
    "duration": 172,
    "start_time": "2022-05-22T20:25:50.026Z"
   },
   {
    "duration": 174,
    "start_time": "2022-05-22T20:25:56.995Z"
   },
   {
    "duration": 304,
    "start_time": "2022-05-22T20:26:01.118Z"
   },
   {
    "duration": 25,
    "start_time": "2022-05-22T20:26:04.946Z"
   },
   {
    "duration": 250,
    "start_time": "2022-05-22T20:26:09.175Z"
   },
   {
    "duration": 6,
    "start_time": "2022-05-22T20:26:13.810Z"
   },
   {
    "duration": 147,
    "start_time": "2022-05-22T20:26:18.466Z"
   },
   {
    "duration": 12,
    "start_time": "2022-05-22T20:26:25.083Z"
   },
   {
    "duration": 16,
    "start_time": "2022-05-22T20:29:46.459Z"
   },
   {
    "duration": 11,
    "start_time": "2022-05-22T20:30:27.236Z"
   },
   {
    "duration": 12,
    "start_time": "2022-05-22T20:30:56.372Z"
   },
   {
    "duration": 428,
    "start_time": "2022-05-22T20:33:56.474Z"
   },
   {
    "duration": 17,
    "start_time": "2022-05-22T21:23:55.624Z"
   },
   {
    "duration": 8,
    "start_time": "2022-05-22T21:27:01.971Z"
   },
   {
    "duration": 14,
    "start_time": "2022-05-22T21:27:15.624Z"
   },
   {
    "duration": 15,
    "start_time": "2022-05-22T21:30:22.908Z"
   },
   {
    "duration": 35,
    "start_time": "2022-05-22T21:30:32.762Z"
   },
   {
    "duration": 18,
    "start_time": "2022-05-22T21:30:58.267Z"
   },
   {
    "duration": 10,
    "start_time": "2022-05-22T21:33:51.272Z"
   },
   {
    "duration": 12,
    "start_time": "2022-05-22T21:33:55.860Z"
   },
   {
    "duration": 9,
    "start_time": "2022-05-22T21:34:06.905Z"
   },
   {
    "duration": 5,
    "start_time": "2022-05-22T21:34:52.834Z"
   },
   {
    "duration": 11,
    "start_time": "2022-05-22T21:35:03.150Z"
   },
   {
    "duration": 7,
    "start_time": "2022-05-22T21:37:10.655Z"
   },
   {
    "duration": 25,
    "start_time": "2022-05-22T21:37:15.092Z"
   },
   {
    "duration": 25,
    "start_time": "2022-05-22T21:38:11.427Z"
   },
   {
    "duration": 10,
    "start_time": "2022-05-22T21:38:55.320Z"
   },
   {
    "duration": 500,
    "start_time": "2022-05-22T21:39:07.701Z"
   },
   {
    "duration": 25,
    "start_time": "2022-05-22T21:46:07.606Z"
   },
   {
    "duration": 6,
    "start_time": "2022-05-22T21:46:10.387Z"
   },
   {
    "duration": 12,
    "start_time": "2022-05-22T21:46:11.198Z"
   },
   {
    "duration": 520,
    "start_time": "2022-05-22T21:46:12.571Z"
   },
   {
    "duration": 20,
    "start_time": "2022-05-22T21:47:35.334Z"
   },
   {
    "duration": 534,
    "start_time": "2022-05-22T21:47:41.120Z"
   },
   {
    "duration": 27,
    "start_time": "2022-05-22T21:52:22.601Z"
   },
   {
    "duration": 7,
    "start_time": "2022-05-22T21:52:41.447Z"
   },
   {
    "duration": 11,
    "start_time": "2022-05-22T21:53:51.606Z"
   },
   {
    "duration": 20,
    "start_time": "2022-05-22T21:53:55.910Z"
   },
   {
    "duration": 24,
    "start_time": "2022-05-22T21:54:29.003Z"
   },
   {
    "duration": 9,
    "start_time": "2022-05-22T21:54:32.935Z"
   },
   {
    "duration": 9,
    "start_time": "2022-05-22T21:54:34.381Z"
   },
   {
    "duration": 39,
    "start_time": "2022-05-22T21:54:36.463Z"
   },
   {
    "duration": 26,
    "start_time": "2022-05-22T21:55:30.175Z"
   },
   {
    "duration": 26,
    "start_time": "2022-05-22T21:57:24.450Z"
   },
   {
    "duration": 8,
    "start_time": "2022-05-22T21:57:26.894Z"
   },
   {
    "duration": 19,
    "start_time": "2022-05-22T21:57:32.693Z"
   },
   {
    "duration": 7,
    "start_time": "2022-05-22T21:57:59.343Z"
   },
   {
    "duration": 32,
    "start_time": "2022-05-22T21:58:04.106Z"
   },
   {
    "duration": 30,
    "start_time": "2022-05-22T22:01:19.701Z"
   },
   {
    "duration": 8,
    "start_time": "2022-05-22T22:01:21.658Z"
   },
   {
    "duration": 10,
    "start_time": "2022-05-22T22:01:23.246Z"
   },
   {
    "duration": 34,
    "start_time": "2022-05-22T22:01:24.627Z"
   },
   {
    "duration": 24,
    "start_time": "2022-05-22T22:03:14.745Z"
   },
   {
    "duration": 31,
    "start_time": "2022-05-22T22:04:10.774Z"
   },
   {
    "duration": 30,
    "start_time": "2022-05-22T22:07:05.834Z"
   },
   {
    "duration": 26,
    "start_time": "2022-05-22T22:08:45.223Z"
   },
   {
    "duration": 42,
    "start_time": "2022-05-22T22:08:56.160Z"
   },
   {
    "duration": 7,
    "start_time": "2022-05-22T22:08:59.910Z"
   },
   {
    "duration": 408,
    "start_time": "2022-05-22T22:09:05.014Z"
   },
   {
    "duration": 35,
    "start_time": "2022-05-22T22:10:06.466Z"
   },
   {
    "duration": 43,
    "start_time": "2022-05-22T22:10:17.074Z"
   },
   {
    "duration": 42,
    "start_time": "2022-05-22T22:10:28.153Z"
   },
   {
    "duration": 48,
    "start_time": "2022-05-22T22:11:35.670Z"
   },
   {
    "duration": 38,
    "start_time": "2022-05-22T22:13:02.699Z"
   },
   {
    "duration": 31,
    "start_time": "2022-05-22T22:13:31.452Z"
   },
   {
    "duration": 553,
    "start_time": "2022-05-22T22:13:37.162Z"
   },
   {
    "duration": 9,
    "start_time": "2022-05-22T22:15:39.772Z"
   },
   {
    "duration": 1076,
    "start_time": "2022-05-22T22:15:45.288Z"
   },
   {
    "duration": 9,
    "start_time": "2022-05-22T22:16:47.828Z"
   },
   {
    "duration": 1019,
    "start_time": "2022-05-22T22:16:49.428Z"
   },
   {
    "duration": 9,
    "start_time": "2022-05-22T22:17:34.487Z"
   },
   {
    "duration": 1227,
    "start_time": "2022-05-22T22:17:40.282Z"
   },
   {
    "duration": 15,
    "start_time": "2022-05-22T22:18:17.546Z"
   },
   {
    "duration": 27,
    "start_time": "2022-05-22T22:26:57.044Z"
   },
   {
    "duration": 22,
    "start_time": "2022-05-22T22:27:52.336Z"
   },
   {
    "duration": 21,
    "start_time": "2022-05-22T22:29:43.381Z"
   },
   {
    "duration": 13,
    "start_time": "2022-05-22T22:32:44.859Z"
   },
   {
    "duration": 23,
    "start_time": "2022-05-22T22:33:35.098Z"
   },
   {
    "duration": 17,
    "start_time": "2022-05-22T22:33:52.527Z"
   },
   {
    "duration": 20,
    "start_time": "2022-05-22T22:35:31.058Z"
   },
   {
    "duration": 31,
    "start_time": "2022-05-22T22:36:11.829Z"
   },
   {
    "duration": 4,
    "start_time": "2022-05-22T22:36:57.149Z"
   },
   {
    "duration": 24,
    "start_time": "2022-05-22T22:37:11.410Z"
   },
   {
    "duration": 37,
    "start_time": "2022-05-22T22:37:42.880Z"
   },
   {
    "duration": 29,
    "start_time": "2022-05-22T22:43:33.432Z"
   },
   {
    "duration": 20,
    "start_time": "2022-05-22T22:46:26.245Z"
   },
   {
    "duration": 26,
    "start_time": "2022-05-22T22:47:05.852Z"
   },
   {
    "duration": 9,
    "start_time": "2022-05-22T22:47:17.877Z"
   },
   {
    "duration": 4,
    "start_time": "2022-05-22T22:47:59.092Z"
   },
   {
    "duration": 13,
    "start_time": "2022-05-22T22:48:06.721Z"
   },
   {
    "duration": 4,
    "start_time": "2022-05-22T22:48:54.862Z"
   },
   {
    "duration": 12,
    "start_time": "2022-05-22T22:49:07.438Z"
   },
   {
    "duration": 5,
    "start_time": "2022-05-22T22:49:34.644Z"
   },
   {
    "duration": 7,
    "start_time": "2022-05-22T22:49:43.524Z"
   },
   {
    "duration": 4,
    "start_time": "2022-05-22T23:12:21.401Z"
   },
   {
    "duration": 6,
    "start_time": "2022-05-22T23:13:31.391Z"
   },
   {
    "duration": 13,
    "start_time": "2022-05-22T23:13:38.892Z"
   },
   {
    "duration": 9,
    "start_time": "2022-05-22T23:14:22.071Z"
   },
   {
    "duration": 2,
    "start_time": "2022-05-22T23:16:31.346Z"
   },
   {
    "duration": 4,
    "start_time": "2022-05-22T23:17:18.807Z"
   },
   {
    "duration": 15,
    "start_time": "2022-05-22T23:17:52.647Z"
   },
   {
    "duration": 8,
    "start_time": "2022-05-22T23:18:14.805Z"
   },
   {
    "duration": 18,
    "start_time": "2022-05-22T23:18:37.398Z"
   },
   {
    "duration": 15,
    "start_time": "2022-05-22T23:19:27.398Z"
   },
   {
    "duration": 17,
    "start_time": "2022-05-22T23:21:47.578Z"
   },
   {
    "duration": 17,
    "start_time": "2022-05-22T23:22:18.956Z"
   },
   {
    "duration": 18,
    "start_time": "2022-05-22T23:22:51.754Z"
   },
   {
    "duration": 27,
    "start_time": "2022-05-22T23:23:26.950Z"
   },
   {
    "duration": 17,
    "start_time": "2022-05-22T23:23:32.317Z"
   },
   {
    "duration": 16,
    "start_time": "2022-05-22T23:27:28.778Z"
   },
   {
    "duration": 10,
    "start_time": "2022-05-22T23:29:46.003Z"
   },
   {
    "duration": 11,
    "start_time": "2022-05-22T23:29:53.850Z"
   },
   {
    "duration": 12,
    "start_time": "2022-05-22T23:30:21.457Z"
   },
   {
    "duration": 2,
    "start_time": "2022-05-22T23:32:22.328Z"
   },
   {
    "duration": 10,
    "start_time": "2022-05-22T23:34:15.339Z"
   },
   {
    "duration": 10,
    "start_time": "2022-05-22T23:34:42.035Z"
   },
   {
    "duration": 2,
    "start_time": "2022-05-22T23:35:04.585Z"
   },
   {
    "duration": 3,
    "start_time": "2022-05-22T23:35:06.625Z"
   },
   {
    "duration": 4,
    "start_time": "2022-05-22T23:36:56.964Z"
   },
   {
    "duration": 1445,
    "start_time": "2022-05-23T11:39:24.656Z"
   },
   {
    "duration": 504,
    "start_time": "2022-05-23T11:39:26.102Z"
   },
   {
    "duration": 13,
    "start_time": "2022-05-23T11:39:26.607Z"
   },
   {
    "duration": 87,
    "start_time": "2022-05-23T11:39:26.621Z"
   },
   {
    "duration": 10,
    "start_time": "2022-05-23T11:39:26.710Z"
   },
   {
    "duration": 49,
    "start_time": "2022-05-23T11:39:26.722Z"
   },
   {
    "duration": 34,
    "start_time": "2022-05-23T11:39:26.773Z"
   },
   {
    "duration": 39,
    "start_time": "2022-05-23T11:39:26.808Z"
   },
   {
    "duration": 34,
    "start_time": "2022-05-23T11:39:26.849Z"
   },
   {
    "duration": 34,
    "start_time": "2022-05-23T11:39:26.885Z"
   },
   {
    "duration": 34,
    "start_time": "2022-05-23T11:39:26.920Z"
   },
   {
    "duration": 217,
    "start_time": "2022-05-23T11:39:26.955Z"
   },
   {
    "duration": 243,
    "start_time": "2022-05-23T11:39:27.174Z"
   },
   {
    "duration": 183,
    "start_time": "2022-05-23T11:39:27.419Z"
   },
   {
    "duration": 7,
    "start_time": "2022-05-23T11:39:27.604Z"
   },
   {
    "duration": 34,
    "start_time": "2022-05-23T11:39:27.612Z"
   },
   {
    "duration": 1050,
    "start_time": "2022-05-23T11:39:27.647Z"
   },
   {
    "duration": 24,
    "start_time": "2022-05-23T11:39:28.698Z"
   },
   {
    "duration": 25,
    "start_time": "2022-05-23T11:39:28.724Z"
   },
   {
    "duration": 534,
    "start_time": "2022-05-23T11:39:28.750Z"
   },
   {
    "duration": 262,
    "start_time": "2022-05-23T11:39:29.286Z"
   },
   {
    "duration": 45,
    "start_time": "2022-05-23T11:39:29.550Z"
   },
   {
    "duration": 44,
    "start_time": "2022-05-23T11:39:29.596Z"
   },
   {
    "duration": 29,
    "start_time": "2022-05-23T11:39:29.642Z"
   },
   {
    "duration": 27,
    "start_time": "2022-05-23T11:39:29.672Z"
   },
   {
    "duration": 33,
    "start_time": "2022-05-23T11:39:29.700Z"
   },
   {
    "duration": 41,
    "start_time": "2022-05-23T11:39:29.735Z"
   },
   {
    "duration": 3,
    "start_time": "2022-05-23T11:39:29.781Z"
   },
   {
    "duration": 56,
    "start_time": "2022-05-23T11:39:29.786Z"
   },
   {
    "duration": 22,
    "start_time": "2022-05-23T11:39:29.844Z"
   },
   {
    "duration": 24,
    "start_time": "2022-05-23T11:39:29.868Z"
   },
   {
    "duration": 14015,
    "start_time": "2022-05-23T11:39:29.893Z"
   },
   {
    "duration": 20,
    "start_time": "2022-05-23T11:39:43.910Z"
   },
   {
    "duration": 14,
    "start_time": "2022-05-23T11:39:43.932Z"
   },
   {
    "duration": 26,
    "start_time": "2022-05-23T11:39:43.947Z"
   },
   {
    "duration": 330,
    "start_time": "2022-05-23T11:39:43.974Z"
   },
   {
    "duration": 5,
    "start_time": "2022-05-23T11:39:44.305Z"
   },
   {
    "duration": 36,
    "start_time": "2022-05-23T11:39:44.311Z"
   },
   {
    "duration": 155,
    "start_time": "2022-05-23T11:39:44.348Z"
   },
   {
    "duration": 164,
    "start_time": "2022-05-23T11:39:44.504Z"
   },
   {
    "duration": 168,
    "start_time": "2022-05-23T11:39:44.669Z"
   },
   {
    "duration": 31,
    "start_time": "2022-05-23T11:39:44.838Z"
   },
   {
    "duration": 187,
    "start_time": "2022-05-23T11:39:44.872Z"
   },
   {
    "duration": 4,
    "start_time": "2022-05-23T11:39:45.060Z"
   },
   {
    "duration": 116,
    "start_time": "2022-05-23T11:39:45.066Z"
   },
   {
    "duration": 2,
    "start_time": "2022-05-23T11:39:45.184Z"
   },
   {
    "duration": 26,
    "start_time": "2022-05-23T11:39:45.187Z"
   },
   {
    "duration": 49,
    "start_time": "2022-05-23T11:39:45.215Z"
   },
   {
    "duration": 6,
    "start_time": "2022-05-23T11:39:45.265Z"
   },
   {
    "duration": 23,
    "start_time": "2022-05-23T11:39:45.272Z"
   },
   {
    "duration": 1074,
    "start_time": "2022-05-23T11:39:45.296Z"
   },
   {
    "duration": 4,
    "start_time": "2022-05-23T11:39:46.371Z"
   },
   {
    "duration": 31,
    "start_time": "2022-05-23T11:39:46.377Z"
   },
   {
    "duration": 18,
    "start_time": "2022-05-23T11:39:46.409Z"
   },
   {
    "duration": 38,
    "start_time": "2022-05-23T11:39:46.428Z"
   },
   {
    "duration": 5,
    "start_time": "2022-05-23T11:39:46.468Z"
   },
   {
    "duration": 20,
    "start_time": "2022-05-23T11:39:46.475Z"
   },
   {
    "duration": 9,
    "start_time": "2022-05-23T11:39:46.497Z"
   },
   {
    "duration": 20,
    "start_time": "2022-05-23T11:39:46.508Z"
   },
   {
    "duration": 12,
    "start_time": "2022-05-23T11:39:46.530Z"
   },
   {
    "duration": 16,
    "start_time": "2022-05-23T11:39:46.543Z"
   },
   {
    "duration": 8,
    "start_time": "2022-05-23T12:12:37.338Z"
   },
   {
    "duration": 26,
    "start_time": "2022-05-23T12:18:26.988Z"
   },
   {
    "duration": 26,
    "start_time": "2022-05-23T12:25:32.612Z"
   },
   {
    "duration": 3,
    "start_time": "2022-05-23T12:56:02.870Z"
   },
   {
    "duration": 166,
    "start_time": "2022-05-23T12:56:02.877Z"
   },
   {
    "duration": 25,
    "start_time": "2022-05-23T12:56:03.045Z"
   },
   {
    "duration": 68,
    "start_time": "2022-05-23T12:56:03.072Z"
   },
   {
    "duration": 10,
    "start_time": "2022-05-23T12:56:03.158Z"
   },
   {
    "duration": 21,
    "start_time": "2022-05-23T12:56:03.171Z"
   },
   {
    "duration": 60,
    "start_time": "2022-05-23T12:56:03.194Z"
   },
   {
    "duration": 28,
    "start_time": "2022-05-23T12:56:03.256Z"
   },
   {
    "duration": 28,
    "start_time": "2022-05-23T12:56:03.286Z"
   },
   {
    "duration": 20,
    "start_time": "2022-05-23T12:56:03.316Z"
   },
   {
    "duration": 41,
    "start_time": "2022-05-23T12:56:03.337Z"
   },
   {
    "duration": 192,
    "start_time": "2022-05-23T12:56:03.380Z"
   },
   {
    "duration": 488,
    "start_time": "2022-05-23T12:56:03.574Z"
   },
   {
    "duration": 196,
    "start_time": "2022-05-23T12:56:04.063Z"
   },
   {
    "duration": 8,
    "start_time": "2022-05-23T12:56:04.263Z"
   },
   {
    "duration": 40,
    "start_time": "2022-05-23T12:56:04.273Z"
   },
   {
    "duration": 885,
    "start_time": "2022-05-23T12:56:04.315Z"
   },
   {
    "duration": 25,
    "start_time": "2022-05-23T12:56:05.202Z"
   },
   {
    "duration": 10,
    "start_time": "2022-05-23T12:56:05.229Z"
   },
   {
    "duration": 659,
    "start_time": "2022-05-23T12:56:05.260Z"
   },
   {
    "duration": 166,
    "start_time": "2022-05-23T12:56:05.920Z"
   },
   {
    "duration": 42,
    "start_time": "2022-05-23T12:56:06.087Z"
   },
   {
    "duration": 47,
    "start_time": "2022-05-23T12:56:06.131Z"
   },
   {
    "duration": 24,
    "start_time": "2022-05-23T12:56:06.180Z"
   },
   {
    "duration": 11,
    "start_time": "2022-05-23T12:56:06.206Z"
   },
   {
    "duration": 17,
    "start_time": "2022-05-23T12:56:06.219Z"
   },
   {
    "duration": 19,
    "start_time": "2022-05-23T12:56:06.259Z"
   },
   {
    "duration": 8,
    "start_time": "2022-05-23T12:56:06.280Z"
   },
   {
    "duration": 47,
    "start_time": "2022-05-23T12:56:06.290Z"
   },
   {
    "duration": 14,
    "start_time": "2022-05-23T12:56:06.338Z"
   },
   {
    "duration": 21,
    "start_time": "2022-05-23T12:56:06.353Z"
   },
   {
    "duration": 17685,
    "start_time": "2022-05-23T12:56:06.376Z"
   },
   {
    "duration": 22,
    "start_time": "2022-05-23T12:56:24.062Z"
   },
   {
    "duration": 20,
    "start_time": "2022-05-23T12:56:24.086Z"
   },
   {
    "duration": 34,
    "start_time": "2022-05-23T12:56:24.108Z"
   },
   {
    "duration": 360,
    "start_time": "2022-05-23T12:56:24.143Z"
   },
   {
    "duration": 5,
    "start_time": "2022-05-23T12:56:24.504Z"
   },
   {
    "duration": 40,
    "start_time": "2022-05-23T12:56:24.511Z"
   },
   {
    "duration": 184,
    "start_time": "2022-05-23T12:56:24.552Z"
   },
   {
    "duration": 164,
    "start_time": "2022-05-23T12:56:24.738Z"
   },
   {
    "duration": 168,
    "start_time": "2022-05-23T12:56:24.904Z"
   },
   {
    "duration": 21,
    "start_time": "2022-05-23T12:56:25.076Z"
   },
   {
    "duration": 198,
    "start_time": "2022-05-23T12:56:25.099Z"
   },
   {
    "duration": 5,
    "start_time": "2022-05-23T12:56:25.299Z"
   },
   {
    "duration": 118,
    "start_time": "2022-05-23T12:56:25.305Z"
   },
   {
    "duration": 3,
    "start_time": "2022-05-23T12:56:25.424Z"
   },
   {
    "duration": 60,
    "start_time": "2022-05-23T12:56:25.428Z"
   },
   {
    "duration": 48,
    "start_time": "2022-05-23T12:56:25.490Z"
   },
   {
    "duration": 6,
    "start_time": "2022-05-23T12:56:25.539Z"
   },
   {
    "duration": 14,
    "start_time": "2022-05-23T12:56:25.547Z"
   },
   {
    "duration": 962,
    "start_time": "2022-05-23T12:56:25.562Z"
   },
   {
    "duration": 4,
    "start_time": "2022-05-23T12:56:26.526Z"
   },
   {
    "duration": 30,
    "start_time": "2022-05-23T12:56:26.531Z"
   },
   {
    "duration": 20,
    "start_time": "2022-05-23T12:56:26.563Z"
   },
   {
    "duration": 26,
    "start_time": "2022-05-23T12:56:26.585Z"
   },
   {
    "duration": 5,
    "start_time": "2022-05-23T12:56:26.613Z"
   },
   {
    "duration": 48,
    "start_time": "2022-05-23T12:56:26.619Z"
   },
   {
    "duration": 9,
    "start_time": "2022-05-23T12:56:26.669Z"
   },
   {
    "duration": 16,
    "start_time": "2022-05-23T12:56:26.679Z"
   },
   {
    "duration": 4,
    "start_time": "2022-05-23T12:56:26.696Z"
   },
   {
    "duration": 7,
    "start_time": "2022-05-23T12:56:26.701Z"
   },
   {
    "duration": 77383,
    "start_time": "2022-05-23T13:02:46.161Z"
   },
   {
    "duration": 131963,
    "start_time": "2022-05-23T13:06:14.297Z"
   },
   {
    "duration": 108800,
    "start_time": "2022-05-23T13:10:52.179Z"
   },
   {
    "duration": 22,
    "start_time": "2022-05-23T13:15:14.643Z"
   },
   {
    "duration": 378,
    "start_time": "2022-05-23T13:19:42.511Z"
   },
   {
    "duration": 6,
    "start_time": "2022-05-23T13:19:55.969Z"
   },
   {
    "duration": 23,
    "start_time": "2022-05-23T13:20:21.909Z"
   },
   {
    "duration": 3,
    "start_time": "2022-05-23T13:47:07.236Z"
   },
   {
    "duration": 125,
    "start_time": "2022-05-23T13:47:07.242Z"
   },
   {
    "duration": 13,
    "start_time": "2022-05-23T13:47:07.369Z"
   },
   {
    "duration": 93,
    "start_time": "2022-05-23T13:47:07.384Z"
   },
   {
    "duration": 10,
    "start_time": "2022-05-23T13:47:07.479Z"
   },
   {
    "duration": 35,
    "start_time": "2022-05-23T13:47:07.491Z"
   },
   {
    "duration": 31,
    "start_time": "2022-05-23T13:47:07.529Z"
   },
   {
    "duration": 20,
    "start_time": "2022-05-23T13:47:07.562Z"
   },
   {
    "duration": 8,
    "start_time": "2022-05-23T13:47:07.583Z"
   },
   {
    "duration": 6,
    "start_time": "2022-05-23T13:47:07.594Z"
   },
   {
    "duration": 22,
    "start_time": "2022-05-23T13:47:07.602Z"
   },
   {
    "duration": 227,
    "start_time": "2022-05-23T13:47:07.625Z"
   },
   {
    "duration": 311,
    "start_time": "2022-05-23T13:47:07.854Z"
   },
   {
    "duration": 199,
    "start_time": "2022-05-23T13:47:08.166Z"
   },
   {
    "duration": 8,
    "start_time": "2022-05-23T13:47:08.366Z"
   },
   {
    "duration": 32,
    "start_time": "2022-05-23T13:47:08.376Z"
   },
   {
    "duration": 856,
    "start_time": "2022-05-23T13:47:08.410Z"
   },
   {
    "duration": 33,
    "start_time": "2022-05-23T13:47:09.269Z"
   },
   {
    "duration": 10,
    "start_time": "2022-05-23T13:47:09.303Z"
   },
   {
    "duration": 583,
    "start_time": "2022-05-23T13:47:09.314Z"
   },
   {
    "duration": 177,
    "start_time": "2022-05-23T13:47:09.898Z"
   },
   {
    "duration": 42,
    "start_time": "2022-05-23T13:47:10.077Z"
   },
   {
    "duration": 61,
    "start_time": "2022-05-23T13:47:10.120Z"
   },
   {
    "duration": 36,
    "start_time": "2022-05-23T13:47:10.182Z"
   },
   {
    "duration": 34,
    "start_time": "2022-05-23T13:47:10.220Z"
   },
   {
    "duration": 37,
    "start_time": "2022-05-23T13:47:10.256Z"
   },
   {
    "duration": 32,
    "start_time": "2022-05-23T13:47:10.294Z"
   },
   {
    "duration": 29,
    "start_time": "2022-05-23T13:47:10.331Z"
   },
   {
    "duration": 49,
    "start_time": "2022-05-23T13:47:10.362Z"
   },
   {
    "duration": 15,
    "start_time": "2022-05-23T13:47:10.412Z"
   },
   {
    "duration": 13,
    "start_time": "2022-05-23T13:47:10.429Z"
   },
   {
    "duration": 18016,
    "start_time": "2022-05-23T13:47:10.443Z"
   },
   {
    "duration": 107972,
    "start_time": "2022-05-23T13:47:28.461Z"
   },
   {
    "duration": 38,
    "start_time": "2022-05-23T13:49:16.436Z"
   },
   {
    "duration": 374,
    "start_time": "2022-05-23T13:49:16.475Z"
   },
   {
    "duration": 10,
    "start_time": "2022-05-23T13:49:16.850Z"
   },
   {
    "duration": 17,
    "start_time": "2022-05-23T13:49:16.862Z"
   },
   {
    "duration": 169,
    "start_time": "2022-05-23T13:49:16.880Z"
   },
   {
    "duration": 176,
    "start_time": "2022-05-23T13:49:17.051Z"
   },
   {
    "duration": 170,
    "start_time": "2022-05-23T13:49:17.228Z"
   },
   {
    "duration": 25,
    "start_time": "2022-05-23T13:49:17.400Z"
   },
   {
    "duration": 197,
    "start_time": "2022-05-23T13:49:17.426Z"
   },
   {
    "duration": 4,
    "start_time": "2022-05-23T13:49:17.625Z"
   },
   {
    "duration": 148,
    "start_time": "2022-05-23T13:49:17.630Z"
   },
   {
    "duration": 3,
    "start_time": "2022-05-23T13:49:17.781Z"
   },
   {
    "duration": 36,
    "start_time": "2022-05-23T13:49:17.785Z"
   },
   {
    "duration": 48,
    "start_time": "2022-05-23T13:49:17.823Z"
   },
   {
    "duration": 7,
    "start_time": "2022-05-23T13:49:17.874Z"
   },
   {
    "duration": 16,
    "start_time": "2022-05-23T13:49:17.884Z"
   },
   {
    "duration": 1007,
    "start_time": "2022-05-23T13:49:17.903Z"
   },
   {
    "duration": 4,
    "start_time": "2022-05-23T13:49:18.912Z"
   },
   {
    "duration": 23,
    "start_time": "2022-05-23T13:49:18.917Z"
   },
   {
    "duration": 30,
    "start_time": "2022-05-23T13:49:18.941Z"
   },
   {
    "duration": 26,
    "start_time": "2022-05-23T13:49:18.972Z"
   },
   {
    "duration": 6,
    "start_time": "2022-05-23T13:49:19.000Z"
   },
   {
    "duration": 24,
    "start_time": "2022-05-23T13:49:19.008Z"
   },
   {
    "duration": 33,
    "start_time": "2022-05-23T13:49:19.033Z"
   },
   {
    "duration": 10,
    "start_time": "2022-05-23T13:49:19.068Z"
   },
   {
    "duration": 4,
    "start_time": "2022-05-23T13:49:19.080Z"
   },
   {
    "duration": 10,
    "start_time": "2022-05-23T13:49:19.085Z"
   },
   {
    "duration": 23,
    "start_time": "2022-05-23T13:57:48.483Z"
   },
   {
    "duration": 25,
    "start_time": "2022-05-23T13:59:44.798Z"
   },
   {
    "duration": 24,
    "start_time": "2022-05-23T14:00:09.949Z"
   },
   {
    "duration": 24,
    "start_time": "2022-05-23T14:00:22.202Z"
   },
   {
    "duration": 6,
    "start_time": "2022-05-23T14:24:51.037Z"
   },
   {
    "duration": 7,
    "start_time": "2022-05-23T14:27:49.245Z"
   },
   {
    "duration": 719,
    "start_time": "2022-05-23T14:27:50.777Z"
   },
   {
    "duration": 120,
    "start_time": "2022-05-23T14:32:49.967Z"
   },
   {
    "duration": 37339,
    "start_time": "2022-05-23T14:33:43.378Z"
   },
   {
    "duration": 3,
    "start_time": "2022-05-23T14:38:56.086Z"
   },
   {
    "duration": 3,
    "start_time": "2022-05-23T14:39:07.411Z"
   },
   {
    "duration": 4,
    "start_time": "2022-05-23T14:48:43.754Z"
   },
   {
    "duration": 10,
    "start_time": "2022-05-23T14:48:59.319Z"
   },
   {
    "duration": 341,
    "start_time": "2022-05-23T14:51:03.993Z"
   },
   {
    "duration": 4,
    "start_time": "2022-05-23T14:51:51.656Z"
   },
   {
    "duration": 13,
    "start_time": "2022-05-23T14:52:02.057Z"
   },
   {
    "duration": 441,
    "start_time": "2022-05-23T14:52:10.747Z"
   },
   {
    "duration": 252,
    "start_time": "2022-05-23T14:54:42.755Z"
   },
   {
    "duration": 279,
    "start_time": "2022-05-23T14:59:13.086Z"
   },
   {
    "duration": 10,
    "start_time": "2022-05-23T15:00:49.740Z"
   },
   {
    "duration": 570,
    "start_time": "2022-05-23T15:02:12.407Z"
   },
   {
    "duration": 449,
    "start_time": "2022-05-23T15:02:31.950Z"
   },
   {
    "duration": 101,
    "start_time": "2022-05-23T15:03:00.875Z"
   },
   {
    "duration": 62,
    "start_time": "2022-05-23T19:13:49.016Z"
   },
   {
    "duration": 33,
    "start_time": "2022-05-23T19:13:59.657Z"
   },
   {
    "duration": 29,
    "start_time": "2022-05-23T19:14:10.378Z"
   },
   {
    "duration": 88,
    "start_time": "2022-05-23T19:14:16.903Z"
   },
   {
    "duration": 4,
    "start_time": "2022-05-23T19:55:41.286Z"
   },
   {
    "duration": 127,
    "start_time": "2022-05-23T19:55:41.292Z"
   },
   {
    "duration": 33,
    "start_time": "2022-05-23T19:55:41.420Z"
   },
   {
    "duration": 97,
    "start_time": "2022-05-23T19:55:41.455Z"
   },
   {
    "duration": 9,
    "start_time": "2022-05-23T19:55:41.554Z"
   },
   {
    "duration": 24,
    "start_time": "2022-05-23T19:55:41.565Z"
   },
   {
    "duration": 23,
    "start_time": "2022-05-23T19:55:41.591Z"
   },
   {
    "duration": 17,
    "start_time": "2022-05-23T19:55:41.641Z"
   },
   {
    "duration": 8,
    "start_time": "2022-05-23T19:55:41.660Z"
   },
   {
    "duration": 4,
    "start_time": "2022-05-23T19:55:41.669Z"
   },
   {
    "duration": 20,
    "start_time": "2022-05-23T19:55:41.675Z"
   },
   {
    "duration": 229,
    "start_time": "2022-05-23T19:55:41.697Z"
   },
   {
    "duration": 243,
    "start_time": "2022-05-23T19:55:41.928Z"
   },
   {
    "duration": 203,
    "start_time": "2022-05-23T19:55:42.173Z"
   },
   {
    "duration": 8,
    "start_time": "2022-05-23T19:55:42.378Z"
   },
   {
    "duration": 23,
    "start_time": "2022-05-23T19:55:42.388Z"
   },
   {
    "duration": 919,
    "start_time": "2022-05-23T19:55:42.413Z"
   },
   {
    "duration": 33,
    "start_time": "2022-05-23T19:55:43.334Z"
   },
   {
    "duration": 11,
    "start_time": "2022-05-23T19:55:43.368Z"
   },
   {
    "duration": 572,
    "start_time": "2022-05-23T19:55:43.381Z"
   },
   {
    "duration": 192,
    "start_time": "2022-05-23T19:55:43.954Z"
   },
   {
    "duration": 43,
    "start_time": "2022-05-23T19:55:44.148Z"
   },
   {
    "duration": 24,
    "start_time": "2022-05-23T19:55:44.192Z"
   },
   {
    "duration": 29,
    "start_time": "2022-05-23T19:55:44.220Z"
   },
   {
    "duration": 11,
    "start_time": "2022-05-23T19:55:44.251Z"
   },
   {
    "duration": 14,
    "start_time": "2022-05-23T19:55:44.264Z"
   },
   {
    "duration": 14,
    "start_time": "2022-05-23T19:55:44.279Z"
   },
   {
    "duration": 4,
    "start_time": "2022-05-23T19:55:44.294Z"
   },
   {
    "duration": 59,
    "start_time": "2022-05-23T19:55:44.300Z"
   },
   {
    "duration": 16,
    "start_time": "2022-05-23T19:55:44.361Z"
   },
   {
    "duration": 23,
    "start_time": "2022-05-23T19:55:44.379Z"
   },
   {
    "duration": 20690,
    "start_time": "2022-05-23T19:55:44.404Z"
   },
   {
    "duration": 51,
    "start_time": "2022-05-23T19:56:05.096Z"
   },
   {
    "duration": 366,
    "start_time": "2022-05-23T19:56:05.149Z"
   },
   {
    "duration": 6,
    "start_time": "2022-05-23T19:56:05.517Z"
   },
   {
    "duration": 26,
    "start_time": "2022-05-23T19:56:05.525Z"
   },
   {
    "duration": 188,
    "start_time": "2022-05-23T19:56:05.553Z"
   },
   {
    "duration": 173,
    "start_time": "2022-05-23T19:56:05.743Z"
   },
   {
    "duration": 10,
    "start_time": "2022-05-23T19:56:05.918Z"
   },
   {
    "duration": 0,
    "start_time": "2022-05-23T19:56:05.930Z"
   },
   {
    "duration": 0,
    "start_time": "2022-05-23T19:56:05.941Z"
   },
   {
    "duration": 0,
    "start_time": "2022-05-23T19:56:05.942Z"
   },
   {
    "duration": 0,
    "start_time": "2022-05-23T19:56:05.943Z"
   },
   {
    "duration": 0,
    "start_time": "2022-05-23T19:56:05.944Z"
   },
   {
    "duration": 0,
    "start_time": "2022-05-23T19:56:05.945Z"
   },
   {
    "duration": 0,
    "start_time": "2022-05-23T19:56:05.947Z"
   },
   {
    "duration": 0,
    "start_time": "2022-05-23T19:56:05.947Z"
   },
   {
    "duration": 0,
    "start_time": "2022-05-23T19:56:05.948Z"
   },
   {
    "duration": 0,
    "start_time": "2022-05-23T19:56:05.949Z"
   },
   {
    "duration": 0,
    "start_time": "2022-05-23T19:56:05.950Z"
   },
   {
    "duration": 0,
    "start_time": "2022-05-23T19:56:05.952Z"
   },
   {
    "duration": 0,
    "start_time": "2022-05-23T19:56:05.952Z"
   },
   {
    "duration": 0,
    "start_time": "2022-05-23T19:56:05.954Z"
   },
   {
    "duration": 0,
    "start_time": "2022-05-23T19:56:05.955Z"
   },
   {
    "duration": 0,
    "start_time": "2022-05-23T19:56:05.955Z"
   },
   {
    "duration": 0,
    "start_time": "2022-05-23T19:56:05.956Z"
   },
   {
    "duration": 0,
    "start_time": "2022-05-23T19:56:05.958Z"
   },
   {
    "duration": 0,
    "start_time": "2022-05-23T19:56:05.959Z"
   },
   {
    "duration": 0,
    "start_time": "2022-05-23T19:56:05.960Z"
   },
   {
    "duration": 26,
    "start_time": "2022-05-23T19:58:19.149Z"
   },
   {
    "duration": 172,
    "start_time": "2022-05-23T20:00:20.758Z"
   },
   {
    "duration": 36,
    "start_time": "2022-05-23T20:00:40.980Z"
   },
   {
    "duration": 4,
    "start_time": "2022-05-23T20:01:58.219Z"
   },
   {
    "duration": 153,
    "start_time": "2022-05-23T20:01:58.226Z"
   },
   {
    "duration": 14,
    "start_time": "2022-05-23T20:01:58.380Z"
   },
   {
    "duration": 113,
    "start_time": "2022-05-23T20:01:58.396Z"
   },
   {
    "duration": 9,
    "start_time": "2022-05-23T20:01:58.512Z"
   },
   {
    "duration": 41,
    "start_time": "2022-05-23T20:01:58.523Z"
   },
   {
    "duration": 40,
    "start_time": "2022-05-23T20:01:58.566Z"
   },
   {
    "duration": 43,
    "start_time": "2022-05-23T20:01:58.608Z"
   },
   {
    "duration": 10,
    "start_time": "2022-05-23T20:01:58.653Z"
   },
   {
    "duration": 5,
    "start_time": "2022-05-23T20:01:58.667Z"
   },
   {
    "duration": 25,
    "start_time": "2022-05-23T20:01:58.674Z"
   },
   {
    "duration": 245,
    "start_time": "2022-05-23T20:01:58.701Z"
   },
   {
    "duration": 259,
    "start_time": "2022-05-23T20:01:58.947Z"
   },
   {
    "duration": 238,
    "start_time": "2022-05-23T20:01:59.207Z"
   },
   {
    "duration": 10,
    "start_time": "2022-05-23T20:01:59.448Z"
   },
   {
    "duration": 33,
    "start_time": "2022-05-23T20:01:59.460Z"
   },
   {
    "duration": 1099,
    "start_time": "2022-05-23T20:01:59.495Z"
   },
   {
    "duration": 33,
    "start_time": "2022-05-23T20:02:00.596Z"
   },
   {
    "duration": 13,
    "start_time": "2022-05-23T20:02:00.641Z"
   },
   {
    "duration": 949,
    "start_time": "2022-05-23T20:02:00.659Z"
   },
   {
    "duration": 210,
    "start_time": "2022-05-23T20:02:01.610Z"
   },
   {
    "duration": 59,
    "start_time": "2022-05-23T20:02:01.822Z"
   },
   {
    "duration": 36,
    "start_time": "2022-05-23T20:02:01.885Z"
   },
   {
    "duration": 65,
    "start_time": "2022-05-23T20:02:01.923Z"
   },
   {
    "duration": 31,
    "start_time": "2022-05-23T20:02:01.990Z"
   },
   {
    "duration": 31,
    "start_time": "2022-05-23T20:02:02.023Z"
   },
   {
    "duration": 25,
    "start_time": "2022-05-23T20:02:02.056Z"
   },
   {
    "duration": 4,
    "start_time": "2022-05-23T20:02:02.086Z"
   },
   {
    "duration": 44,
    "start_time": "2022-05-23T20:02:02.092Z"
   },
   {
    "duration": 21,
    "start_time": "2022-05-23T20:02:02.142Z"
   },
   {
    "duration": 30,
    "start_time": "2022-05-23T20:02:02.165Z"
   },
   {
    "duration": 20892,
    "start_time": "2022-05-23T20:02:02.197Z"
   },
   {
    "duration": 51,
    "start_time": "2022-05-23T20:02:23.091Z"
   },
   {
    "duration": 362,
    "start_time": "2022-05-23T20:02:23.144Z"
   },
   {
    "duration": 5,
    "start_time": "2022-05-23T20:02:23.508Z"
   },
   {
    "duration": 26,
    "start_time": "2022-05-23T20:02:23.516Z"
   },
   {
    "duration": 178,
    "start_time": "2022-05-23T20:02:23.544Z"
   },
   {
    "duration": 189,
    "start_time": "2022-05-23T20:02:23.723Z"
   },
   {
    "duration": 33,
    "start_time": "2022-05-23T20:02:23.914Z"
   },
   {
    "duration": 216,
    "start_time": "2022-05-23T20:02:23.949Z"
   },
   {
    "duration": 4,
    "start_time": "2022-05-23T20:02:24.167Z"
   },
   {
    "duration": 125,
    "start_time": "2022-05-23T20:02:24.172Z"
   },
   {
    "duration": 13,
    "start_time": "2022-05-23T20:02:24.299Z"
   },
   {
    "duration": 32,
    "start_time": "2022-05-23T20:02:24.341Z"
   },
   {
    "duration": 7,
    "start_time": "2022-05-23T20:02:24.375Z"
   },
   {
    "duration": 14,
    "start_time": "2022-05-23T20:02:24.383Z"
   },
   {
    "duration": 734,
    "start_time": "2022-05-23T20:02:24.398Z"
   },
   {
    "duration": 7,
    "start_time": "2022-05-23T20:02:25.134Z"
   },
   {
    "duration": 28,
    "start_time": "2022-05-23T20:02:25.143Z"
   },
   {
    "duration": 20,
    "start_time": "2022-05-23T20:02:25.173Z"
   },
   {
    "duration": 49,
    "start_time": "2022-05-23T20:02:25.195Z"
   },
   {
    "duration": 6,
    "start_time": "2022-05-23T20:02:25.246Z"
   },
   {
    "duration": 22,
    "start_time": "2022-05-23T20:02:25.253Z"
   },
   {
    "duration": 12,
    "start_time": "2022-05-23T20:02:25.277Z"
   },
   {
    "duration": 14,
    "start_time": "2022-05-23T20:02:25.290Z"
   },
   {
    "duration": 5,
    "start_time": "2022-05-23T20:02:25.306Z"
   },
   {
    "duration": 29,
    "start_time": "2022-05-23T20:02:25.313Z"
   },
   {
    "duration": 501,
    "start_time": "2022-05-23T20:02:25.344Z"
   },
   {
    "duration": 107,
    "start_time": "2022-05-23T20:02:25.848Z"
   },
   {
    "duration": 1205,
    "start_time": "2022-05-24T14:23:12.937Z"
   },
   {
    "duration": 204,
    "start_time": "2022-05-24T14:23:14.144Z"
   },
   {
    "duration": 13,
    "start_time": "2022-05-24T14:23:14.350Z"
   },
   {
    "duration": 86,
    "start_time": "2022-05-24T14:23:14.365Z"
   },
   {
    "duration": 9,
    "start_time": "2022-05-24T14:23:14.452Z"
   },
   {
    "duration": 47,
    "start_time": "2022-05-24T14:23:14.463Z"
   },
   {
    "duration": 30,
    "start_time": "2022-05-24T14:23:14.511Z"
   },
   {
    "duration": 26,
    "start_time": "2022-05-24T14:23:14.543Z"
   },
   {
    "duration": 37,
    "start_time": "2022-05-24T14:23:14.571Z"
   },
   {
    "duration": 19,
    "start_time": "2022-05-24T14:23:14.610Z"
   },
   {
    "duration": 33,
    "start_time": "2022-05-24T14:23:14.630Z"
   },
   {
    "duration": 278,
    "start_time": "2022-05-24T14:23:14.664Z"
   },
   {
    "duration": 242,
    "start_time": "2022-05-24T14:23:14.944Z"
   },
   {
    "duration": 198,
    "start_time": "2022-05-24T14:23:15.188Z"
   },
   {
    "duration": 7,
    "start_time": "2022-05-24T14:23:15.388Z"
   },
   {
    "duration": 22,
    "start_time": "2022-05-24T14:23:15.396Z"
   },
   {
    "duration": 1001,
    "start_time": "2022-05-24T14:23:15.419Z"
   },
   {
    "duration": 24,
    "start_time": "2022-05-24T14:23:16.422Z"
   },
   {
    "duration": 19,
    "start_time": "2022-05-24T14:23:16.448Z"
   },
   {
    "duration": 623,
    "start_time": "2022-05-24T14:23:16.468Z"
   },
   {
    "duration": 193,
    "start_time": "2022-05-24T14:23:17.093Z"
   },
   {
    "duration": 43,
    "start_time": "2022-05-24T14:23:17.288Z"
   },
   {
    "duration": 31,
    "start_time": "2022-05-24T14:23:17.333Z"
   },
   {
    "duration": 19,
    "start_time": "2022-05-24T14:23:17.366Z"
   },
   {
    "duration": 20,
    "start_time": "2022-05-24T14:23:17.386Z"
   },
   {
    "duration": 28,
    "start_time": "2022-05-24T14:23:17.407Z"
   },
   {
    "duration": 21,
    "start_time": "2022-05-24T14:23:17.436Z"
   },
   {
    "duration": 46,
    "start_time": "2022-05-24T14:23:17.461Z"
   },
   {
    "duration": 51,
    "start_time": "2022-05-24T14:23:17.509Z"
   },
   {
    "duration": 13,
    "start_time": "2022-05-24T14:23:17.562Z"
   },
   {
    "duration": 39,
    "start_time": "2022-05-24T14:23:17.577Z"
   },
   {
    "duration": 18312,
    "start_time": "2022-05-24T14:23:17.618Z"
   },
   {
    "duration": 41,
    "start_time": "2022-05-24T14:23:35.932Z"
   },
   {
    "duration": 325,
    "start_time": "2022-05-24T14:23:35.974Z"
   },
   {
    "duration": 5,
    "start_time": "2022-05-24T14:23:36.300Z"
   },
   {
    "duration": 14,
    "start_time": "2022-05-24T14:23:36.307Z"
   },
   {
    "duration": 121,
    "start_time": "2022-05-24T14:23:36.323Z"
   },
   {
    "duration": 0,
    "start_time": "2022-05-24T14:23:36.446Z"
   },
   {
    "duration": 0,
    "start_time": "2022-05-24T14:23:36.447Z"
   },
   {
    "duration": 0,
    "start_time": "2022-05-24T14:23:36.448Z"
   },
   {
    "duration": 0,
    "start_time": "2022-05-24T14:23:36.459Z"
   },
   {
    "duration": 0,
    "start_time": "2022-05-24T14:23:36.460Z"
   },
   {
    "duration": 0,
    "start_time": "2022-05-24T14:23:36.461Z"
   },
   {
    "duration": 0,
    "start_time": "2022-05-24T14:23:36.461Z"
   },
   {
    "duration": 1,
    "start_time": "2022-05-24T14:23:36.462Z"
   },
   {
    "duration": 0,
    "start_time": "2022-05-24T14:23:36.464Z"
   },
   {
    "duration": 0,
    "start_time": "2022-05-24T14:23:36.465Z"
   },
   {
    "duration": 0,
    "start_time": "2022-05-24T14:23:36.465Z"
   },
   {
    "duration": 0,
    "start_time": "2022-05-24T14:23:36.466Z"
   },
   {
    "duration": 0,
    "start_time": "2022-05-24T14:23:36.467Z"
   },
   {
    "duration": 0,
    "start_time": "2022-05-24T14:23:36.468Z"
   },
   {
    "duration": 0,
    "start_time": "2022-05-24T14:23:36.469Z"
   },
   {
    "duration": 0,
    "start_time": "2022-05-24T14:23:36.470Z"
   },
   {
    "duration": 0,
    "start_time": "2022-05-24T14:23:36.471Z"
   },
   {
    "duration": 0,
    "start_time": "2022-05-24T14:23:36.472Z"
   },
   {
    "duration": 0,
    "start_time": "2022-05-24T14:23:36.473Z"
   },
   {
    "duration": 0,
    "start_time": "2022-05-24T14:23:36.473Z"
   },
   {
    "duration": 0,
    "start_time": "2022-05-24T14:23:36.474Z"
   },
   {
    "duration": 0,
    "start_time": "2022-05-24T14:23:36.475Z"
   },
   {
    "duration": 15,
    "start_time": "2022-05-24T14:38:08.219Z"
   },
   {
    "duration": 144,
    "start_time": "2022-05-24T14:38:15.182Z"
   },
   {
    "duration": 150,
    "start_time": "2022-05-24T14:38:19.005Z"
   },
   {
    "duration": 23,
    "start_time": "2022-05-24T14:38:19.949Z"
   },
   {
    "duration": 173,
    "start_time": "2022-05-24T14:38:20.433Z"
   },
   {
    "duration": 4,
    "start_time": "2022-05-24T14:38:21.196Z"
   },
   {
    "duration": 129,
    "start_time": "2022-05-24T14:38:21.556Z"
   },
   {
    "duration": 16,
    "start_time": "2022-05-24T14:38:21.826Z"
   },
   {
    "duration": 46,
    "start_time": "2022-05-24T14:38:22.703Z"
   },
   {
    "duration": 6,
    "start_time": "2022-05-24T14:38:22.998Z"
   },
   {
    "duration": 7,
    "start_time": "2022-05-24T14:38:23.325Z"
   },
   {
    "duration": 606,
    "start_time": "2022-05-24T14:38:23.562Z"
   },
   {
    "duration": 4,
    "start_time": "2022-05-24T14:38:24.709Z"
   },
   {
    "duration": 19,
    "start_time": "2022-05-24T14:38:24.955Z"
   },
   {
    "duration": 18,
    "start_time": "2022-05-24T14:38:25.225Z"
   },
   {
    "duration": 25,
    "start_time": "2022-05-24T14:38:25.507Z"
   },
   {
    "duration": 5,
    "start_time": "2022-05-24T14:38:26.044Z"
   },
   {
    "duration": 15,
    "start_time": "2022-05-24T14:38:26.596Z"
   },
   {
    "duration": 10,
    "start_time": "2022-05-24T14:38:26.855Z"
   },
   {
    "duration": 9,
    "start_time": "2022-05-24T14:38:27.136Z"
   },
   {
    "duration": 3,
    "start_time": "2022-05-24T14:38:27.395Z"
   },
   {
    "duration": 4,
    "start_time": "2022-05-24T14:38:27.654Z"
   },
   {
    "duration": 426,
    "start_time": "2022-05-24T14:38:29.254Z"
   },
   {
    "duration": 107,
    "start_time": "2022-05-24T14:38:29.682Z"
   },
   {
    "duration": 126,
    "start_time": "2022-05-24T14:39:06.320Z"
   },
   {
    "duration": 150,
    "start_time": "2022-05-24T14:39:20.039Z"
   },
   {
    "duration": 4,
    "start_time": "2022-05-24T14:48:24.497Z"
   },
   {
    "duration": 2,
    "start_time": "2022-05-24T14:48:27.567Z"
   },
   {
    "duration": 1498,
    "start_time": "2022-05-25T10:36:37.761Z"
   },
   {
    "duration": 532,
    "start_time": "2022-05-25T10:36:39.261Z"
   },
   {
    "duration": 17,
    "start_time": "2022-05-25T10:36:39.795Z"
   },
   {
    "duration": 83,
    "start_time": "2022-05-25T10:36:39.815Z"
   },
   {
    "duration": 10,
    "start_time": "2022-05-25T10:36:39.900Z"
   },
   {
    "duration": 52,
    "start_time": "2022-05-25T10:36:39.912Z"
   },
   {
    "duration": 28,
    "start_time": "2022-05-25T10:36:39.966Z"
   },
   {
    "duration": 19,
    "start_time": "2022-05-25T10:36:39.996Z"
   },
   {
    "duration": 27,
    "start_time": "2022-05-25T10:36:40.017Z"
   },
   {
    "duration": 16,
    "start_time": "2022-05-25T10:36:40.053Z"
   },
   {
    "duration": 25,
    "start_time": "2022-05-25T10:36:40.071Z"
   },
   {
    "duration": 319,
    "start_time": "2022-05-25T10:36:40.098Z"
   },
   {
    "duration": 266,
    "start_time": "2022-05-25T10:36:40.419Z"
   },
   {
    "duration": 230,
    "start_time": "2022-05-25T10:36:40.687Z"
   },
   {
    "duration": 10,
    "start_time": "2022-05-25T10:36:40.919Z"
   },
   {
    "duration": 40,
    "start_time": "2022-05-25T10:36:40.932Z"
   },
   {
    "duration": 1222,
    "start_time": "2022-05-25T10:36:40.975Z"
   },
   {
    "duration": 34,
    "start_time": "2022-05-25T10:36:42.199Z"
   },
   {
    "duration": 28,
    "start_time": "2022-05-25T10:36:42.235Z"
   },
   {
    "duration": 1282,
    "start_time": "2022-05-25T10:36:42.265Z"
   },
   {
    "duration": 305,
    "start_time": "2022-05-25T10:36:43.549Z"
   },
   {
    "duration": 83,
    "start_time": "2022-05-25T10:36:43.856Z"
   },
   {
    "duration": 56,
    "start_time": "2022-05-25T10:36:43.953Z"
   },
   {
    "duration": 31,
    "start_time": "2022-05-25T10:36:44.012Z"
   },
   {
    "duration": 15,
    "start_time": "2022-05-25T10:36:44.046Z"
   },
   {
    "duration": 26,
    "start_time": "2022-05-25T10:36:44.063Z"
   },
   {
    "duration": 23,
    "start_time": "2022-05-25T10:36:44.091Z"
   },
   {
    "duration": 5,
    "start_time": "2022-05-25T10:36:44.119Z"
   },
   {
    "duration": 67,
    "start_time": "2022-05-25T10:36:44.127Z"
   },
   {
    "duration": 25,
    "start_time": "2022-05-25T10:36:44.197Z"
   },
   {
    "duration": 40,
    "start_time": "2022-05-25T10:36:44.225Z"
   },
   {
    "duration": 23627,
    "start_time": "2022-05-25T10:36:44.267Z"
   },
   {
    "duration": 35,
    "start_time": "2022-05-25T10:37:07.896Z"
   },
   {
    "duration": 419,
    "start_time": "2022-05-25T10:37:07.934Z"
   },
   {
    "duration": 6,
    "start_time": "2022-05-25T10:37:08.355Z"
   },
   {
    "duration": 18,
    "start_time": "2022-05-25T10:37:08.363Z"
   },
   {
    "duration": 206,
    "start_time": "2022-05-25T10:37:08.383Z"
   },
   {
    "duration": 185,
    "start_time": "2022-05-25T10:37:08.591Z"
   },
   {
    "duration": 26,
    "start_time": "2022-05-25T10:37:08.778Z"
   },
   {
    "duration": 250,
    "start_time": "2022-05-25T10:37:08.805Z"
   },
   {
    "duration": 9,
    "start_time": "2022-05-25T10:37:09.057Z"
   },
   {
    "duration": 184,
    "start_time": "2022-05-25T10:37:09.068Z"
   },
   {
    "duration": 17,
    "start_time": "2022-05-25T10:37:09.255Z"
   },
   {
    "duration": 48,
    "start_time": "2022-05-25T10:37:09.275Z"
   },
   {
    "duration": 31,
    "start_time": "2022-05-25T10:37:09.326Z"
   },
   {
    "duration": 16,
    "start_time": "2022-05-25T10:37:09.359Z"
   },
   {
    "duration": 774,
    "start_time": "2022-05-25T10:37:09.377Z"
   },
   {
    "duration": 6,
    "start_time": "2022-05-25T10:37:10.154Z"
   },
   {
    "duration": 47,
    "start_time": "2022-05-25T10:37:10.162Z"
   },
   {
    "duration": 23,
    "start_time": "2022-05-25T10:37:10.211Z"
   },
   {
    "duration": 36,
    "start_time": "2022-05-25T10:37:10.236Z"
   },
   {
    "duration": 7,
    "start_time": "2022-05-25T10:37:10.275Z"
   },
   {
    "duration": 35,
    "start_time": "2022-05-25T10:37:10.284Z"
   },
   {
    "duration": 36,
    "start_time": "2022-05-25T10:37:10.322Z"
   },
   {
    "duration": 24,
    "start_time": "2022-05-25T10:37:10.361Z"
   },
   {
    "duration": 4,
    "start_time": "2022-05-25T10:37:10.388Z"
   },
   {
    "duration": 12,
    "start_time": "2022-05-25T10:37:10.396Z"
   },
   {
    "duration": 623,
    "start_time": "2022-05-25T10:37:10.411Z"
   },
   {
    "duration": 143,
    "start_time": "2022-05-25T10:37:11.036Z"
   },
   {
    "duration": 57,
    "start_time": "2022-05-25T13:51:28.641Z"
   },
   {
    "duration": 1556,
    "start_time": "2022-05-25T13:51:59.309Z"
   },
   {
    "duration": 234,
    "start_time": "2022-05-25T13:52:00.867Z"
   },
   {
    "duration": 18,
    "start_time": "2022-05-25T13:52:01.103Z"
   },
   {
    "duration": 80,
    "start_time": "2022-05-25T13:52:01.123Z"
   },
   {
    "duration": 10,
    "start_time": "2022-05-25T13:52:01.205Z"
   },
   {
    "duration": 51,
    "start_time": "2022-05-25T13:52:01.216Z"
   },
   {
    "duration": 27,
    "start_time": "2022-05-25T13:52:01.269Z"
   },
   {
    "duration": 18,
    "start_time": "2022-05-25T13:52:01.298Z"
   },
   {
    "duration": 34,
    "start_time": "2022-05-25T13:52:01.318Z"
   },
   {
    "duration": 8,
    "start_time": "2022-05-25T13:52:01.353Z"
   },
   {
    "duration": 24,
    "start_time": "2022-05-25T13:52:01.362Z"
   },
   {
    "duration": 306,
    "start_time": "2022-05-25T13:52:01.388Z"
   },
   {
    "duration": 290,
    "start_time": "2022-05-25T13:52:01.696Z"
   },
   {
    "duration": 214,
    "start_time": "2022-05-25T13:52:01.989Z"
   },
   {
    "duration": 7,
    "start_time": "2022-05-25T13:52:02.205Z"
   },
   {
    "duration": 38,
    "start_time": "2022-05-25T13:52:02.214Z"
   },
   {
    "duration": 984,
    "start_time": "2022-05-25T13:52:02.253Z"
   },
   {
    "duration": 27,
    "start_time": "2022-05-25T13:52:03.240Z"
   },
   {
    "duration": 10,
    "start_time": "2022-05-25T13:52:03.268Z"
   },
   {
    "duration": 635,
    "start_time": "2022-05-25T13:52:03.280Z"
   },
   {
    "duration": 174,
    "start_time": "2022-05-25T13:52:03.917Z"
   },
   {
    "duration": 42,
    "start_time": "2022-05-25T13:52:04.092Z"
   },
   {
    "duration": 14,
    "start_time": "2022-05-25T13:52:04.141Z"
   },
   {
    "duration": 19,
    "start_time": "2022-05-25T13:52:04.157Z"
   },
   {
    "duration": 15,
    "start_time": "2022-05-25T13:52:04.178Z"
   },
   {
    "duration": 97,
    "start_time": "2022-05-25T13:52:04.195Z"
   },
   {
    "duration": 0,
    "start_time": "2022-05-25T13:52:04.294Z"
   },
   {
    "duration": 0,
    "start_time": "2022-05-25T13:52:04.295Z"
   },
   {
    "duration": 0,
    "start_time": "2022-05-25T13:52:04.297Z"
   },
   {
    "duration": 0,
    "start_time": "2022-05-25T13:52:04.298Z"
   },
   {
    "duration": 0,
    "start_time": "2022-05-25T13:52:04.299Z"
   },
   {
    "duration": 0,
    "start_time": "2022-05-25T13:52:04.300Z"
   },
   {
    "duration": 0,
    "start_time": "2022-05-25T13:52:04.301Z"
   },
   {
    "duration": 0,
    "start_time": "2022-05-25T13:52:04.302Z"
   },
   {
    "duration": 0,
    "start_time": "2022-05-25T13:52:04.304Z"
   },
   {
    "duration": 0,
    "start_time": "2022-05-25T13:52:04.305Z"
   },
   {
    "duration": 0,
    "start_time": "2022-05-25T13:52:04.306Z"
   },
   {
    "duration": 0,
    "start_time": "2022-05-25T13:52:04.307Z"
   },
   {
    "duration": 0,
    "start_time": "2022-05-25T13:52:04.308Z"
   },
   {
    "duration": 0,
    "start_time": "2022-05-25T13:52:04.309Z"
   },
   {
    "duration": 0,
    "start_time": "2022-05-25T13:52:04.310Z"
   },
   {
    "duration": 0,
    "start_time": "2022-05-25T13:52:04.317Z"
   },
   {
    "duration": 0,
    "start_time": "2022-05-25T13:52:04.340Z"
   },
   {
    "duration": 0,
    "start_time": "2022-05-25T13:52:04.342Z"
   },
   {
    "duration": 0,
    "start_time": "2022-05-25T13:52:04.343Z"
   },
   {
    "duration": 0,
    "start_time": "2022-05-25T13:52:04.344Z"
   },
   {
    "duration": 0,
    "start_time": "2022-05-25T13:52:04.345Z"
   },
   {
    "duration": 0,
    "start_time": "2022-05-25T13:52:04.346Z"
   },
   {
    "duration": 0,
    "start_time": "2022-05-25T13:52:04.347Z"
   },
   {
    "duration": 0,
    "start_time": "2022-05-25T13:52:04.349Z"
   },
   {
    "duration": 0,
    "start_time": "2022-05-25T13:52:04.350Z"
   },
   {
    "duration": 0,
    "start_time": "2022-05-25T13:52:04.350Z"
   },
   {
    "duration": 0,
    "start_time": "2022-05-25T13:52:04.351Z"
   },
   {
    "duration": 0,
    "start_time": "2022-05-25T13:52:04.352Z"
   },
   {
    "duration": 0,
    "start_time": "2022-05-25T13:52:04.353Z"
   },
   {
    "duration": 0,
    "start_time": "2022-05-25T13:52:04.354Z"
   },
   {
    "duration": 0,
    "start_time": "2022-05-25T13:52:04.356Z"
   },
   {
    "duration": 0,
    "start_time": "2022-05-25T13:52:04.357Z"
   },
   {
    "duration": 0,
    "start_time": "2022-05-25T13:52:04.357Z"
   },
   {
    "duration": 15,
    "start_time": "2022-05-25T13:52:49.648Z"
   },
   {
    "duration": 15,
    "start_time": "2022-05-25T13:53:01.264Z"
   },
   {
    "duration": 13,
    "start_time": "2022-05-25T13:53:12.976Z"
   },
   {
    "duration": 16,
    "start_time": "2022-05-25T13:53:36.851Z"
   },
   {
    "duration": 33,
    "start_time": "2022-05-25T13:53:55.929Z"
   },
   {
    "duration": 13,
    "start_time": "2022-05-25T13:54:02.386Z"
   },
   {
    "duration": 16,
    "start_time": "2022-05-25T13:55:58.312Z"
   },
   {
    "duration": 50,
    "start_time": "2022-05-25T13:56:40.104Z"
   },
   {
    "duration": 17,
    "start_time": "2022-05-25T13:56:47.817Z"
   },
   {
    "duration": 27,
    "start_time": "2022-05-25T13:57:58.253Z"
   },
   {
    "duration": 39,
    "start_time": "2022-05-25T14:00:15.610Z"
   },
   {
    "duration": 13,
    "start_time": "2022-05-25T14:00:48.304Z"
   },
   {
    "duration": 33,
    "start_time": "2022-05-25T14:03:58.372Z"
   },
   {
    "duration": 34,
    "start_time": "2022-05-25T14:07:22.472Z"
   },
   {
    "duration": 15,
    "start_time": "2022-05-25T14:08:05.488Z"
   },
   {
    "duration": 5,
    "start_time": "2022-05-25T14:08:18.836Z"
   },
   {
    "duration": 148,
    "start_time": "2022-05-25T14:08:18.844Z"
   },
   {
    "duration": 15,
    "start_time": "2022-05-25T14:08:18.993Z"
   },
   {
    "duration": 79,
    "start_time": "2022-05-25T14:08:19.011Z"
   },
   {
    "duration": 10,
    "start_time": "2022-05-25T14:08:19.091Z"
   },
   {
    "duration": 52,
    "start_time": "2022-05-25T14:08:19.102Z"
   },
   {
    "duration": 26,
    "start_time": "2022-05-25T14:08:19.156Z"
   },
   {
    "duration": 17,
    "start_time": "2022-05-25T14:08:19.184Z"
   },
   {
    "duration": 7,
    "start_time": "2022-05-25T14:08:19.203Z"
   },
   {
    "duration": 4,
    "start_time": "2022-05-25T14:08:19.212Z"
   },
   {
    "duration": 17,
    "start_time": "2022-05-25T14:08:19.242Z"
   },
   {
    "duration": 209,
    "start_time": "2022-05-25T14:08:19.261Z"
   },
   {
    "duration": 251,
    "start_time": "2022-05-25T14:08:19.472Z"
   },
   {
    "duration": 327,
    "start_time": "2022-05-25T14:08:19.725Z"
   },
   {
    "duration": 9,
    "start_time": "2022-05-25T14:08:20.054Z"
   },
   {
    "duration": 28,
    "start_time": "2022-05-25T14:08:20.065Z"
   },
   {
    "duration": 969,
    "start_time": "2022-05-25T14:08:20.095Z"
   },
   {
    "duration": 29,
    "start_time": "2022-05-25T14:08:21.077Z"
   },
   {
    "duration": 14,
    "start_time": "2022-05-25T14:08:21.107Z"
   },
   {
    "duration": 682,
    "start_time": "2022-05-25T14:08:21.123Z"
   },
   {
    "duration": 168,
    "start_time": "2022-05-25T14:08:21.807Z"
   },
   {
    "duration": 40,
    "start_time": "2022-05-25T14:08:21.976Z"
   },
   {
    "duration": 30,
    "start_time": "2022-05-25T14:08:22.018Z"
   },
   {
    "duration": 27,
    "start_time": "2022-05-25T14:08:22.051Z"
   },
   {
    "duration": 36,
    "start_time": "2022-05-25T14:08:25.549Z"
   },
   {
    "duration": 450,
    "start_time": "2022-05-25T14:09:09.152Z"
   },
   {
    "duration": 21,
    "start_time": "2022-05-25T14:10:08.516Z"
   },
   {
    "duration": 152,
    "start_time": "2022-05-25T14:10:28.598Z"
   },
   {
    "duration": 35,
    "start_time": "2022-05-25T14:10:58.725Z"
   },
   {
    "duration": 26,
    "start_time": "2022-05-25T14:13:14.208Z"
   },
   {
    "duration": 32,
    "start_time": "2022-05-25T14:14:14.308Z"
   },
   {
    "duration": 47,
    "start_time": "2022-05-25T14:14:47.510Z"
   },
   {
    "duration": 56,
    "start_time": "2022-05-25T14:15:07.454Z"
   },
   {
    "duration": 38,
    "start_time": "2022-05-25T14:18:15.739Z"
   },
   {
    "duration": 13,
    "start_time": "2022-05-25T14:18:30.287Z"
   },
   {
    "duration": 35,
    "start_time": "2022-05-25T14:22:17.961Z"
   },
   {
    "duration": 4,
    "start_time": "2022-05-25T14:32:24.518Z"
   },
   {
    "duration": 131,
    "start_time": "2022-05-25T14:32:24.524Z"
   },
   {
    "duration": 24,
    "start_time": "2022-05-25T14:32:24.657Z"
   },
   {
    "duration": 96,
    "start_time": "2022-05-25T14:32:24.683Z"
   },
   {
    "duration": 9,
    "start_time": "2022-05-25T14:32:24.781Z"
   },
   {
    "duration": 23,
    "start_time": "2022-05-25T14:32:24.791Z"
   },
   {
    "duration": 51,
    "start_time": "2022-05-25T14:32:24.815Z"
   },
   {
    "duration": 15,
    "start_time": "2022-05-25T14:32:24.868Z"
   },
   {
    "duration": 6,
    "start_time": "2022-05-25T14:32:24.885Z"
   },
   {
    "duration": 5,
    "start_time": "2022-05-25T14:32:24.892Z"
   },
   {
    "duration": 16,
    "start_time": "2022-05-25T14:32:24.899Z"
   },
   {
    "duration": 273,
    "start_time": "2022-05-25T14:32:24.917Z"
   },
   {
    "duration": 272,
    "start_time": "2022-05-25T14:32:25.191Z"
   },
   {
    "duration": 235,
    "start_time": "2022-05-25T14:32:25.467Z"
   },
   {
    "duration": 7,
    "start_time": "2022-05-25T14:32:25.704Z"
   },
   {
    "duration": 45,
    "start_time": "2022-05-25T14:32:25.713Z"
   },
   {
    "duration": 1124,
    "start_time": "2022-05-25T14:32:25.761Z"
   },
   {
    "duration": 28,
    "start_time": "2022-05-25T14:32:26.886Z"
   },
   {
    "duration": 29,
    "start_time": "2022-05-25T14:32:26.917Z"
   },
   {
    "duration": 721,
    "start_time": "2022-05-25T14:32:26.949Z"
   },
   {
    "duration": 261,
    "start_time": "2022-05-25T14:32:27.672Z"
   },
   {
    "duration": 43,
    "start_time": "2022-05-25T14:32:27.934Z"
   },
   {
    "duration": 15,
    "start_time": "2022-05-25T14:32:27.979Z"
   },
   {
    "duration": 19,
    "start_time": "2022-05-25T14:32:27.996Z"
   },
   {
    "duration": 67,
    "start_time": "2022-05-25T14:32:28.017Z"
   },
   {
    "duration": 12,
    "start_time": "2022-05-25T14:32:28.086Z"
   },
   {
    "duration": 12,
    "start_time": "2022-05-25T14:32:28.100Z"
   },
   {
    "duration": 30,
    "start_time": "2022-05-25T14:32:28.113Z"
   },
   {
    "duration": 30,
    "start_time": "2022-05-25T14:32:28.145Z"
   },
   {
    "duration": 15,
    "start_time": "2022-05-25T14:32:28.177Z"
   },
   {
    "duration": 10,
    "start_time": "2022-05-25T14:32:28.194Z"
   },
   {
    "duration": 470,
    "start_time": "2022-05-25T14:35:11.275Z"
   },
   {
    "duration": 8133,
    "start_time": "2022-05-25T14:40:35.229Z"
   },
   {
    "duration": 191,
    "start_time": "2022-05-25T14:44:32.312Z"
   },
   {
    "duration": 184,
    "start_time": "2022-05-25T14:44:47.059Z"
   },
   {
    "duration": 160,
    "start_time": "2022-05-25T14:45:38.758Z"
   },
   {
    "duration": 183,
    "start_time": "2022-05-25T14:47:13.550Z"
   },
   {
    "duration": 15,
    "start_time": "2022-05-25T14:48:03.809Z"
   },
   {
    "duration": 143,
    "start_time": "2022-05-25T14:52:27.362Z"
   },
   {
    "duration": 52,
    "start_time": "2022-05-25T14:52:45.023Z"
   },
   {
    "duration": 239,
    "start_time": "2022-05-25T14:52:55.582Z"
   },
   {
    "duration": 103,
    "start_time": "2022-05-25T14:55:49.068Z"
   },
   {
    "duration": 2423,
    "start_time": "2022-05-25T14:56:04.953Z"
   },
   {
    "duration": 10,
    "start_time": "2022-05-25T15:02:57.528Z"
   },
   {
    "duration": 13,
    "start_time": "2022-05-25T15:03:11.139Z"
   },
   {
    "duration": 263,
    "start_time": "2022-05-25T15:03:11.154Z"
   },
   {
    "duration": 44,
    "start_time": "2022-05-25T15:03:11.419Z"
   },
   {
    "duration": 109,
    "start_time": "2022-05-25T15:03:11.472Z"
   },
   {
    "duration": 15,
    "start_time": "2022-05-25T15:03:11.582Z"
   },
   {
    "duration": 104,
    "start_time": "2022-05-25T15:03:11.599Z"
   },
   {
    "duration": 26,
    "start_time": "2022-05-25T15:03:11.705Z"
   },
   {
    "duration": 33,
    "start_time": "2022-05-25T15:03:11.733Z"
   },
   {
    "duration": 51,
    "start_time": "2022-05-25T15:03:11.772Z"
   },
   {
    "duration": 68,
    "start_time": "2022-05-25T15:03:11.825Z"
   },
   {
    "duration": 28,
    "start_time": "2022-05-25T15:03:11.896Z"
   },
   {
    "duration": 508,
    "start_time": "2022-05-25T15:03:11.925Z"
   },
   {
    "duration": 375,
    "start_time": "2022-05-25T15:03:12.435Z"
   },
   {
    "duration": 295,
    "start_time": "2022-05-25T15:03:12.812Z"
   },
   {
    "duration": 12,
    "start_time": "2022-05-25T15:03:13.109Z"
   },
   {
    "duration": 85,
    "start_time": "2022-05-25T15:03:13.123Z"
   },
   {
    "duration": 1240,
    "start_time": "2022-05-25T15:03:13.211Z"
   },
   {
    "duration": 41,
    "start_time": "2022-05-25T15:03:14.455Z"
   },
   {
    "duration": 19,
    "start_time": "2022-05-25T15:03:14.498Z"
   },
   {
    "duration": 858,
    "start_time": "2022-05-25T15:03:14.519Z"
   },
   {
    "duration": 238,
    "start_time": "2022-05-25T15:03:15.379Z"
   },
   {
    "duration": 66,
    "start_time": "2022-05-25T15:03:15.620Z"
   },
   {
    "duration": 23,
    "start_time": "2022-05-25T15:03:15.688Z"
   },
   {
    "duration": 34,
    "start_time": "2022-05-25T15:03:15.713Z"
   },
   {
    "duration": 59,
    "start_time": "2022-05-25T15:03:15.749Z"
   },
   {
    "duration": 52,
    "start_time": "2022-05-25T15:03:15.810Z"
   },
   {
    "duration": 17,
    "start_time": "2022-05-25T15:03:15.864Z"
   },
   {
    "duration": 6,
    "start_time": "2022-05-25T15:03:15.883Z"
   },
   {
    "duration": 26,
    "start_time": "2022-05-25T15:03:15.892Z"
   },
   {
    "duration": 15,
    "start_time": "2022-05-25T15:03:15.920Z"
   },
   {
    "duration": 46,
    "start_time": "2022-05-25T15:03:15.941Z"
   },
   {
    "duration": 2602,
    "start_time": "2022-05-25T15:03:15.988Z"
   },
   {
    "duration": 26,
    "start_time": "2022-05-25T15:03:18.592Z"
   },
   {
    "duration": 123,
    "start_time": "2022-05-25T15:03:18.620Z"
   },
   {
    "duration": 25,
    "start_time": "2022-05-25T15:03:18.746Z"
   },
   {
    "duration": 15,
    "start_time": "2022-05-25T15:03:18.773Z"
   },
   {
    "duration": 218,
    "start_time": "2022-05-25T15:03:18.790Z"
   },
   {
    "duration": 222,
    "start_time": "2022-05-25T15:03:19.010Z"
   },
   {
    "duration": 7,
    "start_time": "2022-05-25T15:12:49.158Z"
   },
   {
    "duration": 13,
    "start_time": "2022-05-25T15:33:33.537Z"
   },
   {
    "duration": 6,
    "start_time": "2022-05-25T15:36:10.359Z"
   },
   {
    "duration": 18,
    "start_time": "2022-05-25T15:37:44.762Z"
   },
   {
    "duration": 21,
    "start_time": "2022-05-25T15:38:32.005Z"
   },
   {
    "duration": 12,
    "start_time": "2022-05-25T15:40:41.660Z"
   },
   {
    "duration": 11,
    "start_time": "2022-05-25T15:42:22.717Z"
   },
   {
    "duration": 12,
    "start_time": "2022-05-25T15:42:37.353Z"
   },
   {
    "duration": 11,
    "start_time": "2022-05-25T15:44:36.734Z"
   },
   {
    "duration": 4,
    "start_time": "2022-05-25T15:49:49.498Z"
   },
   {
    "duration": 10,
    "start_time": "2022-05-25T15:49:57.469Z"
   },
   {
    "duration": 5,
    "start_time": "2022-05-25T15:50:02.860Z"
   },
   {
    "duration": 11,
    "start_time": "2022-05-25T15:50:14.011Z"
   },
   {
    "duration": 10,
    "start_time": "2022-05-25T15:50:28.476Z"
   },
   {
    "duration": 10,
    "start_time": "2022-05-25T15:52:16.579Z"
   },
   {
    "duration": 8,
    "start_time": "2022-05-25T15:52:26.700Z"
   },
   {
    "duration": 16,
    "start_time": "2022-05-25T15:52:29.406Z"
   },
   {
    "duration": 29,
    "start_time": "2022-05-25T15:53:17.782Z"
   },
   {
    "duration": 19,
    "start_time": "2022-05-25T15:53:26.652Z"
   },
   {
    "duration": 147,
    "start_time": "2022-05-25T15:53:34.249Z"
   },
   {
    "duration": 24,
    "start_time": "2022-05-25T15:54:03.296Z"
   },
   {
    "duration": 15,
    "start_time": "2022-05-25T15:54:09.789Z"
   },
   {
    "duration": 9,
    "start_time": "2022-05-25T15:54:34.893Z"
   },
   {
    "duration": 15,
    "start_time": "2022-05-25T15:54:37.670Z"
   },
   {
    "duration": 24,
    "start_time": "2022-05-25T15:54:48.780Z"
   },
   {
    "duration": 30,
    "start_time": "2022-05-25T15:56:27.221Z"
   },
   {
    "duration": 7,
    "start_time": "2022-05-25T15:56:48.120Z"
   },
   {
    "duration": 31,
    "start_time": "2022-05-25T15:56:50.738Z"
   },
   {
    "duration": 30,
    "start_time": "2022-05-25T16:00:51.514Z"
   },
   {
    "duration": 8,
    "start_time": "2022-05-25T16:00:55.314Z"
   },
   {
    "duration": 35,
    "start_time": "2022-05-25T16:00:57.101Z"
   },
   {
    "duration": 13,
    "start_time": "2022-05-25T16:01:39.951Z"
   },
   {
    "duration": 31,
    "start_time": "2022-05-25T16:02:34.383Z"
   },
   {
    "duration": 8,
    "start_time": "2022-05-25T16:02:53.328Z"
   },
   {
    "duration": 31,
    "start_time": "2022-05-25T16:02:55.972Z"
   },
   {
    "duration": 15,
    "start_time": "2022-05-25T16:03:03.056Z"
   },
   {
    "duration": 213,
    "start_time": "2022-05-25T16:03:59.265Z"
   },
   {
    "duration": 208,
    "start_time": "2022-05-25T16:04:48.254Z"
   },
   {
    "duration": 10,
    "start_time": "2022-05-25T16:15:19.316Z"
   },
   {
    "duration": 29,
    "start_time": "2022-05-25T16:15:21.884Z"
   },
   {
    "duration": 6,
    "start_time": "2022-05-25T16:19:32.941Z"
   },
   {
    "duration": 25,
    "start_time": "2022-05-25T16:19:34.671Z"
   },
   {
    "duration": 5,
    "start_time": "2022-05-25T16:20:01.994Z"
   },
   {
    "duration": 26,
    "start_time": "2022-05-25T16:20:06.057Z"
   },
   {
    "duration": 4,
    "start_time": "2022-05-25T16:20:35.825Z"
   },
   {
    "duration": 672,
    "start_time": "2022-05-25T16:20:38.061Z"
   },
   {
    "duration": 4,
    "start_time": "2022-05-25T16:21:19.820Z"
   },
   {
    "duration": 162,
    "start_time": "2022-05-25T16:21:22.022Z"
   },
   {
    "duration": 15,
    "start_time": "2022-05-25T16:22:07.183Z"
   },
   {
    "duration": 9,
    "start_time": "2022-05-25T16:23:19.587Z"
   },
   {
    "duration": 29,
    "start_time": "2022-05-25T16:31:45.980Z"
   },
   {
    "duration": 21,
    "start_time": "2022-05-25T16:31:55.803Z"
   },
   {
    "duration": 19,
    "start_time": "2022-05-25T16:31:57.711Z"
   },
   {
    "duration": 24,
    "start_time": "2022-05-25T16:33:12.480Z"
   },
   {
    "duration": 20,
    "start_time": "2022-05-25T16:33:53.397Z"
   },
   {
    "duration": 14,
    "start_time": "2022-05-25T16:34:01.512Z"
   },
   {
    "duration": 5,
    "start_time": "2022-05-25T18:29:38.290Z"
   },
   {
    "duration": 18,
    "start_time": "2022-05-25T18:29:42.541Z"
   },
   {
    "duration": 20,
    "start_time": "2022-05-25T18:30:11.517Z"
   },
   {
    "duration": 4,
    "start_time": "2022-05-25T18:30:32.021Z"
   },
   {
    "duration": 126,
    "start_time": "2022-05-25T18:30:32.029Z"
   },
   {
    "duration": 14,
    "start_time": "2022-05-25T18:30:32.157Z"
   },
   {
    "duration": 85,
    "start_time": "2022-05-25T18:30:32.173Z"
   },
   {
    "duration": 9,
    "start_time": "2022-05-25T18:30:32.259Z"
   },
   {
    "duration": 27,
    "start_time": "2022-05-25T18:30:32.270Z"
   },
   {
    "duration": 43,
    "start_time": "2022-05-25T18:30:32.298Z"
   },
   {
    "duration": 16,
    "start_time": "2022-05-25T18:30:32.343Z"
   },
   {
    "duration": 17,
    "start_time": "2022-05-25T18:30:32.361Z"
   },
   {
    "duration": 10,
    "start_time": "2022-05-25T18:30:32.379Z"
   },
   {
    "duration": 19,
    "start_time": "2022-05-25T18:30:32.390Z"
   },
   {
    "duration": 209,
    "start_time": "2022-05-25T18:30:32.410Z"
   },
   {
    "duration": 250,
    "start_time": "2022-05-25T18:30:32.621Z"
   },
   {
    "duration": 216,
    "start_time": "2022-05-25T18:30:32.873Z"
   },
   {
    "duration": 11,
    "start_time": "2022-05-25T18:30:33.092Z"
   },
   {
    "duration": 44,
    "start_time": "2022-05-25T18:30:33.105Z"
   },
   {
    "duration": 899,
    "start_time": "2022-05-25T18:30:33.152Z"
   },
   {
    "duration": 26,
    "start_time": "2022-05-25T18:30:34.053Z"
   },
   {
    "duration": 10,
    "start_time": "2022-05-25T18:30:34.080Z"
   },
   {
    "duration": 659,
    "start_time": "2022-05-25T18:30:34.092Z"
   },
   {
    "duration": 171,
    "start_time": "2022-05-25T18:30:34.752Z"
   },
   {
    "duration": 49,
    "start_time": "2022-05-25T18:30:34.924Z"
   },
   {
    "duration": 18,
    "start_time": "2022-05-25T18:30:34.975Z"
   },
   {
    "duration": 19,
    "start_time": "2022-05-25T18:30:34.994Z"
   },
   {
    "duration": 65,
    "start_time": "2022-05-25T18:30:35.014Z"
   },
   {
    "duration": 11,
    "start_time": "2022-05-25T18:30:35.081Z"
   },
   {
    "duration": 18,
    "start_time": "2022-05-25T18:30:35.093Z"
   },
   {
    "duration": 29,
    "start_time": "2022-05-25T18:30:35.112Z"
   },
   {
    "duration": 21,
    "start_time": "2022-05-25T18:30:35.143Z"
   },
   {
    "duration": 14,
    "start_time": "2022-05-25T18:30:35.165Z"
   },
   {
    "duration": 17,
    "start_time": "2022-05-25T18:30:35.180Z"
   },
   {
    "duration": 2008,
    "start_time": "2022-05-25T18:30:35.199Z"
   },
   {
    "duration": 33,
    "start_time": "2022-05-25T18:30:37.208Z"
   },
   {
    "duration": 65,
    "start_time": "2022-05-25T18:30:37.243Z"
   },
   {
    "duration": 5,
    "start_time": "2022-05-25T18:30:37.310Z"
   },
   {
    "duration": 33,
    "start_time": "2022-05-25T18:30:37.316Z"
   },
   {
    "duration": 173,
    "start_time": "2022-05-25T18:30:37.351Z"
   },
   {
    "duration": 292,
    "start_time": "2022-05-25T18:30:37.525Z"
   },
   {
    "duration": 10,
    "start_time": "2022-05-25T18:30:37.818Z"
   },
   {
    "duration": 41,
    "start_time": "2022-05-25T18:30:37.829Z"
   },
   {
    "duration": 209,
    "start_time": "2022-05-25T18:30:37.872Z"
   },
   {
    "duration": 4,
    "start_time": "2022-05-25T18:30:38.085Z"
   },
   {
    "duration": 161,
    "start_time": "2022-05-25T18:30:38.091Z"
   },
   {
    "duration": 7,
    "start_time": "2022-05-25T18:30:38.254Z"
   },
   {
    "duration": 26,
    "start_time": "2022-05-25T18:30:38.262Z"
   },
   {
    "duration": 7,
    "start_time": "2022-05-25T18:30:38.289Z"
   },
   {
    "duration": 12,
    "start_time": "2022-05-25T18:30:38.297Z"
   },
   {
    "duration": 588,
    "start_time": "2022-05-25T18:30:38.310Z"
   },
   {
    "duration": 4,
    "start_time": "2022-05-25T18:30:38.900Z"
   },
   {
    "duration": 20,
    "start_time": "2022-05-25T18:30:44.171Z"
   },
   {
    "duration": 21,
    "start_time": "2022-05-25T18:31:12.592Z"
   },
   {
    "duration": 34,
    "start_time": "2022-05-25T18:31:57.041Z"
   },
   {
    "duration": 25,
    "start_time": "2022-05-25T18:32:16.656Z"
   },
   {
    "duration": 19,
    "start_time": "2022-05-25T18:32:30.412Z"
   },
   {
    "duration": 27,
    "start_time": "2022-05-25T18:33:00.354Z"
   },
   {
    "duration": 20,
    "start_time": "2022-05-25T18:33:14.308Z"
   },
   {
    "duration": 15,
    "start_time": "2022-05-25T18:33:27.610Z"
   },
   {
    "duration": 27,
    "start_time": "2022-05-25T18:33:45.518Z"
   },
   {
    "duration": 6,
    "start_time": "2022-05-25T18:34:29.665Z"
   },
   {
    "duration": 3,
    "start_time": "2022-05-25T18:35:14.844Z"
   },
   {
    "duration": 5,
    "start_time": "2022-05-25T18:35:48.644Z"
   },
   {
    "duration": 7,
    "start_time": "2022-05-25T18:49:42.690Z"
   },
   {
    "duration": 6,
    "start_time": "2022-05-25T18:52:32.612Z"
   },
   {
    "duration": 8,
    "start_time": "2022-05-25T18:53:42.236Z"
   },
   {
    "duration": 6,
    "start_time": "2022-05-25T18:54:39.947Z"
   },
   {
    "duration": 6,
    "start_time": "2022-05-25T18:55:36.138Z"
   },
   {
    "duration": 5,
    "start_time": "2022-05-25T18:57:47.854Z"
   },
   {
    "duration": 185,
    "start_time": "2022-05-25T18:57:47.861Z"
   },
   {
    "duration": 15,
    "start_time": "2022-05-25T18:57:48.048Z"
   },
   {
    "duration": 124,
    "start_time": "2022-05-25T18:57:48.064Z"
   },
   {
    "duration": 8,
    "start_time": "2022-05-25T18:57:48.190Z"
   },
   {
    "duration": 50,
    "start_time": "2022-05-25T18:57:48.200Z"
   },
   {
    "duration": 23,
    "start_time": "2022-05-25T18:57:48.252Z"
   },
   {
    "duration": 17,
    "start_time": "2022-05-25T18:57:48.277Z"
   },
   {
    "duration": 6,
    "start_time": "2022-05-25T18:57:48.296Z"
   },
   {
    "duration": 4,
    "start_time": "2022-05-25T18:57:48.304Z"
   },
   {
    "duration": 42,
    "start_time": "2022-05-25T18:57:48.311Z"
   },
   {
    "duration": 215,
    "start_time": "2022-05-25T18:57:48.355Z"
   },
   {
    "duration": 248,
    "start_time": "2022-05-25T18:57:48.572Z"
   },
   {
    "duration": 200,
    "start_time": "2022-05-25T18:57:48.821Z"
   },
   {
    "duration": 8,
    "start_time": "2022-05-25T18:57:49.023Z"
   },
   {
    "duration": 33,
    "start_time": "2022-05-25T18:57:49.033Z"
   },
   {
    "duration": 984,
    "start_time": "2022-05-25T18:57:49.068Z"
   },
   {
    "duration": 28,
    "start_time": "2022-05-25T18:57:50.054Z"
   },
   {
    "duration": 23,
    "start_time": "2022-05-25T18:57:50.084Z"
   },
   {
    "duration": 744,
    "start_time": "2022-05-25T18:57:50.108Z"
   },
   {
    "duration": 241,
    "start_time": "2022-05-25T18:57:50.853Z"
   },
   {
    "duration": 68,
    "start_time": "2022-05-25T18:57:51.096Z"
   },
   {
    "duration": 43,
    "start_time": "2022-05-25T18:57:51.166Z"
   },
   {
    "duration": 25,
    "start_time": "2022-05-25T18:57:51.213Z"
   },
   {
    "duration": 49,
    "start_time": "2022-05-25T18:57:51.240Z"
   },
   {
    "duration": 14,
    "start_time": "2022-05-25T18:57:51.290Z"
   },
   {
    "duration": 54,
    "start_time": "2022-05-25T18:57:51.306Z"
   },
   {
    "duration": 4,
    "start_time": "2022-05-25T18:57:51.363Z"
   },
   {
    "duration": 24,
    "start_time": "2022-05-25T18:57:51.371Z"
   },
   {
    "duration": 17,
    "start_time": "2022-05-25T18:57:51.397Z"
   },
   {
    "duration": 40,
    "start_time": "2022-05-25T18:57:51.415Z"
   },
   {
    "duration": 2384,
    "start_time": "2022-05-25T18:57:51.457Z"
   },
   {
    "duration": 25,
    "start_time": "2022-05-25T18:57:53.843Z"
   },
   {
    "duration": 100,
    "start_time": "2022-05-25T18:57:53.870Z"
   },
   {
    "duration": 5,
    "start_time": "2022-05-25T18:57:53.972Z"
   },
   {
    "duration": 14,
    "start_time": "2022-05-25T18:57:53.979Z"
   },
   {
    "duration": 195,
    "start_time": "2022-05-25T18:57:53.995Z"
   },
   {
    "duration": 179,
    "start_time": "2022-05-25T18:57:54.191Z"
   },
   {
    "duration": 11,
    "start_time": "2022-05-25T18:57:54.372Z"
   },
   {
    "duration": 40,
    "start_time": "2022-05-25T18:57:54.384Z"
   },
   {
    "duration": 264,
    "start_time": "2022-05-25T18:57:54.426Z"
   },
   {
    "duration": 4,
    "start_time": "2022-05-25T18:57:54.692Z"
   },
   {
    "duration": 192,
    "start_time": "2022-05-25T18:57:54.698Z"
   },
   {
    "duration": 11,
    "start_time": "2022-05-25T18:57:54.893Z"
   },
   {
    "duration": 198,
    "start_time": "2022-05-25T18:57:54.906Z"
   },
   {
    "duration": 6,
    "start_time": "2022-05-25T18:57:55.106Z"
   },
   {
    "duration": 12,
    "start_time": "2022-05-25T18:57:55.114Z"
   },
   {
    "duration": 605,
    "start_time": "2022-05-25T18:57:55.128Z"
   },
   {
    "duration": 7,
    "start_time": "2022-05-25T18:57:55.734Z"
   },
   {
    "duration": 33,
    "start_time": "2022-05-25T18:57:55.743Z"
   },
   {
    "duration": 15,
    "start_time": "2022-05-25T18:57:55.778Z"
   },
   {
    "duration": 46,
    "start_time": "2022-05-25T18:57:55.795Z"
   },
   {
    "duration": 7,
    "start_time": "2022-05-25T18:57:55.844Z"
   },
   {
    "duration": 13,
    "start_time": "2022-05-25T18:57:55.853Z"
   },
   {
    "duration": 7,
    "start_time": "2022-05-25T18:57:55.868Z"
   },
   {
    "duration": 9,
    "start_time": "2022-05-25T18:57:55.878Z"
   },
   {
    "duration": 446,
    "start_time": "2022-05-25T18:57:55.889Z"
   },
   {
    "duration": 102,
    "start_time": "2022-05-25T18:57:56.337Z"
   },
   {
    "duration": 6593,
    "start_time": "2022-05-25T19:12:12.180Z"
   },
   {
    "duration": 2397,
    "start_time": "2022-05-25T19:12:34.677Z"
   },
   {
    "duration": 183,
    "start_time": "2022-05-25T19:14:28.288Z"
   },
   {
    "duration": 9,
    "start_time": "2022-05-25T19:33:32.164Z"
   },
   {
    "duration": 7,
    "start_time": "2022-05-25T19:33:38.668Z"
   },
   {
    "duration": 57,
    "start_time": "2022-05-25T19:33:40.909Z"
   },
   {
    "duration": 6,
    "start_time": "2022-05-25T19:33:59.588Z"
   },
   {
    "duration": 8,
    "start_time": "2022-05-25T19:35:49.445Z"
   },
   {
    "duration": 25,
    "start_time": "2022-05-25T19:35:54.651Z"
   },
   {
    "duration": 7,
    "start_time": "2022-05-25T19:36:11.674Z"
   },
   {
    "duration": 27,
    "start_time": "2022-05-25T19:36:16.224Z"
   },
   {
    "duration": 7,
    "start_time": "2022-05-25T19:36:32.509Z"
   },
   {
    "duration": 597,
    "start_time": "2022-05-25T19:36:37.618Z"
   },
   {
    "duration": 34,
    "start_time": "2022-05-25T19:45:47.735Z"
   },
   {
    "duration": 7,
    "start_time": "2022-05-25T19:45:51.143Z"
   },
   {
    "duration": 36,
    "start_time": "2022-05-25T19:45:54.951Z"
   },
   {
    "duration": 30,
    "start_time": "2022-05-25T19:46:31.356Z"
   },
   {
    "duration": 578,
    "start_time": "2022-05-25T19:46:41.831Z"
   },
   {
    "duration": 7,
    "start_time": "2022-05-25T19:48:46.730Z"
   },
   {
    "duration": 52,
    "start_time": "2022-05-25T19:48:52.042Z"
   },
   {
    "duration": 8,
    "start_time": "2022-05-25T19:49:19.479Z"
   },
   {
    "duration": 618,
    "start_time": "2022-05-25T19:49:24.604Z"
   },
   {
    "duration": 16,
    "start_time": "2022-05-25T20:41:38.617Z"
   },
   {
    "duration": 7,
    "start_time": "2022-05-25T20:41:43.969Z"
   },
   {
    "duration": 15,
    "start_time": "2022-05-25T20:42:05.246Z"
   },
   {
    "duration": 30,
    "start_time": "2022-05-25T20:42:26.522Z"
   },
   {
    "duration": 48,
    "start_time": "2022-05-25T20:42:35.246Z"
   },
   {
    "duration": 485,
    "start_time": "2022-05-25T20:42:46.329Z"
   },
   {
    "duration": 21,
    "start_time": "2022-05-25T20:48:22.152Z"
   },
   {
    "duration": 81,
    "start_time": "2022-05-25T20:48:31.226Z"
   },
   {
    "duration": 687,
    "start_time": "2022-05-25T20:54:05.433Z"
   },
   {
    "duration": 25,
    "start_time": "2022-05-25T20:54:18.792Z"
   },
   {
    "duration": 79,
    "start_time": "2022-05-25T20:54:20.566Z"
   },
   {
    "duration": 1008,
    "start_time": "2022-05-25T20:54:45.474Z"
   },
   {
    "duration": 23,
    "start_time": "2022-05-25T20:55:00.923Z"
   },
   {
    "duration": 79,
    "start_time": "2022-05-25T20:55:02.811Z"
   },
   {
    "duration": 704,
    "start_time": "2022-05-25T20:56:54.220Z"
   },
   {
    "duration": 22,
    "start_time": "2022-05-25T20:57:40.103Z"
   },
   {
    "duration": 83,
    "start_time": "2022-05-25T20:57:42.144Z"
   },
   {
    "duration": 861,
    "start_time": "2022-05-25T20:57:51.821Z"
   },
   {
    "duration": 34,
    "start_time": "2022-05-25T20:58:21.665Z"
   },
   {
    "duration": 80,
    "start_time": "2022-05-25T20:58:23.651Z"
   },
   {
    "duration": 946,
    "start_time": "2022-05-25T21:00:51.559Z"
   },
   {
    "duration": 25,
    "start_time": "2022-05-25T21:00:56.887Z"
   },
   {
    "duration": 636,
    "start_time": "2022-05-25T21:01:00.670Z"
   },
   {
    "duration": 687,
    "start_time": "2022-05-25T21:01:26.842Z"
   },
   {
    "duration": 22,
    "start_time": "2022-05-25T21:01:32.669Z"
   },
   {
    "duration": 86,
    "start_time": "2022-05-25T21:01:34.507Z"
   },
   {
    "duration": 695,
    "start_time": "2022-05-25T21:01:52.208Z"
   },
   {
    "duration": 22,
    "start_time": "2022-05-25T21:01:58.363Z"
   },
   {
    "duration": 94,
    "start_time": "2022-05-25T21:02:00.240Z"
   },
   {
    "duration": 22,
    "start_time": "2022-05-25T21:02:26.538Z"
   },
   {
    "duration": 695,
    "start_time": "2022-05-25T21:02:28.832Z"
   },
   {
    "duration": 23,
    "start_time": "2022-05-25T21:02:37.820Z"
   },
   {
    "duration": 112,
    "start_time": "2022-05-25T21:02:39.736Z"
   },
   {
    "duration": 181,
    "start_time": "2022-05-25T21:05:04.702Z"
   },
   {
    "duration": 15,
    "start_time": "2022-05-25T21:07:18.352Z"
   },
   {
    "duration": 22,
    "start_time": "2022-05-25T21:07:49.965Z"
   },
   {
    "duration": 5,
    "start_time": "2022-05-25T21:08:29.856Z"
   },
   {
    "duration": 25,
    "start_time": "2022-05-25T21:08:42.889Z"
   },
   {
    "duration": 232,
    "start_time": "2022-05-25T21:08:48.671Z"
   },
   {
    "duration": 14,
    "start_time": "2022-05-25T21:09:27.793Z"
   },
   {
    "duration": 657,
    "start_time": "2022-05-25T21:10:00.439Z"
   },
   {
    "duration": 22,
    "start_time": "2022-05-25T21:10:08.610Z"
   },
   {
    "duration": 112,
    "start_time": "2022-05-25T21:10:10.639Z"
   },
   {
    "duration": 240,
    "start_time": "2022-05-25T21:10:12.819Z"
   },
   {
    "duration": 1139,
    "start_time": "2022-05-25T21:12:11.579Z"
   },
   {
    "duration": 5,
    "start_time": "2022-05-25T21:12:49.411Z"
   },
   {
    "duration": 20,
    "start_time": "2022-05-25T21:14:33.756Z"
   },
   {
    "duration": 4,
    "start_time": "2022-05-25T21:14:35.977Z"
   },
   {
    "duration": 654,
    "start_time": "2022-05-25T21:14:38.116Z"
   },
   {
    "duration": 22,
    "start_time": "2022-05-25T21:15:24.456Z"
   },
   {
    "duration": 53,
    "start_time": "2022-05-25T21:15:27.002Z"
   },
   {
    "duration": 66,
    "start_time": "2022-05-25T21:15:29.241Z"
   },
   {
    "duration": 227,
    "start_time": "2022-05-25T21:15:32.273Z"
   },
   {
    "duration": 38,
    "start_time": "2022-05-25T21:31:32.768Z"
   },
   {
    "duration": 1322,
    "start_time": "2022-05-26T06:53:51.152Z"
   },
   {
    "duration": 219,
    "start_time": "2022-05-26T06:53:52.476Z"
   },
   {
    "duration": 13,
    "start_time": "2022-05-26T06:53:52.697Z"
   },
   {
    "duration": 84,
    "start_time": "2022-05-26T06:53:52.711Z"
   },
   {
    "duration": 10,
    "start_time": "2022-05-26T06:53:52.796Z"
   },
   {
    "duration": 47,
    "start_time": "2022-05-26T06:53:52.808Z"
   },
   {
    "duration": 41,
    "start_time": "2022-05-26T06:53:52.857Z"
   },
   {
    "duration": 25,
    "start_time": "2022-05-26T06:53:52.900Z"
   },
   {
    "duration": 49,
    "start_time": "2022-05-26T06:53:52.926Z"
   },
   {
    "duration": 25,
    "start_time": "2022-05-26T06:53:52.977Z"
   },
   {
    "duration": 40,
    "start_time": "2022-05-26T06:53:53.004Z"
   },
   {
    "duration": 270,
    "start_time": "2022-05-26T06:53:53.045Z"
   },
   {
    "duration": 248,
    "start_time": "2022-05-26T06:53:53.317Z"
   },
   {
    "duration": 189,
    "start_time": "2022-05-26T06:53:53.567Z"
   },
   {
    "duration": 7,
    "start_time": "2022-05-26T06:53:53.759Z"
   },
   {
    "duration": 43,
    "start_time": "2022-05-26T06:53:53.767Z"
   },
   {
    "duration": 926,
    "start_time": "2022-05-26T06:53:53.821Z"
   },
   {
    "duration": 28,
    "start_time": "2022-05-26T06:53:54.748Z"
   },
   {
    "duration": 10,
    "start_time": "2022-05-26T06:53:54.777Z"
   },
   {
    "duration": 618,
    "start_time": "2022-05-26T06:53:54.788Z"
   },
   {
    "duration": 161,
    "start_time": "2022-05-26T06:53:55.407Z"
   },
   {
    "duration": 41,
    "start_time": "2022-05-26T06:53:55.569Z"
   },
   {
    "duration": 17,
    "start_time": "2022-05-26T06:53:55.612Z"
   },
   {
    "duration": 30,
    "start_time": "2022-05-26T06:53:55.630Z"
   },
   {
    "duration": 36,
    "start_time": "2022-05-26T06:53:55.662Z"
   },
   {
    "duration": 11,
    "start_time": "2022-05-26T06:53:55.699Z"
   },
   {
    "duration": 11,
    "start_time": "2022-05-26T06:53:55.711Z"
   },
   {
    "duration": 3,
    "start_time": "2022-05-26T06:53:55.725Z"
   },
   {
    "duration": 16,
    "start_time": "2022-05-26T06:53:55.759Z"
   },
   {
    "duration": 12,
    "start_time": "2022-05-26T06:53:55.777Z"
   },
   {
    "duration": 12,
    "start_time": "2022-05-26T06:53:55.790Z"
   },
   {
    "duration": 1942,
    "start_time": "2022-05-26T06:53:55.803Z"
   },
   {
    "duration": 36,
    "start_time": "2022-05-26T06:53:57.747Z"
   },
   {
    "duration": 96,
    "start_time": "2022-05-26T06:53:57.785Z"
   },
   {
    "duration": 6,
    "start_time": "2022-05-26T06:53:57.883Z"
   },
   {
    "duration": 38,
    "start_time": "2022-05-26T06:53:57.891Z"
   },
   {
    "duration": 189,
    "start_time": "2022-05-26T06:53:57.931Z"
   },
   {
    "duration": 157,
    "start_time": "2022-05-26T06:53:58.122Z"
   },
   {
    "duration": 9,
    "start_time": "2022-05-26T06:53:58.281Z"
   },
   {
    "duration": 39,
    "start_time": "2022-05-26T06:53:58.291Z"
   },
   {
    "duration": 190,
    "start_time": "2022-05-26T06:53:58.332Z"
   },
   {
    "duration": 4,
    "start_time": "2022-05-26T06:53:58.523Z"
   },
   {
    "duration": 179,
    "start_time": "2022-05-26T06:53:58.529Z"
   },
   {
    "duration": 9,
    "start_time": "2022-05-26T06:53:58.710Z"
   },
   {
    "duration": 48,
    "start_time": "2022-05-26T06:53:58.721Z"
   },
   {
    "duration": 21,
    "start_time": "2022-05-26T06:53:58.771Z"
   },
   {
    "duration": 67,
    "start_time": "2022-05-26T06:53:58.793Z"
   },
   {
    "duration": 380,
    "start_time": "2022-05-26T06:53:58.862Z"
   },
   {
    "duration": 228,
    "start_time": "2022-05-26T06:53:59.245Z"
   },
   {
    "duration": 4,
    "start_time": "2022-05-26T06:53:59.474Z"
   },
   {
    "duration": 37,
    "start_time": "2022-05-26T06:53:59.480Z"
   },
   {
    "duration": 22,
    "start_time": "2022-05-26T06:53:59.519Z"
   },
   {
    "duration": 142,
    "start_time": "2022-05-26T06:53:59.543Z"
   },
   {
    "duration": 0,
    "start_time": "2022-05-26T06:53:59.687Z"
   },
   {
    "duration": 0,
    "start_time": "2022-05-26T06:53:59.689Z"
   },
   {
    "duration": 0,
    "start_time": "2022-05-26T06:53:59.690Z"
   },
   {
    "duration": 0,
    "start_time": "2022-05-26T06:53:59.691Z"
   },
   {
    "duration": 0,
    "start_time": "2022-05-26T06:53:59.692Z"
   },
   {
    "duration": 0,
    "start_time": "2022-05-26T06:53:59.694Z"
   },
   {
    "duration": 26,
    "start_time": "2022-05-26T06:58:31.764Z"
   },
   {
    "duration": 52,
    "start_time": "2022-05-26T06:58:42.173Z"
   },
   {
    "duration": 355,
    "start_time": "2022-05-26T06:58:49.167Z"
   },
   {
    "duration": 58,
    "start_time": "2022-05-26T06:59:33.390Z"
   },
   {
    "duration": 427,
    "start_time": "2022-05-26T06:59:35.845Z"
   },
   {
    "duration": 55,
    "start_time": "2022-05-26T06:59:54.796Z"
   },
   {
    "duration": 324,
    "start_time": "2022-05-26T06:59:56.996Z"
   },
   {
    "duration": 400,
    "start_time": "2022-05-26T07:21:49.786Z"
   },
   {
    "duration": 21,
    "start_time": "2022-05-26T07:22:32.854Z"
   },
   {
    "duration": 12,
    "start_time": "2022-05-26T07:22:38.243Z"
   },
   {
    "duration": 13,
    "start_time": "2022-05-26T07:23:18.998Z"
   },
   {
    "duration": 63,
    "start_time": "2022-05-26T07:23:31.948Z"
   },
   {
    "duration": 266,
    "start_time": "2022-05-26T07:23:37.685Z"
   },
   {
    "duration": 12,
    "start_time": "2022-05-26T07:25:14.736Z"
   },
   {
    "duration": 55,
    "start_time": "2022-05-26T07:25:24.541Z"
   },
   {
    "duration": 208,
    "start_time": "2022-05-26T07:25:28.388Z"
   },
   {
    "duration": 10,
    "start_time": "2022-05-26T07:34:22.700Z"
   },
   {
    "duration": 13,
    "start_time": "2022-05-26T07:35:51.440Z"
   },
   {
    "duration": 40,
    "start_time": "2022-05-26T07:35:52.925Z"
   },
   {
    "duration": 31,
    "start_time": "2022-05-26T07:37:05.044Z"
   },
   {
    "duration": 750,
    "start_time": "2022-05-26T07:38:17.468Z"
   },
   {
    "duration": 16,
    "start_time": "2022-05-26T07:55:30.969Z"
   },
   {
    "duration": 11,
    "start_time": "2022-05-26T07:55:32.644Z"
   },
   {
    "duration": 470,
    "start_time": "2022-05-26T07:55:34.242Z"
   },
   {
    "duration": 728,
    "start_time": "2022-05-26T07:55:37.023Z"
   },
   {
    "duration": 16,
    "start_time": "2022-05-26T07:56:21.803Z"
   },
   {
    "duration": 13,
    "start_time": "2022-05-26T07:56:23.626Z"
   },
   {
    "duration": 660,
    "start_time": "2022-05-26T07:56:25.361Z"
   },
   {
    "duration": 783,
    "start_time": "2022-05-26T07:56:29.318Z"
   },
   {
    "duration": 17,
    "start_time": "2022-05-26T07:57:05.480Z"
   },
   {
    "duration": 24,
    "start_time": "2022-05-26T07:57:08.692Z"
   },
   {
    "duration": 469,
    "start_time": "2022-05-26T07:57:11.037Z"
   },
   {
    "duration": 58,
    "start_time": "2022-05-26T08:12:32.960Z"
   },
   {
    "duration": 13,
    "start_time": "2022-05-26T08:13:07.177Z"
   },
   {
    "duration": 14,
    "start_time": "2022-05-26T08:13:22.481Z"
   },
   {
    "duration": 19,
    "start_time": "2022-05-26T08:15:54.193Z"
   },
   {
    "duration": 12,
    "start_time": "2022-05-26T08:19:18.171Z"
   },
   {
    "duration": 4,
    "start_time": "2022-05-26T08:20:18.158Z"
   },
   {
    "duration": 164,
    "start_time": "2022-05-26T08:20:18.164Z"
   },
   {
    "duration": 40,
    "start_time": "2022-05-26T08:20:18.329Z"
   },
   {
    "duration": 98,
    "start_time": "2022-05-26T08:20:18.372Z"
   },
   {
    "duration": 10,
    "start_time": "2022-05-26T08:20:18.471Z"
   },
   {
    "duration": 38,
    "start_time": "2022-05-26T08:20:18.483Z"
   },
   {
    "duration": 59,
    "start_time": "2022-05-26T08:20:18.523Z"
   },
   {
    "duration": 21,
    "start_time": "2022-05-26T08:20:18.583Z"
   },
   {
    "duration": 8,
    "start_time": "2022-05-26T08:20:18.607Z"
   },
   {
    "duration": 4,
    "start_time": "2022-05-26T08:20:18.617Z"
   },
   {
    "duration": 43,
    "start_time": "2022-05-26T08:20:18.622Z"
   },
   {
    "duration": 230,
    "start_time": "2022-05-26T08:20:18.666Z"
   },
   {
    "duration": 238,
    "start_time": "2022-05-26T08:20:18.898Z"
   },
   {
    "duration": 303,
    "start_time": "2022-05-26T08:20:19.138Z"
   },
   {
    "duration": 16,
    "start_time": "2022-05-26T08:20:19.443Z"
   },
   {
    "duration": 20,
    "start_time": "2022-05-26T08:20:19.461Z"
   },
   {
    "duration": 865,
    "start_time": "2022-05-26T08:20:19.482Z"
   },
   {
    "duration": 29,
    "start_time": "2022-05-26T08:20:20.349Z"
   },
   {
    "duration": 11,
    "start_time": "2022-05-26T08:20:20.380Z"
   },
   {
    "duration": 701,
    "start_time": "2022-05-26T08:20:20.393Z"
   },
   {
    "duration": 174,
    "start_time": "2022-05-26T08:20:21.095Z"
   },
   {
    "duration": 43,
    "start_time": "2022-05-26T08:20:21.270Z"
   },
   {
    "duration": 14,
    "start_time": "2022-05-26T08:20:21.315Z"
   },
   {
    "duration": 37,
    "start_time": "2022-05-26T08:20:21.332Z"
   },
   {
    "duration": 36,
    "start_time": "2022-05-26T08:20:21.371Z"
   },
   {
    "duration": 10,
    "start_time": "2022-05-26T08:20:21.409Z"
   },
   {
    "duration": 39,
    "start_time": "2022-05-26T08:20:21.421Z"
   },
   {
    "duration": 3,
    "start_time": "2022-05-26T08:20:21.462Z"
   },
   {
    "duration": 21,
    "start_time": "2022-05-26T08:20:21.466Z"
   },
   {
    "duration": 14,
    "start_time": "2022-05-26T08:20:21.488Z"
   },
   {
    "duration": 18,
    "start_time": "2022-05-26T08:20:21.503Z"
   },
   {
    "duration": 1894,
    "start_time": "2022-05-26T08:20:21.522Z"
   },
   {
    "duration": 21,
    "start_time": "2022-05-26T08:20:23.417Z"
   },
   {
    "duration": 75,
    "start_time": "2022-05-26T08:20:23.440Z"
   },
   {
    "duration": 5,
    "start_time": "2022-05-26T08:20:23.516Z"
   },
   {
    "duration": 20,
    "start_time": "2022-05-26T08:20:23.522Z"
   },
   {
    "duration": 275,
    "start_time": "2022-05-26T08:20:23.543Z"
   },
   {
    "duration": 173,
    "start_time": "2022-05-26T08:20:23.820Z"
   },
   {
    "duration": 11,
    "start_time": "2022-05-26T08:20:23.997Z"
   },
   {
    "duration": 51,
    "start_time": "2022-05-26T08:20:24.009Z"
   },
   {
    "duration": 211,
    "start_time": "2022-05-26T08:20:24.062Z"
   },
   {
    "duration": 4,
    "start_time": "2022-05-26T08:20:24.275Z"
   },
   {
    "duration": 143,
    "start_time": "2022-05-26T08:20:24.281Z"
   },
   {
    "duration": 37,
    "start_time": "2022-05-26T08:20:24.426Z"
   },
   {
    "duration": 34,
    "start_time": "2022-05-26T08:20:24.465Z"
   },
   {
    "duration": 20,
    "start_time": "2022-05-26T08:20:24.501Z"
   },
   {
    "duration": 10,
    "start_time": "2022-05-26T08:20:35.232Z"
   },
   {
    "duration": 6,
    "start_time": "2022-05-26T08:24:02.091Z"
   },
   {
    "duration": 9,
    "start_time": "2022-05-26T08:27:58.630Z"
   },
   {
    "duration": 708,
    "start_time": "2022-05-26T08:32:24.520Z"
   },
   {
    "duration": 6,
    "start_time": "2022-05-26T08:33:08.853Z"
   },
   {
    "duration": 608,
    "start_time": "2022-05-26T08:33:15.740Z"
   },
   {
    "duration": 16,
    "start_time": "2022-05-26T08:37:45.569Z"
   },
   {
    "duration": 13,
    "start_time": "2022-05-26T08:40:00.556Z"
   },
   {
    "duration": 14,
    "start_time": "2022-05-26T08:40:03.639Z"
   },
   {
    "duration": 3489,
    "start_time": "2022-05-26T08:40:06.093Z"
   },
   {
    "duration": 14,
    "start_time": "2022-05-26T08:41:13.358Z"
   },
   {
    "duration": 17,
    "start_time": "2022-05-26T08:41:15.570Z"
   },
   {
    "duration": 945,
    "start_time": "2022-05-26T08:41:17.675Z"
   },
   {
    "duration": 20,
    "start_time": "2022-05-26T08:42:55.248Z"
   },
   {
    "duration": 29,
    "start_time": "2022-05-26T08:42:57.694Z"
   },
   {
    "duration": 16,
    "start_time": "2022-05-26T08:42:59.534Z"
   },
   {
    "duration": 635,
    "start_time": "2022-05-26T08:43:01.381Z"
   },
   {
    "duration": 4,
    "start_time": "2022-05-26T08:43:41.360Z"
   },
   {
    "duration": 199,
    "start_time": "2022-05-26T08:43:41.366Z"
   },
   {
    "duration": 17,
    "start_time": "2022-05-26T08:43:41.567Z"
   },
   {
    "duration": 112,
    "start_time": "2022-05-26T08:43:41.585Z"
   },
   {
    "duration": 9,
    "start_time": "2022-05-26T08:43:41.699Z"
   },
   {
    "duration": 49,
    "start_time": "2022-05-26T08:43:41.710Z"
   },
   {
    "duration": 20,
    "start_time": "2022-05-26T08:43:41.761Z"
   },
   {
    "duration": 16,
    "start_time": "2022-05-26T08:43:41.782Z"
   },
   {
    "duration": 6,
    "start_time": "2022-05-26T08:43:41.799Z"
   },
   {
    "duration": 6,
    "start_time": "2022-05-26T08:43:41.807Z"
   },
   {
    "duration": 15,
    "start_time": "2022-05-26T08:43:41.815Z"
   },
   {
    "duration": 217,
    "start_time": "2022-05-26T08:43:41.832Z"
   },
   {
    "duration": 233,
    "start_time": "2022-05-26T08:43:42.051Z"
   },
   {
    "duration": 194,
    "start_time": "2022-05-26T08:43:42.285Z"
   },
   {
    "duration": 7,
    "start_time": "2022-05-26T08:43:42.481Z"
   },
   {
    "duration": 23,
    "start_time": "2022-05-26T08:43:42.490Z"
   },
   {
    "duration": 818,
    "start_time": "2022-05-26T08:43:42.514Z"
   },
   {
    "duration": 32,
    "start_time": "2022-05-26T08:43:43.334Z"
   },
   {
    "duration": 10,
    "start_time": "2022-05-26T08:43:43.368Z"
   },
   {
    "duration": 714,
    "start_time": "2022-05-26T08:43:43.379Z"
   },
   {
    "duration": 177,
    "start_time": "2022-05-26T08:43:44.095Z"
   },
   {
    "duration": 40,
    "start_time": "2022-05-26T08:43:44.274Z"
   },
   {
    "duration": 16,
    "start_time": "2022-05-26T08:43:44.316Z"
   },
   {
    "duration": 28,
    "start_time": "2022-05-26T08:43:44.334Z"
   },
   {
    "duration": 41,
    "start_time": "2022-05-26T08:43:44.363Z"
   },
   {
    "duration": 11,
    "start_time": "2022-05-26T08:43:44.405Z"
   },
   {
    "duration": 13,
    "start_time": "2022-05-26T08:43:44.417Z"
   },
   {
    "duration": 29,
    "start_time": "2022-05-26T08:43:44.431Z"
   },
   {
    "duration": 18,
    "start_time": "2022-05-26T08:43:44.464Z"
   },
   {
    "duration": 13,
    "start_time": "2022-05-26T08:43:44.483Z"
   },
   {
    "duration": 11,
    "start_time": "2022-05-26T08:43:44.497Z"
   },
   {
    "duration": 1944,
    "start_time": "2022-05-26T08:43:44.510Z"
   },
   {
    "duration": 22,
    "start_time": "2022-05-26T08:43:46.455Z"
   },
   {
    "duration": 60,
    "start_time": "2022-05-26T08:43:46.478Z"
   },
   {
    "duration": 5,
    "start_time": "2022-05-26T08:43:46.559Z"
   },
   {
    "duration": 15,
    "start_time": "2022-05-26T08:43:46.565Z"
   },
   {
    "duration": 159,
    "start_time": "2022-05-26T08:43:46.582Z"
   },
   {
    "duration": 163,
    "start_time": "2022-05-26T08:43:46.742Z"
   },
   {
    "duration": 10,
    "start_time": "2022-05-26T08:43:46.907Z"
   },
   {
    "duration": 40,
    "start_time": "2022-05-26T08:43:46.919Z"
   },
   {
    "duration": 200,
    "start_time": "2022-05-26T08:43:46.961Z"
   },
   {
    "duration": 4,
    "start_time": "2022-05-26T08:43:47.163Z"
   },
   {
    "duration": 134,
    "start_time": "2022-05-26T08:43:47.169Z"
   },
   {
    "duration": 7,
    "start_time": "2022-05-26T08:43:47.304Z"
   },
   {
    "duration": 49,
    "start_time": "2022-05-26T08:43:47.312Z"
   },
   {
    "duration": 20,
    "start_time": "2022-05-26T08:43:47.362Z"
   },
   {
    "duration": 9,
    "start_time": "2022-05-26T08:43:47.383Z"
   },
   {
    "duration": 75,
    "start_time": "2022-05-26T08:43:47.394Z"
   },
   {
    "duration": 360,
    "start_time": "2022-05-26T08:43:47.470Z"
   },
   {
    "duration": 262,
    "start_time": "2022-05-26T08:43:47.832Z"
   },
   {
    "duration": 15,
    "start_time": "2022-05-26T08:43:48.096Z"
   },
   {
    "duration": 11,
    "start_time": "2022-05-26T08:43:48.113Z"
   },
   {
    "duration": 597,
    "start_time": "2022-05-26T08:43:48.126Z"
   },
   {
    "duration": 0,
    "start_time": "2022-05-26T08:43:48.725Z"
   },
   {
    "duration": 0,
    "start_time": "2022-05-26T08:43:48.726Z"
   },
   {
    "duration": 0,
    "start_time": "2022-05-26T08:43:48.727Z"
   },
   {
    "duration": 0,
    "start_time": "2022-05-26T08:43:48.728Z"
   },
   {
    "duration": 0,
    "start_time": "2022-05-26T08:43:48.729Z"
   },
   {
    "duration": 0,
    "start_time": "2022-05-26T08:43:48.730Z"
   },
   {
    "duration": 0,
    "start_time": "2022-05-26T08:43:48.731Z"
   },
   {
    "duration": 0,
    "start_time": "2022-05-26T08:43:48.732Z"
   },
   {
    "duration": 0,
    "start_time": "2022-05-26T08:43:48.733Z"
   },
   {
    "duration": 0,
    "start_time": "2022-05-26T08:43:48.733Z"
   },
   {
    "duration": 0,
    "start_time": "2022-05-26T08:43:48.734Z"
   },
   {
    "duration": 1450,
    "start_time": "2022-05-26T19:44:41.051Z"
   },
   {
    "duration": 257,
    "start_time": "2022-05-26T19:44:42.504Z"
   },
   {
    "duration": 17,
    "start_time": "2022-05-26T19:44:42.763Z"
   },
   {
    "duration": 97,
    "start_time": "2022-05-26T19:44:42.788Z"
   },
   {
    "duration": 13,
    "start_time": "2022-05-26T19:44:42.893Z"
   },
   {
    "duration": 40,
    "start_time": "2022-05-26T19:44:42.908Z"
   },
   {
    "duration": 48,
    "start_time": "2022-05-26T19:44:42.950Z"
   },
   {
    "duration": 20,
    "start_time": "2022-05-26T19:44:42.999Z"
   },
   {
    "duration": 8,
    "start_time": "2022-05-26T19:44:43.021Z"
   },
   {
    "duration": 8,
    "start_time": "2022-05-26T19:44:43.031Z"
   },
   {
    "duration": 48,
    "start_time": "2022-05-26T19:44:43.041Z"
   },
   {
    "duration": 317,
    "start_time": "2022-05-26T19:44:43.098Z"
   },
   {
    "duration": 285,
    "start_time": "2022-05-26T19:44:43.417Z"
   },
   {
    "duration": 219,
    "start_time": "2022-05-26T19:44:43.704Z"
   },
   {
    "duration": 8,
    "start_time": "2022-05-26T19:44:43.925Z"
   },
   {
    "duration": 27,
    "start_time": "2022-05-26T19:44:43.934Z"
   },
   {
    "duration": 1154,
    "start_time": "2022-05-26T19:44:43.963Z"
   },
   {
    "duration": 32,
    "start_time": "2022-05-26T19:44:45.119Z"
   },
   {
    "duration": 11,
    "start_time": "2022-05-26T19:44:45.153Z"
   },
   {
    "duration": 731,
    "start_time": "2022-05-26T19:44:45.184Z"
   },
   {
    "duration": 200,
    "start_time": "2022-05-26T19:44:45.917Z"
   },
   {
    "duration": 47,
    "start_time": "2022-05-26T19:44:46.118Z"
   },
   {
    "duration": 35,
    "start_time": "2022-05-26T19:44:46.167Z"
   },
   {
    "duration": 32,
    "start_time": "2022-05-26T19:44:46.204Z"
   },
   {
    "duration": 71,
    "start_time": "2022-05-26T19:44:46.238Z"
   },
   {
    "duration": 15,
    "start_time": "2022-05-26T19:44:46.311Z"
   },
   {
    "duration": 16,
    "start_time": "2022-05-26T19:44:46.328Z"
   },
   {
    "duration": 5,
    "start_time": "2022-05-26T19:44:46.349Z"
   },
   {
    "duration": 54,
    "start_time": "2022-05-26T19:44:46.355Z"
   },
   {
    "duration": 15,
    "start_time": "2022-05-26T19:44:46.411Z"
   },
   {
    "duration": 12,
    "start_time": "2022-05-26T19:44:46.428Z"
   },
   {
    "duration": 2447,
    "start_time": "2022-05-26T19:44:46.442Z"
   },
   {
    "duration": 27,
    "start_time": "2022-05-26T19:44:48.895Z"
   },
   {
    "duration": 93,
    "start_time": "2022-05-26T19:44:48.924Z"
   },
   {
    "duration": 6,
    "start_time": "2022-05-26T19:44:49.019Z"
   },
   {
    "duration": 18,
    "start_time": "2022-05-26T19:44:49.026Z"
   },
   {
    "duration": 210,
    "start_time": "2022-05-26T19:44:49.046Z"
   },
   {
    "duration": 199,
    "start_time": "2022-05-26T19:44:49.258Z"
   },
   {
    "duration": 14,
    "start_time": "2022-05-26T19:44:49.459Z"
   },
   {
    "duration": 46,
    "start_time": "2022-05-26T19:44:49.484Z"
   },
   {
    "duration": 260,
    "start_time": "2022-05-26T19:44:49.532Z"
   },
   {
    "duration": 4,
    "start_time": "2022-05-26T19:44:49.801Z"
   },
   {
    "duration": 158,
    "start_time": "2022-05-26T19:44:49.807Z"
   },
   {
    "duration": 28,
    "start_time": "2022-05-26T19:44:49.966Z"
   },
   {
    "duration": 30,
    "start_time": "2022-05-26T19:44:49.998Z"
   },
   {
    "duration": 26,
    "start_time": "2022-05-26T19:44:50.031Z"
   },
   {
    "duration": 35,
    "start_time": "2022-05-26T19:44:50.059Z"
   },
   {
    "duration": 74,
    "start_time": "2022-05-26T19:44:50.096Z"
   },
   {
    "duration": 439,
    "start_time": "2022-05-26T19:44:50.172Z"
   },
   {
    "duration": 292,
    "start_time": "2022-05-26T19:44:50.613Z"
   },
   {
    "duration": 16,
    "start_time": "2022-05-26T19:44:50.907Z"
   },
   {
    "duration": 13,
    "start_time": "2022-05-26T19:44:50.925Z"
   },
   {
    "duration": 193,
    "start_time": "2022-05-26T19:44:50.940Z"
   },
   {
    "duration": 0,
    "start_time": "2022-05-26T19:44:51.136Z"
   },
   {
    "duration": 0,
    "start_time": "2022-05-26T19:44:51.137Z"
   },
   {
    "duration": 0,
    "start_time": "2022-05-26T19:44:51.139Z"
   },
   {
    "duration": 0,
    "start_time": "2022-05-26T19:44:51.142Z"
   },
   {
    "duration": 0,
    "start_time": "2022-05-26T19:44:51.143Z"
   },
   {
    "duration": 0,
    "start_time": "2022-05-26T19:44:51.144Z"
   },
   {
    "duration": 0,
    "start_time": "2022-05-26T19:44:51.145Z"
   },
   {
    "duration": 0,
    "start_time": "2022-05-26T19:44:51.147Z"
   },
   {
    "duration": 0,
    "start_time": "2022-05-26T19:44:51.148Z"
   },
   {
    "duration": 0,
    "start_time": "2022-05-26T19:44:51.150Z"
   },
   {
    "duration": 0,
    "start_time": "2022-05-26T19:44:51.151Z"
   },
   {
    "duration": 16,
    "start_time": "2022-05-26T20:06:10.944Z"
   },
   {
    "duration": 13,
    "start_time": "2022-05-26T20:06:13.034Z"
   },
   {
    "duration": 525,
    "start_time": "2022-05-26T20:06:15.163Z"
   },
   {
    "duration": 22,
    "start_time": "2022-05-26T20:07:05.950Z"
   },
   {
    "duration": 35,
    "start_time": "2022-05-26T20:07:48.265Z"
   },
   {
    "duration": 30,
    "start_time": "2022-05-26T20:09:39.501Z"
   },
   {
    "duration": 21,
    "start_time": "2022-05-26T20:09:48.223Z"
   },
   {
    "duration": 34,
    "start_time": "2022-05-26T20:09:50.676Z"
   },
   {
    "duration": 40,
    "start_time": "2022-05-26T20:11:32.136Z"
   },
   {
    "duration": 28,
    "start_time": "2022-05-26T20:12:00.173Z"
   },
   {
    "duration": 31,
    "start_time": "2022-05-26T20:12:28.263Z"
   },
   {
    "duration": 33,
    "start_time": "2022-05-26T20:12:31.259Z"
   },
   {
    "duration": 42,
    "start_time": "2022-05-26T20:12:33.567Z"
   },
   {
    "duration": 19,
    "start_time": "2022-05-26T20:12:36.355Z"
   },
   {
    "duration": 40,
    "start_time": "2022-05-26T20:13:49.897Z"
   },
   {
    "duration": 847,
    "start_time": "2022-05-26T20:14:01.375Z"
   },
   {
    "duration": 17,
    "start_time": "2022-05-26T20:15:02.936Z"
   },
   {
    "duration": 23,
    "start_time": "2022-05-26T20:15:15.497Z"
   },
   {
    "duration": 29,
    "start_time": "2022-05-26T20:15:17.431Z"
   },
   {
    "duration": 13,
    "start_time": "2022-05-26T20:15:19.098Z"
   },
   {
    "duration": 453,
    "start_time": "2022-05-26T20:15:20.850Z"
   },
   {
    "duration": 606,
    "start_time": "2022-05-26T20:15:25.272Z"
   },
   {
    "duration": 27,
    "start_time": "2022-05-26T20:15:34.432Z"
   },
   {
    "duration": 75,
    "start_time": "2022-05-26T20:15:40.271Z"
   },
   {
    "duration": 43,
    "start_time": "2022-05-26T20:15:45.586Z"
   },
   {
    "duration": 36,
    "start_time": "2022-05-26T20:15:51.223Z"
   },
   {
    "duration": 45,
    "start_time": "2022-05-26T20:15:56.728Z"
   },
   {
    "duration": 917,
    "start_time": "2022-05-26T20:15:58.835Z"
   },
   {
    "duration": 4,
    "start_time": "2022-05-26T20:19:56.602Z"
   },
   {
    "duration": 140,
    "start_time": "2022-05-26T20:19:56.608Z"
   },
   {
    "duration": 35,
    "start_time": "2022-05-26T20:19:56.750Z"
   },
   {
    "duration": 66,
    "start_time": "2022-05-26T20:19:56.787Z"
   },
   {
    "duration": 11,
    "start_time": "2022-05-26T20:19:56.883Z"
   },
   {
    "duration": 25,
    "start_time": "2022-05-26T20:19:56.895Z"
   },
   {
    "duration": 24,
    "start_time": "2022-05-26T20:19:56.921Z"
   },
   {
    "duration": 53,
    "start_time": "2022-05-26T20:19:56.947Z"
   },
   {
    "duration": 7,
    "start_time": "2022-05-26T20:19:57.001Z"
   },
   {
    "duration": 5,
    "start_time": "2022-05-26T20:19:57.010Z"
   },
   {
    "duration": 16,
    "start_time": "2022-05-26T20:19:57.017Z"
   },
   {
    "duration": 231,
    "start_time": "2022-05-26T20:19:57.035Z"
   },
   {
    "duration": 278,
    "start_time": "2022-05-26T20:19:57.268Z"
   },
   {
    "duration": 226,
    "start_time": "2022-05-26T20:19:57.548Z"
   },
   {
    "duration": 14,
    "start_time": "2022-05-26T20:19:57.776Z"
   },
   {
    "duration": 25,
    "start_time": "2022-05-26T20:19:57.792Z"
   },
   {
    "duration": 1029,
    "start_time": "2022-05-26T20:19:57.818Z"
   },
   {
    "duration": 40,
    "start_time": "2022-05-26T20:19:58.849Z"
   },
   {
    "duration": 12,
    "start_time": "2022-05-26T20:19:58.890Z"
   },
   {
    "duration": 703,
    "start_time": "2022-05-26T20:19:58.904Z"
   },
   {
    "duration": 206,
    "start_time": "2022-05-26T20:19:59.609Z"
   },
   {
    "duration": 50,
    "start_time": "2022-05-26T20:19:59.817Z"
   },
   {
    "duration": 26,
    "start_time": "2022-05-26T20:19:59.869Z"
   },
   {
    "duration": 21,
    "start_time": "2022-05-26T20:19:59.897Z"
   },
   {
    "duration": 81,
    "start_time": "2022-05-26T20:19:59.921Z"
   },
   {
    "duration": 16,
    "start_time": "2022-05-26T20:20:00.004Z"
   },
   {
    "duration": 17,
    "start_time": "2022-05-26T20:20:00.022Z"
   },
   {
    "duration": 4,
    "start_time": "2022-05-26T20:20:00.041Z"
   },
   {
    "duration": 23,
    "start_time": "2022-05-26T20:20:00.083Z"
   },
   {
    "duration": 20,
    "start_time": "2022-05-26T20:20:00.108Z"
   },
   {
    "duration": 32,
    "start_time": "2022-05-26T20:20:00.130Z"
   },
   {
    "duration": 2447,
    "start_time": "2022-05-26T20:20:00.164Z"
   },
   {
    "duration": 24,
    "start_time": "2022-05-26T20:20:02.613Z"
   },
   {
    "duration": 92,
    "start_time": "2022-05-26T20:20:02.639Z"
   },
   {
    "duration": 9,
    "start_time": "2022-05-26T20:20:02.733Z"
   },
   {
    "duration": 58,
    "start_time": "2022-05-26T20:20:02.744Z"
   },
   {
    "duration": 243,
    "start_time": "2022-05-26T20:20:02.804Z"
   },
   {
    "duration": 243,
    "start_time": "2022-05-26T20:20:03.049Z"
   },
   {
    "duration": 12,
    "start_time": "2022-05-26T20:20:03.294Z"
   },
   {
    "duration": 42,
    "start_time": "2022-05-26T20:20:03.308Z"
   },
   {
    "duration": 268,
    "start_time": "2022-05-26T20:20:03.352Z"
   },
   {
    "duration": 5,
    "start_time": "2022-05-26T20:20:03.621Z"
   },
   {
    "duration": 184,
    "start_time": "2022-05-26T20:20:03.628Z"
   },
   {
    "duration": 9,
    "start_time": "2022-05-26T20:20:03.814Z"
   },
   {
    "duration": 65,
    "start_time": "2022-05-26T20:20:03.825Z"
   },
   {
    "duration": 29,
    "start_time": "2022-05-26T20:20:03.892Z"
   },
   {
    "duration": 94,
    "start_time": "2022-05-26T20:20:03.923Z"
   },
   {
    "duration": 30,
    "start_time": "2022-05-26T20:20:04.019Z"
   },
   {
    "duration": 43,
    "start_time": "2022-05-26T20:20:04.051Z"
   },
   {
    "duration": 50,
    "start_time": "2022-05-26T20:20:04.096Z"
   },
   {
    "duration": 812,
    "start_time": "2022-05-26T20:20:04.148Z"
   },
   {
    "duration": 5,
    "start_time": "2022-05-26T20:20:04.962Z"
   },
   {
    "duration": 74,
    "start_time": "2022-05-26T20:20:04.969Z"
   },
   {
    "duration": 71,
    "start_time": "2022-05-26T20:20:05.045Z"
   },
   {
    "duration": 76,
    "start_time": "2022-05-26T20:20:05.118Z"
   },
   {
    "duration": 0,
    "start_time": "2022-05-26T20:20:05.197Z"
   },
   {
    "duration": 0,
    "start_time": "2022-05-26T20:20:05.199Z"
   },
   {
    "duration": 0,
    "start_time": "2022-05-26T20:20:05.200Z"
   },
   {
    "duration": 0,
    "start_time": "2022-05-26T20:20:05.202Z"
   },
   {
    "duration": 0,
    "start_time": "2022-05-26T20:20:05.203Z"
   },
   {
    "duration": 0,
    "start_time": "2022-05-26T20:20:05.205Z"
   },
   {
    "duration": 29,
    "start_time": "2022-05-26T20:36:23.782Z"
   },
   {
    "duration": 24,
    "start_time": "2022-05-26T20:38:09.932Z"
   },
   {
    "duration": 7,
    "start_time": "2022-05-26T20:38:29.497Z"
   },
   {
    "duration": 10,
    "start_time": "2022-05-26T20:38:31.785Z"
   },
   {
    "duration": 6,
    "start_time": "2022-05-26T20:38:36.847Z"
   },
   {
    "duration": 5,
    "start_time": "2022-05-26T20:38:44.590Z"
   },
   {
    "duration": 6,
    "start_time": "2022-05-26T20:40:50.570Z"
   },
   {
    "duration": 1278,
    "start_time": "2022-05-27T12:38:47.904Z"
   },
   {
    "duration": 133,
    "start_time": "2022-05-27T12:38:49.184Z"
   },
   {
    "duration": 14,
    "start_time": "2022-05-27T12:38:49.318Z"
   },
   {
    "duration": 76,
    "start_time": "2022-05-27T12:38:49.334Z"
   },
   {
    "duration": 30,
    "start_time": "2022-05-27T12:38:49.412Z"
   },
   {
    "duration": 33,
    "start_time": "2022-05-27T12:38:49.444Z"
   },
   {
    "duration": 26,
    "start_time": "2022-05-27T12:38:49.479Z"
   },
   {
    "duration": 36,
    "start_time": "2022-05-27T12:38:49.507Z"
   },
   {
    "duration": 10,
    "start_time": "2022-05-27T12:38:49.546Z"
   },
   {
    "duration": 6,
    "start_time": "2022-05-27T12:38:49.560Z"
   },
   {
    "duration": 19,
    "start_time": "2022-05-27T12:38:49.568Z"
   },
   {
    "duration": 333,
    "start_time": "2022-05-27T12:38:49.589Z"
   },
   {
    "duration": 281,
    "start_time": "2022-05-27T12:38:49.924Z"
   },
   {
    "duration": 228,
    "start_time": "2022-05-27T12:38:50.207Z"
   },
   {
    "duration": 11,
    "start_time": "2022-05-27T12:38:50.436Z"
   },
   {
    "duration": 31,
    "start_time": "2022-05-27T12:38:50.448Z"
   },
   {
    "duration": 1021,
    "start_time": "2022-05-27T12:38:50.481Z"
   },
   {
    "duration": 26,
    "start_time": "2022-05-27T12:38:51.504Z"
   },
   {
    "duration": 24,
    "start_time": "2022-05-27T12:38:51.531Z"
   },
   {
    "duration": 692,
    "start_time": "2022-05-27T12:38:51.556Z"
   },
   {
    "duration": 180,
    "start_time": "2022-05-27T12:38:52.251Z"
   },
   {
    "duration": 53,
    "start_time": "2022-05-27T12:38:52.433Z"
   },
   {
    "duration": 18,
    "start_time": "2022-05-27T12:38:52.487Z"
   },
   {
    "duration": 18,
    "start_time": "2022-05-27T12:38:52.506Z"
   },
   {
    "duration": 58,
    "start_time": "2022-05-27T12:38:52.526Z"
   },
   {
    "duration": 10,
    "start_time": "2022-05-27T12:38:52.586Z"
   },
   {
    "duration": 10,
    "start_time": "2022-05-27T12:38:52.598Z"
   },
   {
    "duration": 33,
    "start_time": "2022-05-27T12:38:52.611Z"
   },
   {
    "duration": 28,
    "start_time": "2022-05-27T12:38:52.646Z"
   },
   {
    "duration": 14,
    "start_time": "2022-05-27T12:38:52.675Z"
   },
   {
    "duration": 16,
    "start_time": "2022-05-27T12:38:52.690Z"
   },
   {
    "duration": 2188,
    "start_time": "2022-05-27T12:38:52.708Z"
   },
   {
    "duration": 23,
    "start_time": "2022-05-27T12:38:54.898Z"
   },
   {
    "duration": 83,
    "start_time": "2022-05-27T12:38:54.923Z"
   },
   {
    "duration": 4,
    "start_time": "2022-05-27T12:38:55.007Z"
   },
   {
    "duration": 16,
    "start_time": "2022-05-27T12:38:55.013Z"
   },
   {
    "duration": 174,
    "start_time": "2022-05-27T12:38:55.042Z"
   },
   {
    "duration": 182,
    "start_time": "2022-05-27T12:38:55.218Z"
   },
   {
    "duration": 11,
    "start_time": "2022-05-27T12:38:55.401Z"
   },
   {
    "duration": 51,
    "start_time": "2022-05-27T12:38:55.414Z"
   },
   {
    "duration": 226,
    "start_time": "2022-05-27T12:38:55.467Z"
   },
   {
    "duration": 5,
    "start_time": "2022-05-27T12:38:55.694Z"
   },
   {
    "duration": 173,
    "start_time": "2022-05-27T12:38:55.700Z"
   },
   {
    "duration": 9,
    "start_time": "2022-05-27T12:38:55.874Z"
   },
   {
    "duration": 23,
    "start_time": "2022-05-27T12:38:55.884Z"
   },
   {
    "duration": 57,
    "start_time": "2022-05-27T12:38:55.909Z"
   },
   {
    "duration": 58,
    "start_time": "2022-05-27T12:38:55.968Z"
   },
   {
    "duration": 48,
    "start_time": "2022-05-27T12:38:56.027Z"
   },
   {
    "duration": 26,
    "start_time": "2022-05-27T12:38:56.077Z"
   },
   {
    "duration": 64,
    "start_time": "2022-05-27T12:38:56.105Z"
   },
   {
    "duration": 750,
    "start_time": "2022-05-27T12:38:56.171Z"
   },
   {
    "duration": 6,
    "start_time": "2022-05-27T12:38:56.922Z"
   },
   {
    "duration": 45,
    "start_time": "2022-05-27T12:38:56.929Z"
   },
   {
    "duration": 27,
    "start_time": "2022-05-27T12:38:56.976Z"
   },
   {
    "duration": 35,
    "start_time": "2022-05-27T12:38:57.006Z"
   },
   {
    "duration": 7,
    "start_time": "2022-05-27T12:38:57.043Z"
   },
   {
    "duration": 22,
    "start_time": "2022-05-27T12:38:57.052Z"
   },
   {
    "duration": 14,
    "start_time": "2022-05-27T12:38:57.076Z"
   },
   {
    "duration": 12,
    "start_time": "2022-05-27T12:38:57.092Z"
   },
   {
    "duration": 488,
    "start_time": "2022-05-27T12:38:57.106Z"
   },
   {
    "duration": 103,
    "start_time": "2022-05-27T12:38:57.596Z"
   },
   {
    "duration": 9,
    "start_time": "2022-05-27T13:10:41.618Z"
   },
   {
    "duration": 118,
    "start_time": "2022-05-27T13:10:54.067Z"
   },
   {
    "duration": 8,
    "start_time": "2022-05-27T13:11:00.712Z"
   },
   {
    "duration": 9,
    "start_time": "2022-05-27T13:11:30.953Z"
   },
   {
    "duration": 19,
    "start_time": "2022-05-27T13:11:50.574Z"
   },
   {
    "duration": 22,
    "start_time": "2022-05-27T13:12:40.183Z"
   }
  ],
  "kernelspec": {
   "display_name": "Python 3 (ipykernel)",
   "language": "python",
   "name": "python3"
  },
  "language_info": {
   "codemirror_mode": {
    "name": "ipython",
    "version": 3
   },
   "file_extension": ".py",
   "mimetype": "text/x-python",
   "name": "python",
   "nbconvert_exporter": "python",
   "pygments_lexer": "ipython3",
   "version": "3.9.7"
  },
  "toc": {
   "base_numbering": 1,
   "nav_menu": {},
   "number_sections": true,
   "sideBar": true,
   "skip_h1_title": true,
   "title_cell": "Table of Contents",
   "title_sidebar": "Contents",
   "toc_cell": false,
   "toc_position": {},
   "toc_section_display": true,
   "toc_window_display": true
  }
 },
 "nbformat": 4,
 "nbformat_minor": 2
}
