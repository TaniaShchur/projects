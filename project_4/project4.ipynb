{
 "cells": [
  {
   "cell_type": "markdown",
   "metadata": {},
   "source": [
    "## <span style=\"color:black\">Описание проекта<span>"
   ]
  },
  {
   "cell_type": "markdown",
   "metadata": {},
   "source": [
    "Надо сделать прогноз оттока клиентов, использую модель машинного обучения и данных о клиентах фитнес центра."
   ]
  },
  {
   "cell_type": "markdown",
   "metadata": {},
   "source": [
    "## <span style=\"color:black\"> Подготовка данных<span>"
   ]
  },
  {
   "cell_type": "code",
   "execution_count": 1,
   "metadata": {},
   "outputs": [],
   "source": [
    "import pandas as pd\n",
    "import seaborn as sns\n",
    "import matplotlib.pyplot as plt\n",
    "from sklearn.preprocessing import StandardScaler\n",
    "from sklearn.model_selection import train_test_split\n",
    "import matplotlib.pyplot as plt\n",
    "from sklearn.linear_model import LogisticRegression\n",
    "from sklearn.ensemble import RandomForestClassifier\n",
    "from sklearn.metrics import accuracy_score, precision_score, recall_score, f1_score\n",
    "from scipy.cluster.hierarchy import dendrogram, linkage \n",
    "from sklearn.cluster import KMeans\n",
    "import itertools\n",
    "from sklearn.metrics import silhouette_score\n",
    "from IPython.display import display\n",
    "\n",
    "import warnings\n",
    "warnings.filterwarnings('ignore')"
   ]
  },
  {
   "cell_type": "code",
   "execution_count": 2,
   "metadata": {},
   "outputs": [
    {
     "name": "stdout",
     "output_type": "stream",
     "text": [
      "(4000, 14)\n"
     ]
    },
    {
     "data": {
      "text/html": [
       "<div>\n",
       "<style scoped>\n",
       "    .dataframe tbody tr th:only-of-type {\n",
       "        vertical-align: middle;\n",
       "    }\n",
       "\n",
       "    .dataframe tbody tr th {\n",
       "        vertical-align: top;\n",
       "    }\n",
       "\n",
       "    .dataframe thead th {\n",
       "        text-align: right;\n",
       "    }\n",
       "</style>\n",
       "<table border=\"1\" class=\"dataframe\">\n",
       "  <thead>\n",
       "    <tr style=\"text-align: right;\">\n",
       "      <th></th>\n",
       "      <th>gender</th>\n",
       "      <th>Near_Location</th>\n",
       "      <th>Partner</th>\n",
       "      <th>Promo_friends</th>\n",
       "      <th>Phone</th>\n",
       "      <th>Contract_period</th>\n",
       "      <th>Group_visits</th>\n",
       "      <th>Age</th>\n",
       "      <th>Avg_additional_charges_total</th>\n",
       "      <th>Month_to_end_contract</th>\n",
       "      <th>Lifetime</th>\n",
       "      <th>Avg_class_frequency_total</th>\n",
       "      <th>Avg_class_frequency_current_month</th>\n",
       "      <th>Churn</th>\n",
       "    </tr>\n",
       "  </thead>\n",
       "  <tbody>\n",
       "    <tr>\n",
       "      <th>0</th>\n",
       "      <td>1</td>\n",
       "      <td>1</td>\n",
       "      <td>1</td>\n",
       "      <td>1</td>\n",
       "      <td>0</td>\n",
       "      <td>6</td>\n",
       "      <td>1</td>\n",
       "      <td>29</td>\n",
       "      <td>14.227470</td>\n",
       "      <td>5.0</td>\n",
       "      <td>3</td>\n",
       "      <td>0.020398</td>\n",
       "      <td>0.000000</td>\n",
       "      <td>0</td>\n",
       "    </tr>\n",
       "    <tr>\n",
       "      <th>1</th>\n",
       "      <td>0</td>\n",
       "      <td>1</td>\n",
       "      <td>0</td>\n",
       "      <td>0</td>\n",
       "      <td>1</td>\n",
       "      <td>12</td>\n",
       "      <td>1</td>\n",
       "      <td>31</td>\n",
       "      <td>113.202938</td>\n",
       "      <td>12.0</td>\n",
       "      <td>7</td>\n",
       "      <td>1.922936</td>\n",
       "      <td>1.910244</td>\n",
       "      <td>0</td>\n",
       "    </tr>\n",
       "    <tr>\n",
       "      <th>2</th>\n",
       "      <td>0</td>\n",
       "      <td>1</td>\n",
       "      <td>1</td>\n",
       "      <td>0</td>\n",
       "      <td>1</td>\n",
       "      <td>1</td>\n",
       "      <td>0</td>\n",
       "      <td>28</td>\n",
       "      <td>129.448479</td>\n",
       "      <td>1.0</td>\n",
       "      <td>2</td>\n",
       "      <td>1.859098</td>\n",
       "      <td>1.736502</td>\n",
       "      <td>0</td>\n",
       "    </tr>\n",
       "    <tr>\n",
       "      <th>3</th>\n",
       "      <td>0</td>\n",
       "      <td>1</td>\n",
       "      <td>1</td>\n",
       "      <td>1</td>\n",
       "      <td>1</td>\n",
       "      <td>12</td>\n",
       "      <td>1</td>\n",
       "      <td>33</td>\n",
       "      <td>62.669863</td>\n",
       "      <td>12.0</td>\n",
       "      <td>2</td>\n",
       "      <td>3.205633</td>\n",
       "      <td>3.357215</td>\n",
       "      <td>0</td>\n",
       "    </tr>\n",
       "    <tr>\n",
       "      <th>4</th>\n",
       "      <td>1</td>\n",
       "      <td>1</td>\n",
       "      <td>1</td>\n",
       "      <td>1</td>\n",
       "      <td>1</td>\n",
       "      <td>1</td>\n",
       "      <td>0</td>\n",
       "      <td>26</td>\n",
       "      <td>198.362265</td>\n",
       "      <td>1.0</td>\n",
       "      <td>3</td>\n",
       "      <td>1.113884</td>\n",
       "      <td>1.120078</td>\n",
       "      <td>0</td>\n",
       "    </tr>\n",
       "  </tbody>\n",
       "</table>\n",
       "</div>"
      ],
      "text/plain": [
       "   gender  Near_Location  Partner  Promo_friends  Phone  Contract_period  \\\n",
       "0       1              1        1              1      0                6   \n",
       "1       0              1        0              0      1               12   \n",
       "2       0              1        1              0      1                1   \n",
       "3       0              1        1              1      1               12   \n",
       "4       1              1        1              1      1                1   \n",
       "\n",
       "   Group_visits  Age  Avg_additional_charges_total  Month_to_end_contract  \\\n",
       "0             1   29                     14.227470                    5.0   \n",
       "1             1   31                    113.202938                   12.0   \n",
       "2             0   28                    129.448479                    1.0   \n",
       "3             1   33                     62.669863                   12.0   \n",
       "4             0   26                    198.362265                    1.0   \n",
       "\n",
       "   Lifetime  Avg_class_frequency_total  Avg_class_frequency_current_month  \\\n",
       "0         3                   0.020398                           0.000000   \n",
       "1         7                   1.922936                           1.910244   \n",
       "2         2                   1.859098                           1.736502   \n",
       "3         2                   3.205633                           3.357215   \n",
       "4         3                   1.113884                           1.120078   \n",
       "\n",
       "   Churn  \n",
       "0      0  \n",
       "1      0  \n",
       "2      0  \n",
       "3      0  \n",
       "4      0  "
      ]
     },
     "metadata": {},
     "output_type": "display_data"
    }
   ],
   "source": [
    "#прочитаем из csv-файла данные о клиентах\n",
    "gym = pd.read_csv('/datasets/gym_churn.csv')\n",
    "\n",
    "#распечатаем его размер и первые 5 строк\n",
    "print(gym.shape)\n",
    "display(gym.head(5))"
   ]
  },
  {
   "cell_type": "code",
   "execution_count": 3,
   "metadata": {},
   "outputs": [
    {
     "name": "stdout",
     "output_type": "stream",
     "text": [
      "<class 'pandas.core.frame.DataFrame'>\n",
      "RangeIndex: 4000 entries, 0 to 3999\n",
      "Data columns (total 14 columns):\n",
      " #   Column                             Non-Null Count  Dtype  \n",
      "---  ------                             --------------  -----  \n",
      " 0   gender                             4000 non-null   int64  \n",
      " 1   near_location                      4000 non-null   int64  \n",
      " 2   partner                            4000 non-null   int64  \n",
      " 3   promo_friends                      4000 non-null   int64  \n",
      " 4   phone                              4000 non-null   int64  \n",
      " 5   contract_period                    4000 non-null   int64  \n",
      " 6   group_visits                       4000 non-null   int64  \n",
      " 7   age                                4000 non-null   int64  \n",
      " 8   avg_additional_charges_total       4000 non-null   float64\n",
      " 9   month_to_end_contract              4000 non-null   float64\n",
      " 10  lifetime                           4000 non-null   int64  \n",
      " 11  avg_class_frequency_total          4000 non-null   float64\n",
      " 12  avg_class_frequency_current_month  4000 non-null   float64\n",
      " 13  churn                              4000 non-null   int64  \n",
      "dtypes: float64(4), int64(10)\n",
      "memory usage: 437.6 KB\n"
     ]
    }
   ],
   "source": [
    "gym.columns = [x.lower().replace(' ', '_') for x in gym.columns.values]\n",
    "gym.info()"
   ]
  },
  {
   "cell_type": "markdown",
   "metadata": {},
   "source": [
    "У нас есть 4000 данных о посетителях фитнес центра, пропусков нет, названия столбцов привели  нижнему регистру.\n",
    "Категориальных признаков нет. Целевая переменная (y) - столбец churn."
   ]
  },
  {
   "cell_type": "markdown",
   "metadata": {},
   "source": [
    "## <span style=\"color:black\">Исследовательский анализ данных (EDA)<span>"
   ]
  },
  {
   "cell_type": "code",
   "execution_count": 4,
   "metadata": {},
   "outputs": [
    {
     "data": {
      "text/html": [
       "<div>\n",
       "<style scoped>\n",
       "    .dataframe tbody tr th:only-of-type {\n",
       "        vertical-align: middle;\n",
       "    }\n",
       "\n",
       "    .dataframe tbody tr th {\n",
       "        vertical-align: top;\n",
       "    }\n",
       "\n",
       "    .dataframe thead th {\n",
       "        text-align: right;\n",
       "    }\n",
       "</style>\n",
       "<table border=\"1\" class=\"dataframe\">\n",
       "  <thead>\n",
       "    <tr style=\"text-align: right;\">\n",
       "      <th></th>\n",
       "      <th>count</th>\n",
       "      <th>mean</th>\n",
       "      <th>std</th>\n",
       "      <th>min</th>\n",
       "      <th>25%</th>\n",
       "      <th>50%</th>\n",
       "      <th>75%</th>\n",
       "      <th>max</th>\n",
       "    </tr>\n",
       "  </thead>\n",
       "  <tbody>\n",
       "    <tr>\n",
       "      <th>gender</th>\n",
       "      <td>4000.0</td>\n",
       "      <td>0.510250</td>\n",
       "      <td>0.499957</td>\n",
       "      <td>0.000000</td>\n",
       "      <td>0.000000</td>\n",
       "      <td>1.000000</td>\n",
       "      <td>1.000000</td>\n",
       "      <td>1.000000</td>\n",
       "    </tr>\n",
       "    <tr>\n",
       "      <th>near_location</th>\n",
       "      <td>4000.0</td>\n",
       "      <td>0.845250</td>\n",
       "      <td>0.361711</td>\n",
       "      <td>0.000000</td>\n",
       "      <td>1.000000</td>\n",
       "      <td>1.000000</td>\n",
       "      <td>1.000000</td>\n",
       "      <td>1.000000</td>\n",
       "    </tr>\n",
       "    <tr>\n",
       "      <th>partner</th>\n",
       "      <td>4000.0</td>\n",
       "      <td>0.486750</td>\n",
       "      <td>0.499887</td>\n",
       "      <td>0.000000</td>\n",
       "      <td>0.000000</td>\n",
       "      <td>0.000000</td>\n",
       "      <td>1.000000</td>\n",
       "      <td>1.000000</td>\n",
       "    </tr>\n",
       "    <tr>\n",
       "      <th>promo_friends</th>\n",
       "      <td>4000.0</td>\n",
       "      <td>0.308500</td>\n",
       "      <td>0.461932</td>\n",
       "      <td>0.000000</td>\n",
       "      <td>0.000000</td>\n",
       "      <td>0.000000</td>\n",
       "      <td>1.000000</td>\n",
       "      <td>1.000000</td>\n",
       "    </tr>\n",
       "    <tr>\n",
       "      <th>phone</th>\n",
       "      <td>4000.0</td>\n",
       "      <td>0.903500</td>\n",
       "      <td>0.295313</td>\n",
       "      <td>0.000000</td>\n",
       "      <td>1.000000</td>\n",
       "      <td>1.000000</td>\n",
       "      <td>1.000000</td>\n",
       "      <td>1.000000</td>\n",
       "    </tr>\n",
       "    <tr>\n",
       "      <th>contract_period</th>\n",
       "      <td>4000.0</td>\n",
       "      <td>4.681250</td>\n",
       "      <td>4.549706</td>\n",
       "      <td>1.000000</td>\n",
       "      <td>1.000000</td>\n",
       "      <td>1.000000</td>\n",
       "      <td>6.000000</td>\n",
       "      <td>12.000000</td>\n",
       "    </tr>\n",
       "    <tr>\n",
       "      <th>group_visits</th>\n",
       "      <td>4000.0</td>\n",
       "      <td>0.412250</td>\n",
       "      <td>0.492301</td>\n",
       "      <td>0.000000</td>\n",
       "      <td>0.000000</td>\n",
       "      <td>0.000000</td>\n",
       "      <td>1.000000</td>\n",
       "      <td>1.000000</td>\n",
       "    </tr>\n",
       "    <tr>\n",
       "      <th>age</th>\n",
       "      <td>4000.0</td>\n",
       "      <td>29.184250</td>\n",
       "      <td>3.258367</td>\n",
       "      <td>18.000000</td>\n",
       "      <td>27.000000</td>\n",
       "      <td>29.000000</td>\n",
       "      <td>31.000000</td>\n",
       "      <td>41.000000</td>\n",
       "    </tr>\n",
       "    <tr>\n",
       "      <th>avg_additional_charges_total</th>\n",
       "      <td>4000.0</td>\n",
       "      <td>146.943728</td>\n",
       "      <td>96.355602</td>\n",
       "      <td>0.148205</td>\n",
       "      <td>68.868830</td>\n",
       "      <td>136.220159</td>\n",
       "      <td>210.949625</td>\n",
       "      <td>552.590740</td>\n",
       "    </tr>\n",
       "    <tr>\n",
       "      <th>month_to_end_contract</th>\n",
       "      <td>4000.0</td>\n",
       "      <td>4.322750</td>\n",
       "      <td>4.191297</td>\n",
       "      <td>1.000000</td>\n",
       "      <td>1.000000</td>\n",
       "      <td>1.000000</td>\n",
       "      <td>6.000000</td>\n",
       "      <td>12.000000</td>\n",
       "    </tr>\n",
       "    <tr>\n",
       "      <th>lifetime</th>\n",
       "      <td>4000.0</td>\n",
       "      <td>3.724750</td>\n",
       "      <td>3.749267</td>\n",
       "      <td>0.000000</td>\n",
       "      <td>1.000000</td>\n",
       "      <td>3.000000</td>\n",
       "      <td>5.000000</td>\n",
       "      <td>31.000000</td>\n",
       "    </tr>\n",
       "    <tr>\n",
       "      <th>avg_class_frequency_total</th>\n",
       "      <td>4000.0</td>\n",
       "      <td>1.879020</td>\n",
       "      <td>0.972245</td>\n",
       "      <td>0.000000</td>\n",
       "      <td>1.180875</td>\n",
       "      <td>1.832768</td>\n",
       "      <td>2.536078</td>\n",
       "      <td>6.023668</td>\n",
       "    </tr>\n",
       "    <tr>\n",
       "      <th>avg_class_frequency_current_month</th>\n",
       "      <td>4000.0</td>\n",
       "      <td>1.767052</td>\n",
       "      <td>1.052906</td>\n",
       "      <td>0.000000</td>\n",
       "      <td>0.963003</td>\n",
       "      <td>1.719574</td>\n",
       "      <td>2.510336</td>\n",
       "      <td>6.146783</td>\n",
       "    </tr>\n",
       "    <tr>\n",
       "      <th>churn</th>\n",
       "      <td>4000.0</td>\n",
       "      <td>0.265250</td>\n",
       "      <td>0.441521</td>\n",
       "      <td>0.000000</td>\n",
       "      <td>0.000000</td>\n",
       "      <td>0.000000</td>\n",
       "      <td>1.000000</td>\n",
       "      <td>1.000000</td>\n",
       "    </tr>\n",
       "  </tbody>\n",
       "</table>\n",
       "</div>"
      ],
      "text/plain": [
       "                                    count        mean        std        min  \\\n",
       "gender                             4000.0    0.510250   0.499957   0.000000   \n",
       "near_location                      4000.0    0.845250   0.361711   0.000000   \n",
       "partner                            4000.0    0.486750   0.499887   0.000000   \n",
       "promo_friends                      4000.0    0.308500   0.461932   0.000000   \n",
       "phone                              4000.0    0.903500   0.295313   0.000000   \n",
       "contract_period                    4000.0    4.681250   4.549706   1.000000   \n",
       "group_visits                       4000.0    0.412250   0.492301   0.000000   \n",
       "age                                4000.0   29.184250   3.258367  18.000000   \n",
       "avg_additional_charges_total       4000.0  146.943728  96.355602   0.148205   \n",
       "month_to_end_contract              4000.0    4.322750   4.191297   1.000000   \n",
       "lifetime                           4000.0    3.724750   3.749267   0.000000   \n",
       "avg_class_frequency_total          4000.0    1.879020   0.972245   0.000000   \n",
       "avg_class_frequency_current_month  4000.0    1.767052   1.052906   0.000000   \n",
       "churn                              4000.0    0.265250   0.441521   0.000000   \n",
       "\n",
       "                                         25%         50%         75%  \\\n",
       "gender                              0.000000    1.000000    1.000000   \n",
       "near_location                       1.000000    1.000000    1.000000   \n",
       "partner                             0.000000    0.000000    1.000000   \n",
       "promo_friends                       0.000000    0.000000    1.000000   \n",
       "phone                               1.000000    1.000000    1.000000   \n",
       "contract_period                     1.000000    1.000000    6.000000   \n",
       "group_visits                        0.000000    0.000000    1.000000   \n",
       "age                                27.000000   29.000000   31.000000   \n",
       "avg_additional_charges_total       68.868830  136.220159  210.949625   \n",
       "month_to_end_contract               1.000000    1.000000    6.000000   \n",
       "lifetime                            1.000000    3.000000    5.000000   \n",
       "avg_class_frequency_total           1.180875    1.832768    2.536078   \n",
       "avg_class_frequency_current_month   0.963003    1.719574    2.510336   \n",
       "churn                               0.000000    0.000000    1.000000   \n",
       "\n",
       "                                          max  \n",
       "gender                               1.000000  \n",
       "near_location                        1.000000  \n",
       "partner                              1.000000  \n",
       "promo_friends                        1.000000  \n",
       "phone                                1.000000  \n",
       "contract_period                     12.000000  \n",
       "group_visits                         1.000000  \n",
       "age                                 41.000000  \n",
       "avg_additional_charges_total       552.590740  \n",
       "month_to_end_contract               12.000000  \n",
       "lifetime                            31.000000  \n",
       "avg_class_frequency_total            6.023668  \n",
       "avg_class_frequency_current_month    6.146783  \n",
       "churn                                1.000000  "
      ]
     },
     "execution_count": 4,
     "metadata": {},
     "output_type": "execute_result"
    }
   ],
   "source": [
    "#посмотрим средние значения и стандартные отклонения:\n",
    "gym.describe().T"
   ]
  },
  {
   "cell_type": "code",
   "execution_count": 5,
   "metadata": {},
   "outputs": [
    {
     "data": {
      "text/html": [
       "<div>\n",
       "<style scoped>\n",
       "    .dataframe tbody tr th:only-of-type {\n",
       "        vertical-align: middle;\n",
       "    }\n",
       "\n",
       "    .dataframe tbody tr th {\n",
       "        vertical-align: top;\n",
       "    }\n",
       "\n",
       "    .dataframe thead th {\n",
       "        text-align: right;\n",
       "    }\n",
       "</style>\n",
       "<table border=\"1\" class=\"dataframe\">\n",
       "  <thead>\n",
       "    <tr style=\"text-align: right;\">\n",
       "      <th>churn</th>\n",
       "      <th>0</th>\n",
       "      <th>1</th>\n",
       "    </tr>\n",
       "  </thead>\n",
       "  <tbody>\n",
       "    <tr>\n",
       "      <th>gender</th>\n",
       "      <td>0.510037</td>\n",
       "      <td>0.510839</td>\n",
       "    </tr>\n",
       "    <tr>\n",
       "      <th>near_location</th>\n",
       "      <td>0.873086</td>\n",
       "      <td>0.768143</td>\n",
       "    </tr>\n",
       "    <tr>\n",
       "      <th>partner</th>\n",
       "      <td>0.534195</td>\n",
       "      <td>0.355325</td>\n",
       "    </tr>\n",
       "    <tr>\n",
       "      <th>promo_friends</th>\n",
       "      <td>0.353522</td>\n",
       "      <td>0.183789</td>\n",
       "    </tr>\n",
       "    <tr>\n",
       "      <th>phone</th>\n",
       "      <td>0.903709</td>\n",
       "      <td>0.902922</td>\n",
       "    </tr>\n",
       "    <tr>\n",
       "      <th>contract_period</th>\n",
       "      <td>5.747193</td>\n",
       "      <td>1.728558</td>\n",
       "    </tr>\n",
       "    <tr>\n",
       "      <th>group_visits</th>\n",
       "      <td>0.464103</td>\n",
       "      <td>0.268615</td>\n",
       "    </tr>\n",
       "    <tr>\n",
       "      <th>age</th>\n",
       "      <td>29.976523</td>\n",
       "      <td>26.989632</td>\n",
       "    </tr>\n",
       "    <tr>\n",
       "      <th>avg_additional_charges_total</th>\n",
       "      <td>158.445715</td>\n",
       "      <td>115.082899</td>\n",
       "    </tr>\n",
       "    <tr>\n",
       "      <th>month_to_end_contract</th>\n",
       "      <td>5.283089</td>\n",
       "      <td>1.662582</td>\n",
       "    </tr>\n",
       "    <tr>\n",
       "      <th>lifetime</th>\n",
       "      <td>4.711807</td>\n",
       "      <td>0.990575</td>\n",
       "    </tr>\n",
       "    <tr>\n",
       "      <th>avg_class_frequency_total</th>\n",
       "      <td>2.024876</td>\n",
       "      <td>1.474995</td>\n",
       "    </tr>\n",
       "    <tr>\n",
       "      <th>avg_class_frequency_current_month</th>\n",
       "      <td>2.027882</td>\n",
       "      <td>1.044546</td>\n",
       "    </tr>\n",
       "  </tbody>\n",
       "</table>\n",
       "</div>"
      ],
      "text/plain": [
       "churn                                       0           1\n",
       "gender                               0.510037    0.510839\n",
       "near_location                        0.873086    0.768143\n",
       "partner                              0.534195    0.355325\n",
       "promo_friends                        0.353522    0.183789\n",
       "phone                                0.903709    0.902922\n",
       "contract_period                      5.747193    1.728558\n",
       "group_visits                         0.464103    0.268615\n",
       "age                                 29.976523   26.989632\n",
       "avg_additional_charges_total       158.445715  115.082899\n",
       "month_to_end_contract                5.283089    1.662582\n",
       "lifetime                             4.711807    0.990575\n",
       "avg_class_frequency_total            2.024876    1.474995\n",
       "avg_class_frequency_current_month    2.027882    1.044546"
      ]
     },
     "metadata": {},
     "output_type": "display_data"
    }
   ],
   "source": [
    "display (gym.groupby('churn').mean().T)"
   ]
  },
  {
   "cell_type": "code",
   "execution_count": 6,
   "metadata": {},
   "outputs": [
    {
     "data": {
      "image/png": "[encoded data removed]",
      "text/plain": [
       "<Figure size 1152x2880 with 12 Axes>"
      ]
     },
     "metadata": {
      "needs_background": "light"
     },
     "output_type": "display_data"
    }
   ],
   "source": [
    "#гистограммы и распределения признаков для тех, кто ушёл (отток) и тех, кто остался (не попали в отток);\n",
    "fig, axes = plt.subplots(nrows = 6, ncols =2, figsize=(16, 40))\n",
    "\n",
    "col = list(gym.drop('churn', axis = 1).columns)\n",
    "n=0\n",
    "\n",
    "for ax in axes.flat:\n",
    "    ax.hist (gym.loc[gym.loc[:,'churn']==0][col[n]], bins = 10, alpha = 0.5, label = 'остался')\n",
    "    ax.hist (gym.loc[gym.loc[:,'churn']==1][col[n]], bins = 10, alpha = 0.5, label = 'ушёл')\n",
    "    ax.set (title = 'Гистограмма оттока по'+'  '+ col[n])\n",
    "    n+=1\n",
    "labels = [\"остался\",\"ушёл\"]\n",
    "plt.legend(labels)\n",
    "plt.grid(True)\n",
    "plt.show()"
   ]
  },
  {
   "cell_type": "markdown",
   "metadata": {},
   "source": [
    "1. gender - мы видим, что мужчин и женщин примерно одинаковое количество, уровень оттока тоже похож\n",
    "2. near_location - клиентов, живущих поблизости в пять раз больше и доля оттока среди них ниже, чем у тех, кто ездит издалека. Видимо расстояние важный фактор.\n",
    "3.   partner - — сотрудников компании-партнёра клуба немого выше, но они более стабильны. У тех, кто не по этой программе, отток почти 50%.\n",
    "4. promo_friends - использование промо-кода от знакомого не сильно распространено, но клиенты, пришедшие по рекомендации имеют меньший отток. Возможно, это направление стоит развивать.\n",
    "5.   phone  - наличие и отсутсвие телефона не меняет долю оттока, хотя клиентов с телефоном значительное большинство.\n",
    "6.   contract_period - длительность абонемента имеет большое значение, наибольший отток у месячного контракта.\n",
    "7.   group_visits -факт посещения групповых занятий положительно сказывается на удержании клиеннтов.\n",
    "8.   age - основной возраст с риском оттока 25 - 30 лет.\n",
    "9.   avg_additional_charges_total  - гистограмма показывает нормальное распределение.\n",
    "10.   month_to_end_contract  - срок до окончания текущего действующего абонемента (в месяцах) 1 -2 месяца имеют наибольший отток.\n",
    "11.  lifetime   - похожую картину мы видели с  contract_period. Возможно, у нас есть мультиколлинеарные признаки.\n",
    "12.  avg_class_frequency_total  - средняя частота посещений в неделю за все время с начала действия абонемента, где зона риска у клиентов с тренировкой 1-2 раза в неделю.\n",
    "13.  avg_class_frequency_current_month - похожа на 12.  avg_class_frequency_total ."
   ]
  },
  {
   "cell_type": "code",
   "execution_count": 7,
   "metadata": {},
   "outputs": [
    {
     "data": {
      "image/png": "[encoded data removed]",
      "text/plain": [
       "<Figure size 864x864 with 2 Axes>"
      ]
     },
     "metadata": {
      "needs_background": "light"
     },
     "output_type": "display_data"
    }
   ],
   "source": [
    "#построим и отрисуем матрицу корреляций\n",
    "cm = gym.corr() #вычисляем матрицу корреляций\n",
    "fig, ax = plt.subplots(figsize=(12, 12))\n",
    "#нарисуем тепловую карту с подписями для матрицы корреляций\n",
    "sns.heatmap (cm, annot = True, square = True) #ваш код здесь\n",
    "ax.set (title = 'Тепловая матрица корреляций')\n",
    "plt.show()"
   ]
  },
  {
   "cell_type": "markdown",
   "metadata": {},
   "source": [
    "Тепловая карта выявила наличие нескольких мультиколлинеарных признаков: 0.95 у avg_class_frequency_total и avg_class_frequency_current_month; 0,97 у month_to_end_contract и contract_period. Надо будет удалить один из признаков в каждой паре. \n",
    "По карте видно, что 'partner', 'group_visits', 'promo_friends' - оказывают очень слабое влияние, а 'age' и 'contract period' наоборот более сильное."
   ]
  },
  {
   "cell_type": "code",
   "execution_count": 8,
   "metadata": {},
   "outputs": [],
   "source": [
    "gym.drop('avg_class_frequency_current_month', axis = 1, inplace = True)"
   ]
  },
  {
   "cell_type": "code",
   "execution_count": 9,
   "metadata": {},
   "outputs": [],
   "source": [
    "gym.drop('month_to_end_contract', axis = 1, inplace = True)"
   ]
  },
  {
   "cell_type": "markdown",
   "metadata": {},
   "source": [
    "В ходе EDA анализа было проделано и установлено:\n",
    "\n",
    "Всего записей в таблице 4000 - достаточно для прогнозирования.\n",
    "Данные целостные, пропусков и дубликатов нет, сильные выбросы отсутствуют.\n",
    "Все признаки и целевая переменная являются числовыми, поэтому сильных изменений не потребовалось\n",
    "Все признаки имеют обратную(отрицательную) корреляцию с целевой переменной (то есть - чем сильнее признак, тем слабее отток клиентов)\n",
    "Так же присутствуют 2 пары признаков которые очень сильно коррелируют между собой и это надо учитывать при построении моделей прогнозирования в случае линейной регрессии.\n",
    "Данные готовы для разбивки на выборки."
   ]
  },
  {
   "cell_type": "markdown",
   "metadata": {},
   "source": [
    "## <span style=\"color:black\">Модель прогнозирования оттока клиентов<span>"
   ]
  },
  {
   "cell_type": "code",
   "execution_count": 10,
   "metadata": {},
   "outputs": [],
   "source": [
    "#модель бинарной классификации клиентов, где целевой признак — факт оттока клиента в следующем месяце\n",
    "\n",
    "#разделим наши данные на признаки (матрица X) и целевую переменную (y)\n",
    "X = gym.drop(['churn'], axis = 1) \n",
    "y = gym ['churn'] \n",
    "\n",
    "#разделяем модель на обучающую и валидационную выборки\n",
    "X_train, X_test, y_train, y_test = train_test_split(X, y, stratify=y, test_size=0.2, random_state=0)\n"
   ]
  },
  {
   "cell_type": "code",
   "execution_count": 11,
   "metadata": {},
   "outputs": [
    {
     "name": "stdout",
     "output_type": "stream",
     "text": [
      "[[ 0.98265048  0.42368158  1.03175391 -0.65709005  0.32751555  0.29763717\n",
      "   1.19034383  0.55025283 -0.92337193 -0.19265756 -1.92902575]\n",
      " [ 0.98265048  0.42368158 -0.96922337 -0.65709005  0.32751555  1.62230884\n",
      "   1.19034383 -1.28583586  0.16252804 -0.46105294  1.33328297]\n",
      " [-1.01765584  0.42368158 -0.96922337  1.52186142  0.32751555  0.29763717\n",
      "   1.19034383  0.24423805  0.30907146 -0.46105294 -0.76508827]\n",
      " [-1.01765584  0.42368158  1.03175391  1.52186142  0.32751555  0.29763717\n",
      "   1.19034383 -1.28583586 -0.99057964 -0.99784369  0.51992504]\n",
      " [-1.01765584  0.42368158 -0.96922337  1.52186142 -3.05329013  1.62230884\n",
      "   1.19034383 -0.06177673  0.02573737 -0.46105294 -0.29392092]]\n"
     ]
    }
   ],
   "source": [
    "#создадим объект класса StandardScaler и применим его к обучающей выборке\n",
    "scaler = StandardScaler()\n",
    "X_train_st = scaler.fit_transform(X_train) #обучаем scaler и одновременно трансформируем матрицу для обучающей выборки\n",
    "print(X_train_st[:5])\n",
    "\n",
    "#применяем стандартизацию к матрице признаков для тестовой выборки\n",
    "X_test_st = scaler.transform(X_test)\n",
    "# создадим объект класса StandardScaler и применим его к обучающей выборке\n",
    "scaler = StandardScaler()\n",
    "X_train_st = scaler.fit_transform(X_train)  # обучаем scaler и одновременно трансформируем матрицу для обучающей выборки"
   ]
  },
  {
   "cell_type": "code",
   "execution_count": 12,
   "metadata": {},
   "outputs": [],
   "source": [
    "# функция для обучения модели и вывода метрик:\n",
    "\n",
    "def fit_predict_print (model, X_train, y_train, X_test, y_test, word):\n",
    "    model.fit(X_train, y_train) # обучим модель\n",
    "    predictions = model.predict(X_test) # бинарный прогноз\n",
    "    print('Метрики при автоматическом прогнозе'+word)\n",
    "    print('Accuracy: {:.2f}'.format(accuracy_score(y_test, predictions)))\n",
    "    print('Precision: {:.2f}'.format(precision_score(y_test, predictions)))\n",
    "    print('Recall: {:.2f}'.format(recall_score(y_test, predictions)))\n",
    "    print('F1: {:.2f}'.format(f1_score(y_test, predictions)))"
   ]
  },
  {
   "cell_type": "code",
   "execution_count": 13,
   "metadata": {},
   "outputs": [
    {
     "name": "stdout",
     "output_type": "stream",
     "text": [
      "Метрики при автоматическом прогнозес помощью логистической регрессии\n",
      "Accuracy: 0.91\n",
      "Precision: 0.83\n",
      "Recall: 0.83\n",
      "F1: 0.83\n"
     ]
    }
   ],
   "source": [
    "# зададим алгоритм для нашей модели\n",
    "model = LogisticRegression(random_state=0)\n",
    "word = 'с помощью логистической регрессии'\n",
    "fit_predict_print (model, X_train_st, y_train, X_test_st, y_test, word)"
   ]
  },
  {
   "cell_type": "code",
   "execution_count": 14,
   "metadata": {},
   "outputs": [
    {
     "name": "stdout",
     "output_type": "stream",
     "text": [
      "Метрики при автоматическом прогнозес помощью случайного леса\n",
      "Accuracy: 0.89\n",
      "Precision: 0.83\n",
      "Recall: 0.75\n",
      "F1: 0.79\n"
     ]
    }
   ],
   "source": [
    "# зададим алгоритм для нашей модели\n",
    "model = RandomForestClassifier()\n",
    "word = 'с помощью случайного леса'\n",
    "fit_predict_print (model, X_train, y_train, X_test, y_test, word)"
   ]
  },
  {
   "cell_type": "markdown",
   "metadata": {},
   "source": [
    "Вывод: Сравнивая метрии двух моделей, получается, прогноз с помощью логистической регрессии проявил себя лучше.\n",
    "\n",
    "По параметру Accuracy \"Логистическая регрессия\" немного выигрывает у \"Случайный лес\" (0,91 против 0,89), по precision равны (0,83 и 0,82) и также немного лучше по recall (0,83 против 0,76). F1 лучше у Регрессии.\n",
    "\n",
    "\n",
    "По всем параметрам \"Логистическая регрессия\" дает результат немного лучше чем \"Случайный лес\"\n",
    "\n",
    "Также надо отметить у обоих моделей очень высокий показатель Accuracy (около 0,90), а также высокие показатели precision и recall (0,76 - 0,83)"
   ]
  },
  {
   "cell_type": "markdown",
   "metadata": {},
   "source": [
    "## <span style=\"color:black\">Кластеризация клиентов<span>"
   ]
  },
  {
   "cell_type": "code",
   "execution_count": 15,
   "metadata": {},
   "outputs": [],
   "source": [
    "#Отложим в сторону столбец с оттоком и проведем кластеризацию объектов (клиентов), стандартизируем данные\n",
    "scaler = StandardScaler() # создаём объект класса scaler (нормализатор)\n",
    "x_sc = scaler.fit_transform(gym.drop(columns = ['churn'])) # обучаем нормализатор и преобразуем набор данных "
   ]
  },
  {
   "cell_type": "code",
   "execution_count": 16,
   "metadata": {},
   "outputs": [],
   "source": [
    "#Построем матрицу расстояний функцией linkage() на стандартизованной матрице признаков\n",
    "linked = linkage(x_sc, method = 'ward') "
   ]
  },
  {
   "cell_type": "code",
   "execution_count": 17,
   "metadata": {},
   "outputs": [
    {
     "data": {
      "image/png": "[encoded data removed]",
      "text/plain": [
       "<Figure size 1080x720 with 1 Axes>"
      ]
     },
     "metadata": {
      "needs_background": "light"
     },
     "output_type": "display_data"
    }
   ],
   "source": [
    "# дендрограмма\n",
    "plt.figure(figsize=(15, 10))  \n",
    "dendrogram(linked, orientation='top')\n",
    "plt.title('Hierarchial clustering for GYM')\n",
    "plt.show() "
   ]
  },
  {
   "cell_type": "markdown",
   "metadata": {},
   "source": [
    "По Дендрограмме видно, что можно выделить 4, 5 или 6 больших кластеров клиентов"
   ]
  },
  {
   "cell_type": "code",
   "execution_count": 18,
   "metadata": {},
   "outputs": [
    {
     "data": {
      "text/html": [
       "<div>\n",
       "<style scoped>\n",
       "    .dataframe tbody tr th:only-of-type {\n",
       "        vertical-align: middle;\n",
       "    }\n",
       "\n",
       "    .dataframe tbody tr th {\n",
       "        vertical-align: top;\n",
       "    }\n",
       "\n",
       "    .dataframe thead th {\n",
       "        text-align: right;\n",
       "    }\n",
       "</style>\n",
       "<table border=\"1\" class=\"dataframe\">\n",
       "  <thead>\n",
       "    <tr style=\"text-align: right;\">\n",
       "      <th></th>\n",
       "      <th>gender</th>\n",
       "      <th>near_location</th>\n",
       "      <th>partner</th>\n",
       "      <th>promo_friends</th>\n",
       "      <th>phone</th>\n",
       "      <th>contract_period</th>\n",
       "      <th>group_visits</th>\n",
       "      <th>age</th>\n",
       "      <th>avg_additional_charges_total</th>\n",
       "      <th>lifetime</th>\n",
       "      <th>avg_class_frequency_total</th>\n",
       "      <th>churn</th>\n",
       "      <th>cluster_km</th>\n",
       "    </tr>\n",
       "  </thead>\n",
       "  <tbody>\n",
       "    <tr>\n",
       "      <th>0</th>\n",
       "      <td>1</td>\n",
       "      <td>1</td>\n",
       "      <td>1</td>\n",
       "      <td>1</td>\n",
       "      <td>0</td>\n",
       "      <td>6</td>\n",
       "      <td>1</td>\n",
       "      <td>29</td>\n",
       "      <td>14.227470</td>\n",
       "      <td>3</td>\n",
       "      <td>0.020398</td>\n",
       "      <td>0</td>\n",
       "      <td>4</td>\n",
       "    </tr>\n",
       "    <tr>\n",
       "      <th>1</th>\n",
       "      <td>0</td>\n",
       "      <td>1</td>\n",
       "      <td>0</td>\n",
       "      <td>0</td>\n",
       "      <td>1</td>\n",
       "      <td>12</td>\n",
       "      <td>1</td>\n",
       "      <td>31</td>\n",
       "      <td>113.202938</td>\n",
       "      <td>7</td>\n",
       "      <td>1.922936</td>\n",
       "      <td>0</td>\n",
       "      <td>3</td>\n",
       "    </tr>\n",
       "    <tr>\n",
       "      <th>2</th>\n",
       "      <td>0</td>\n",
       "      <td>1</td>\n",
       "      <td>1</td>\n",
       "      <td>0</td>\n",
       "      <td>1</td>\n",
       "      <td>1</td>\n",
       "      <td>0</td>\n",
       "      <td>28</td>\n",
       "      <td>129.448479</td>\n",
       "      <td>2</td>\n",
       "      <td>1.859098</td>\n",
       "      <td>0</td>\n",
       "      <td>2</td>\n",
       "    </tr>\n",
       "    <tr>\n",
       "      <th>3</th>\n",
       "      <td>0</td>\n",
       "      <td>1</td>\n",
       "      <td>1</td>\n",
       "      <td>1</td>\n",
       "      <td>1</td>\n",
       "      <td>12</td>\n",
       "      <td>1</td>\n",
       "      <td>33</td>\n",
       "      <td>62.669863</td>\n",
       "      <td>2</td>\n",
       "      <td>3.205633</td>\n",
       "      <td>0</td>\n",
       "      <td>1</td>\n",
       "    </tr>\n",
       "    <tr>\n",
       "      <th>4</th>\n",
       "      <td>1</td>\n",
       "      <td>1</td>\n",
       "      <td>1</td>\n",
       "      <td>1</td>\n",
       "      <td>1</td>\n",
       "      <td>1</td>\n",
       "      <td>0</td>\n",
       "      <td>26</td>\n",
       "      <td>198.362265</td>\n",
       "      <td>3</td>\n",
       "      <td>1.113884</td>\n",
       "      <td>0</td>\n",
       "      <td>1</td>\n",
       "    </tr>\n",
       "    <tr>\n",
       "      <th>...</th>\n",
       "      <td>...</td>\n",
       "      <td>...</td>\n",
       "      <td>...</td>\n",
       "      <td>...</td>\n",
       "      <td>...</td>\n",
       "      <td>...</td>\n",
       "      <td>...</td>\n",
       "      <td>...</td>\n",
       "      <td>...</td>\n",
       "      <td>...</td>\n",
       "      <td>...</td>\n",
       "      <td>...</td>\n",
       "      <td>...</td>\n",
       "    </tr>\n",
       "    <tr>\n",
       "      <th>3995</th>\n",
       "      <td>1</td>\n",
       "      <td>1</td>\n",
       "      <td>1</td>\n",
       "      <td>0</td>\n",
       "      <td>1</td>\n",
       "      <td>12</td>\n",
       "      <td>0</td>\n",
       "      <td>33</td>\n",
       "      <td>2.406023</td>\n",
       "      <td>8</td>\n",
       "      <td>2.284497</td>\n",
       "      <td>0</td>\n",
       "      <td>1</td>\n",
       "    </tr>\n",
       "    <tr>\n",
       "      <th>3996</th>\n",
       "      <td>0</td>\n",
       "      <td>1</td>\n",
       "      <td>0</td>\n",
       "      <td>0</td>\n",
       "      <td>1</td>\n",
       "      <td>1</td>\n",
       "      <td>1</td>\n",
       "      <td>29</td>\n",
       "      <td>68.883764</td>\n",
       "      <td>1</td>\n",
       "      <td>1.277168</td>\n",
       "      <td>1</td>\n",
       "      <td>3</td>\n",
       "    </tr>\n",
       "    <tr>\n",
       "      <th>3997</th>\n",
       "      <td>1</td>\n",
       "      <td>1</td>\n",
       "      <td>1</td>\n",
       "      <td>1</td>\n",
       "      <td>1</td>\n",
       "      <td>12</td>\n",
       "      <td>0</td>\n",
       "      <td>28</td>\n",
       "      <td>78.250542</td>\n",
       "      <td>2</td>\n",
       "      <td>2.786146</td>\n",
       "      <td>0</td>\n",
       "      <td>1</td>\n",
       "    </tr>\n",
       "    <tr>\n",
       "      <th>3998</th>\n",
       "      <td>0</td>\n",
       "      <td>1</td>\n",
       "      <td>1</td>\n",
       "      <td>1</td>\n",
       "      <td>1</td>\n",
       "      <td>6</td>\n",
       "      <td>0</td>\n",
       "      <td>32</td>\n",
       "      <td>61.912657</td>\n",
       "      <td>3</td>\n",
       "      <td>1.630108</td>\n",
       "      <td>0</td>\n",
       "      <td>1</td>\n",
       "    </tr>\n",
       "    <tr>\n",
       "      <th>3999</th>\n",
       "      <td>1</td>\n",
       "      <td>0</td>\n",
       "      <td>1</td>\n",
       "      <td>0</td>\n",
       "      <td>0</td>\n",
       "      <td>12</td>\n",
       "      <td>1</td>\n",
       "      <td>30</td>\n",
       "      <td>178.861814</td>\n",
       "      <td>1</td>\n",
       "      <td>1.101832</td>\n",
       "      <td>0</td>\n",
       "      <td>4</td>\n",
       "    </tr>\n",
       "  </tbody>\n",
       "</table>\n",
       "<p>4000 rows × 13 columns</p>\n",
       "</div>"
      ],
      "text/plain": [
       "      gender  near_location  partner  promo_friends  phone  contract_period  \\\n",
       "0          1              1        1              1      0                6   \n",
       "1          0              1        0              0      1               12   \n",
       "2          0              1        1              0      1                1   \n",
       "3          0              1        1              1      1               12   \n",
       "4          1              1        1              1      1                1   \n",
       "...      ...            ...      ...            ...    ...              ...   \n",
       "3995       1              1        1              0      1               12   \n",
       "3996       0              1        0              0      1                1   \n",
       "3997       1              1        1              1      1               12   \n",
       "3998       0              1        1              1      1                6   \n",
       "3999       1              0        1              0      0               12   \n",
       "\n",
       "      group_visits  age  avg_additional_charges_total  lifetime  \\\n",
       "0                1   29                     14.227470         3   \n",
       "1                1   31                    113.202938         7   \n",
       "2                0   28                    129.448479         2   \n",
       "3                1   33                     62.669863         2   \n",
       "4                0   26                    198.362265         3   \n",
       "...            ...  ...                           ...       ...   \n",
       "3995             0   33                      2.406023         8   \n",
       "3996             1   29                     68.883764         1   \n",
       "3997             0   28                     78.250542         2   \n",
       "3998             0   32                     61.912657         3   \n",
       "3999             1   30                    178.861814         1   \n",
       "\n",
       "      avg_class_frequency_total  churn  cluster_km  \n",
       "0                      0.020398      0           4  \n",
       "1                      1.922936      0           3  \n",
       "2                      1.859098      0           2  \n",
       "3                      3.205633      0           1  \n",
       "4                      1.113884      0           1  \n",
       "...                         ...    ...         ...  \n",
       "3995                   2.284497      0           1  \n",
       "3996                   1.277168      1           3  \n",
       "3997                   2.786146      0           1  \n",
       "3998                   1.630108      0           1  \n",
       "3999                   1.101832      0           4  \n",
       "\n",
       "[4000 rows x 13 columns]"
      ]
     },
     "execution_count": 18,
     "metadata": {},
     "output_type": "execute_result"
    }
   ],
   "source": [
    "#модель кластеризации на основании алгоритма K-Means и спрогнозируем кластеры клиентов, число кластеров n=5, учитывая дендрограмму выше\n",
    "# задаём модель k_means с числом кластеров 5 и фиксируем значение random_state\n",
    "km = KMeans(n_clusters=5, random_state=0) \n",
    "# прогнозируем кластеры для наблюдений (алгоритм присваивает им номера от 0 до 2)\n",
    "labels = km.fit_predict(x_sc)\n",
    "\n",
    "# сохраняем метки кластера в поле нашего датасета\n",
    "gym['cluster_km'] = labels\n",
    "gym"
   ]
  },
  {
   "cell_type": "code",
   "execution_count": 19,
   "metadata": {},
   "outputs": [
    {
     "data": {
      "text/plain": [
       "cluster_km\n",
       "0     561\n",
       "1    1050\n",
       "2    1132\n",
       "3     871\n",
       "4     386\n",
       "Name: gender, dtype: int64"
      ]
     },
     "execution_count": 19,
     "metadata": {},
     "output_type": "execute_result"
    }
   ],
   "source": [
    "#количество клиентов в кластерах\n",
    "gym.groupby(['cluster_km'])['gender'].count()"
   ]
  },
  {
   "cell_type": "markdown",
   "metadata": {},
   "source": [
    "Вполне неплохо (по количеству), - самая большая и маленькие группы отличаются в 3 раза (4-386 , 2-1132)"
   ]
  },
  {
   "cell_type": "code",
   "execution_count": 20,
   "metadata": {},
   "outputs": [
    {
     "name": "stdout",
     "output_type": "stream",
     "text": [
      "Silhouette_score: 0.14\n"
     ]
    }
   ],
   "source": [
    "# посчитаем метрику силуэта для нашей кластеризации\n",
    "print('Silhouette_score: {:.2f}'.format(silhouette_score(x_sc, labels)))"
   ]
  },
  {
   "cell_type": "markdown",
   "metadata": {},
   "source": [
    "Значение метрики силуэта принимает значения от -1 до 1. Чем ближе к 1, тем качественнее кластеризация.\n",
    "\n",
    "Судя по Silhouette_score=0.17, - кластеризация прошла плохо."
   ]
  },
  {
   "cell_type": "code",
   "execution_count": 21,
   "metadata": {},
   "outputs": [
    {
     "data": {
      "text/html": [
       "<div>\n",
       "<style scoped>\n",
       "    .dataframe tbody tr th:only-of-type {\n",
       "        vertical-align: middle;\n",
       "    }\n",
       "\n",
       "    .dataframe tbody tr th {\n",
       "        vertical-align: top;\n",
       "    }\n",
       "\n",
       "    .dataframe thead th {\n",
       "        text-align: right;\n",
       "    }\n",
       "</style>\n",
       "<table border=\"1\" class=\"dataframe\">\n",
       "  <thead>\n",
       "    <tr style=\"text-align: right;\">\n",
       "      <th>cluster_km</th>\n",
       "      <th>0</th>\n",
       "      <th>1</th>\n",
       "      <th>2</th>\n",
       "      <th>3</th>\n",
       "      <th>4</th>\n",
       "    </tr>\n",
       "  </thead>\n",
       "  <tbody>\n",
       "    <tr>\n",
       "      <th>gender</th>\n",
       "      <td>0.499109</td>\n",
       "      <td>0.488571</td>\n",
       "      <td>0.505300</td>\n",
       "      <td>0.544202</td>\n",
       "      <td>0.523316</td>\n",
       "    </tr>\n",
       "    <tr>\n",
       "      <th>near_location</th>\n",
       "      <td>0.000000</td>\n",
       "      <td>0.995238</td>\n",
       "      <td>1.000000</td>\n",
       "      <td>1.000000</td>\n",
       "      <td>0.862694</td>\n",
       "    </tr>\n",
       "    <tr>\n",
       "      <th>partner</th>\n",
       "      <td>0.488414</td>\n",
       "      <td>0.955238</td>\n",
       "      <td>0.238516</td>\n",
       "      <td>0.250287</td>\n",
       "      <td>0.471503</td>\n",
       "    </tr>\n",
       "    <tr>\n",
       "      <th>promo_friends</th>\n",
       "      <td>0.076649</td>\n",
       "      <td>0.892381</td>\n",
       "      <td>0.059187</td>\n",
       "      <td>0.079219</td>\n",
       "      <td>0.305699</td>\n",
       "    </tr>\n",
       "    <tr>\n",
       "      <th>phone</th>\n",
       "      <td>1.000000</td>\n",
       "      <td>1.000000</td>\n",
       "      <td>1.000000</td>\n",
       "      <td>1.000000</td>\n",
       "      <td>0.000000</td>\n",
       "    </tr>\n",
       "    <tr>\n",
       "      <th>contract_period</th>\n",
       "      <td>3.032086</td>\n",
       "      <td>7.660952</td>\n",
       "      <td>2.819788</td>\n",
       "      <td>4.528129</td>\n",
       "      <td>4.777202</td>\n",
       "    </tr>\n",
       "    <tr>\n",
       "      <th>group_visits</th>\n",
       "      <td>0.235294</td>\n",
       "      <td>0.458095</td>\n",
       "      <td>0.000000</td>\n",
       "      <td>1.000000</td>\n",
       "      <td>0.427461</td>\n",
       "    </tr>\n",
       "    <tr>\n",
       "      <th>age</th>\n",
       "      <td>28.721925</td>\n",
       "      <td>29.543810</td>\n",
       "      <td>28.770318</td>\n",
       "      <td>29.536165</td>\n",
       "      <td>29.297927</td>\n",
       "    </tr>\n",
       "    <tr>\n",
       "      <th>avg_additional_charges_total</th>\n",
       "      <td>137.540009</td>\n",
       "      <td>155.861428</td>\n",
       "      <td>143.383993</td>\n",
       "      <td>148.088897</td>\n",
       "      <td>144.208179</td>\n",
       "    </tr>\n",
       "    <tr>\n",
       "      <th>lifetime</th>\n",
       "      <td>3.060606</td>\n",
       "      <td>4.380952</td>\n",
       "      <td>3.343640</td>\n",
       "      <td>3.761194</td>\n",
       "      <td>3.940415</td>\n",
       "    </tr>\n",
       "    <tr>\n",
       "      <th>avg_class_frequency_total</th>\n",
       "      <td>1.770413</td>\n",
       "      <td>1.978963</td>\n",
       "      <td>1.800647</td>\n",
       "      <td>1.941342</td>\n",
       "      <td>1.854211</td>\n",
       "    </tr>\n",
       "  </tbody>\n",
       "</table>\n",
       "</div>"
      ],
      "text/plain": [
       "cluster_km                             0           1           2           3  \\\n",
       "gender                          0.499109    0.488571    0.505300    0.544202   \n",
       "near_location                   0.000000    0.995238    1.000000    1.000000   \n",
       "partner                         0.488414    0.955238    0.238516    0.250287   \n",
       "promo_friends                   0.076649    0.892381    0.059187    0.079219   \n",
       "phone                           1.000000    1.000000    1.000000    1.000000   \n",
       "contract_period                 3.032086    7.660952    2.819788    4.528129   \n",
       "group_visits                    0.235294    0.458095    0.000000    1.000000   \n",
       "age                            28.721925   29.543810   28.770318   29.536165   \n",
       "avg_additional_charges_total  137.540009  155.861428  143.383993  148.088897   \n",
       "lifetime                        3.060606    4.380952    3.343640    3.761194   \n",
       "avg_class_frequency_total       1.770413    1.978963    1.800647    1.941342   \n",
       "\n",
       "cluster_km                             4  \n",
       "gender                          0.523316  \n",
       "near_location                   0.862694  \n",
       "partner                         0.471503  \n",
       "promo_friends                   0.305699  \n",
       "phone                           0.000000  \n",
       "contract_period                 4.777202  \n",
       "group_visits                    0.427461  \n",
       "age                            29.297927  \n",
       "avg_additional_charges_total  144.208179  \n",
       "lifetime                        3.940415  \n",
       "avg_class_frequency_total       1.854211  "
      ]
     },
     "execution_count": 21,
     "metadata": {},
     "output_type": "execute_result"
    }
   ],
   "source": [
    "# выводим статистику по средним значениям наших признаков по кластеру\n",
    "gym.drop('churn', axis=1).groupby('cluster_km').mean().T"
   ]
  },
  {
   "cell_type": "markdown",
   "metadata": {},
   "source": [
    "Можно заметить характерные признаки кластеров:\n",
    "\n",
    "Кластер 0: Живут рядом, 47% от партнеров, 30% промо-кодов, без телефона, контракт на 3-6 месяца, половина групповые занятия посещает, возраст около 29 лет.\n",
    " \n",
    "Кластер 1: Живут рядом, из компаний-партнеров, промо-код используют, контракт больше полугода, половина занимается в группах, возраст около 29 лет.\n",
    "\n",
    "Кластер 2: Живут рядом, 24% от партнеров, без промо-кодов, контракт на 1-3 месяца, групповые занятия не посещают, возраст около 28 лет.\n",
    "\n",
    "Кластер 3: Живут рядом, 25% от партнеров, без промо-кодов, контракт на 3-6 месяца, групповые занятия посещают, возраст около 29 лет.\n",
    " \n",
    "Кластер 4: Живут далеко, контракт на 3 месяца примерно, возраст около 28 лет, промо-код не использовали."
   ]
  },
  {
   "cell_type": "code",
   "execution_count": 22,
   "metadata": {},
   "outputs": [
    {
     "data": {
      "text/plain": [
       "gender                            0.510250\n",
       "near_location                     0.845250\n",
       "partner                           0.486750\n",
       "promo_friends                     0.308500\n",
       "phone                             0.903500\n",
       "contract_period                   4.681250\n",
       "group_visits                      0.412250\n",
       "age                              29.184250\n",
       "avg_additional_charges_total    146.943728\n",
       "lifetime                          3.724750\n",
       "avg_class_frequency_total         1.879020\n",
       "dtype: float64"
      ]
     },
     "execution_count": 22,
     "metadata": {},
     "output_type": "execute_result"
    }
   ],
   "source": [
    "gym.drop(['cluster_km', 'churn'], axis=1).mean()"
   ]
  },
  {
   "cell_type": "code",
   "execution_count": 23,
   "metadata": {},
   "outputs": [
    {
     "data": {
      "image/png": "[encoded data removed]",
      "text/plain": [
       "<Figure size 1080x432 with 1 Axes>"
      ]
     },
     "metadata": {
      "needs_background": "light"
     },
     "output_type": "display_data"
    },
    {
     "data": {
      "image/png": "[encoded data removed]",
      "text/plain": [
       "<Figure size 1080x432 with 1 Axes>"
      ]
     },
     "metadata": {
      "needs_background": "light"
     },
     "output_type": "display_data"
    },
    {
     "data": {
      "image/png": "[encoded data removed]",
      "text/plain": [
       "<Figure size 1080x432 with 1 Axes>"
      ]
     },
     "metadata": {
      "needs_background": "light"
     },
     "output_type": "display_data"
    },
    {
     "data": {
      "image/png": "[encoded data removed]",
      "text/plain": [
       "<Figure size 1080x432 with 1 Axes>"
      ]
     },
     "metadata": {
      "needs_background": "light"
     },
     "output_type": "display_data"
    },
    {
     "data": {
      "image/png": "[encoded data removed]",
      "text/plain": [
       "<Figure size 1080x432 with 1 Axes>"
      ]
     },
     "metadata": {
      "needs_background": "light"
     },
     "output_type": "display_data"
    },
    {
     "data": {
      "image/png": "[encoded data removed]",
      "text/plain": [
       "<Figure size 1080x432 with 1 Axes>"
      ]
     },
     "metadata": {
      "needs_background": "light"
     },
     "output_type": "display_data"
    },
    {
     "data": {
      "image/png": "[encoded data removed]",
      "text/plain": [
       "<Figure size 1080x432 with 1 Axes>"
      ]
     },
     "metadata": {
      "needs_background": "light"
     },
     "output_type": "display_data"
    },
    {
     "data": {
      "image/png": "[encoded data removed]",
      "text/plain": [
       "<Figure size 1080x432 with 1 Axes>"
      ]
     },
     "metadata": {
      "needs_background": "light"
     },
     "output_type": "display_data"
    },
    {
     "data": {
      "image/png": "[encoded data removed]",
      "text/plain": [
       "<Figure size 1080x432 with 1 Axes>"
      ]
     },
     "metadata": {
      "needs_background": "light"
     },
     "output_type": "display_data"
    },
    {
     "data": {
      "image/png": "[encoded data removed]",
      "text/plain": [
       "<Figure size 1080x432 with 1 Axes>"
      ]
     },
     "metadata": {
      "needs_background": "light"
     },
     "output_type": "display_data"
    },
    {
     "data": {
      "image/png": "[encoded data removed]",
      "text/plain": [
       "<Figure size 1080x432 with 1 Axes>"
      ]
     },
     "metadata": {
      "needs_background": "light"
     },
     "output_type": "display_data"
    },
    {
     "data": {
      "image/png": "[encoded data removed]",
      "text/plain": [
       "<Figure size 1080x432 with 1 Axes>"
      ]
     },
     "metadata": {
      "needs_background": "light"
     },
     "output_type": "display_data"
    },
    {
     "data": {
      "image/png": "[encoded data removed]",
      "text/plain": [
       "<Figure size 1080x432 with 1 Axes>"
      ]
     },
     "metadata": {
      "needs_background": "light"
     },
     "output_type": "display_data"
    }
   ],
   "source": [
    "#распределения признаков для кластеров\n",
    "for f in gym:\n",
    "    g = sns.displot(gym, x=gym[f], hue='cluster_km', palette=\"tab10\", kind='hist' ) \n",
    "    plt.title(f'Признак - {f}')\n",
    "    plt.ylabel(\"Кол-во клиентов\")\n",
    "    plt.xlabel(\"\")\n",
    "    g.fig.set_figwidth(15)\n",
    "    g.fig.set_figheight(6)\n",
    "    g.fig.patch.set_linewidth(5)    "
   ]
  },
  {
   "cell_type": "code",
   "execution_count": 24,
   "metadata": {},
   "outputs": [
    {
     "data": {
      "image/png": "[encoded data removed]",
      "text/plain": [
       "<Figure size 432x288 with 1 Axes>"
      ]
     },
     "metadata": {},
     "output_type": "display_data"
    }
   ],
   "source": [
    "#доля оттока для каждого кластера\n",
    "churn_per_cluster = gym.groupby('cluster_km')['churn'].sum()/gym.groupby('cluster_km')['churn'].count()\n",
    "\n",
    "colors = sns.color_palette('pastel')[0:5]\n",
    "labels = ['0', '1', '2', '3', '4']\n",
    "#plt.title('Доли оттока в кластерах')\n",
    "plt.pie(churn_per_cluster, labels = labels, colors = colors, autopct='%.0f%%')\n",
    "plt.show()"
   ]
  },
  {
   "cell_type": "markdown",
   "metadata": {},
   "source": [
    "В 4 и 2 кластере доля оттока клиентов почти треть (28% и 29%), в группе 0 19%, самые надежные группы 1 и 3."
   ]
  },
  {
   "cell_type": "markdown",
   "metadata": {},
   "source": [
    "## <span style=\"color:black\">Выводы и базовые рекомендации<span>"
   ]
  },
  {
   "cell_type": "markdown",
   "metadata": {},
   "source": [
    "По всем параметрам \"Логистическая регрессия\" дает результат немного лучше чем \"Случайный лес\"\n",
    "При построении моделей прогнозирования оттока клиентов были использованы модели \"Логистическая регрессия\" и \"Случайный лес\". Обе модели показали отличные результаты - высокий показатель Accuracy (больше 0,91), а также высокие показатели precision и recall (в диапазоне 0,76 - 0,83).\n",
    "\n",
    "Кластеризация:\n",
    "В результате анализа было принято решение разбить клиентов на 5 кластеров. Судя по метрике Silhouette_score=0.17, - кластеризация прошла плохо.\n",
    "\n",
    "Результаты:\n",
    "\n",
    "Кластер 0 - средний - отток 19% (от всего оттока):\n",
    "Живут рядом, 47% от партнеров, 30% промо-кодов, без телефона, контракт на 3-6 месяца, половина групповые занятия посещает, возраст около 29 лет.\n",
    "\n",
    "Кластер 1 - самый лучший, доля оттока около 9% (от всего оттока) - \n",
    "Живут рядом, из компаний-партнеров, промо-код используют, контракт больше полугода, половина занимается в группах, возраст около 29 лет.\n",
    "\n",
    "Кластер 2 - плохой, доля оттока довольно велика 28% (от всего оттока):\n",
    "Это те клиенты, которые живут рядом, 24% от партнеров, без промо-кодов, контракт на 1-3 месяца, групповые занятия не посещают, возраст около 28 лет.\n",
    "\n",
    "Кластер 3 - средний кластер, здесь отток 15% (от всего оттока):\n",
    "Те клиенты, которые Живут рядом, 25% от партнеров, без промо-кодов, контракт на 3-6 месяца, групповые занятия посещают, возраст около 29 лет.\n",
    "\n",
    "Кластер 4 - плохой, здесь отток 29% (от всего оттока):\n",
    "Это те клиенты, которые живут далеко, контракт на 3 месяца примерно, возраст около 28 лет, промо-код не использовали."
   ]
  },
  {
   "cell_type": "markdown",
   "metadata": {},
   "source": [
    "Рекомендации:\n",
    "\n",
    "Завлекать клиентов предлагая партнерские программы и промо-акции.\n",
    "Завлекать клиентов предлагая более выгодные цены на абонементы за 12 месяцев.\n",
    "Предлагать участвовать в групповых занятиях.\n",
    "Создавать приятную, притягивающую атмосферу чтобы клиенты ходили чаще 2-3 раза в неделю\n",
    "Целевая аудитория :\n",
    "Те кто живет или работает близко,\n",
    "Уделить внимание старшему поколению 30+\n",
    "И меньше тратить ресурсов на тех, кто моложе 30 и живет неблизко."
   ]
  }
 ],
 "metadata": {
  "ExecuteTimeLog": [
   {
    "duration": 2186,
    "start_time": "2022-05-01T11:17:49.534Z"
   },
   {
    "duration": 48,
    "start_time": "2022-05-01T11:20:06.702Z"
   },
   {
    "duration": 18,
    "start_time": "2022-05-01T11:21:17.015Z"
   },
   {
    "duration": 15,
    "start_time": "2022-05-01T11:24:13.091Z"
   },
   {
    "duration": 3377,
    "start_time": "2022-05-01T15:40:44.692Z"
   },
   {
    "duration": 28,
    "start_time": "2022-05-01T15:40:48.071Z"
   },
   {
    "duration": 12,
    "start_time": "2022-05-01T15:40:55.450Z"
   },
   {
    "duration": 52,
    "start_time": "2022-05-01T15:41:50.218Z"
   },
   {
    "duration": 11,
    "start_time": "2022-05-01T15:43:38.305Z"
   },
   {
    "duration": 1023,
    "start_time": "2022-05-01T15:51:58.390Z"
   },
   {
    "duration": 107,
    "start_time": "2022-05-01T15:54:03.126Z"
   },
   {
    "duration": 9,
    "start_time": "2022-05-01T15:54:21.413Z"
   },
   {
    "duration": 1068,
    "start_time": "2022-05-01T15:54:35.745Z"
   },
   {
    "duration": 468,
    "start_time": "2022-05-01T16:01:32.742Z"
   },
   {
    "duration": 205,
    "start_time": "2022-05-01T16:01:44.636Z"
   },
   {
    "duration": 175,
    "start_time": "2022-05-01T16:02:06.069Z"
   },
   {
    "duration": 279,
    "start_time": "2022-05-01T16:03:23.939Z"
   },
   {
    "duration": 146,
    "start_time": "2022-05-01T16:05:55.186Z"
   },
   {
    "duration": 166,
    "start_time": "2022-05-01T16:07:02.142Z"
   },
   {
    "duration": 159,
    "start_time": "2022-05-01T16:07:09.825Z"
   },
   {
    "duration": 165,
    "start_time": "2022-05-01T16:07:25.298Z"
   },
   {
    "duration": 166,
    "start_time": "2022-05-01T16:10:12.095Z"
   },
   {
    "duration": 157,
    "start_time": "2022-05-01T16:10:38.939Z"
   },
   {
    "duration": 6,
    "start_time": "2022-05-01T16:14:10.787Z"
   },
   {
    "duration": 4,
    "start_time": "2022-05-01T16:14:22.751Z"
   },
   {
    "duration": 5,
    "start_time": "2022-05-01T16:14:49.409Z"
   },
   {
    "duration": 7,
    "start_time": "2022-05-01T16:15:30.628Z"
   },
   {
    "duration": 177,
    "start_time": "2022-05-01T16:15:44.993Z"
   },
   {
    "duration": 169,
    "start_time": "2022-05-01T16:16:05.720Z"
   },
   {
    "duration": 180,
    "start_time": "2022-05-01T16:16:27.697Z"
   },
   {
    "duration": 174,
    "start_time": "2022-05-01T16:18:18.310Z"
   },
   {
    "duration": 180,
    "start_time": "2022-05-01T16:18:25.346Z"
   },
   {
    "duration": 191,
    "start_time": "2022-05-01T16:19:49.749Z"
   },
   {
    "duration": 151,
    "start_time": "2022-05-01T16:19:57.959Z"
   },
   {
    "duration": 174,
    "start_time": "2022-05-01T16:24:21.081Z"
   },
   {
    "duration": 306,
    "start_time": "2022-05-01T16:24:28.753Z"
   },
   {
    "duration": 187,
    "start_time": "2022-05-01T16:24:57.347Z"
   },
   {
    "duration": 185,
    "start_time": "2022-05-01T16:25:06.328Z"
   },
   {
    "duration": 187,
    "start_time": "2022-05-01T16:25:17.875Z"
   },
   {
    "duration": 228,
    "start_time": "2022-05-01T16:25:26.635Z"
   },
   {
    "duration": 187,
    "start_time": "2022-05-01T16:26:43.948Z"
   },
   {
    "duration": 187,
    "start_time": "2022-05-01T16:27:13.535Z"
   },
   {
    "duration": 198,
    "start_time": "2022-05-01T16:28:31.792Z"
   },
   {
    "duration": 187,
    "start_time": "2022-05-01T16:28:38.050Z"
   },
   {
    "duration": 347,
    "start_time": "2022-05-01T16:30:09.068Z"
   },
   {
    "duration": 335,
    "start_time": "2022-05-01T16:30:20.812Z"
   },
   {
    "duration": 337,
    "start_time": "2022-05-01T16:30:26.930Z"
   },
   {
    "duration": 475,
    "start_time": "2022-05-01T16:30:32.300Z"
   },
   {
    "duration": 728,
    "start_time": "2022-05-01T16:39:04.780Z"
   },
   {
    "duration": 608,
    "start_time": "2022-05-01T16:40:03.112Z"
   },
   {
    "duration": 1371,
    "start_time": "2022-05-01T16:43:08.877Z"
   },
   {
    "duration": 685,
    "start_time": "2022-05-01T16:43:23.475Z"
   },
   {
    "duration": 829,
    "start_time": "2022-05-01T16:48:13.613Z"
   },
   {
    "duration": 498,
    "start_time": "2022-05-01T16:48:22.471Z"
   },
   {
    "duration": 896,
    "start_time": "2022-05-01T16:49:30.323Z"
   },
   {
    "duration": 693,
    "start_time": "2022-05-01T16:51:49.724Z"
   },
   {
    "duration": 1050,
    "start_time": "2022-05-01T16:52:07.080Z"
   },
   {
    "duration": 3119,
    "start_time": "2022-05-01T16:52:25.227Z"
   },
   {
    "duration": 456,
    "start_time": "2022-05-01T16:56:01.595Z"
   },
   {
    "duration": 217,
    "start_time": "2022-05-01T16:56:46.991Z"
   },
   {
    "duration": 449,
    "start_time": "2022-05-01T16:57:09.833Z"
   },
   {
    "duration": 503,
    "start_time": "2022-05-01T16:57:24.633Z"
   },
   {
    "duration": 561,
    "start_time": "2022-05-01T16:57:36.937Z"
   },
   {
    "duration": 690,
    "start_time": "2022-05-01T16:58:55.585Z"
   },
   {
    "duration": 676,
    "start_time": "2022-05-01T16:59:46.473Z"
   },
   {
    "duration": 592,
    "start_time": "2022-05-01T17:01:20.126Z"
   },
   {
    "duration": 406,
    "start_time": "2022-05-01T17:01:53.541Z"
   },
   {
    "duration": 394,
    "start_time": "2022-05-01T17:01:58.215Z"
   },
   {
    "duration": 684,
    "start_time": "2022-05-01T17:03:11.205Z"
   },
   {
    "duration": 1660,
    "start_time": "2022-05-01T18:36:45.236Z"
   },
   {
    "duration": 38,
    "start_time": "2022-05-01T18:36:47.963Z"
   },
   {
    "duration": 13,
    "start_time": "2022-05-01T18:36:55.431Z"
   },
   {
    "duration": 54,
    "start_time": "2022-05-01T18:37:01.956Z"
   },
   {
    "duration": 12,
    "start_time": "2022-05-01T18:37:21.712Z"
   },
   {
    "duration": 137,
    "start_time": "2022-05-01T18:37:27.939Z"
   },
   {
    "duration": 2039,
    "start_time": "2022-05-01T18:38:14.016Z"
   },
   {
    "duration": 1869,
    "start_time": "2022-05-01T18:38:26.795Z"
   },
   {
    "duration": 2047,
    "start_time": "2022-05-01T18:39:12.302Z"
   },
   {
    "duration": 2065,
    "start_time": "2022-05-01T18:39:24.807Z"
   },
   {
    "duration": 97,
    "start_time": "2022-05-01T18:41:29.315Z"
   },
   {
    "duration": 6,
    "start_time": "2022-05-01T18:41:38.802Z"
   },
   {
    "duration": 97,
    "start_time": "2022-05-01T18:41:41.387Z"
   },
   {
    "duration": 3,
    "start_time": "2022-05-01T18:42:07.047Z"
   },
   {
    "duration": 43,
    "start_time": "2022-05-01T18:42:07.052Z"
   },
   {
    "duration": 11,
    "start_time": "2022-05-01T18:42:07.097Z"
   },
   {
    "duration": 46,
    "start_time": "2022-05-01T18:42:07.110Z"
   },
   {
    "duration": 11,
    "start_time": "2022-05-01T18:42:07.157Z"
   },
   {
    "duration": 1955,
    "start_time": "2022-05-01T18:42:07.169Z"
   },
   {
    "duration": 109,
    "start_time": "2022-05-01T18:42:09.126Z"
   },
   {
    "duration": 130,
    "start_time": "2022-05-01T18:42:09.237Z"
   },
   {
    "duration": 1489,
    "start_time": "2022-05-01T18:42:54.495Z"
   },
   {
    "duration": 1534,
    "start_time": "2022-05-01T18:43:37.900Z"
   },
   {
    "duration": 1588,
    "start_time": "2022-05-01T18:44:33.674Z"
   },
   {
    "duration": 1517,
    "start_time": "2022-05-01T18:45:38.881Z"
   },
   {
    "duration": 1538,
    "start_time": "2022-05-01T18:46:09.872Z"
   },
   {
    "duration": 1521,
    "start_time": "2022-05-01T18:46:18.691Z"
   },
   {
    "duration": 4,
    "start_time": "2022-05-01T19:01:15.650Z"
   },
   {
    "duration": 4,
    "start_time": "2022-05-01T19:01:28.138Z"
   },
   {
    "duration": 1353,
    "start_time": "2022-05-01T19:01:48.845Z"
   },
   {
    "duration": 7,
    "start_time": "2022-05-01T19:08:28.534Z"
   },
   {
    "duration": 118,
    "start_time": "2022-05-01T19:20:27.060Z"
   },
   {
    "duration": 45,
    "start_time": "2022-05-01T19:21:49.041Z"
   },
   {
    "duration": 230,
    "start_time": "2022-05-01T19:21:58.512Z"
   },
   {
    "duration": 226,
    "start_time": "2022-05-01T19:22:54.715Z"
   },
   {
    "duration": 3,
    "start_time": "2022-05-01T19:23:45.195Z"
   },
   {
    "duration": 133,
    "start_time": "2022-05-01T19:23:49.205Z"
   },
   {
    "duration": 811,
    "start_time": "2022-05-01T19:24:53.692Z"
   },
   {
    "duration": 15,
    "start_time": "2022-05-01T19:27:40.137Z"
   },
   {
    "duration": 6,
    "start_time": "2022-05-01T19:30:35.403Z"
   },
   {
    "duration": 7,
    "start_time": "2022-05-01T19:30:39.025Z"
   },
   {
    "duration": 15,
    "start_time": "2022-05-01T19:30:40.880Z"
   },
   {
    "duration": 10,
    "start_time": "2022-05-01T19:31:46.981Z"
   },
   {
    "duration": 73,
    "start_time": "2022-05-01T19:32:20.868Z"
   },
   {
    "duration": 569,
    "start_time": "2022-05-01T19:35:50.476Z"
   },
   {
    "duration": 571,
    "start_time": "2022-05-01T19:37:03.734Z"
   },
   {
    "duration": 577,
    "start_time": "2022-05-01T19:37:23.909Z"
   },
   {
    "duration": 149,
    "start_time": "2022-05-01T19:37:54.486Z"
   },
   {
    "duration": 562,
    "start_time": "2022-05-01T19:38:29.312Z"
   },
   {
    "duration": 607,
    "start_time": "2022-05-01T19:41:46.193Z"
   },
   {
    "duration": 591,
    "start_time": "2022-05-01T19:42:46.051Z"
   },
   {
    "duration": 578,
    "start_time": "2022-05-01T19:42:52.430Z"
   },
   {
    "duration": 563,
    "start_time": "2022-05-01T19:44:44.670Z"
   },
   {
    "duration": 10,
    "start_time": "2022-05-01T19:49:59.793Z"
   },
   {
    "duration": 9,
    "start_time": "2022-05-01T19:50:23.026Z"
   },
   {
    "duration": 9,
    "start_time": "2022-05-01T19:50:26.177Z"
   },
   {
    "duration": 4,
    "start_time": "2022-05-01T19:50:29.890Z"
   },
   {
    "duration": 338,
    "start_time": "2022-05-01T19:50:36.861Z"
   },
   {
    "duration": 332,
    "start_time": "2022-05-01T19:50:48.557Z"
   },
   {
    "duration": 1945,
    "start_time": "2022-05-04T18:42:01.730Z"
   },
   {
    "duration": 31,
    "start_time": "2022-05-04T18:42:03.677Z"
   },
   {
    "duration": 16,
    "start_time": "2022-05-04T18:42:03.710Z"
   },
   {
    "duration": 64,
    "start_time": "2022-05-04T18:42:03.728Z"
   },
   {
    "duration": 33,
    "start_time": "2022-05-04T18:42:03.796Z"
   },
   {
    "duration": 3052,
    "start_time": "2022-05-04T18:42:03.831Z"
   },
   {
    "duration": 2094,
    "start_time": "2022-05-04T18:42:06.886Z"
   },
   {
    "duration": 4,
    "start_time": "2022-05-04T18:42:08.982Z"
   },
   {
    "duration": 6,
    "start_time": "2022-05-04T18:42:08.987Z"
   },
   {
    "duration": 28,
    "start_time": "2022-05-04T18:42:08.994Z"
   },
   {
    "duration": 15,
    "start_time": "2022-05-04T18:42:09.025Z"
   },
   {
    "duration": 95,
    "start_time": "2022-05-04T18:42:09.042Z"
   },
   {
    "duration": 537,
    "start_time": "2022-05-04T18:42:09.139Z"
   },
   {
    "duration": 219,
    "start_time": "2022-05-04T18:42:09.682Z"
   },
   {
    "duration": 9,
    "start_time": "2022-05-04T18:45:29.468Z"
   },
   {
    "duration": 4,
    "start_time": "2022-05-04T18:49:21.215Z"
   },
   {
    "duration": 859,
    "start_time": "2022-05-04T18:49:52.242Z"
   },
   {
    "duration": 105054,
    "start_time": "2022-05-04T18:50:29.099Z"
   },
   {
    "duration": 112,
    "start_time": "2022-05-04T18:57:47.398Z"
   },
   {
    "duration": 22,
    "start_time": "2022-05-04T18:58:08.979Z"
   },
   {
    "duration": 1927,
    "start_time": "2022-05-04T18:58:16.104Z"
   },
   {
    "duration": 13,
    "start_time": "2022-05-04T18:59:04.668Z"
   },
   {
    "duration": 14,
    "start_time": "2022-05-04T19:02:10.705Z"
   },
   {
    "duration": 4,
    "start_time": "2022-05-04T19:02:30.005Z"
   },
   {
    "duration": 12,
    "start_time": "2022-05-04T19:02:40.533Z"
   },
   {
    "duration": 4,
    "start_time": "2022-05-04T19:03:11.086Z"
   },
   {
    "duration": 28040,
    "start_time": "2022-05-04T19:03:13.547Z"
   },
   {
    "duration": 4,
    "start_time": "2022-05-04T19:09:50.140Z"
   },
   {
    "duration": 1266,
    "start_time": "2022-05-04T19:11:39.969Z"
   },
   {
    "duration": 11,
    "start_time": "2022-05-04T19:12:30.166Z"
   },
   {
    "duration": 9,
    "start_time": "2022-05-04T19:12:40.995Z"
   },
   {
    "duration": 12,
    "start_time": "2022-05-04T19:13:33.515Z"
   },
   {
    "duration": 4,
    "start_time": "2022-05-04T19:14:27.774Z"
   },
   {
    "duration": 423,
    "start_time": "2022-05-04T19:14:35.282Z"
   },
   {
    "duration": 15,
    "start_time": "2022-05-04T19:15:48.902Z"
   },
   {
    "duration": 8,
    "start_time": "2022-05-04T19:16:19.948Z"
   },
   {
    "duration": 15,
    "start_time": "2022-05-04T19:20:27.297Z"
   },
   {
    "duration": 10,
    "start_time": "2022-05-04T19:21:01.446Z"
   },
   {
    "duration": 9790,
    "start_time": "2022-05-04T19:21:53.687Z"
   },
   {
    "duration": 26,
    "start_time": "2022-05-04T19:22:30.583Z"
   },
   {
    "duration": 27,
    "start_time": "2022-05-04T19:22:34.968Z"
   },
   {
    "duration": 9945,
    "start_time": "2022-05-04T19:22:38.150Z"
   },
   {
    "duration": 10619,
    "start_time": "2022-05-04T19:22:57.168Z"
   },
   {
    "duration": 11182,
    "start_time": "2022-05-04T19:23:23.855Z"
   },
   {
    "duration": 18,
    "start_time": "2022-05-04T19:27:28.158Z"
   },
   {
    "duration": 7,
    "start_time": "2022-05-04T19:29:15.724Z"
   },
   {
    "duration": 8,
    "start_time": "2022-05-04T19:29:23.460Z"
   },
   {
    "duration": 8,
    "start_time": "2022-05-04T19:29:46.756Z"
   },
   {
    "duration": 8,
    "start_time": "2022-05-04T19:29:53.750Z"
   },
   {
    "duration": 96,
    "start_time": "2022-05-04T19:31:02.596Z"
   },
   {
    "duration": 95,
    "start_time": "2022-05-04T19:31:50.737Z"
   },
   {
    "duration": 127,
    "start_time": "2022-05-04T19:32:23.036Z"
   },
   {
    "duration": 96,
    "start_time": "2022-05-04T19:32:28.062Z"
   },
   {
    "duration": 102,
    "start_time": "2022-05-04T19:32:40.350Z"
   },
   {
    "duration": 96,
    "start_time": "2022-05-04T19:32:52.036Z"
   },
   {
    "duration": 113,
    "start_time": "2022-05-04T19:35:50.849Z"
   },
   {
    "duration": 73,
    "start_time": "2022-05-04T19:36:07.067Z"
   },
   {
    "duration": 105,
    "start_time": "2022-05-04T19:36:28.751Z"
   },
   {
    "duration": 340,
    "start_time": "2022-05-04T19:36:45.520Z"
   },
   {
    "duration": 72,
    "start_time": "2022-05-04T19:38:26.641Z"
   },
   {
    "duration": 83,
    "start_time": "2022-05-04T19:38:36.011Z"
   },
   {
    "duration": 184,
    "start_time": "2022-05-04T19:39:52.494Z"
   },
   {
    "duration": 14,
    "start_time": "2022-05-04T19:40:53.419Z"
   },
   {
    "duration": 89,
    "start_time": "2022-05-04T19:41:05.450Z"
   },
   {
    "duration": 125,
    "start_time": "2022-05-04T19:41:34.926Z"
   },
   {
    "duration": 14,
    "start_time": "2022-05-04T19:41:44.326Z"
   },
   {
    "duration": 14,
    "start_time": "2022-05-04T19:42:35.565Z"
   },
   {
    "duration": 691,
    "start_time": "2022-05-04T19:42:48.312Z"
   },
   {
    "duration": 5,
    "start_time": "2022-05-04T19:43:10.674Z"
   },
   {
    "duration": 40,
    "start_time": "2022-05-04T19:43:10.691Z"
   },
   {
    "duration": 12,
    "start_time": "2022-05-04T19:43:10.733Z"
   },
   {
    "duration": 46,
    "start_time": "2022-05-04T19:43:10.747Z"
   },
   {
    "duration": 32,
    "start_time": "2022-05-04T19:43:10.795Z"
   },
   {
    "duration": 2288,
    "start_time": "2022-05-04T19:43:10.829Z"
   },
   {
    "duration": 1450,
    "start_time": "2022-05-04T19:43:13.123Z"
   },
   {
    "duration": 5,
    "start_time": "2022-05-04T19:43:14.575Z"
   },
   {
    "duration": 9,
    "start_time": "2022-05-04T19:43:14.582Z"
   },
   {
    "duration": 9,
    "start_time": "2022-05-04T19:43:14.594Z"
   },
   {
    "duration": 23,
    "start_time": "2022-05-04T19:43:14.624Z"
   },
   {
    "duration": 276,
    "start_time": "2022-05-04T19:43:14.649Z"
   },
   {
    "duration": 464,
    "start_time": "2022-05-04T19:43:14.928Z"
   },
   {
    "duration": 9,
    "start_time": "2022-05-04T19:43:15.394Z"
   },
   {
    "duration": 604,
    "start_time": "2022-05-04T19:43:15.406Z"
   },
   {
    "duration": 109281,
    "start_time": "2022-05-04T19:43:16.012Z"
   },
   {
    "duration": 0,
    "start_time": "2022-05-04T19:45:05.295Z"
   },
   {
    "duration": 0,
    "start_time": "2022-05-04T19:45:05.297Z"
   },
   {
    "duration": 0,
    "start_time": "2022-05-04T19:45:05.298Z"
   },
   {
    "duration": 0,
    "start_time": "2022-05-04T19:45:05.299Z"
   },
   {
    "duration": 0,
    "start_time": "2022-05-04T19:45:05.300Z"
   },
   {
    "duration": 0,
    "start_time": "2022-05-04T19:45:05.301Z"
   },
   {
    "duration": 0,
    "start_time": "2022-05-04T19:45:05.302Z"
   },
   {
    "duration": 0,
    "start_time": "2022-05-04T19:45:05.303Z"
   },
   {
    "duration": 1976,
    "start_time": "2022-05-04T19:45:40.869Z"
   },
   {
    "duration": 7,
    "start_time": "2022-05-04T19:45:46.939Z"
   },
   {
    "duration": 489,
    "start_time": "2022-05-04T19:45:50.117Z"
   },
   {
    "duration": 15,
    "start_time": "2022-05-04T19:45:53.234Z"
   },
   {
    "duration": 7,
    "start_time": "2022-05-04T19:45:57.322Z"
   },
   {
    "duration": 690,
    "start_time": "2022-05-04T19:45:59.791Z"
   },
   {
    "duration": 14,
    "start_time": "2022-05-04T19:46:17.320Z"
   },
   {
    "duration": 83,
    "start_time": "2022-05-04T19:46:30.964Z"
   },
   {
    "duration": 122,
    "start_time": "2022-05-04T19:47:14.008Z"
   },
   {
    "duration": 15330,
    "start_time": "2022-05-04T19:48:08.773Z"
   },
   {
    "duration": 3018,
    "start_time": "2022-05-04T19:51:20.430Z"
   },
   {
    "duration": 2037,
    "start_time": "2022-05-04T19:51:33.599Z"
   },
   {
    "duration": 24,
    "start_time": "2022-05-04T20:10:40.534Z"
   },
   {
    "duration": 13,
    "start_time": "2022-05-04T20:10:46.497Z"
   },
   {
    "duration": 45,
    "start_time": "2022-05-04T20:10:50.871Z"
   },
   {
    "duration": 12,
    "start_time": "2022-05-04T20:10:53.489Z"
   },
   {
    "duration": 1851,
    "start_time": "2022-05-04T20:10:56.208Z"
   },
   {
    "duration": 17,
    "start_time": "2022-05-04T20:36:20.864Z"
   },
   {
    "duration": 23,
    "start_time": "2022-05-04T20:36:32.020Z"
   },
   {
    "duration": 20,
    "start_time": "2022-05-04T20:36:39.040Z"
   },
   {
    "duration": 17,
    "start_time": "2022-05-04T20:36:45.495Z"
   },
   {
    "duration": 1511,
    "start_time": "2022-05-04T20:36:50.029Z"
   },
   {
    "duration": 5,
    "start_time": "2022-05-04T20:36:55.068Z"
   },
   {
    "duration": 32,
    "start_time": "2022-05-04T20:36:55.075Z"
   },
   {
    "duration": 16,
    "start_time": "2022-05-04T20:36:55.109Z"
   },
   {
    "duration": 44,
    "start_time": "2022-05-04T20:36:55.127Z"
   },
   {
    "duration": 11,
    "start_time": "2022-05-04T20:36:55.174Z"
   },
   {
    "duration": 1916,
    "start_time": "2022-05-04T20:36:55.187Z"
   },
   {
    "duration": 1559,
    "start_time": "2022-05-04T20:36:57.105Z"
   },
   {
    "duration": 5,
    "start_time": "2022-05-04T20:36:58.666Z"
   },
   {
    "duration": 6,
    "start_time": "2022-05-04T20:36:58.674Z"
   },
   {
    "duration": 9,
    "start_time": "2022-05-04T20:36:58.681Z"
   },
   {
    "duration": 42,
    "start_time": "2022-05-04T20:36:58.692Z"
   },
   {
    "duration": 102,
    "start_time": "2022-05-04T20:36:58.736Z"
   },
   {
    "duration": 618,
    "start_time": "2022-05-04T20:36:58.924Z"
   },
   {
    "duration": 11,
    "start_time": "2022-05-04T20:36:59.544Z"
   },
   {
    "duration": 843,
    "start_time": "2022-05-04T20:36:59.557Z"
   },
   {
    "duration": 111684,
    "start_time": "2022-05-04T20:37:00.403Z"
   },
   {
    "duration": 0,
    "start_time": "2022-05-04T20:38:52.088Z"
   },
   {
    "duration": 0,
    "start_time": "2022-05-04T20:38:52.089Z"
   },
   {
    "duration": 1,
    "start_time": "2022-05-04T20:38:52.090Z"
   },
   {
    "duration": 0,
    "start_time": "2022-05-04T20:38:52.092Z"
   },
   {
    "duration": 0,
    "start_time": "2022-05-04T20:38:52.094Z"
   },
   {
    "duration": 0,
    "start_time": "2022-05-04T20:38:52.095Z"
   },
   {
    "duration": 0,
    "start_time": "2022-05-04T20:38:52.096Z"
   },
   {
    "duration": 1302,
    "start_time": "2022-05-04T20:39:22.624Z"
   },
   {
    "duration": 7,
    "start_time": "2022-05-04T20:39:28.547Z"
   },
   {
    "duration": 560,
    "start_time": "2022-05-04T20:39:31.206Z"
   },
   {
    "duration": 15,
    "start_time": "2022-05-04T20:39:39.338Z"
   },
   {
    "duration": 11,
    "start_time": "2022-05-04T20:39:44.321Z"
   },
   {
    "duration": 814,
    "start_time": "2022-05-04T20:39:48.644Z"
   },
   {
    "duration": 99,
    "start_time": "2022-05-04T20:39:54.219Z"
   },
   {
    "duration": 181,
    "start_time": "2022-05-04T20:49:25.159Z"
   },
   {
    "duration": 2616,
    "start_time": "2022-05-05T20:06:03.760Z"
   },
   {
    "duration": 41,
    "start_time": "2022-05-05T20:06:22.929Z"
   },
   {
    "duration": 176,
    "start_time": "2022-05-05T20:09:16.271Z"
   },
   {
    "duration": 6,
    "start_time": "2022-05-05T20:09:42.174Z"
   },
   {
    "duration": 51,
    "start_time": "2022-05-05T20:09:42.183Z"
   },
   {
    "duration": 18,
    "start_time": "2022-05-05T20:09:42.236Z"
   },
   {
    "duration": 89,
    "start_time": "2022-05-05T20:09:42.256Z"
   },
   {
    "duration": 14,
    "start_time": "2022-05-05T20:09:42.349Z"
   },
   {
    "duration": 3534,
    "start_time": "2022-05-05T20:09:42.381Z"
   },
   {
    "duration": 2682,
    "start_time": "2022-05-05T20:09:45.918Z"
   },
   {
    "duration": 6,
    "start_time": "2022-05-05T20:09:48.606Z"
   },
   {
    "duration": 27,
    "start_time": "2022-05-05T20:09:48.615Z"
   },
   {
    "duration": 16,
    "start_time": "2022-05-05T20:09:48.644Z"
   },
   {
    "duration": 60,
    "start_time": "2022-05-05T20:09:48.663Z"
   },
   {
    "duration": 306,
    "start_time": "2022-05-05T20:09:48.726Z"
   },
   {
    "duration": 685,
    "start_time": "2022-05-05T20:09:49.100Z"
   },
   {
    "duration": 26,
    "start_time": "2022-05-05T20:09:49.794Z"
   },
   {
    "duration": 1335,
    "start_time": "2022-05-05T20:09:49.824Z"
   },
   {
    "duration": 176350,
    "start_time": "2022-05-05T20:09:51.162Z"
   },
   {
    "duration": 1796,
    "start_time": "2022-05-05T20:12:47.515Z"
   },
   {
    "duration": 9,
    "start_time": "2022-05-05T20:12:49.314Z"
   },
   {
    "duration": 584,
    "start_time": "2022-05-05T20:12:49.325Z"
   },
   {
    "duration": 22,
    "start_time": "2022-05-05T20:12:49.911Z"
   },
   {
    "duration": 10,
    "start_time": "2022-05-05T20:12:49.936Z"
   },
   {
    "duration": 15720,
    "start_time": "2022-05-05T20:12:49.948Z"
   },
   {
    "duration": 182,
    "start_time": "2022-05-05T20:13:05.671Z"
   },
   {
    "duration": 61,
    "start_time": "2022-05-05T20:15:12.410Z"
   },
   {
    "duration": 23,
    "start_time": "2022-05-05T20:15:57.695Z"
   },
   {
    "duration": 18,
    "start_time": "2022-05-05T20:16:11.782Z"
   },
   {
    "duration": 4938,
    "start_time": "2022-05-05T20:18:01.935Z"
   },
   {
    "duration": 3450,
    "start_time": "2022-05-05T20:21:08.199Z"
   },
   {
    "duration": 3468,
    "start_time": "2022-05-05T20:21:37.286Z"
   },
   {
    "duration": 3007,
    "start_time": "2022-05-05T20:24:13.556Z"
   },
   {
    "duration": 2874,
    "start_time": "2022-05-05T20:25:37.761Z"
   },
   {
    "duration": 26,
    "start_time": "2022-05-05T20:27:48.515Z"
   },
   {
    "duration": 4219,
    "start_time": "2022-05-05T20:27:59.771Z"
   },
   {
    "duration": 16,
    "start_time": "2022-05-05T20:30:03.009Z"
   },
   {
    "duration": 26,
    "start_time": "2022-05-05T20:30:36.333Z"
   },
   {
    "duration": 23,
    "start_time": "2022-05-05T20:30:56.432Z"
   },
   {
    "duration": 8,
    "start_time": "2022-05-05T20:39:09.094Z"
   },
   {
    "duration": 17,
    "start_time": "2022-05-05T20:39:33.639Z"
   },
   {
    "duration": 255,
    "start_time": "2022-05-05T20:39:42.836Z"
   },
   {
    "duration": 500,
    "start_time": "2022-05-05T20:41:15.030Z"
   },
   {
    "duration": 6,
    "start_time": "2022-05-05T20:47:44.522Z"
   },
   {
    "duration": 6,
    "start_time": "2022-05-05T20:48:48.325Z"
   },
   {
    "duration": 146,
    "start_time": "2022-05-05T20:48:50.749Z"
   },
   {
    "duration": 604,
    "start_time": "2022-05-05T20:48:52.905Z"
   },
   {
    "duration": 23,
    "start_time": "2022-05-05T20:53:16.936Z"
   },
   {
    "duration": 13,
    "start_time": "2022-05-05T20:53:50.931Z"
   },
   {
    "duration": 954,
    "start_time": "2022-05-05T20:53:53.820Z"
   },
   {
    "duration": 1644,
    "start_time": "2022-05-05T20:53:59.370Z"
   },
   {
    "duration": 10,
    "start_time": "2022-05-05T20:54:10.043Z"
   },
   {
    "duration": 593,
    "start_time": "2022-05-05T20:54:12.738Z"
   },
   {
    "duration": 21,
    "start_time": "2022-05-05T20:54:37.122Z"
   },
   {
    "duration": 11,
    "start_time": "2022-05-05T20:54:48.651Z"
   },
   {
    "duration": 174,
    "start_time": "2022-05-05T20:57:16.284Z"
   },
   {
    "duration": 7,
    "start_time": "2022-05-05T21:08:23.663Z"
   },
   {
    "duration": 42,
    "start_time": "2022-05-05T21:08:23.673Z"
   },
   {
    "duration": 17,
    "start_time": "2022-05-05T21:08:23.718Z"
   },
   {
    "duration": 90,
    "start_time": "2022-05-05T21:08:23.738Z"
   },
   {
    "duration": 18,
    "start_time": "2022-05-05T21:08:23.830Z"
   },
   {
    "duration": 3058,
    "start_time": "2022-05-05T21:08:23.850Z"
   },
   {
    "duration": 2243,
    "start_time": "2022-05-05T21:08:26.911Z"
   },
   {
    "duration": 5,
    "start_time": "2022-05-05T21:08:29.157Z"
   },
   {
    "duration": 24,
    "start_time": "2022-05-05T21:08:29.164Z"
   },
   {
    "duration": 13,
    "start_time": "2022-05-05T21:08:29.192Z"
   },
   {
    "duration": 36,
    "start_time": "2022-05-05T21:08:29.209Z"
   },
   {
    "duration": 35,
    "start_time": "2022-05-05T21:08:29.249Z"
   },
   {
    "duration": 202,
    "start_time": "2022-05-05T21:08:29.287Z"
   },
   {
    "duration": 599,
    "start_time": "2022-05-05T21:08:29.492Z"
   },
   {
    "duration": 14,
    "start_time": "2022-05-05T21:08:30.094Z"
   },
   {
    "duration": 830,
    "start_time": "2022-05-05T21:08:30.110Z"
   },
   {
    "duration": 173731,
    "start_time": "2022-05-05T21:08:30.943Z"
   },
   {
    "duration": 1936,
    "start_time": "2022-05-05T21:11:24.677Z"
   },
   {
    "duration": 8,
    "start_time": "2022-05-05T21:11:26.616Z"
   },
   {
    "duration": 624,
    "start_time": "2022-05-05T21:11:26.627Z"
   },
   {
    "duration": 34,
    "start_time": "2022-05-05T21:11:27.253Z"
   },
   {
    "duration": 10,
    "start_time": "2022-05-05T21:11:27.289Z"
   },
   {
    "duration": 19886,
    "start_time": "2022-05-05T21:11:27.302Z"
   },
   {
    "duration": 206,
    "start_time": "2022-05-05T21:11:47.191Z"
   },
   {
    "duration": 1700,
    "start_time": "2022-05-06T11:00:46.378Z"
   },
   {
    "duration": 34,
    "start_time": "2022-05-06T11:00:48.080Z"
   },
   {
    "duration": 11,
    "start_time": "2022-05-06T11:00:48.116Z"
   },
   {
    "duration": 43,
    "start_time": "2022-05-06T11:00:48.129Z"
   },
   {
    "duration": 11,
    "start_time": "2022-05-06T11:00:48.173Z"
   },
   {
    "duration": 1794,
    "start_time": "2022-05-06T11:00:48.186Z"
   },
   {
    "duration": 1486,
    "start_time": "2022-05-06T11:00:49.983Z"
   },
   {
    "duration": 5,
    "start_time": "2022-05-06T11:00:51.471Z"
   },
   {
    "duration": 14,
    "start_time": "2022-05-06T11:00:51.478Z"
   },
   {
    "duration": 9,
    "start_time": "2022-05-06T11:00:51.495Z"
   },
   {
    "duration": 29,
    "start_time": "2022-05-06T11:00:51.506Z"
   },
   {
    "duration": 5,
    "start_time": "2022-05-06T11:00:51.537Z"
   },
   {
    "duration": 280,
    "start_time": "2022-05-06T11:00:51.544Z"
   },
   {
    "duration": 467,
    "start_time": "2022-05-06T11:00:51.827Z"
   },
   {
    "duration": 9,
    "start_time": "2022-05-06T11:00:52.296Z"
   },
   {
    "duration": 536,
    "start_time": "2022-05-06T11:00:52.307Z"
   },
   {
    "duration": 119946,
    "start_time": "2022-05-06T11:00:52.844Z"
   },
   {
    "duration": 1254,
    "start_time": "2022-05-06T11:02:52.792Z"
   },
   {
    "duration": 9,
    "start_time": "2022-05-06T11:02:54.048Z"
   },
   {
    "duration": 586,
    "start_time": "2022-05-06T11:02:54.059Z"
   },
   {
    "duration": 16,
    "start_time": "2022-05-06T11:02:54.647Z"
   },
   {
    "duration": 7,
    "start_time": "2022-05-06T11:02:54.665Z"
   },
   {
    "duration": 12018,
    "start_time": "2022-05-06T11:02:54.674Z"
   },
   {
    "duration": 144,
    "start_time": "2022-05-06T11:03:06.695Z"
   }
  ],
  "kernelspec": {
   "display_name": "Python 3 (ipykernel)",
   "language": "python",
   "name": "python3"
  },
  "language_info": {
   "codemirror_mode": {
    "name": "ipython",
    "version": 3
   },
   "file_extension": ".py",
   "mimetype": "text/x-python",
   "name": "python",
   "nbconvert_exporter": "python",
   "pygments_lexer": "ipython3",
   "version": "3.9.5"
  },
  "toc": {
   "base_numbering": 1,
   "nav_menu": {},
   "number_sections": true,
   "sideBar": true,
   "skip_h1_title": true,
   "title_cell": "Table of Contents",
   "title_sidebar": "Contents",
   "toc_cell": false,
   "toc_position": {},
   "toc_section_display": true,
   "toc_window_display": true
  }
 },
 "nbformat": 4,
 "nbformat_minor": 2
}
